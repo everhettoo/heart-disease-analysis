{
 "cells": [
  {
   "metadata": {},
   "cell_type": "markdown",
   "source": [
    "# Objective\n",
    "- base, Grid-Search-CV, Random-Search-CV models without oversampling\n",
    "- base, Grid-Search-CV, Random-Search-CV models with oversampling"
   ],
   "id": "a5c7eeb486978711"
  },
  {
   "cell_type": "code",
   "id": "initial_id",
   "metadata": {
    "collapsed": true
   },
   "source": [
    "import warnings\n",
    "from collections import Counter\n",
    "from importlib import reload\n",
    "\n",
    "import matplotlib.pyplot as plt\n",
    "import pandas as pd\n",
    "import seaborn as sns\n",
    "from imblearn.over_sampling import SMOTE\n",
    "from numpy import arange\n",
    "from sklearn.model_selection import GridSearchCV\n",
    "from sklearn.model_selection import RandomizedSearchCV\n",
    "from sklearn.model_selection import StratifiedKFold\n",
    "from sklearn.neighbors import KNeighborsClassifier\n",
    "\n",
    "import custom_libs.evaluation_helper as ev\n",
    "import models.uci_heart_disease_dataset as uci\n",
    "\n",
    "warnings.filterwarnings(\"ignore\")"
   ],
   "outputs": [],
   "execution_count": null
  },
  {
   "metadata": {},
   "cell_type": "code",
   "source": [
    "# Load the preprocessed dataset (299 records; with 14 features).\n",
    "data = pd.read_csv(uci.UCIHeartDiseaseDataFile.cleveland_preprocessed, names = uci.get_standard_features())\n",
    "print(f'Data shape: {data.shape}.')\n",
    "data.head(3)"
   ],
   "id": "b56fe2f0b56e8fd7",
   "outputs": [],
   "execution_count": null
  },
  {
   "metadata": {},
   "cell_type": "markdown",
   "source": "### Set Hyper-parameters & CV Folds",
   "id": "7190a84cd8056e45"
  },
  {
   "metadata": {
    "ExecuteTime": {
     "end_time": "2024-12-27T08:18:01.832682Z",
     "start_time": "2024-12-27T08:18:01.829809Z"
    }
   },
   "cell_type": "code",
   "source": [
    "# Verbose variable for log inspection.\n",
    "verbose = False\n",
    "\n",
    "# Dictionary to hold hyperparameters for grid search.\n",
    "parameters = dict()\n",
    "parameters['kernel'] = ['rbf', 'poly', 'linear', 'sigmoid']\n",
    "# Tried even with 30 - takes longer but still chooses 1.\n",
    "parameters['C'] = arange(1, 10, 1)\n",
    "parameters['gamma'] = ['scale', 'auto']\n",
    "parameters['class_weight'] = ['dict', 'balanced']\n",
    "\n",
    "# A stratified K fold for cross validation strategy - values are assigned from the global class.\n",
    "skfolds = StratifiedKFold(n_splits = ev.kfold_n_split,\n",
    "                          shuffle = ev.kfold_shuffle,\n",
    "                          random_state = ev.random_state)\n",
    "\n",
    "# Reset accuracies for SVM\n",
    "ev.accuracies = {}"
   ],
   "id": "dda875d83e7b6c7c",
   "outputs": [],
   "execution_count": 17
  },
  {
   "metadata": {},
   "cell_type": "markdown",
   "source": "### Base Model (Function)",
   "id": "562faf4bcc050eb6"
  },
  {
   "metadata": {},
   "cell_type": "code",
   "source": [
    "reload(ev)\n",
    "# A function to build base model.\n",
    "# Acknowledgement: Code was referenced from Prof. Mafas Raheem's AML lab-8.\n",
    "def build_and_validate_base_model(x_set, y_set, test_name):\n",
    "    # Calls the evaluation helper module to Scale and do train/test split.\n",
    "    x_train, x_test, y_train, y_test = ev.scale_and_split(x_set, y_set)\n",
    "\n",
    "    print(f'\\nEvaluation name: {test_name}.')\n",
    "\n",
    "    # Train the model with training set.\n",
    "    knn= KNeighborsClassifier()\n",
    "    knn.fit(x_train, y_train)\n",
    "\n",
    "    # Display the best hyperparameters and score.\n",
    "    print(f'Params         :{ knn.get_params()}.')\n",
    "\n",
    "    # Do prediction with the train model.\n",
    "    y_pred = knn.predict(x_test)\n",
    "\n",
    "    # Calls the evaluation helper module to display classification-report, confusion-matrix and ROC curve\n",
    "    ev.display_validation_report(y_test, y_pred, x_test, knn, test_name)"
   ],
   "id": "13d54e478f9733b5",
   "outputs": [],
   "execution_count": null
  },
  {
   "metadata": {},
   "cell_type": "markdown",
   "source": "### Grid Search CV (Function)",
   "id": "4f046cd4ab0bbe3f"
  },
  {
   "metadata": {},
   "cell_type": "markdown",
   "source": "## Evaluation with Standard Dataset (without over-sampling)",
   "id": "411bab791d873c1d"
  },
  {
   "metadata": {},
   "cell_type": "markdown",
   "source": "### Data Preparation",
   "id": "5117a44a9e3e1e14"
  },
  {
   "metadata": {},
   "cell_type": "code",
   "source": [
    "# Prepare features and target variables.\n",
    "X = data.drop(uci.UCIHeartDiseaseData.target, axis=1)\n",
    "y = data[uci.UCIHeartDiseaseData.target]"
   ],
   "id": "2e7bbc3fb749dc84",
   "outputs": [],
   "execution_count": null
  },
  {
   "metadata": {},
   "cell_type": "code",
   "source": [
    "# Evaluation: Standard Base\n",
    "build_and_validate_base_model(X, y,ev.EvaluationType.std_base)"
   ],
   "id": "fa3dec4ac3dbc8c1",
   "outputs": [],
   "execution_count": null
  },
  {
   "metadata": {
    "ExecuteTime": {
     "end_time": "2024-12-27T08:32:08.091514Z",
     "start_time": "2024-12-27T08:32:07.966070Z"
    }
   },
   "cell_type": "code",
   "source": [
    "import numpy as np\n",
    "from sklearn.model_selection import cross_val_score\n",
    "\n",
    "\n",
    "def find_optimal_neighbour(x_set, y_set, test_name):\n",
    "    # Calls the evaluation helper module to Scale and do train/test split.\n",
    "    x_train, x_test, y_train, y_test = ev.scale_and_split(x_set, y_set)\n",
    "\n",
    "    print(f'\\nEvaluation name: {test_name}.')\n",
    "\n",
    "    # grid_svc= SVC(verbose=verbose)\n",
    "    #\n",
    "    # ## Building Grid Search algorithm with cross-validation and acc score.\n",
    "    # grid_search_svc = GridSearchCV(grid_svc, parameters, scoring='accuracy', cv=skfolds)\n",
    "    #\n",
    "    # # Train and discover the model's hyperparameters for optimal result.\n",
    "    # grid_search_svc.fit(x_train,y_train)\n",
    "    #\n",
    "    # # Display the best hyperparameters and score.\n",
    "    # print(f'Best params          :{grid_search_svc.best_params_}.')\n",
    "    # print(f'Best score (*mean)   :{grid_search_svc.best_score_}.')\n",
    "    #\n",
    "    # # Predict using the trained model.\n",
    "    # y_pred = grid_search_svc.predict(x_test)\n",
    "    #\n",
    "    # # Calls the evaluation helper module to display classification-report, confusion-matrix and ROC curve\n",
    "    # ev.display_validation_report(y_test, y_pred, x_test, grid_search_svc, test_name)\n",
    "    #\n",
    "\n",
    "    scores = []\n",
    "    # Create a list of train scores\n",
    "    train_scores = []\n",
    "\n",
    "    # Create a list of test scores\n",
    "    test_scores = []\n",
    "\n",
    "    # Create a list of different values for n_neighbors\n",
    "    neighbors = range(1, 21) # 1 to 20\n",
    "\n",
    "    # Setup algorithm\n",
    "    knn = KNeighborsClassifier()\n",
    "\n",
    "    # Loop through different neighbors values\n",
    "    for k in neighbors:\n",
    "        knn.set_params(n_neighbors = k) # set neighbors value\n",
    "\n",
    "        # Fit the algorithm\n",
    "        knn.fit(x_train, y_train)\n",
    "        # score = cross_val_score(knn, X, y, cv=skfolds)\n",
    "        # print(f'score: {score}')\n",
    "        # scores.append(np.mean(score))\n",
    "        # y_pred = knn.predict(x_test)\n",
    "\n",
    "        # ev.display_validation_report(y_test, y_pred, x_test, knn, test_name)\n",
    "\n",
    "        # Update the training scores\n",
    "        train_scores.append(knn.score(x_train, y_train))\n",
    "        #\n",
    "        # # Update the test scores\n",
    "        test_scores.append(knn.score(x_test, y_test))\n",
    "    # sns.lineplot(x = neighbors, y = scores, marker = 'o')\n",
    "    # plt.xlabel(\"K Values\")\n",
    "    # plt.ylabel(\"Accuracy Score\")\n",
    "\n",
    "    print(f'Train scores: {train_scores}.')\n",
    "    print(f'Test scores : {test_scores}.')\n",
    "\n",
    "\n",
    "# Evaluation: Standard Grid Search CV\n",
    "find_optimal_neighbour(X, y, ev.EvaluationType.std_grid_search_cv)"
   ],
   "id": "5ff133659b50a6f4",
   "outputs": [
    {
     "name": "stdout",
     "output_type": "stream",
     "text": [
      "\n",
      "Evaluation name: std-grid-scv.\n",
      "Train scores: [1.0, 0.8702928870292888, 0.895397489539749, 0.8828451882845189, 0.8577405857740585, 0.8368200836820083, 0.8535564853556485, 0.8451882845188284, 0.8577405857740585, 0.8284518828451883, 0.8577405857740585, 0.8577405857740585, 0.8535564853556485, 0.8493723849372385, 0.8577405857740585, 0.8493723849372385, 0.8493723849372385, 0.8368200836820083, 0.8535564853556485, 0.8410041841004184].\n",
      "Test scores : [0.7833333333333333, 0.75, 0.8833333333333333, 0.8166666666666667, 0.8666666666666667, 0.85, 0.8166666666666667, 0.8333333333333334, 0.8666666666666667, 0.8666666666666667, 0.8666666666666667, 0.85, 0.8833333333333333, 0.8333333333333334, 0.8166666666666667, 0.8333333333333334, 0.8333333333333334, 0.8333333333333334, 0.8333333333333334, 0.8333333333333334].\n"
     ]
    }
   ],
   "execution_count": 63
  },
  {
   "metadata": {
    "ExecuteTime": {
     "end_time": "2024-12-27T08:49:08.684761Z",
     "start_time": "2024-12-27T08:49:08.321031Z"
    }
   },
   "cell_type": "code",
   "source": [
    "reload(ev)\n",
    "# A function to build and fine tune model using GridSearchCV.\n",
    "# Acknowledgement: Code was referenced from Prof. Mafas Raheem's AML lab-8.\n",
    "def build_and_validate_with_grid_search_cv(x_set, y_set, test_name):\n",
    "    # Calls the evaluation helper module to Scale and do train/test split.\n",
    "    x_train, x_test, y_train, y_test = ev.scale_and_split(x_set, y_set)\n",
    "\n",
    "    print(f'\\nEvaluation name: {test_name}.')\n",
    "\n",
    "    knn= KNeighborsClassifier()\n",
    "\n",
    "    parameters = {}\n",
    "    parameters['n_neighbors'] = range(1, 51, 1)\n",
    "    ## Building Grid Search algorithm with cross-validation and acc score.\n",
    "    grid_search_knn = GridSearchCV(knn, parameters, scoring='accuracy', cv=skfolds)\n",
    "\n",
    "    # Train and discover the model's hyperparameters for optimal result.\n",
    "    grid_search_knn.fit(x_train,y_train)\n",
    "\n",
    "\n",
    "\n",
    "    # Display the best hyperparameters and score.\n",
    "    print(f'Best params          :{grid_search_knn.best_params_}.')\n",
    "    print(f'Best score (*mean)   :{grid_search_knn.best_score_}.')\n",
    "\n",
    "    est = grid_search_knn.best_estimator_(KNeighborsClassifier())\n",
    "    print(f'Best score (est)   :{est.best_params_}.')\n",
    "\n",
    "    # Predict using the trained model.\n",
    "    y_pred = grid_search_knn.predict(x_test)\n",
    "    print(f'Best params (used)   :{knn.get_params()}.')\n",
    "    print(f'Best params (used)   :{grid_search_knn.get_params()}.')\n",
    "\n",
    "    # Calls the evaluation helper module to display classification-report, confusion-matrix and ROC curve\n",
    "    ev.display_validation_report(y_test, y_pred, x_test, grid_search_knn, test_name)\n",
    "\n",
    "build_and_validate_with_grid_search_cv(X, y, ev.EvaluationType.std_grid_search_cv)"
   ],
   "id": "4fbfc72cea17ca29",
   "outputs": [
    {
     "name": "stdout",
     "output_type": "stream",
     "text": [
      "\n",
      "Evaluation name: std-grid-scv.\n",
      "Best params          :{'n_neighbors': 21}.\n",
      "Best score (*mean)   :0.8327127659574469.\n"
     ]
    },
    {
     "ename": "TypeError",
     "evalue": "'KNeighborsClassifier' object is not callable",
     "output_type": "error",
     "traceback": [
      "\u001B[0;31m---------------------------------------------------------------------------\u001B[0m",
      "\u001B[0;31mTypeError\u001B[0m                                 Traceback (most recent call last)",
      "Cell \u001B[0;32mIn[80], line 37\u001B[0m\n\u001B[1;32m     34\u001B[0m     \u001B[38;5;66;03m# Calls the evaluation helper module to display classification-report, confusion-matrix and ROC curve\u001B[39;00m\n\u001B[1;32m     35\u001B[0m     ev\u001B[38;5;241m.\u001B[39mdisplay_validation_report(y_test, y_pred, x_test, grid_search_knn, test_name)\n\u001B[0;32m---> 37\u001B[0m build_and_validate_with_grid_search_cv(X, y, ev\u001B[38;5;241m.\u001B[39mEvaluationType\u001B[38;5;241m.\u001B[39mstd_grid_search_cv)\n",
      "Cell \u001B[0;32mIn[80], line 26\u001B[0m, in \u001B[0;36mbuild_and_validate_with_grid_search_cv\u001B[0;34m(x_set, y_set, test_name)\u001B[0m\n\u001B[1;32m     23\u001B[0m \u001B[38;5;28mprint\u001B[39m(\u001B[38;5;124mf\u001B[39m\u001B[38;5;124m'\u001B[39m\u001B[38;5;124mBest params          :\u001B[39m\u001B[38;5;132;01m{\u001B[39;00mgrid_search_knn\u001B[38;5;241m.\u001B[39mbest_params_\u001B[38;5;132;01m}\u001B[39;00m\u001B[38;5;124m.\u001B[39m\u001B[38;5;124m'\u001B[39m)\n\u001B[1;32m     24\u001B[0m \u001B[38;5;28mprint\u001B[39m(\u001B[38;5;124mf\u001B[39m\u001B[38;5;124m'\u001B[39m\u001B[38;5;124mBest score (*mean)   :\u001B[39m\u001B[38;5;132;01m{\u001B[39;00mgrid_search_knn\u001B[38;5;241m.\u001B[39mbest_score_\u001B[38;5;132;01m}\u001B[39;00m\u001B[38;5;124m.\u001B[39m\u001B[38;5;124m'\u001B[39m)\n\u001B[0;32m---> 26\u001B[0m est \u001B[38;5;241m=\u001B[39m grid_search_knn\u001B[38;5;241m.\u001B[39mbest_estimator_(KNeighborsClassifier())\n\u001B[1;32m     27\u001B[0m \u001B[38;5;28mprint\u001B[39m(\u001B[38;5;124mf\u001B[39m\u001B[38;5;124m'\u001B[39m\u001B[38;5;124mBest score (est)   :\u001B[39m\u001B[38;5;132;01m{\u001B[39;00mest\u001B[38;5;241m.\u001B[39mbest_params_\u001B[38;5;132;01m}\u001B[39;00m\u001B[38;5;124m.\u001B[39m\u001B[38;5;124m'\u001B[39m)\n\u001B[1;32m     29\u001B[0m \u001B[38;5;66;03m# Predict using the trained model.\u001B[39;00m\n",
      "\u001B[0;31mTypeError\u001B[0m: 'KNeighborsClassifier' object is not callable"
     ]
    }
   ],
   "execution_count": 80
  },
  {
   "metadata": {
    "ExecuteTime": {
     "end_time": "2024-12-27T08:30:42.065400Z",
     "start_time": "2024-12-27T08:30:41.965653Z"
    }
   },
   "cell_type": "code",
   "source": [
    "# A function to build base model.\n",
    "# Acknowledgement: Code was referenced from Prof. Mafas Raheem's AML lab-8.\n",
    "def build_and_validate_base_model(x_set, y_set, test_name):\n",
    "    # Calls the evaluation helper module to Scale and do train/test split.\n",
    "    x_train, x_test, y_train, y_test = ev.scale_and_split(x_set, y_set)\n",
    "\n",
    "    print(f'\\nEvaluation name: {test_name}.')\n",
    "\n",
    "    # Train the model with training set.\n",
    "    knn= KNeighborsClassifier(n_neighbors=13)\n",
    "    knn.fit(x_train, y_train)\n",
    "\n",
    "    # Display the best hyperparameters and score.\n",
    "    print(f'Params         :{ knn.get_params()}.')\n",
    "\n",
    "    # Do prediction with the train model.\n",
    "    y_pred = knn.predict(x_test)\n",
    "\n",
    "    # Calls the evaluation helper module to display classification-report, confusion-matrix and ROC curve\n",
    "    ev.display_validation_report(y_test, y_pred, x_test, knn, test_name)\n",
    "\n",
    "build_and_validate_base_model(X, y, ev.EvaluationType.std_base)"
   ],
   "id": "b528b6f68ebadc4a",
   "outputs": [
    {
     "name": "stdout",
     "output_type": "stream",
     "text": [
      "\n",
      "Evaluation name: std-base.\n",
      "Params         :{'algorithm': 'auto', 'leaf_size': 30, 'metric': 'minkowski', 'metric_params': None, 'n_jobs': None, 'n_neighbors': 13, 'p': 2, 'weights': 'uniform'}.\n",
      "\n",
      "Classification Report\n",
      "              precision    recall  f1-score   support\n",
      "\n",
      "           0       0.86      0.94      0.90        32\n",
      "           1       0.92      0.82      0.87        28\n",
      "\n",
      "    accuracy                           0.88        60\n",
      "   macro avg       0.89      0.88      0.88        60\n",
      "weighted avg       0.89      0.88      0.88        60\n",
      "\n",
      "\n",
      "Confusion Matrix\n"
     ]
    },
    {
     "data": {
      "text/plain": [
       "<Figure size 300x300 with 1 Axes>"
      ],
      "image/png": "[encoded data removed]"
     },
     "metadata": {},
     "output_type": "display_data"
    },
    {
     "data": {
      "text/plain": [
       "<Figure size 640x480 with 1 Axes>"
      ],
      "image/png": "[encoded data removed]"
     },
     "metadata": {},
     "output_type": "display_data"
    }
   ],
   "execution_count": 61
  },
  {
   "metadata": {},
   "cell_type": "code",
   "source": "train_scores",
   "id": "9df5102f5b7f7ac",
   "outputs": [],
   "execution_count": null
  },
  {
   "metadata": {},
   "cell_type": "code",
   "source": [
    "# Evaluation: Standard Random Search CV\n",
    "build_and_validate_with_random_search_cv(X, y, ev.EvaluationType.std_random_search_cv)"
   ],
   "id": "37bee9ea660bce7f",
   "outputs": [],
   "execution_count": null
  },
  {
   "metadata": {},
   "cell_type": "code",
   "source": "print(ev.accuracies)",
   "id": "46a53d7088d81e90",
   "outputs": [],
   "execution_count": null
  },
  {
   "metadata": {},
   "cell_type": "markdown",
   "source": "## Evaluation with Over-sampled Dataset",
   "id": "36476ad66e0ed040"
  },
  {
   "metadata": {},
   "cell_type": "markdown",
   "source": "### Data Preparation and Over-sampling",
   "id": "bc4aaf4ceca7c794"
  },
  {
   "metadata": {},
   "cell_type": "code",
   "source": [
    "# Prepare features and target variables.\n",
    "X = data.drop(uci.UCIHeartDiseaseData.target, axis=1)\n",
    "y = data[uci.UCIHeartDiseaseData.target]\n",
    "\n",
    "# Perform over-sampling with SMOTE\n",
    "X_b, y_b = SMOTE().fit_resample(X, y)\n",
    "print(f'Classes before over-sampling :{Counter(data[uci.UCIHeartDiseaseData.target])}.')\n",
    "print(f'Classes after over-sampling  :{Counter(y_b)}.')"
   ],
   "id": "b6294d37456edbd7",
   "outputs": [],
   "execution_count": null
  },
  {
   "metadata": {},
   "cell_type": "code",
   "source": [
    "# Before over-sampling\n",
    "plt.subplots(figsize=(5,5))\n",
    "sns.countplot(x=data[uci.UCIHeartDiseaseData.target])\n",
    "\n",
    "# After over-sampling\n",
    "plt.subplots(figsize=(5,5))\n",
    "sns.countplot(x=y_b)"
   ],
   "id": "32ad6c2c1c2a9796",
   "outputs": [],
   "execution_count": null
  },
  {
   "metadata": {},
   "cell_type": "code",
   "source": [
    "# Evaluation: Over-sampled Base\n",
    "build_and_validate_base_model(X_b, y_b,ev.EvaluationType.os_base)"
   ],
   "id": "388a8e475befd119",
   "outputs": [],
   "execution_count": null
  },
  {
   "metadata": {},
   "cell_type": "code",
   "source": [
    "# Evaluation: Over-sampled Grid Search CV\n",
    "find_optimal_neighbour(X_b, y_b, ev.EvaluationType.os_grid_search_cv)"
   ],
   "id": "c7cca0fd48de349d",
   "outputs": [],
   "execution_count": null
  },
  {
   "metadata": {},
   "cell_type": "code",
   "source": [
    "# Evaluation: Over-sampled Random Search CV\n",
    "build_and_validate_with_random_search_cv(X_b, y_b, ev.EvaluationType.os_random_search_cv)"
   ],
   "id": "357c4277d918393d",
   "outputs": [],
   "execution_count": null
  },
  {
   "metadata": {},
   "cell_type": "code",
   "source": "print(ev.accuracies)",
   "id": "3629168643044700",
   "outputs": [],
   "execution_count": null
  },
  {
   "metadata": {},
   "cell_type": "markdown",
   "source": "## Conclusion",
   "id": "5fbb3decbf32b3da"
  },
  {
   "metadata": {},
   "cell_type": "code",
   "source": [
    "plt.bar(range(len(ev.accuracies)), list(ev.accuracies.values()), align='center')\n",
    "plt.xticks(range(len(ev.accuracies)), list(ev.accuracies.keys()))\n",
    "\n",
    "plt.show()"
   ],
   "id": "42ec4ae45974874a",
   "outputs": [],
   "execution_count": null
  },
  {
   "metadata": {},
   "cell_type": "code",
   "source": [
    "### Register the highest in global\n",
    "ev.global_accuracies['SVM'] = 87"
   ],
   "id": "5c5750b2ab2fd8d1",
   "outputs": [],
   "execution_count": null
  }
 ],
 "metadata": {
  "kernelspec": {
   "display_name": "Python 3",
   "language": "python",
   "name": "python3"
  },
  "language_info": {
   "codemirror_mode": {
    "name": "ipython",
    "version": 2
   },
   "file_extension": ".py",
   "mimetype": "text/x-python",
   "name": "python",
   "nbconvert_exporter": "python",
   "pygments_lexer": "ipython2",
   "version": "2.7.6"
  }
 },
 "nbformat": 4,
 "nbformat_minor": 5
}
