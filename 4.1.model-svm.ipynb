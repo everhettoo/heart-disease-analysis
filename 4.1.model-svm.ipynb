{
 "cells": [
  {
   "metadata": {},
   "cell_type": "markdown",
   "source": [
    "### Preprocess\n",
    "- Re-categorizing ascending to descending, or vice versa doesn't have any impact the model accuracy.\n",
    "- Use one hot encoder to set 'sex'? Gender seem binary '1' or '0' -- Can be ignored since it is a binary class.\n",
    "- cp should be descending\n",
    "- slope should be descending Downslop (severe), Horizontal and upsloping\n",
    "- Use one hot encoder to set 'thal'c-- Can be ignored for (or experiment later)\n",
    "\\\n",
    "DON'T WASTE TIME!!\n",
    "\n",
    "Method:\n",
    "1. Test Standardization vs Scaling with base model\n",
    "2."
   ],
   "id": "a5c7eeb486978711"
  },
  {
   "cell_type": "code",
   "id": "initial_id",
   "metadata": {
    "collapsed": true
   },
   "source": [
    "import numpy as np\n",
    "import matplotlib.pyplot as plt\n",
    "import pandas as pd\n",
    "import seaborn as sns\n",
    "from sklearn.svm import SVC\n",
    "from sklearn.metrics import classification_report, confusion_matrix, accuracy_score\n",
    "import warnings\n",
    "warnings.filterwarnings(\"ignore\")"
   ],
   "outputs": [],
   "execution_count": null
  },
  {
   "metadata": {
    "ExecuteTime": {
     "end_time": "2024-12-23T03:05:01.027378Z",
     "start_time": "2024-12-23T03:05:01.020223Z"
    }
   },
   "cell_type": "code",
   "source": [
    "data = pd.read_csv('data/uci-heart-disease/cleveland-cleaned.csv')\n",
    "data.head(3)"
   ],
   "id": "b56fe2f0b56e8fd7",
   "outputs": [
    {
     "data": {
      "text/plain": [
       "    age  sex   cp  trestbps   chol  fbs  restecg  thalach  exang  oldpeak  \\\n",
       "0  63.0  1.0  1.0     145.0  233.0  1.0      2.0    150.0    0.0      2.3   \n",
       "1  67.0  1.0  4.0     160.0  286.0  0.0      2.0    108.0    1.0      1.5   \n",
       "2  67.0  1.0  4.0     120.0  229.0  0.0      2.0    129.0    1.0      2.6   \n",
       "\n",
       "   slope   ca  thal  target  \n",
       "0    3.0  0.0   6.0       0  \n",
       "1    2.0  3.0   3.0       1  \n",
       "2    2.0  2.0   7.0       1  "
      ],
      "text/html": [
       "<div>\n",
       "<style scoped>\n",
       "    .dataframe tbody tr th:only-of-type {\n",
       "        vertical-align: middle;\n",
       "    }\n",
       "\n",
       "    .dataframe tbody tr th {\n",
       "        vertical-align: top;\n",
       "    }\n",
       "\n",
       "    .dataframe thead th {\n",
       "        text-align: right;\n",
       "    }\n",
       "</style>\n",
       "<table border=\"1\" class=\"dataframe\">\n",
       "  <thead>\n",
       "    <tr style=\"text-align: right;\">\n",
       "      <th></th>\n",
       "      <th>age</th>\n",
       "      <th>sex</th>\n",
       "      <th>cp</th>\n",
       "      <th>trestbps</th>\n",
       "      <th>chol</th>\n",
       "      <th>fbs</th>\n",
       "      <th>restecg</th>\n",
       "      <th>thalach</th>\n",
       "      <th>exang</th>\n",
       "      <th>oldpeak</th>\n",
       "      <th>slope</th>\n",
       "      <th>ca</th>\n",
       "      <th>thal</th>\n",
       "      <th>target</th>\n",
       "    </tr>\n",
       "  </thead>\n",
       "  <tbody>\n",
       "    <tr>\n",
       "      <th>0</th>\n",
       "      <td>63.0</td>\n",
       "      <td>1.0</td>\n",
       "      <td>1.0</td>\n",
       "      <td>145.0</td>\n",
       "      <td>233.0</td>\n",
       "      <td>1.0</td>\n",
       "      <td>2.0</td>\n",
       "      <td>150.0</td>\n",
       "      <td>0.0</td>\n",
       "      <td>2.3</td>\n",
       "      <td>3.0</td>\n",
       "      <td>0.0</td>\n",
       "      <td>6.0</td>\n",
       "      <td>0</td>\n",
       "    </tr>\n",
       "    <tr>\n",
       "      <th>1</th>\n",
       "      <td>67.0</td>\n",
       "      <td>1.0</td>\n",
       "      <td>4.0</td>\n",
       "      <td>160.0</td>\n",
       "      <td>286.0</td>\n",
       "      <td>0.0</td>\n",
       "      <td>2.0</td>\n",
       "      <td>108.0</td>\n",
       "      <td>1.0</td>\n",
       "      <td>1.5</td>\n",
       "      <td>2.0</td>\n",
       "      <td>3.0</td>\n",
       "      <td>3.0</td>\n",
       "      <td>1</td>\n",
       "    </tr>\n",
       "    <tr>\n",
       "      <th>2</th>\n",
       "      <td>67.0</td>\n",
       "      <td>1.0</td>\n",
       "      <td>4.0</td>\n",
       "      <td>120.0</td>\n",
       "      <td>229.0</td>\n",
       "      <td>0.0</td>\n",
       "      <td>2.0</td>\n",
       "      <td>129.0</td>\n",
       "      <td>1.0</td>\n",
       "      <td>2.6</td>\n",
       "      <td>2.0</td>\n",
       "      <td>2.0</td>\n",
       "      <td>7.0</td>\n",
       "      <td>1</td>\n",
       "    </tr>\n",
       "  </tbody>\n",
       "</table>\n",
       "</div>"
      ]
     },
     "execution_count": 67,
     "metadata": {},
     "output_type": "execute_result"
    }
   ],
   "execution_count": 67
  },
  {
   "metadata": {
    "ExecuteTime": {
     "end_time": "2024-12-23T03:05:02.916164Z",
     "start_time": "2024-12-23T03:05:02.905237Z"
    }
   },
   "cell_type": "code",
   "source": [
    "X = data.drop('target', axis=1)\n",
    "y = data['target']\n",
    "\n",
    "columns = X.columns\n",
    "X"
   ],
   "id": "a783d8c79b65a38",
   "outputs": [
    {
     "data": {
      "text/plain": [
       "      age  sex   cp  trestbps   chol  fbs  restecg  thalach  exang  oldpeak  \\\n",
       "0    63.0  1.0  1.0     145.0  233.0  1.0      2.0    150.0    0.0      2.3   \n",
       "1    67.0  1.0  4.0     160.0  286.0  0.0      2.0    108.0    1.0      1.5   \n",
       "2    67.0  1.0  4.0     120.0  229.0  0.0      2.0    129.0    1.0      2.6   \n",
       "3    37.0  1.0  3.0     130.0  250.0  0.0      0.0    187.0    0.0      3.5   \n",
       "4    41.0  0.0  2.0     130.0  204.0  0.0      2.0    172.0    0.0      1.4   \n",
       "..    ...  ...  ...       ...    ...  ...      ...      ...    ...      ...   \n",
       "292  57.0  0.0  4.0     140.0  241.0  0.0      0.0    123.0    1.0      0.2   \n",
       "293  45.0  1.0  1.0     110.0  264.0  0.0      0.0    132.0    0.0      1.2   \n",
       "294  68.0  1.0  4.0     144.0  193.0  1.0      0.0    141.0    0.0      3.4   \n",
       "295  57.0  1.0  4.0     130.0  131.0  0.0      0.0    115.0    1.0      1.2   \n",
       "296  57.0  0.0  2.0     130.0  236.0  0.0      2.0    174.0    0.0      0.0   \n",
       "\n",
       "     slope   ca  thal  \n",
       "0      3.0  0.0   6.0  \n",
       "1      2.0  3.0   3.0  \n",
       "2      2.0  2.0   7.0  \n",
       "3      3.0  0.0   3.0  \n",
       "4      1.0  0.0   3.0  \n",
       "..     ...  ...   ...  \n",
       "292    2.0  0.0   7.0  \n",
       "293    2.0  0.0   7.0  \n",
       "294    2.0  2.0   7.0  \n",
       "295    2.0  1.0   7.0  \n",
       "296    2.0  1.0   3.0  \n",
       "\n",
       "[297 rows x 13 columns]"
      ],
      "text/html": [
       "<div>\n",
       "<style scoped>\n",
       "    .dataframe tbody tr th:only-of-type {\n",
       "        vertical-align: middle;\n",
       "    }\n",
       "\n",
       "    .dataframe tbody tr th {\n",
       "        vertical-align: top;\n",
       "    }\n",
       "\n",
       "    .dataframe thead th {\n",
       "        text-align: right;\n",
       "    }\n",
       "</style>\n",
       "<table border=\"1\" class=\"dataframe\">\n",
       "  <thead>\n",
       "    <tr style=\"text-align: right;\">\n",
       "      <th></th>\n",
       "      <th>age</th>\n",
       "      <th>sex</th>\n",
       "      <th>cp</th>\n",
       "      <th>trestbps</th>\n",
       "      <th>chol</th>\n",
       "      <th>fbs</th>\n",
       "      <th>restecg</th>\n",
       "      <th>thalach</th>\n",
       "      <th>exang</th>\n",
       "      <th>oldpeak</th>\n",
       "      <th>slope</th>\n",
       "      <th>ca</th>\n",
       "      <th>thal</th>\n",
       "    </tr>\n",
       "  </thead>\n",
       "  <tbody>\n",
       "    <tr>\n",
       "      <th>0</th>\n",
       "      <td>63.0</td>\n",
       "      <td>1.0</td>\n",
       "      <td>1.0</td>\n",
       "      <td>145.0</td>\n",
       "      <td>233.0</td>\n",
       "      <td>1.0</td>\n",
       "      <td>2.0</td>\n",
       "      <td>150.0</td>\n",
       "      <td>0.0</td>\n",
       "      <td>2.3</td>\n",
       "      <td>3.0</td>\n",
       "      <td>0.0</td>\n",
       "      <td>6.0</td>\n",
       "    </tr>\n",
       "    <tr>\n",
       "      <th>1</th>\n",
       "      <td>67.0</td>\n",
       "      <td>1.0</td>\n",
       "      <td>4.0</td>\n",
       "      <td>160.0</td>\n",
       "      <td>286.0</td>\n",
       "      <td>0.0</td>\n",
       "      <td>2.0</td>\n",
       "      <td>108.0</td>\n",
       "      <td>1.0</td>\n",
       "      <td>1.5</td>\n",
       "      <td>2.0</td>\n",
       "      <td>3.0</td>\n",
       "      <td>3.0</td>\n",
       "    </tr>\n",
       "    <tr>\n",
       "      <th>2</th>\n",
       "      <td>67.0</td>\n",
       "      <td>1.0</td>\n",
       "      <td>4.0</td>\n",
       "      <td>120.0</td>\n",
       "      <td>229.0</td>\n",
       "      <td>0.0</td>\n",
       "      <td>2.0</td>\n",
       "      <td>129.0</td>\n",
       "      <td>1.0</td>\n",
       "      <td>2.6</td>\n",
       "      <td>2.0</td>\n",
       "      <td>2.0</td>\n",
       "      <td>7.0</td>\n",
       "    </tr>\n",
       "    <tr>\n",
       "      <th>3</th>\n",
       "      <td>37.0</td>\n",
       "      <td>1.0</td>\n",
       "      <td>3.0</td>\n",
       "      <td>130.0</td>\n",
       "      <td>250.0</td>\n",
       "      <td>0.0</td>\n",
       "      <td>0.0</td>\n",
       "      <td>187.0</td>\n",
       "      <td>0.0</td>\n",
       "      <td>3.5</td>\n",
       "      <td>3.0</td>\n",
       "      <td>0.0</td>\n",
       "      <td>3.0</td>\n",
       "    </tr>\n",
       "    <tr>\n",
       "      <th>4</th>\n",
       "      <td>41.0</td>\n",
       "      <td>0.0</td>\n",
       "      <td>2.0</td>\n",
       "      <td>130.0</td>\n",
       "      <td>204.0</td>\n",
       "      <td>0.0</td>\n",
       "      <td>2.0</td>\n",
       "      <td>172.0</td>\n",
       "      <td>0.0</td>\n",
       "      <td>1.4</td>\n",
       "      <td>1.0</td>\n",
       "      <td>0.0</td>\n",
       "      <td>3.0</td>\n",
       "    </tr>\n",
       "    <tr>\n",
       "      <th>...</th>\n",
       "      <td>...</td>\n",
       "      <td>...</td>\n",
       "      <td>...</td>\n",
       "      <td>...</td>\n",
       "      <td>...</td>\n",
       "      <td>...</td>\n",
       "      <td>...</td>\n",
       "      <td>...</td>\n",
       "      <td>...</td>\n",
       "      <td>...</td>\n",
       "      <td>...</td>\n",
       "      <td>...</td>\n",
       "      <td>...</td>\n",
       "    </tr>\n",
       "    <tr>\n",
       "      <th>292</th>\n",
       "      <td>57.0</td>\n",
       "      <td>0.0</td>\n",
       "      <td>4.0</td>\n",
       "      <td>140.0</td>\n",
       "      <td>241.0</td>\n",
       "      <td>0.0</td>\n",
       "      <td>0.0</td>\n",
       "      <td>123.0</td>\n",
       "      <td>1.0</td>\n",
       "      <td>0.2</td>\n",
       "      <td>2.0</td>\n",
       "      <td>0.0</td>\n",
       "      <td>7.0</td>\n",
       "    </tr>\n",
       "    <tr>\n",
       "      <th>293</th>\n",
       "      <td>45.0</td>\n",
       "      <td>1.0</td>\n",
       "      <td>1.0</td>\n",
       "      <td>110.0</td>\n",
       "      <td>264.0</td>\n",
       "      <td>0.0</td>\n",
       "      <td>0.0</td>\n",
       "      <td>132.0</td>\n",
       "      <td>0.0</td>\n",
       "      <td>1.2</td>\n",
       "      <td>2.0</td>\n",
       "      <td>0.0</td>\n",
       "      <td>7.0</td>\n",
       "    </tr>\n",
       "    <tr>\n",
       "      <th>294</th>\n",
       "      <td>68.0</td>\n",
       "      <td>1.0</td>\n",
       "      <td>4.0</td>\n",
       "      <td>144.0</td>\n",
       "      <td>193.0</td>\n",
       "      <td>1.0</td>\n",
       "      <td>0.0</td>\n",
       "      <td>141.0</td>\n",
       "      <td>0.0</td>\n",
       "      <td>3.4</td>\n",
       "      <td>2.0</td>\n",
       "      <td>2.0</td>\n",
       "      <td>7.0</td>\n",
       "    </tr>\n",
       "    <tr>\n",
       "      <th>295</th>\n",
       "      <td>57.0</td>\n",
       "      <td>1.0</td>\n",
       "      <td>4.0</td>\n",
       "      <td>130.0</td>\n",
       "      <td>131.0</td>\n",
       "      <td>0.0</td>\n",
       "      <td>0.0</td>\n",
       "      <td>115.0</td>\n",
       "      <td>1.0</td>\n",
       "      <td>1.2</td>\n",
       "      <td>2.0</td>\n",
       "      <td>1.0</td>\n",
       "      <td>7.0</td>\n",
       "    </tr>\n",
       "    <tr>\n",
       "      <th>296</th>\n",
       "      <td>57.0</td>\n",
       "      <td>0.0</td>\n",
       "      <td>2.0</td>\n",
       "      <td>130.0</td>\n",
       "      <td>236.0</td>\n",
       "      <td>0.0</td>\n",
       "      <td>2.0</td>\n",
       "      <td>174.0</td>\n",
       "      <td>0.0</td>\n",
       "      <td>0.0</td>\n",
       "      <td>2.0</td>\n",
       "      <td>1.0</td>\n",
       "      <td>3.0</td>\n",
       "    </tr>\n",
       "  </tbody>\n",
       "</table>\n",
       "<p>297 rows × 13 columns</p>\n",
       "</div>"
      ]
     },
     "execution_count": 68,
     "metadata": {},
     "output_type": "execute_result"
    }
   ],
   "execution_count": 68
  },
  {
   "metadata": {},
   "cell_type": "code",
   "source": "y",
   "id": "29009c876eaf1c83",
   "outputs": [],
   "execution_count": null
  },
  {
   "metadata": {},
   "cell_type": "markdown",
   "source": "## Feature Selection",
   "id": "37eb1c74ed7e2826"
  },
  {
   "metadata": {
    "ExecuteTime": {
     "end_time": "2024-12-23T03:05:05.690792Z",
     "start_time": "2024-12-23T03:05:05.683700Z"
    }
   },
   "cell_type": "code",
   "source": [
    "from sklearn.feature_selection import chi2,SelectKBest\n",
    "\n",
    "chi_squared = SelectKBest(score_func=chi2, k=13)\n",
    "chi_squared.fit(X, y)\n",
    "feature_score = pd.DataFrame({\"Score\":chi_squared.scores_, \"P_Value\":np.round(chi_squared.pvalues_,3)}, index=X.columns)\n",
    "feature_score.nlargest(n=13,columns=\"Score\")"
   ],
   "id": "ac49ef2069462662",
   "outputs": [
    {
     "data": {
      "text/plain": [
       "               Score  P_Value\n",
       "thalach   187.053104    0.000\n",
       "ca         82.730613    0.000\n",
       "oldpeak    68.570533    0.000\n",
       "thal       65.221093    0.000\n",
       "exang      35.508090    0.000\n",
       "age        22.917697    0.000\n",
       "chol       20.855084    0.000\n",
       "trestbps   16.707463    0.000\n",
       "cp         14.591587    0.000\n",
       "restecg     8.134652    0.004\n",
       "slope       7.828836    0.005\n",
       "sex         7.444195    0.006\n",
       "fbs         0.002547    0.960"
      ],
      "text/html": [
       "<div>\n",
       "<style scoped>\n",
       "    .dataframe tbody tr th:only-of-type {\n",
       "        vertical-align: middle;\n",
       "    }\n",
       "\n",
       "    .dataframe tbody tr th {\n",
       "        vertical-align: top;\n",
       "    }\n",
       "\n",
       "    .dataframe thead th {\n",
       "        text-align: right;\n",
       "    }\n",
       "</style>\n",
       "<table border=\"1\" class=\"dataframe\">\n",
       "  <thead>\n",
       "    <tr style=\"text-align: right;\">\n",
       "      <th></th>\n",
       "      <th>Score</th>\n",
       "      <th>P_Value</th>\n",
       "    </tr>\n",
       "  </thead>\n",
       "  <tbody>\n",
       "    <tr>\n",
       "      <th>thalach</th>\n",
       "      <td>187.053104</td>\n",
       "      <td>0.000</td>\n",
       "    </tr>\n",
       "    <tr>\n",
       "      <th>ca</th>\n",
       "      <td>82.730613</td>\n",
       "      <td>0.000</td>\n",
       "    </tr>\n",
       "    <tr>\n",
       "      <th>oldpeak</th>\n",
       "      <td>68.570533</td>\n",
       "      <td>0.000</td>\n",
       "    </tr>\n",
       "    <tr>\n",
       "      <th>thal</th>\n",
       "      <td>65.221093</td>\n",
       "      <td>0.000</td>\n",
       "    </tr>\n",
       "    <tr>\n",
       "      <th>exang</th>\n",
       "      <td>35.508090</td>\n",
       "      <td>0.000</td>\n",
       "    </tr>\n",
       "    <tr>\n",
       "      <th>age</th>\n",
       "      <td>22.917697</td>\n",
       "      <td>0.000</td>\n",
       "    </tr>\n",
       "    <tr>\n",
       "      <th>chol</th>\n",
       "      <td>20.855084</td>\n",
       "      <td>0.000</td>\n",
       "    </tr>\n",
       "    <tr>\n",
       "      <th>trestbps</th>\n",
       "      <td>16.707463</td>\n",
       "      <td>0.000</td>\n",
       "    </tr>\n",
       "    <tr>\n",
       "      <th>cp</th>\n",
       "      <td>14.591587</td>\n",
       "      <td>0.000</td>\n",
       "    </tr>\n",
       "    <tr>\n",
       "      <th>restecg</th>\n",
       "      <td>8.134652</td>\n",
       "      <td>0.004</td>\n",
       "    </tr>\n",
       "    <tr>\n",
       "      <th>slope</th>\n",
       "      <td>7.828836</td>\n",
       "      <td>0.005</td>\n",
       "    </tr>\n",
       "    <tr>\n",
       "      <th>sex</th>\n",
       "      <td>7.444195</td>\n",
       "      <td>0.006</td>\n",
       "    </tr>\n",
       "    <tr>\n",
       "      <th>fbs</th>\n",
       "      <td>0.002547</td>\n",
       "      <td>0.960</td>\n",
       "    </tr>\n",
       "  </tbody>\n",
       "</table>\n",
       "</div>"
      ]
     },
     "execution_count": 69,
     "metadata": {},
     "output_type": "execute_result"
    }
   ],
   "execution_count": 69
  },
  {
   "metadata": {},
   "cell_type": "markdown",
   "source": "## Cross Balancing",
   "id": "fa529430dc292e55"
  },
  {
   "metadata": {
    "ExecuteTime": {
     "end_time": "2024-12-23T03:05:11.046660Z",
     "start_time": "2024-12-23T03:05:10.992931Z"
    }
   },
   "cell_type": "code",
   "source": [
    "from collections import Counter\n",
    "# Need to install imbalanced-learn\n",
    "from imblearn.over_sampling import SMOTE\n",
    "X_b, y_b = SMOTE().fit_resample(X, y)\n",
    "\n",
    "plt.subplots(figsize=(3,3))\n",
    "sns.countplot(x=y_b)\n",
    "print(Counter(y_b))\n",
    "X_b.shape"
   ],
   "id": "ad380320b501e6e8",
   "outputs": [
    {
     "name": "stdout",
     "output_type": "stream",
     "text": [
      "Counter({0: 160, 1: 160})\n"
     ]
    },
    {
     "data": {
      "text/plain": [
       "(320, 13)"
      ]
     },
     "execution_count": 70,
     "metadata": {},
     "output_type": "execute_result"
    },
    {
     "data": {
      "text/plain": [
       "<Figure size 300x300 with 1 Axes>"
      ],
      "image/png": "[encoded data removed]"
     },
     "metadata": {},
     "output_type": "display_data"
    }
   ],
   "execution_count": 70
  },
  {
   "metadata": {
    "ExecuteTime": {
     "end_time": "2024-12-23T03:05:12.955859Z",
     "start_time": "2024-12-23T03:05:12.951422Z"
    }
   },
   "cell_type": "code",
   "source": [
    "from sklearn.model_selection import train_test_split\n",
    "X_train, X_test, y_train, y_test = train_test_split(X_b, y_b, test_size = 0.20, random_state=0)"
   ],
   "id": "1e8ea09b7eeb433d",
   "outputs": [],
   "execution_count": 71
  },
  {
   "metadata": {
    "ExecuteTime": {
     "end_time": "2024-12-23T03:05:19.999787Z",
     "start_time": "2024-12-23T03:05:19.995609Z"
    }
   },
   "cell_type": "code",
   "source": [
    "from sklearn.preprocessing import StandardScaler\n",
    "scaler = StandardScaler()\n",
    "X = scaler.fit_transform(X)"
   ],
   "id": "820edb119680ed99",
   "outputs": [],
   "execution_count": 72
  },
  {
   "metadata": {},
   "cell_type": "code",
   "source": "X[0:5]",
   "id": "421ed1e8341cab80",
   "outputs": [],
   "execution_count": null
  },
  {
   "metadata": {},
   "cell_type": "code",
   "source": [
    "from sklearn.model_selection import train_test_split\n",
    "X_train, X_test, y_train, y_test = train_test_split(X, y, test_size = 0.20, random_state=0)"
   ],
   "id": "7082a87b3779b808",
   "outputs": [],
   "execution_count": null
  },
  {
   "metadata": {},
   "cell_type": "code",
   "source": "X_test[0:5]",
   "id": "94c9bc0439713a8d",
   "outputs": [],
   "execution_count": null
  },
  {
   "metadata": {},
   "cell_type": "code",
   "source": "y_test.head()",
   "id": "dd38769b0c17137e",
   "outputs": [],
   "execution_count": null
  },
  {
   "metadata": {},
   "cell_type": "markdown",
   "source": [
    "# Base model\n",
    "- classification report\n",
    "- confusion matrix"
   ],
   "id": "3c7cc23d9910fced"
  },
  {
   "metadata": {
    "ExecuteTime": {
     "end_time": "2024-12-23T03:05:27.464523Z",
     "start_time": "2024-12-23T03:05:27.453814Z"
    }
   },
   "cell_type": "code",
   "source": [
    "svc= SVC()\n",
    "svc.fit(X_train, y_train)\n",
    "y_pred = svc.predict(X_test)\n",
    "acc=accuracy_score(y_test, y_pred)*100\n",
    "print(\"SVM - Accuracy: {:.3f}.\".format(acc))\n",
    "print(\"\\nClassification Report\")\n",
    "print(classification_report(y_test, y_pred))"
   ],
   "id": "df9653b9f8344efb",
   "outputs": [
    {
     "name": "stdout",
     "output_type": "stream",
     "text": [
      "SVM - Accuracy: 56.250.\n",
      "\n",
      "Classification Report\n",
      "              precision    recall  f1-score   support\n",
      "\n",
      "           0       0.50      0.64      0.56        28\n",
      "           1       0.64      0.50      0.56        36\n",
      "\n",
      "    accuracy                           0.56        64\n",
      "   macro avg       0.57      0.57      0.56        64\n",
      "weighted avg       0.58      0.56      0.56        64\n",
      "\n"
     ]
    }
   ],
   "execution_count": 73
  },
  {
   "metadata": {},
   "cell_type": "code",
   "source": [
    "# There were 60 records in test with equal class (1 and 0).\n",
    "# Meanwhile, the prediction was 24:36\n",
    "pd.DataFrame(y_pred).value_counts()"
   ],
   "id": "a2ae2bbf67b3af2e",
   "outputs": [],
   "execution_count": null
  },
  {
   "metadata": {},
   "cell_type": "markdown",
   "source": [
    "- <b>Precision</b> - 92% (22/24) prediction was correct in overall disease prediction\n",
    "- <b>Recall</b> - 73% (22/30) prediction for disease was correct"
   ],
   "id": "3dd7566a5922a881"
  },
  {
   "metadata": {
    "ExecuteTime": {
     "end_time": "2024-12-23T03:05:33.373400Z",
     "start_time": "2024-12-23T03:05:33.370394Z"
    }
   },
   "cell_type": "code",
   "source": [
    "# Confusion Matrix\n",
    "cm = confusion_matrix(y_test, y_pred)\n",
    "print(cm)"
   ],
   "id": "a8035b3c94654dc2",
   "outputs": [
    {
     "name": "stdout",
     "output_type": "stream",
     "text": [
      "[[18 10]\n",
      " [18 18]]\n"
     ]
    }
   ],
   "execution_count": 74
  },
  {
   "metadata": {},
   "cell_type": "code",
   "source": [
    "plt.figure(figsize=(5, 5))\n",
    "sns.heatmap(cm, annot=True, linewidths=.5, square=True, cmap='Blues', cbar=False)\n",
    "# plt.ylabel('Actual');\n",
    "# plt.xlabel('Predicted');\n",
    "plt.ylabel('Truth');\n",
    "plt.xlabel('Predicted');\n",
    "plt.title(\"Confusion Matrix for Predicting Heart Disease (True=1, False=0)\", size=12);"
   ],
   "id": "569308b10676c134",
   "outputs": [],
   "execution_count": null
  },
  {
   "metadata": {},
   "cell_type": "markdown",
   "source": "### GridSerachCV",
   "id": "c4451a1d16752f65"
  },
  {
   "metadata": {
    "jupyter": {
     "is_executing": true
    },
    "ExecuteTime": {
     "start_time": "2024-12-23T03:05:37.398774Z"
    }
   },
   "cell_type": "code",
   "source": [
    "from sklearn.model_selection import GridSearchCV\n",
    "from sklearn.metrics import classification_report, confusion_matrix, accuracy_score, precision_score, recall_score, f1_score\n",
    "from numpy import arange\n",
    "grid_svc= SVC()\n",
    "\n",
    "parameters = dict()\n",
    "parameters['kernel'] = ['rbf', 'poly', 'linear', 'sigmoid']\n",
    "parameters['C'] = arange(1, 10, 1)\n",
    "parameters['gamma'] = ['scale', 'auto']\n",
    "parameters['class_weight'] = ['dict', 'balanced']\n",
    "\n",
    "## Building Grid Search algorithm with cross-validation and acc score.\n",
    "\n",
    "# grid_search_svc = GridSearchCV(grid_svc, parameters, scoring='accuracy', cv=5, n_jobs=-1)\n",
    "grid_search_svc = GridSearchCV(grid_svc, parameters, scoring='accuracy', cv=5)\n",
    "\n",
    "grid_search_svc.fit(X_train,y_train)\n",
    "best_parameters_svc = grid_search_svc.best_params_\n",
    "best_score_svc = grid_search_svc.best_score_\n",
    "print(best_parameters_svc)\n",
    "print(best_score_svc)\n",
    "\n",
    "y_pred = grid_search_svc.predict(X_test)\n",
    "\n",
    "# Get the accuracy score\n",
    "svc_acc=accuracy_score(y_test, y_pred)*100\n",
    "svc_pre=precision_score(y_test, y_pred, average='micro')\n",
    "svc_recall=recall_score(y_test, y_pred, average='micro')\n",
    "svc_f1_=f1_score(y_test, y_pred, average='micro')\n",
    "\n",
    "print(\"\\nSVM - Accuracy: {:.3f}.\".format(svc_acc))\n",
    "print(\"SVM - Precision: {:.3f}.\".format(svc_pre))\n",
    "print(\"SVM - Recall: {:.3f}.\".format(svc_recall))\n",
    "print(\"SVM - F1_Score: {:.3f}.\".format(svc_f1_))\n",
    "print(\"\\nClassification Report\")\n",
    "print(classification_report(y_test, y_pred))"
   ],
   "id": "b0e80e573c35a0a3",
   "outputs": [],
   "execution_count": null
  },
  {
   "metadata": {},
   "cell_type": "markdown",
   "source": "### RandomSearchCV",
   "id": "f6f3ac58de5c151e"
  },
  {
   "metadata": {},
   "cell_type": "code",
   "source": [
    "from sklearn.model_selection import RandomizedSearchCV\n",
    "from sklearn.metrics import classification_report, confusion_matrix, accuracy_score, precision_score, recall_score, f1_score\n",
    "from numpy import arange\n",
    "rand_svc= SVC()\n",
    "\n",
    "parameters = dict()\n",
    "parameters['kernel'] = ['rbf', 'poly', 'linear', 'sigmoid']\n",
    "parameters['C'] = arange(1, 10, 1)\n",
    "parameters['gamma'] = ['scale', 'auto']\n",
    "parameters['class_weight'] = ['dict', 'balanced']\n",
    "\n",
    "## Building Grid Search algorithm with cross-validation and acc score.\n",
    "\n",
    "rand_search_svc = RandomizedSearchCV(rand_svc, parameters, scoring='accuracy', cv=5)\n",
    "\n",
    "rand_search_svc.fit(X_train,y_train)\n",
    "best_parameters_svc = rand_search_svc.best_params_\n",
    "best_score_svc = rand_search_svc.best_score_\n",
    "print(best_parameters_svc)\n",
    "print(best_score_svc)\n",
    "\n",
    "y_pred = rand_search_svc.predict(X_test)\n",
    "\n",
    "# Get the accuracy score\n",
    "svc_acc=accuracy_score(y_test, y_pred)*100\n",
    "svc_pre=precision_score(y_test, y_pred, average='micro')\n",
    "svc_recall=recall_score(y_test, y_pred, average='micro')\n",
    "svc_f1_=f1_score(y_test, y_pred, average='micro')\n",
    "\n",
    "print(\"\\nSVM - Accuracy: {:.3f}.\".format(svc_acc))\n",
    "print(\"SVM - Precision: {:.3f}.\".format(svc_pre))\n",
    "print(\"SVM - Recall: {:.3f}.\".format(svc_recall))\n",
    "print(\"SVM - F1_Score: {:.3f}.\".format(svc_f1_))\n",
    "print(\"\\nClassification Report\")\n",
    "print(classification_report(y_test, y_pred))"
   ],
   "id": "f3e91a5b600bb10f",
   "outputs": [],
   "execution_count": null
  }
 ],
 "metadata": {
  "kernelspec": {
   "display_name": "Python 3",
   "language": "python",
   "name": "python3"
  },
  "language_info": {
   "codemirror_mode": {
    "name": "ipython",
    "version": 2
   },
   "file_extension": ".py",
   "mimetype": "text/x-python",
   "name": "python",
   "nbconvert_exporter": "python",
   "pygments_lexer": "ipython2",
   "version": "2.7.6"
  }
 },
 "nbformat": 4,
 "nbformat_minor": 5
}
