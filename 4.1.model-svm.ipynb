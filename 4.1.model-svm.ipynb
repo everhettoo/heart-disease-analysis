{
 "cells": [
  {
   "metadata": {},
   "cell_type": "markdown",
   "source": [
    "### Preprocess\n",
    "- Re-categorizing ascending to descending, or vice versa doesn't have any impact the model accuracy.\n",
    "- Use one hot encoder to set 'sex'? Gender seem binary '1' or '0' -- Can be ignored since it is a binary class.\n",
    "- cp should be descending\n",
    "- slope should be descending Downslop (severe), Horizontal and upsloping\n",
    "- Use one hot encoder to set 'thal'c-- Can be ignored for (or experiment later)\n",
    "\\\n",
    "DON'T WASTE TIME!!"
   ],
   "id": "a5c7eeb486978711"
  },
  {
   "cell_type": "code",
   "id": "initial_id",
   "metadata": {
    "collapsed": true
   },
   "source": [
    "import numpy as np\n",
    "import matplotlib.pyplot as plt\n",
    "import pandas as pd\n",
    "import seaborn as sns\n",
    "from sklearn.svm import SVC\n",
    "from sklearn.preprocessing import StandardScaler\n",
    "import warnings\n",
    "warnings.filterwarnings(\"ignore\")"
   ],
   "outputs": [],
   "execution_count": null
  },
  {
   "metadata": {},
   "cell_type": "code",
   "source": [
    "data = pd.read_csv('data/uci-heart-disease/cleveland-cleaned.csv')\n",
    "data"
   ],
   "id": "b56fe2f0b56e8fd7",
   "outputs": [],
   "execution_count": null
  },
  {
   "metadata": {},
   "cell_type": "code",
   "source": [
    "X = data.drop('target', axis=1)\n",
    "y = data['target']"
   ],
   "id": "a783d8c79b65a38",
   "outputs": [],
   "execution_count": null
  },
  {
   "metadata": {},
   "cell_type": "code",
   "source": "y",
   "id": "29009c876eaf1c83",
   "outputs": [],
   "execution_count": null
  },
  {
   "metadata": {},
   "cell_type": "code",
   "source": [
    "sc_X = StandardScaler()\n",
    "X = sc_X.fit_transform(X)"
   ],
   "id": "820edb119680ed99",
   "outputs": [],
   "execution_count": null
  },
  {
   "metadata": {},
   "cell_type": "code",
   "source": "X",
   "id": "421ed1e8341cab80",
   "outputs": [],
   "execution_count": null
  },
  {
   "metadata": {},
   "cell_type": "code",
   "source": [
    "from sklearn.model_selection import train_test_split\n",
    "X_train, X_test, y_train, y_test = train_test_split(X, y, test_size = 0.20, random_state=0)"
   ],
   "id": "7082a87b3779b808",
   "outputs": [],
   "execution_count": null
  },
  {
   "metadata": {},
   "cell_type": "code",
   "source": "X_test[0:5]",
   "id": "94c9bc0439713a8d",
   "outputs": [],
   "execution_count": null
  },
  {
   "metadata": {},
   "cell_type": "code",
   "source": "y_test.head()",
   "id": "dd38769b0c17137e",
   "outputs": [],
   "execution_count": null
  },
  {
   "metadata": {},
   "cell_type": "markdown",
   "source": "### Base model",
   "id": "3c7cc23d9910fced"
  },
  {
   "metadata": {
    "ExecuteTime": {
     "end_time": "2024-12-14T08:03:53.702164Z",
     "start_time": "2024-12-14T08:03:53.691214Z"
    }
   },
   "cell_type": "code",
   "source": [
    "from sklearn.metrics import classification_report, confusion_matrix, accuracy_score\n",
    "svc= SVC()\n",
    "svc.fit(X_train, y_train)\n",
    "y_p = svc.predict(X_test)\n",
    "acc=accuracy_score(y_test, y_p)*100\n",
    "print(\"SVM - Accuracy: {:.3f}.\".format(acc))\n",
    "print(\"\\nClassification Report\")\n",
    "print(classification_report(y_test, y_p))"
   ],
   "id": "df9653b9f8344efb",
   "outputs": [
    {
     "name": "stdout",
     "output_type": "stream",
     "text": [
      "SVM - Accuracy: 83.333.\n",
      "\n",
      "Classification Report\n",
      "              precision    recall  f1-score   support\n",
      "\n",
      "           0       0.78      0.93      0.85        30\n",
      "           1       0.92      0.73      0.81        30\n",
      "\n",
      "    accuracy                           0.83        60\n",
      "   macro avg       0.85      0.83      0.83        60\n",
      "weighted avg       0.85      0.83      0.83        60\n",
      "\n"
     ]
    }
   ],
   "execution_count": 10
  },
  {
   "metadata": {},
   "cell_type": "markdown",
   "source": "### GridSerachCV",
   "id": "c4451a1d16752f65"
  },
  {
   "metadata": {
    "ExecuteTime": {
     "end_time": "2024-12-14T08:03:59.021526Z",
     "start_time": "2024-12-14T08:03:58.380405Z"
    }
   },
   "cell_type": "code",
   "source": [
    "from sklearn.model_selection import GridSearchCV\n",
    "from sklearn.metrics import classification_report, confusion_matrix, accuracy_score, precision_score, recall_score, f1_score\n",
    "from numpy import arange\n",
    "grid_svc= SVC()\n",
    "\n",
    "parameters = dict()\n",
    "parameters['kernel'] = ['rbf', 'poly', 'linear', 'sigmoid']\n",
    "parameters['C'] = arange(1, 10, 1)\n",
    "parameters['gamma'] = ['scale', 'auto']\n",
    "parameters['class_weight'] = ['dict', 'balanced']\n",
    "\n",
    "## Building Grid Search algorithm with cross-validation and acc score.\n",
    "\n",
    "# grid_search_svc = GridSearchCV(grid_svc, parameters, scoring='accuracy', cv=5, n_jobs=-1)\n",
    "grid_search_svc = GridSearchCV(grid_svc, parameters, scoring='accuracy', cv=5)\n",
    "\n",
    "grid_search_svc.fit(X_train,y_train)\n",
    "best_parameters_svc = grid_search_svc.best_params_\n",
    "best_score_svc = grid_search_svc.best_score_\n",
    "print(best_parameters_svc)\n",
    "print(best_score_svc)\n",
    "\n",
    "y_pred = grid_search_svc.predict(X_test)\n",
    "\n",
    "# Get the accuracy score\n",
    "svc_acc=accuracy_score(y_test, y_pred)*100\n",
    "svc_pre=precision_score(y_test, y_pred, average='micro')\n",
    "svc_recall=recall_score(y_test, y_pred, average='micro')\n",
    "svc_f1_=f1_score(y_test, y_pred, average='micro')\n",
    "\n",
    "print(\"\\nSVM - Accuracy: {:.3f}.\".format(svc_acc))\n",
    "print(\"SVM - Precision: {:.3f}.\".format(svc_pre))\n",
    "print(\"SVM - Recall: {:.3f}.\".format(svc_recall))\n",
    "print(\"SVM - F1_Score: {:.3f}.\".format(svc_f1_))\n",
    "print(\"\\nClassification Report\")\n",
    "print(classification_report(y_test, y_pred))"
   ],
   "id": "b0e80e573c35a0a3",
   "outputs": [
    {
     "name": "stdout",
     "output_type": "stream",
     "text": [
      "{'C': 6, 'class_weight': 'balanced', 'gamma': 'auto', 'kernel': 'sigmoid'}\n",
      "0.8566489361702129\n",
      "\n",
      "SVM - Accuracy: 80.000.\n",
      "SVM - Precision: 0.800.\n",
      "SVM - Recall: 0.800.\n",
      "SVM - F1_Score: 0.800.\n",
      "\n",
      "Classification Report\n",
      "              precision    recall  f1-score   support\n",
      "\n",
      "           0       0.76      0.87      0.81        30\n",
      "           1       0.85      0.73      0.79        30\n",
      "\n",
      "    accuracy                           0.80        60\n",
      "   macro avg       0.81      0.80      0.80        60\n",
      "weighted avg       0.81      0.80      0.80        60\n",
      "\n"
     ]
    }
   ],
   "execution_count": 11
  },
  {
   "metadata": {},
   "cell_type": "markdown",
   "source": "### RandomSearchCV",
   "id": "f6f3ac58de5c151e"
  },
  {
   "metadata": {
    "ExecuteTime": {
     "end_time": "2024-12-14T08:04:18.828025Z",
     "start_time": "2024-12-14T08:04:18.755053Z"
    }
   },
   "cell_type": "code",
   "source": [
    "from sklearn.model_selection import RandomizedSearchCV\n",
    "from sklearn.metrics import classification_report, confusion_matrix, accuracy_score, precision_score, recall_score, f1_score\n",
    "from numpy import arange\n",
    "rand_svc= SVC()\n",
    "\n",
    "parameters = dict()\n",
    "parameters['kernel'] = ['rbf', 'poly', 'linear', 'sigmoid']\n",
    "parameters['C'] = arange(1, 10, 1)\n",
    "parameters['gamma'] = ['scale', 'auto']\n",
    "parameters['class_weight'] = ['dict', 'balanced']\n",
    "\n",
    "## Building Grid Search algorithm with cross-validation and acc score.\n",
    "\n",
    "rand_search_svc = RandomizedSearchCV(rand_svc, parameters, scoring='accuracy', cv=5)\n",
    "\n",
    "rand_search_svc.fit(X_train,y_train)\n",
    "best_parameters_svc = rand_search_svc.best_params_\n",
    "best_score_svc = rand_search_svc.best_score_\n",
    "print(best_parameters_svc)\n",
    "print(best_score_svc)\n",
    "\n",
    "y_pred = rand_search_svc.predict(X_test)\n",
    "\n",
    "# Get the accuracy score\n",
    "svc_acc=accuracy_score(y_test, y_pred)*100\n",
    "svc_pre=precision_score(y_test, y_pred, average='micro')\n",
    "svc_recall=recall_score(y_test, y_pred, average='micro')\n",
    "svc_f1_=f1_score(y_test, y_pred, average='micro')\n",
    "\n",
    "print(\"\\nSVM - Accuracy: {:.3f}.\".format(svc_acc))\n",
    "print(\"SVM - Precision: {:.3f}.\".format(svc_pre))\n",
    "print(\"SVM - Recall: {:.3f}.\".format(svc_recall))\n",
    "print(\"SVM - F1_Score: {:.3f}.\".format(svc_f1_))\n",
    "print(\"\\nClassification Report\")\n",
    "print(classification_report(y_test, y_pred))"
   ],
   "id": "f3e91a5b600bb10f",
   "outputs": [
    {
     "name": "stdout",
     "output_type": "stream",
     "text": [
      "{'kernel': 'sigmoid', 'gamma': 'scale', 'class_weight': 'balanced', 'C': 1}\n",
      "0.8310283687943262\n",
      "\n",
      "SVM - Accuracy: 83.333.\n",
      "SVM - Precision: 0.833.\n",
      "SVM - Recall: 0.833.\n",
      "SVM - F1_Score: 0.833.\n",
      "\n",
      "Classification Report\n",
      "              precision    recall  f1-score   support\n",
      "\n",
      "           0       0.78      0.93      0.85        30\n",
      "           1       0.92      0.73      0.81        30\n",
      "\n",
      "    accuracy                           0.83        60\n",
      "   macro avg       0.85      0.83      0.83        60\n",
      "weighted avg       0.85      0.83      0.83        60\n",
      "\n"
     ]
    }
   ],
   "execution_count": 12
  }
 ],
 "metadata": {
  "kernelspec": {
   "display_name": "Python 3",
   "language": "python",
   "name": "python3"
  },
  "language_info": {
   "codemirror_mode": {
    "name": "ipython",
    "version": 2
   },
   "file_extension": ".py",
   "mimetype": "text/x-python",
   "name": "python",
   "nbconvert_exporter": "python",
   "pygments_lexer": "ipython2",
   "version": "2.7.6"
  }
 },
 "nbformat": 4,
 "nbformat_minor": 5
}
