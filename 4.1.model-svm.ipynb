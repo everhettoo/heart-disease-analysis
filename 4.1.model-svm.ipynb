{
 "cells": [
  {
   "cell_type": "code",
   "id": "initial_id",
   "metadata": {
    "collapsed": true,
    "ExecuteTime": {
     "end_time": "2024-12-07T08:26:31.483693Z",
     "start_time": "2024-12-07T08:26:31.480883Z"
    }
   },
   "source": [
    "import numpy as np\n",
    "import matplotlib.pyplot as plt\n",
    "import pandas as pd\n",
    "import seaborn as sns\n",
    "from sklearn.svm import SVC\n",
    "from sklearn.preprocessing import StandardScaler\n",
    "import warnings\n",
    "warnings.filterwarnings(\"ignore\")"
   ],
   "outputs": [],
   "execution_count": 24
  },
  {
   "metadata": {
    "ExecuteTime": {
     "end_time": "2024-12-07T08:26:33.433741Z",
     "start_time": "2024-12-07T08:26:33.420128Z"
    }
   },
   "cell_type": "code",
   "source": [
    "data = pd.read_csv('data/uci-heart-disease/cleveland-cleaned.csv')\n",
    "data"
   ],
   "id": "6bc7d0848f876e6b",
   "outputs": [
    {
     "data": {
      "text/plain": [
       "      age  sex   cp  trestbps   chol  fbs  restecg  thalach  exang  oldpeak  \\\n",
       "0    63.0  1.0  1.0     145.0  233.0  1.0      2.0    150.0    0.0      2.3   \n",
       "1    67.0  1.0  4.0     160.0  286.0  0.0      2.0    108.0    1.0      1.5   \n",
       "2    67.0  1.0  4.0     120.0  229.0  0.0      2.0    129.0    1.0      2.6   \n",
       "3    37.0  1.0  3.0     130.0  250.0  0.0      0.0    187.0    0.0      3.5   \n",
       "4    41.0  0.0  2.0     130.0  204.0  0.0      2.0    172.0    0.0      1.4   \n",
       "..    ...  ...  ...       ...    ...  ...      ...      ...    ...      ...   \n",
       "292  57.0  0.0  4.0     140.0  241.0  0.0      0.0    123.0    1.0      0.2   \n",
       "293  45.0  1.0  1.0     110.0  264.0  0.0      0.0    132.0    0.0      1.2   \n",
       "294  68.0  1.0  4.0     144.0  193.0  1.0      0.0    141.0    0.0      3.4   \n",
       "295  57.0  1.0  4.0     130.0  131.0  0.0      0.0    115.0    1.0      1.2   \n",
       "296  57.0  0.0  2.0     130.0  236.0  0.0      2.0    174.0    0.0      0.0   \n",
       "\n",
       "     slope   ca  thal  target  \n",
       "0      3.0  0.0   6.0       0  \n",
       "1      2.0  3.0   3.0       1  \n",
       "2      2.0  2.0   7.0       1  \n",
       "3      3.0  0.0   3.0       0  \n",
       "4      1.0  0.0   3.0       0  \n",
       "..     ...  ...   ...     ...  \n",
       "292    2.0  0.0   7.0       1  \n",
       "293    2.0  0.0   7.0       1  \n",
       "294    2.0  2.0   7.0       1  \n",
       "295    2.0  1.0   7.0       1  \n",
       "296    2.0  1.0   3.0       1  \n",
       "\n",
       "[297 rows x 14 columns]"
      ],
      "text/html": [
       "<div>\n",
       "<style scoped>\n",
       "    .dataframe tbody tr th:only-of-type {\n",
       "        vertical-align: middle;\n",
       "    }\n",
       "\n",
       "    .dataframe tbody tr th {\n",
       "        vertical-align: top;\n",
       "    }\n",
       "\n",
       "    .dataframe thead th {\n",
       "        text-align: right;\n",
       "    }\n",
       "</style>\n",
       "<table border=\"1\" class=\"dataframe\">\n",
       "  <thead>\n",
       "    <tr style=\"text-align: right;\">\n",
       "      <th></th>\n",
       "      <th>age</th>\n",
       "      <th>sex</th>\n",
       "      <th>cp</th>\n",
       "      <th>trestbps</th>\n",
       "      <th>chol</th>\n",
       "      <th>fbs</th>\n",
       "      <th>restecg</th>\n",
       "      <th>thalach</th>\n",
       "      <th>exang</th>\n",
       "      <th>oldpeak</th>\n",
       "      <th>slope</th>\n",
       "      <th>ca</th>\n",
       "      <th>thal</th>\n",
       "      <th>target</th>\n",
       "    </tr>\n",
       "  </thead>\n",
       "  <tbody>\n",
       "    <tr>\n",
       "      <th>0</th>\n",
       "      <td>63.0</td>\n",
       "      <td>1.0</td>\n",
       "      <td>1.0</td>\n",
       "      <td>145.0</td>\n",
       "      <td>233.0</td>\n",
       "      <td>1.0</td>\n",
       "      <td>2.0</td>\n",
       "      <td>150.0</td>\n",
       "      <td>0.0</td>\n",
       "      <td>2.3</td>\n",
       "      <td>3.0</td>\n",
       "      <td>0.0</td>\n",
       "      <td>6.0</td>\n",
       "      <td>0</td>\n",
       "    </tr>\n",
       "    <tr>\n",
       "      <th>1</th>\n",
       "      <td>67.0</td>\n",
       "      <td>1.0</td>\n",
       "      <td>4.0</td>\n",
       "      <td>160.0</td>\n",
       "      <td>286.0</td>\n",
       "      <td>0.0</td>\n",
       "      <td>2.0</td>\n",
       "      <td>108.0</td>\n",
       "      <td>1.0</td>\n",
       "      <td>1.5</td>\n",
       "      <td>2.0</td>\n",
       "      <td>3.0</td>\n",
       "      <td>3.0</td>\n",
       "      <td>1</td>\n",
       "    </tr>\n",
       "    <tr>\n",
       "      <th>2</th>\n",
       "      <td>67.0</td>\n",
       "      <td>1.0</td>\n",
       "      <td>4.0</td>\n",
       "      <td>120.0</td>\n",
       "      <td>229.0</td>\n",
       "      <td>0.0</td>\n",
       "      <td>2.0</td>\n",
       "      <td>129.0</td>\n",
       "      <td>1.0</td>\n",
       "      <td>2.6</td>\n",
       "      <td>2.0</td>\n",
       "      <td>2.0</td>\n",
       "      <td>7.0</td>\n",
       "      <td>1</td>\n",
       "    </tr>\n",
       "    <tr>\n",
       "      <th>3</th>\n",
       "      <td>37.0</td>\n",
       "      <td>1.0</td>\n",
       "      <td>3.0</td>\n",
       "      <td>130.0</td>\n",
       "      <td>250.0</td>\n",
       "      <td>0.0</td>\n",
       "      <td>0.0</td>\n",
       "      <td>187.0</td>\n",
       "      <td>0.0</td>\n",
       "      <td>3.5</td>\n",
       "      <td>3.0</td>\n",
       "      <td>0.0</td>\n",
       "      <td>3.0</td>\n",
       "      <td>0</td>\n",
       "    </tr>\n",
       "    <tr>\n",
       "      <th>4</th>\n",
       "      <td>41.0</td>\n",
       "      <td>0.0</td>\n",
       "      <td>2.0</td>\n",
       "      <td>130.0</td>\n",
       "      <td>204.0</td>\n",
       "      <td>0.0</td>\n",
       "      <td>2.0</td>\n",
       "      <td>172.0</td>\n",
       "      <td>0.0</td>\n",
       "      <td>1.4</td>\n",
       "      <td>1.0</td>\n",
       "      <td>0.0</td>\n",
       "      <td>3.0</td>\n",
       "      <td>0</td>\n",
       "    </tr>\n",
       "    <tr>\n",
       "      <th>...</th>\n",
       "      <td>...</td>\n",
       "      <td>...</td>\n",
       "      <td>...</td>\n",
       "      <td>...</td>\n",
       "      <td>...</td>\n",
       "      <td>...</td>\n",
       "      <td>...</td>\n",
       "      <td>...</td>\n",
       "      <td>...</td>\n",
       "      <td>...</td>\n",
       "      <td>...</td>\n",
       "      <td>...</td>\n",
       "      <td>...</td>\n",
       "      <td>...</td>\n",
       "    </tr>\n",
       "    <tr>\n",
       "      <th>292</th>\n",
       "      <td>57.0</td>\n",
       "      <td>0.0</td>\n",
       "      <td>4.0</td>\n",
       "      <td>140.0</td>\n",
       "      <td>241.0</td>\n",
       "      <td>0.0</td>\n",
       "      <td>0.0</td>\n",
       "      <td>123.0</td>\n",
       "      <td>1.0</td>\n",
       "      <td>0.2</td>\n",
       "      <td>2.0</td>\n",
       "      <td>0.0</td>\n",
       "      <td>7.0</td>\n",
       "      <td>1</td>\n",
       "    </tr>\n",
       "    <tr>\n",
       "      <th>293</th>\n",
       "      <td>45.0</td>\n",
       "      <td>1.0</td>\n",
       "      <td>1.0</td>\n",
       "      <td>110.0</td>\n",
       "      <td>264.0</td>\n",
       "      <td>0.0</td>\n",
       "      <td>0.0</td>\n",
       "      <td>132.0</td>\n",
       "      <td>0.0</td>\n",
       "      <td>1.2</td>\n",
       "      <td>2.0</td>\n",
       "      <td>0.0</td>\n",
       "      <td>7.0</td>\n",
       "      <td>1</td>\n",
       "    </tr>\n",
       "    <tr>\n",
       "      <th>294</th>\n",
       "      <td>68.0</td>\n",
       "      <td>1.0</td>\n",
       "      <td>4.0</td>\n",
       "      <td>144.0</td>\n",
       "      <td>193.0</td>\n",
       "      <td>1.0</td>\n",
       "      <td>0.0</td>\n",
       "      <td>141.0</td>\n",
       "      <td>0.0</td>\n",
       "      <td>3.4</td>\n",
       "      <td>2.0</td>\n",
       "      <td>2.0</td>\n",
       "      <td>7.0</td>\n",
       "      <td>1</td>\n",
       "    </tr>\n",
       "    <tr>\n",
       "      <th>295</th>\n",
       "      <td>57.0</td>\n",
       "      <td>1.0</td>\n",
       "      <td>4.0</td>\n",
       "      <td>130.0</td>\n",
       "      <td>131.0</td>\n",
       "      <td>0.0</td>\n",
       "      <td>0.0</td>\n",
       "      <td>115.0</td>\n",
       "      <td>1.0</td>\n",
       "      <td>1.2</td>\n",
       "      <td>2.0</td>\n",
       "      <td>1.0</td>\n",
       "      <td>7.0</td>\n",
       "      <td>1</td>\n",
       "    </tr>\n",
       "    <tr>\n",
       "      <th>296</th>\n",
       "      <td>57.0</td>\n",
       "      <td>0.0</td>\n",
       "      <td>2.0</td>\n",
       "      <td>130.0</td>\n",
       "      <td>236.0</td>\n",
       "      <td>0.0</td>\n",
       "      <td>2.0</td>\n",
       "      <td>174.0</td>\n",
       "      <td>0.0</td>\n",
       "      <td>0.0</td>\n",
       "      <td>2.0</td>\n",
       "      <td>1.0</td>\n",
       "      <td>3.0</td>\n",
       "      <td>1</td>\n",
       "    </tr>\n",
       "  </tbody>\n",
       "</table>\n",
       "<p>297 rows × 14 columns</p>\n",
       "</div>"
      ]
     },
     "execution_count": 25,
     "metadata": {},
     "output_type": "execute_result"
    }
   ],
   "execution_count": 25
  },
  {
   "metadata": {
    "ExecuteTime": {
     "end_time": "2024-12-07T08:26:36.229244Z",
     "start_time": "2024-12-07T08:26:36.226583Z"
    }
   },
   "cell_type": "code",
   "source": [
    "X = data.drop('target', axis=1)\n",
    "y = data['target']"
   ],
   "id": "5d57278bbe9aad0e",
   "outputs": [],
   "execution_count": 26
  },
  {
   "metadata": {
    "ExecuteTime": {
     "end_time": "2024-12-07T08:26:38.016241Z",
     "start_time": "2024-12-07T08:26:38.013213Z"
    }
   },
   "cell_type": "code",
   "source": "y",
   "id": "29009c876eaf1c83",
   "outputs": [
    {
     "data": {
      "text/plain": [
       "0      0\n",
       "1      1\n",
       "2      1\n",
       "3      0\n",
       "4      0\n",
       "      ..\n",
       "292    1\n",
       "293    1\n",
       "294    1\n",
       "295    1\n",
       "296    1\n",
       "Name: target, Length: 297, dtype: int64"
      ]
     },
     "execution_count": 27,
     "metadata": {},
     "output_type": "execute_result"
    }
   ],
   "execution_count": 27
  },
  {
   "metadata": {
    "ExecuteTime": {
     "end_time": "2024-12-07T08:26:41.455482Z",
     "start_time": "2024-12-07T08:26:41.451101Z"
    }
   },
   "cell_type": "code",
   "source": [
    "sc_X = StandardScaler()\n",
    "X = sc_X.fit_transform(X)"
   ],
   "id": "820edb119680ed99",
   "outputs": [],
   "execution_count": 28
  },
  {
   "metadata": {
    "ExecuteTime": {
     "end_time": "2024-12-07T08:27:57.309345Z",
     "start_time": "2024-12-07T08:27:57.307163Z"
    }
   },
   "cell_type": "code",
   "source": "X",
   "id": "421ed1e8341cab80",
   "outputs": [
    {
     "data": {
      "text/plain": [
       "array([[ 0.93618065,  0.69109474, -2.24062879, ...,  2.26414539,\n",
       "        -0.72197605,  0.65587737],\n",
       "       [ 1.3789285 ,  0.69109474,  0.87388018, ...,  0.6437811 ,\n",
       "         2.47842525, -0.89422007],\n",
       "       [ 1.3789285 ,  0.69109474,  0.87388018, ...,  0.6437811 ,\n",
       "         1.41162482,  1.17257652],\n",
       "       ...,\n",
       "       [ 1.48961547,  0.69109474,  0.87388018, ...,  0.6437811 ,\n",
       "         1.41162482,  1.17257652],\n",
       "       [ 0.27205887,  0.69109474,  0.87388018, ...,  0.6437811 ,\n",
       "         0.34482438,  1.17257652],\n",
       "       [ 0.27205887, -1.44697961, -1.20245913, ...,  0.6437811 ,\n",
       "         0.34482438, -0.89422007]])"
      ]
     },
     "execution_count": 32,
     "metadata": {},
     "output_type": "execute_result"
    }
   ],
   "execution_count": 32
  },
  {
   "metadata": {
    "ExecuteTime": {
     "end_time": "2024-12-07T08:28:00.820302Z",
     "start_time": "2024-12-07T08:28:00.817277Z"
    }
   },
   "cell_type": "code",
   "source": [
    "from sklearn.model_selection import train_test_split\n",
    "X_train, X_test, y_train, y_test = train_test_split(X, y, test_size = 0.20, random_state=0)"
   ],
   "id": "7082a87b3779b808",
   "outputs": [],
   "execution_count": 33
  },
  {
   "metadata": {
    "ExecuteTime": {
     "end_time": "2024-12-07T08:28:03.325220Z",
     "start_time": "2024-12-07T08:28:03.321952Z"
    }
   },
   "cell_type": "code",
   "source": "X_test[0:5]",
   "id": "94c9bc0439713a8d",
   "outputs": [
    {
     "data": {
      "text/plain": [
       "array([[-0.28137595,  0.69109474, -2.24062879, -0.77221549, -1.18185712,\n",
       "        -0.41145029,  1.01019851,  1.76399759, -0.69641941, -0.90671163,\n",
       "         0.6437811 , -0.72197605,  0.65587737],\n",
       "       [-1.38824559, -1.44697961,  0.87388018, -1.67449433,  0.34000851,\n",
       "        -0.41145029,  1.01019851, -1.20505778, -0.69641941, -0.39131765,\n",
       "         0.6437811 , -0.72197605, -0.89422007],\n",
       "       [ 0.1613719 ,  0.69109474, -0.16428947, -0.09550637,  0.16663141,\n",
       "         2.43042728,  1.01019851, -0.3318062 ,  1.43591632, -0.39131765,\n",
       "         0.6437811 ,  0.34482438,  0.65587737],\n",
       "       [ 0.49343279,  0.69109474,  0.87388018,  0.35563305,  0.45559324,\n",
       "        -0.41145029,  1.01019851,  1.41469696, -0.69641941, -0.90671163,\n",
       "        -0.97658319, -0.72197605, -0.89422007],\n",
       "       [ 0.49343279,  0.69109474, -1.20245913,  0.46841791, -0.50761285,\n",
       "        -0.41145029, -1.00341866,  0.62877054,  1.43591632, -0.90671163,\n",
       "        -0.97658319, -0.72197605, -0.89422007]])"
      ]
     },
     "execution_count": 34,
     "metadata": {},
     "output_type": "execute_result"
    }
   ],
   "execution_count": 34
  },
  {
   "metadata": {
    "ExecuteTime": {
     "end_time": "2024-12-07T08:28:09.922599Z",
     "start_time": "2024-12-07T08:28:09.919636Z"
    }
   },
   "cell_type": "code",
   "source": "y_test.head()",
   "id": "dd38769b0c17137e",
   "outputs": [
    {
     "data": {
      "text/plain": [
       "111    0\n",
       "150    0\n",
       "12     1\n",
       "216    0\n",
       "139    0\n",
       "Name: target, dtype: int64"
      ]
     },
     "execution_count": 35,
     "metadata": {},
     "output_type": "execute_result"
    }
   ],
   "execution_count": 35
  },
  {
   "metadata": {
    "ExecuteTime": {
     "end_time": "2024-12-07T08:28:15.066540Z",
     "start_time": "2024-12-07T08:28:15.056378Z"
    }
   },
   "cell_type": "code",
   "source": [
    "from sklearn.metrics import classification_report, confusion_matrix, accuracy_score\n",
    "svc= SVC()\n",
    "svc.fit(X_train, y_train)\n",
    "y_p = svc.predict(X_test)\n",
    "acc=accuracy_score(y_test, y_p)*100\n",
    "print(\"SVM - Accuracy: {:.3f}.\".format(acc))\n",
    "print(\"\\nClassification Report\")\n",
    "print(classification_report(y_test, y_p))"
   ],
   "id": "df9653b9f8344efb",
   "outputs": [
    {
     "name": "stdout",
     "output_type": "stream",
     "text": [
      "SVM - Accuracy: 83.333.\n",
      "\n",
      "Classification Report\n",
      "              precision    recall  f1-score   support\n",
      "\n",
      "           0       0.78      0.93      0.85        30\n",
      "           1       0.92      0.73      0.81        30\n",
      "\n",
      "    accuracy                           0.83        60\n",
      "   macro avg       0.85      0.83      0.83        60\n",
      "weighted avg       0.85      0.83      0.83        60\n",
      "\n"
     ]
    }
   ],
   "execution_count": 36
  },
  {
   "metadata": {
    "ExecuteTime": {
     "end_time": "2024-12-07T08:28:42.455576Z",
     "start_time": "2024-12-07T08:28:32.586883Z"
    }
   },
   "cell_type": "code",
   "source": [
    "from sklearn.model_selection import GridSearchCV\n",
    "from sklearn.metrics import classification_report, confusion_matrix, accuracy_score, precision_score, recall_score, f1_score\n",
    "from numpy import arange\n",
    "grid_svc= SVC()\n",
    "\n",
    "parameters = dict()\n",
    "parameters['kernel'] = ['rbf', 'poly', 'linear', 'sigmoid']\n",
    "parameters['C'] = arange(1, 10, 1)\n",
    "parameters['gamma'] = ['scale', 'auto']\n",
    "parameters['class_weight'] = ['dict', 'balanced']\n",
    "\n",
    "## Building Grid Search algorithm with cross-validation and acc score.\n",
    "\n",
    "grid_search_svc = GridSearchCV(grid_svc, parameters, scoring='accuracy', cv=5, n_jobs=-1)\n",
    "\n",
    "grid_search_svc.fit(X_train,y_train)\n",
    "best_parameters_svc = grid_search_svc.best_params_\n",
    "best_score_svc = grid_search_svc.best_score_\n",
    "print(best_parameters_svc)\n",
    "print(best_score_svc)\n",
    "\n",
    "y_pred = grid_search_svc.predict(X_test)\n",
    "\n",
    "# Get the accuracy score\n",
    "svc_acc=accuracy_score(y_test, y_pred)*100\n",
    "svc_pre=precision_score(y_test, y_pred, average='micro')\n",
    "svc_recall=recall_score(y_test, y_pred, average='micro')\n",
    "svc_f1_=f1_score(y_test, y_pred, average='micro')\n",
    "\n",
    "print(\"\\nSVM - Accuracy: {:.3f}.\".format(svc_acc))\n",
    "print(\"SVM - Precision: {:.3f}.\".format(svc_pre))\n",
    "print(\"SVM - Recall: {:.3f}.\".format(svc_recall))\n",
    "print(\"SVM - F1_Score: {:.3f}.\".format(svc_f1_))\n",
    "print(\"\\nClassification Report\")\n",
    "print(classification_report(y_test, y_pred))"
   ],
   "id": "b0e80e573c35a0a3",
   "outputs": [
    {
     "name": "stdout",
     "output_type": "stream",
     "text": [
      "{'C': 6, 'class_weight': 'balanced', 'gamma': 'auto', 'kernel': 'sigmoid'}\n",
      "0.8566489361702129\n",
      "\n",
      "SVM - Accuracy: 80.000.\n",
      "SVM - Precision: 0.800.\n",
      "SVM - Recall: 0.800.\n",
      "SVM - F1_Score: 0.800.\n",
      "\n",
      "Classification Report\n",
      "              precision    recall  f1-score   support\n",
      "\n",
      "           0       0.76      0.87      0.81        30\n",
      "           1       0.85      0.73      0.79        30\n",
      "\n",
      "    accuracy                           0.80        60\n",
      "   macro avg       0.81      0.80      0.80        60\n",
      "weighted avg       0.81      0.80      0.80        60\n",
      "\n"
     ]
    }
   ],
   "execution_count": 37
  },
  {
   "metadata": {},
   "cell_type": "code",
   "source": "",
   "id": "f3e91a5b600bb10f",
   "outputs": [],
   "execution_count": null
  }
 ],
 "metadata": {
  "kernelspec": {
   "display_name": "Python 3",
   "language": "python",
   "name": "python3"
  },
  "language_info": {
   "codemirror_mode": {
    "name": "ipython",
    "version": 2
   },
   "file_extension": ".py",
   "mimetype": "text/x-python",
   "name": "python",
   "nbconvert_exporter": "python",
   "pygments_lexer": "ipython2",
   "version": "2.7.6"
  }
 },
 "nbformat": 4,
 "nbformat_minor": 5
}
