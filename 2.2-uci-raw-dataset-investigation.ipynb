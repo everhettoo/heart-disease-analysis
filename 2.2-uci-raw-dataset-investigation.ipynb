{
 "cells": [
  {
   "metadata": {},
   "cell_type": "markdown",
   "source": [
    "# Objective\n",
    "We found out from [processed-dataset-investigation](2.1-uci-processed-dataset-investigation.ipynb) that 99% data from processed files (supplied by UCI database) has missing values in the following datasets:\n",
    "- Long Beach (VA) `processed.va.data`\n",
    "- Hungarian `processed.hungarian.data`\n",
    "- Switzerland `processed.switzerland.data`\n",
    "\n",
    "Since we were unable to recover from the processed data files, we are going to attempt recovery from the original (raw) data files:\n",
    "- Long Beach (VA) `long-beach-va.data`\n",
    "- Hungarian `hungarian.data`\n",
    "- Switzerland `switzerland.data`\n",
    "\n"
   ],
   "id": "1febac6dc36863f2"
  },
  {
   "metadata": {
    "ExecuteTime": {
     "end_time": "2024-12-24T06:14:48.368399Z",
     "start_time": "2024-12-24T06:14:48.235047Z"
    }
   },
   "cell_type": "code",
   "source": [
    "# After the original dataset was downloaded, few files are extracted in the `/heart-disease` directory.\n",
    "# To investigate the contents of the dataset, the `cat` cmd is used on `Index` file.\n",
    "!cat data/uci-heart-disease/Index"
   ],
   "id": "5cc4224ae5ccd9df",
   "outputs": [
    {
     "name": "stdout",
     "output_type": "stream",
     "text": [
      "Index of heart-disease\r\n",
      "\r\n",
      "02 Dec 1996      644 Index\r\n",
      "02 Dec 1996      dir costs\r\n",
      "23 Jul 1996    11058 reprocessed.hungarian.data\r\n",
      "14 Aug 1991     6737 bak\r\n",
      "14 Aug 1991    10263 processed.hungarian.data\r\n",
      "14 Aug 1991     4109 processed.switzerland.data\r\n",
      "14 Aug 1991     6737 processed.va.data\r\n",
      "20 Jul 1990   389771 new.data\r\n",
      "06 Jun 1990    10060 heart-disease.names\r\n",
      "15 Mar 1990      587 ask-detrano\r\n",
      "15 Mar 1990    62192 hungarian.data\r\n",
      "13 Mar 1990    23941 cleve.mod\r\n",
      "06 Mar 1990    18461 processed.cleveland.data\r\n",
      "31 Jan 1990      407 WARNING\r\n",
      "31 Jan 1990    60669 cleveland.data\r\n",
      "30 May 1989    39892 long-beach-va.data\r\n",
      "30 May 1989    24674 switzerland.data\r\n"
     ]
    }
   ],
   "execution_count": 1
  },
  {
   "metadata": {
    "ExecuteTime": {
     "end_time": "2024-12-24T06:16:32.037932Z",
     "start_time": "2024-12-24T06:16:31.910130Z"
    }
   },
   "cell_type": "code",
   "source": [
    "# Upon investigating each files, it was discovered that the `cleveland.data` (original raw) file got corrupted\n",
    "# during upload and became beyond recoverable. This was mentioned in the `WARNING` file.\n",
    "!cat data/uci-heart-disease/WARNING"
   ],
   "id": "35339eb22980b95c",
   "outputs": [
    {
     "name": "stdout",
     "output_type": "stream",
     "text": [
      "The file cleveland.data has been unfortunately messed up when we lost\r\n",
      "node cip2 and loaded the file on node ics.  The file processed.cleveland.data\r\n",
      "seems to be in good shape and is useable (for the 14 attributes situation).\r\n",
      "I'll clean up cleveland.data as soon as possible.\r\n",
      "\r\n",
      "Bad news: my original copy of the database appears to be corrupted.\r\n",
      "I'll have to go back to the donor to get a new copy.\r\n",
      "\r\n",
      "David Aha\r\n"
     ]
    }
   ],
   "execution_count": 2
  },
  {
   "metadata": {
    "ExecuteTime": {
     "end_time": "2024-12-24T06:19:57.604858Z",
     "start_time": "2024-12-24T06:19:57.475311Z"
    }
   },
   "cell_type": "code",
   "source": [
    "# Let's use command linux commands to investigate the files. Alternatively, if Windows Subsystem for Linux\n",
    "# (WSL) was installed on Windows, the same command can be used.\n",
    "\n",
    "# Let's investigate the type of data the file contains.\n",
    "!file -I data/uci-heart-disease/cleveland.data"
   ],
   "id": "9ef4e3e665e2c4ba",
   "outputs": [
    {
     "name": "stdout",
     "output_type": "stream",
     "text": [
      "data/uci-heart-disease/cleveland.data: application/octet-stream; charset=binary\r\n"
     ]
    }
   ],
   "execution_count": 5
  },
  {
   "metadata": {
    "ExecuteTime": {
     "end_time": "2024-12-24T06:30:12.105368Z",
     "start_time": "2024-12-24T06:30:11.976528Z"
    }
   },
   "cell_type": "code",
   "source": [
    "# The 'cleveland.data' file indicates 'octet-stream' protocol was used to upload (transfer) with charset=binary for encoding.\n",
    "\n",
    "# Let's investigate further by peeking into the file content - the first 100 lines.\n",
    "!head -n 100 data/uci-heart-disease/cleveland.data"
   ],
   "id": "2e54b800061afe06",
   "outputs": [
    {
     "name": "stdout",
     "output_type": "stream",
     "text": [
      "1 0 63 1 -9 -9 -9\r\n",
      "-9 1 145 1 233 -9 50 20\r\n",
      "1 -9 1 2 2 3 81 0\r\n",
      "0 0 0 0 1 10.5 6 13\r\n",
      "150 60 190 90 145 85 0 0\r\n",
      "2.3 3 -9 172 0 -9 -9 -9\r\n",
      "-9 -9 -9 6 -9 -9 -9 2\r\n",
      "16 81 0 1 1 1 -9 1\r\n",
      "-9 1 -9 1 1 1 1 1\r\n",
      "1 1 -9 -9 name\r\n",
      "2 0 67 1 -9 -9 -9\r\n",
      "-9 4 160 1 286 -9 40 40\r\n",
      "0 -9 1 2 3 5 81 0\r\n",
      "1 0 0 0 1 9.5 6 13\r\n",
      "108 64 160 90 160 90 1 0\r\n",
      "1.5 2 -9 185 3 -9 -9 -9\r\n",
      "-9 -9 -9 3 -9 -9 -9 2\r\n",
      "5 81 2 1 2 2 -9 2\r\n",
      "-9 1 -9 1 1 1 1 1\r\n",
      "1 1 -9 -9 name\r\n",
      "3 0 67 1 -9 -9 -9\r\n",
      "-9 4 120 1 229 -9 20 35\r\n",
      "0 -9 1 2 2 19 81 0\r\n",
      "1 0 0 0 1 8.5 6 10\r\n",
      "129 78 140 80 120 80 1 0\r\n",
      "2.6 2 -9 150 2 -9 -9 -9\r\n",
      "-9 -9 -9 7 -9 -9 -9 2\r\n",
      "20 81 1 1 1 1 -9 1\r\n",
      "-9 1 -9 2 2 1 1 1\r\n",
      "7 3 -9 -9 name\r\n",
      "4 0 37 1 -9 -9 -9\r\n",
      "-9 3 130 0 250 -9 0 0\r\n",
      "0 -9 1 0 2 13 81 0\r\n",
      "1 0 0 0 1 13 13 17\r\n",
      "187 84 195 68 130 78 0 0\r\n",
      "3.5 3 -9 167 0 -9 -9 -9\r\n",
      "-9 -9 -9 3 -9 -9 -9 2\r\n",
      "4 81 0 1 1 1 -9 1\r\n",
      "-9 1 -9 1 1 1 1 1\r\n",
      "1 1 -9 -9 name\r\n",
      "6 0 41 0 -9 -9 -9\r\n",
      "-9 2 130 1 204 -9 0 0\r\n",
      "0 -9 1 2 2 7 81 0\r\n",
      "0 0 0 0 1 7 -9 9\r\n",
      "172 71 160 74 130 86 0 0\r\n",
      "1.4 1 -9 40 0 -9 -9 -9\r\n",
      "-9 -9 -9 3 -9 -9 -9 2\r\n",
      "18 81 0 1 1 1 -9 1\r\n",
      "-9 1 -9 1 1 1 1 1\r\n",
      "1 1 -9 -9 name\r\n",
      "7 0 56 1 -9 -9 -9\r\n",
      "-9 2 120 1 236 -9 20 20\r\n",
      "0 -9 1 0 3 9 81 1\r\n",
      "0 0 0 0 1 11.3 -9 16\r\n",
      "178 73 165 70 120 75 0 0\r\n",
      "0.8 1 -9 127 0 -9 -9 -9\r\n",
      "-9 -9 -9 3 -9 -9 -9 3\r\n",
      "10 81 0 1 1 1 -9 1\r\n",
      "-9 1 -9 1 1 1 1 1\r\n",
      "1 1 -9 -9 name\r\n",
      "8 0 62 0 -9 -9 -9\r\n",
      "-9 4 140 0 268 -9 0 0\r\n",
      "0 -9 1 2 1 28 81 0\r\n",
      "0 0 0 0 1 6 6 7\r\n",
      "160 83 180 84 140 100 0 0\r\n",
      "3.6 3 -9 122 2 -9 -9 -9\r\n",
      "-9 -9 -9 3 -9 -9 -9 2\r\n",
      "2 81 3 1 2 1 -9 1\r\n",
      "-9 2 -9 2 1 1 1 1\r\n",
      "7 1 -9 -9 name\r\n",
      "9 0 57 0 -9 -9 -9\r\n",
      "-9 4 120 1 354 -9 0 0\r\n",
      "0 -9 1 0 7 20 81 0\r\n",
      "0 0 0 0 1 9 6 10\r\n",
      "163 84 165 80 120 80 1 0\r\n",
      "0.6 1 -9 122 0 -9 -9 -9\r\n",
      "-9 -9 -9 3 -9 -9 -9 7\r\n",
      "21 81 0 1 1 1 -9 1\r\n",
      "-9 1 -9 1 1 1 1 1\r\n",
      "1 1 -9 -9 name\r\n",
      "10 0 63 1 -9 -9 -9\r\n",
      "-9 4 130 1 254 -9 0 0\r\n",
      "0 -9 0 2 7 2 81 0\r\n",
      "1 1 0 0 1 8 8 9\r\n",
      "147 75 120 70 130 105 0 0\r\n",
      "1.4 2 -9 75 1 -9 -9 -9\r\n",
      "-9 -9 -9 7 -9 -9 -9 7\r\n",
      "3 81 2 1 2 1 -9 1\r\n",
      "-9 1 -9 2 1 1 1 6\r\n",
      "7 2 -9 -9 name\r\n",
      "11 0 53 1 -9 -9 -9\r\n",
      "-9 4 140 0 203 -9 20 25\r\n",
      "1 -9 1 2 7 3 81 0\r\n",
      "1 0 0 1 1 5.5 3 7\r\n",
      "155 86 185 120 140 100 1 0\r\n",
      "3.1 3 -9 68 0 -9 -9 -9\r\n",
      "-9 -9 -9 7 -9 -9 -9 7\r\n",
      "6 81 1 1 1 1 -9 1\r\n",
      "-9 1 -9 2 1 1 1 1\r\n",
      "1 1 -9 -9 name\r\n"
     ]
    }
   ],
   "execution_count": 7
  },
  {
   "metadata": {
    "ExecuteTime": {
     "end_time": "2024-12-24T06:33:03.892310Z",
     "start_time": "2024-12-24T06:33:03.762210Z"
    }
   },
   "cell_type": "code",
   "source": [
    "# The top 100 lines appears in ascii format though the 'file' cmd indicated it as a binary data file.\n",
    "# Let's investigate further: peeking the last 100 lines in the file.\n",
    "!tail -n 100 data/uci-heart-disease/cleveland.data"
   ],
   "id": "dbd5c2d0ef86da72",
   "outputs": [
    {
     "name": "stdout",
     "output_type": "stream",
     "text": [
      "-21 1 1 1 1\r\n",
      "1 1 1\r\n",
      "1 1 -9 -9 n1 1 1\r\n",
      "1 1 -9 -9 n1\u0000\u000010 0 0 1 50 0 0 1 5020 0 -9-9 20  1 -9 -9 -9\r\n",
      "-9 3 1382 -9-9 9\r\n",
      "-9 9\r\n",
      "- 84 0 1  84 0 1  3 -9 2050 701 0 1 01 0 1 01-9 -9 -9\r\n",
      "-9 4 136-9 -9 -9\r\n",
      "-9 4 136-9\r\n",
      "1 9\r\n",
      "1 92 -9 1 2 1 10 81 0 0 81 0 0\u0000\u0000060 360 36\u0000\u000067.5 3.2 09 7 -9 7 -9\u0000\u0000980 1 0\r\n",
      "0 1\r\n",
      "1 1 -7 177 177\u0000\u000070 0\r\n",
      "0.2 0 0\r\n",
      "0.2 0 24 81 0 0 01 0 0 01\u0000\u000015 -9 5 1 1 1\r\n",
      "1 1 - 1 -9 1 1 1 1 1\r\n",
      "1 10 80 10 80 10-9 3 --9 3 --\u0000\u0000-60 60 60 13\u0000\u0000\u0000 0 1  0 1  \u0000\u0000 \u0000\u0000\u0000 1 1\r\n",
      "1 1 -9 7\r\n",
      "117\r\n",
      "1174 0 13 12\r\n",
      "4 11 -9 -9 -9\r\n",
      "-9 -9 -9 3 -9 -9 -9 1 -9 1\r\n",
      "-9 0 55  0 55  \u0000\u0000 -9 0 2 19 -9\r\n",
      "-9 4 130 5 0 -9 -9 -8 808 808 30\r\n",
      "0  -9 -9 12\r\n",
      "6 2 1 1 1\r\n",
      "7 2 1 1 1\r\n",
      "7  1 32<<<\u0000\u0000<\r\n",
      "5  26705 64 1 -9  6\r\n",
      "891 0�40 0 1940 0 194 2 -9 22 2 -9 22 \u0000\u0000 \u0000\u0000 \u0000\u0000 \u0000\u0000\u0000\u0000 60 0  60 0  \u0000\u0000 2116 3 -93 1 -9 -9 n\r\n",
      "-9 1 -9 1 1 1 1 1\r\n",
      "90 0 -90 0 -92 80 1 1 0 18 1585 15 -9 7 -9 -70 1070 107e\r\n",
      "fff -9 -9 name\r\n",
      "89 81 0 1  81 0 1  \u0000\u0000 7 17 name\r\n",
      "23 name\r\n",
      "23 \u0000\u0000  15 1 1 -9 -9 -9\r\n",
      "-9 -7 2449494811 1 12 1282 1282\u0000\u00002-9 -9 -9 3 -0 1450 1450\u0000\u00005 8626 84 --9 name\r\n",
      "75-9 name\r\n",
      "75-\u0000\u0000-\u0000\u0000\u000058 8658 865\u0000\u00005\u0000\u0000\u00004 1 2 0\r\n",
      "3 -9 5-9 5--9 name\r\n",
      "81 6 2 1 2 1 0 -9 0 0 125 2 1 -9 10 1 -9 10 \u0000\u0000 7 67 671\r\n",
      "-9 1 -66 66 6\u0000\u00006\u0000\u0000\u00009 1 -9 1 1 1 9 1 -9 1 1 1 9\u0000\u000099.6 1 -9 -9 26 8426 8422 1 -9 -9 -9 -9\r\n",
      "-9 -9 -9 7 -9 3 -9 83 -9 830 0\r\n",
      "0.2 00 0\r\n",
      "0.2 00\u0000\u0000\u0000\u0000\u0000\u0000\u00000 1 9  -9 1014 685 3 3539 0 680 0\r\n",
      "0 0\r\n",
      "06363660 1 23\u0000\u0000\u00003 7\r\n",
      "14-9 -9 -9 12\r\n",
      "1-9 20-9 20-\u0000\u0000-\u0000\u0000\u000051 0 541 -9 1\r\n",
      "-9  62 133 13  81 0 1 81 0 1 9 3 9 3 94 1\r\n",
      "4 1\r\n",
      "4\u0000\u000042242242\u0000\u000028 1 111\r\n",
      "182 1355 0 465 0 4659 1 -9 2081 681 6880 71 1 1 1\r\n",
      "1 1 -9 1 1 1 1\r\n",
      "1 1 -9 1-9 -9 -9 3 -0-9 -9 -9 12\r\n",
      "89 169 169\u0000\u00009\u0000\u0000\u0000 -9 name\r\n",
      "12 2829 8229 8223 13 0 0 0 1 70 0 0 1 707\r\n",
      "167\r\n",
      "16781 481 487 854 1 2 9 12 9 12\u0000\u00002-9 1\r\n",
      "-9 1 -9 2 158 658 65\u0000\u00005.7 9 3 -9 -99 3 -9 -99 1 -9 -9 name\r\n",
      "237\r\n",
      "1116 83 16 83 1\u0000\u000011 1 6  125 125 \u0000\u0000  -9 10\r\n",
      "17 40  40  1 1 1 1 1\r\n",
      "1 11 1 1 1 1\r\n",
      "1 11\u0000\u00001\u0000\u0000\u0000\u0000\u0000\u00000\r\n",
      "0 -9 1 2 1 -9 0 27\r\n",
      "111 1 -9 -9 -9\r\n",
      "-9 4 3 85 3 85 3\u0000\u00003\u0000\u0000\u0000 1\r\n",
      "-9 1 -9 1 1\r\n",
      "-9 1 -9 1  81 0 1 1 1 - 81 0 1 1 1 -  81 04 1084 1084\u0000\u0000400 1100 110\u0000\u0000040e\r\n",
      "4650 12 80 0 0 70 0 -9 -9 103 0 -9 -9 -9\r\n",
      "3 0 -9 -9 -9\r\n",
      "3\u0000\u00003\u0000\u0000\u00000\r\n",
      "0 -9 1 0 1 1 1 - 234\r\n",
      "11 80 0\r\n",
      "0 -1 -9 1 04 0 -9 -9 \r\n",
      "23 89 -9 -9 6\r\n",
      "9 -9 -9 6\r\n",
      "94 1 -9 -9 -9\r\n",
      "-9 357 -57 -51 1 -9 1 1 1\r\n",
      "1 1 1 1 1\r\n",
      "1 1 1 -9 1 1 1 1 1\r\n",
      "1 1 -9 -90 0\r\n",
      "0 1 -4 729 1\r\n",
      "-9 1 -9 1 1 1 1 19 1\r\n",
      "-9 1 -9 1 1 1 1 19 2 1 0\r\n",
      "0 - 0\r\n",
      "0 - \r\n",
      "23 8\r\n",
      "13165 0 -965 0 -96\u0000\u00006 1 -9 -9 -9\r\n",
      "-9 3 138 81 0\r\n",
      "1 0 0.7 -9 -9 name\r\n",
      "9-9 -9 name\r\n",
      "9-\u0000\u0000-5 2 -9 26 -26 -2\u0000\u00002\u0000\u0000\u00006 0 -9 -6 0 -9 -6\u0000\u00006\u0000\u0000\u0000\u0000\u0000\u00009 0 6584 0\r\n",
      "1 84 0\r\n",
      "1 8\u0000\u000088 -9 4016 8216 8216 788 0 -9 -9 -9\r\n",
      "-0 0 0 1 9 -9 130 80 0 130 80 0 1\u0000\u00001\r\n",
      "-9 3 1h9 1 -9 -9 -9\r\n",
      "-9 3\u0000\u0000 -9 -9 -9\r\n",
      "-9 -9 -9 3 -9 -4 1 1"
     ]
    }
   ],
   "execution_count": 8
  },
  {
   "metadata": {
    "ExecuteTime": {
     "end_time": "2024-12-24T06:36:59.985744Z",
     "start_time": "2024-12-24T06:36:59.602067Z"
    }
   },
   "cell_type": "code",
   "source": [
    "# Though the first half of `cleveland.data` file seem in `ascii` format, the tail of the file appears\n",
    "# in binary encoding. This can be observed with gibberish data printed out (above).\n",
    "\n",
    "\n",
    "# Only 'cleveland.data' file was mentioned as corrupted in 'WARNING' file.\n",
    "# Let check the other files if they are okay using the 'file' cmd.\n",
    "!file -I data/uci-heart-disease/long-beach-va.data\n",
    "!file -I data/uci-heart-disease/hungarian.data\n",
    "!file -I data/uci-heart-disease/switzerland.data"
   ],
   "id": "a118dd00ee5612cf",
   "outputs": [
    {
     "name": "stdout",
     "output_type": "stream",
     "text": [
      "data/uci-heart-disease/long-beach-va.data: text/plain; charset=us-ascii\r\n",
      "data/uci-heart-disease/hungarian.data: text/plain; charset=us-ascii\r\n",
      "data/uci-heart-disease/switzerland.data: text/plain; charset=us-ascii\r\n"
     ]
    }
   ],
   "execution_count": 9
  },
  {
   "metadata": {},
   "cell_type": "markdown",
   "source": [
    "### Conclusion:\n",
    "Only the `cleveland.data` file appears corrupted (as mentioned in WARNING file).\n",
    "\n",
    "The other files (listed below) appears okay and can be processed for recovery:\n",
    "- Long Beach (VA) `long-beach-va.data`\n",
    "- Hungarian `hungarian.data`\n",
    "- Switzerland `switzerland.data`\n",
    "\n",
    "The raw data file are processed here [raw data preprocessing](2.2-uci-raw-dataset-investigation.ipynb)"
   ],
   "id": "cbca5221698a819d"
  },
  {
   "metadata": {},
   "cell_type": "code",
   "source": "",
   "id": "36795f57afcc4c94",
   "outputs": [],
   "execution_count": null
  },
  {
   "metadata": {},
   "cell_type": "code",
   "source": [
    "# All required libraries.\n",
    "import pandas as pd\n",
    "import matplotlib.pyplot as plt;\n",
    "import seaborn as sns;\n",
    "from custom_libs import helper\n",
    "from importlib import reload\n",
    "import numpy as np"
   ],
   "id": "9777575d384fd7b3",
   "outputs": [],
   "execution_count": null
  },
  {
   "metadata": {},
   "cell_type": "markdown",
   "source": "# Long Beach (VA)",
   "id": "66c0ac3b6916bb60"
  },
  {
   "metadata": {},
   "cell_type": "code",
   "source": [
    "# The recovered dataset has 76 original columns.\n",
    "raw_data = pd.read_csv('data/uci-heart-disease/recovered-va.data')\n",
    "raw_data.head(5)"
   ],
   "id": "d1df3fc095782671",
   "outputs": [],
   "execution_count": null
  },
  {
   "metadata": {},
   "cell_type": "code",
   "source": [
    "header =['age','sex','cp','trestbps','chol','fbs','restecg','thalach','exang','oldpeak','slope','ca','thal','num']\n",
    "data = raw_data[header]\n",
    "# 303 records and 14 columns.\n",
    "data.head(5)"
   ],
   "id": "64169d724cdd2474",
   "outputs": [],
   "execution_count": null
  },
  {
   "metadata": {},
   "cell_type": "code",
   "source": [
    "# 200 records found.\n",
    "data.shape"
   ],
   "id": "2a97255520d4be0f",
   "outputs": [],
   "execution_count": null
  },
  {
   "metadata": {},
   "cell_type": "code",
   "source": [
    "# In the uci-processed-dataset-investigation notebook we saw the following features was missing.\n",
    "# object: ['trestbps', 'chol', 'fbs', 'thalach', 'exang', 'oldpeak', 'slope', 'ca', 'thal']\n",
    "# In the processed file the missing value was marked as '?', while in the raw file it was marked as -9.\n",
    "invalid_data = data[(data['trestbps']==-9)\n",
    "      |(data['chol']==-9)\n",
    "      |(data['fbs']==-9)\n",
    "      |(data['thalach']==-9)\n",
    "      |(data['exang']==-9)\n",
    "      |(data['oldpeak']==-9)\n",
    "      |(data['slope']==-9)\n",
    "      |(data['ca']==-9)\n",
    "      |(data['thal']==-9)\n",
    " ]\n",
    "\n",
    "# Records with invalid data => 200 - 199 = 1 (Balance one that can be salvaged)\n",
    "invalid_data.shape"
   ],
   "id": "5b6b5242d0fc4f4d",
   "outputs": [],
   "execution_count": null
  },
  {
   "metadata": {},
   "cell_type": "code",
   "source": [
    "# Dropping the invalid data and salvaging the valid one(s).\n",
    "data.drop(invalid_data.index, inplace=True)\n",
    "valid_data = data\n",
    "valid_data"
   ],
   "id": "904a03301a537f21",
   "outputs": [],
   "execution_count": null
  },
  {
   "metadata": {},
   "cell_type": "markdown",
   "source": "# Hungarian",
   "id": "e31ceea70acddaa1"
  },
  {
   "metadata": {},
   "cell_type": "code",
   "source": [
    "# The recovered dataset has 76 original columns.\n",
    "raw_data = pd.read_csv('data/uci-heart-disease/recovered-hungarian.data')\n",
    "raw_data.head(5)"
   ],
   "id": "a658645413a405db",
   "outputs": [],
   "execution_count": null
  },
  {
   "metadata": {},
   "cell_type": "code",
   "source": [
    "header =['age','sex','cp','trestbps','chol','fbs','restecg','thalach','exang','oldpeak','slope','ca','thal','num']\n",
    "data = raw_data[header]\n",
    "# 303 records and 14 columns.\n",
    "data.head(5)"
   ],
   "id": "4cc11fad5bac521e",
   "outputs": [],
   "execution_count": null
  },
  {
   "metadata": {},
   "cell_type": "code",
   "source": [
    "# 294 records found.\n",
    "data.shape"
   ],
   "id": "e41d876eeccc7601",
   "outputs": [],
   "execution_count": null
  },
  {
   "metadata": {},
   "cell_type": "code",
   "source": [
    "# In the uci-processed-dataset-investigation notebook we saw the following features was missing.\n",
    "# object: ['trestbps', 'chol', 'fbs', 'restecg', 'thalach', 'exang', 'slope', 'ca', 'thal']}\n",
    "# In the processed file the missing value was marked as '?', while in the raw file it was marked as -9.\n",
    "invalid_data = data[(data['trestbps']==-9)\n",
    "      |(data['chol']==-9)\n",
    "      |(data['fbs']==-9)\n",
    "      |(data['restecg']==-9)\n",
    "      |(data['thalach']==-9)\n",
    "      |(data['exang']==-9)\n",
    "      |(data['slope']==-9)\n",
    "      |(data['ca']==-9)\n",
    "      |(data['thal']==-9)\n",
    " ]\n",
    "\n",
    "# Records with invalid data => 294 - 293 = 1 (Balance one that can be salvaged)\n",
    "invalid_data.shape"
   ],
   "id": "ee8a18df568008b5",
   "outputs": [],
   "execution_count": null
  },
  {
   "metadata": {},
   "cell_type": "code",
   "source": [
    " # Dropping the invalid data and salvaging the valid one(s).\n",
    "data.drop(invalid_data.index, inplace=True)\n",
    "tmp = data\n",
    "tmp"
   ],
   "id": "30c4328e610f9b39",
   "outputs": [],
   "execution_count": null
  },
  {
   "metadata": {},
   "cell_type": "code",
   "source": [
    "valid_data = pd.concat([valid_data, tmp], ignore_index=True)\n",
    "# valid_data.reset_index(drop=True, inplace=True)\n",
    "valid_data"
   ],
   "id": "7be6599d9d91e786",
   "outputs": [],
   "execution_count": null
  },
  {
   "metadata": {},
   "cell_type": "markdown",
   "source": "# Switzerland",
   "id": "f81db35eca1e84b5"
  },
  {
   "metadata": {},
   "cell_type": "code",
   "source": [
    "# The recovered dataset has 76 original columns.\n",
    "raw_data = pd.read_csv('data/uci-heart-disease/recovered-switzerland.data')\n",
    "raw_data.head(5)"
   ],
   "id": "47e954e5db4b96a1",
   "outputs": [],
   "execution_count": null
  },
  {
   "metadata": {},
   "cell_type": "code",
   "source": [
    "header =['age','sex','cp','trestbps','chol','fbs','restecg','thalach','exang','oldpeak','slope','ca','thal','num']\n",
    "data = raw_data[header]\n",
    "# 303 records and 14 columns.\n",
    "data.head(5)"
   ],
   "id": "bb609bda91203ec6",
   "outputs": [],
   "execution_count": null
  },
  {
   "metadata": {},
   "cell_type": "code",
   "source": [
    "# 123 records found.\n",
    "data.shape"
   ],
   "id": "4a3c8b7e984e74eb",
   "outputs": [],
   "execution_count": null
  },
  {
   "metadata": {},
   "cell_type": "code",
   "source": [
    "# In the uci-processed-dataset-investigation notebook we saw the following features was missing.\n",
    "# object: ['trestbps', 'fbs', 'restecg', 'thalach', 'exang', 'oldpeak', 'slope', 'ca', 'thal']}\n",
    "# In the processed file the missing value was marked as '?', while in the raw file it was marked as -9.\n",
    "invalid_data = data[(data['trestbps']==-9)\n",
    "      |(data['fbs']==-9)\n",
    "      |(data['restecg']==-9)\n",
    "      |(data['thalach']==-9)\n",
    "      |(data['exang']==-9)\n",
    "      |(data['oldpeak']==-9)\n",
    "      |(data['slope']==-9)\n",
    "      |(data['ca']==-9)\n",
    "      |(data['thal']==-9)\n",
    " ]\n",
    "\n",
    "# Records with invalid data => 123 - 123 = 0 (Nothing to salvage)\n",
    "invalid_data.shape"
   ],
   "id": "129df621cbae775a",
   "outputs": [],
   "execution_count": null
  }
 ],
 "metadata": {
  "kernelspec": {
   "display_name": "Python 3",
   "language": "python",
   "name": "python3"
  },
  "language_info": {
   "codemirror_mode": {
    "name": "ipython",
    "version": 2
   },
   "file_extension": ".py",
   "mimetype": "text/x-python",
   "name": "python",
   "nbconvert_exporter": "python",
   "pygments_lexer": "ipython2",
   "version": "2.7.6"
  }
 },
 "nbformat": 4,
 "nbformat_minor": 5
}
