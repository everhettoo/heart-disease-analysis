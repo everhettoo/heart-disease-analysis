{
 "cells": [
  {
   "cell_type": "markdown",
   "id": "4354665ec71d95ae",
   "metadata": {},
   "source": [
    "# 1. Introduction\n",
    "Few heart disease dataset can be found in Kaggle. Mostly, the origin can be traced to the UCI Heart Disease dataset. Quite often, the data in Kaggle found oversampled, distorted or features are transposed and untraceable.\n",
    "\n",
    "In order to understand the underlying problem that originally the author (Dr. Robert Detrano) intended to solve, getting the dataset from the original source can be reliable.\n",
    "\n",
    "The original <a href='https://archive.ics.uci.edu/dataset/45/heart+disease'>UCI Heart Disease</a> dataset contains 4 data files collected from the four following locations, from 1981 to 1987:\n",
    "\n",
    "1. Cleveland Clinic Foundation (cleveland.data), 1981 - 1984\n",
    "2. Hungarian Institute of Cardiology, Budapest (hungarian.data), 1983 - 1987\n",
    "3. V.A. Medical Center, Long Beach, CA (long-beach-va.data), 1984 - 1987\n",
    "4. University Hospital, Zurich, Switzerland (switzerland.data), 1985\n",
    "\n",
    "# 2. Acknowledgements\n",
    "It is a requirement to include the names of the principal investigator responsible for the data collection at each institution when the dataset is being used.  They would be:\n",
    "\n",
    "1. Hungarian Institute of Cardiology. Budapest: Andras Janosi, M.D.\n",
    "2. University Hospital, Zurich, Switzerland: William Steinbrunn, M.D.\n",
    "3. University Hospital, Basel, Switzerland: Matthias Pfisterer, M.D.\n",
    "4. V.A. Medical Center, Long Beach and Cleveland Clinic Foundation: Robert Detrano, M.D., Ph.D."
   ]
  },
  {
   "metadata": {},
   "cell_type": "markdown",
   "source": [
    "# 3. Background\n",
    "In this section, following a brief necessary history, <u>the files used in this study and its relationship is discussed</u>:\n",
    "## 3.1 Dataset Content\n",
    "After the original dataset was downloaded, few files are extracted in the `/heart-disease` directory. To investigate the contents of the dataset, the `cat` cmd can be used on `Index` file."
   ],
   "id": "c0c6592c924b567c"
  },
  {
   "metadata": {},
   "cell_type": "code",
   "source": "!cat data/uci-heart-disease/Index",
   "id": "e6179ef89aaed835",
   "outputs": [],
   "execution_count": null
  },
  {
   "metadata": {},
   "cell_type": "markdown",
   "source": [
    "## 3.2 Dataset History\n",
    "The author intended to build a model to predict heart disease using the 13 variables and 1 target variable. He used cleveland dataset to build the model and predict against other datasets. The datasets are explained in the table below:\n",
    "\n",
    "| Filename                   | Records (Rows) | Features (Cols) | Description                 |\n",
    "|:---------------------------|:--------------:|:---------------:|:----------------------------|\n",
    "| processed.cleveland.data   |      303       |       14        | Used for building the model |\n",
    "| processed.hungarian.data   |      294       |       14        | Used for testing            |\n",
    "| processed.va.data          |      200       |       14        | Used for testing            |\n",
    "| processed.switzerland.data |      123       |       14        | Used for testing            |\n",
    "\n",
    "For unknown reasons, the `cleveland.data` got corrupted during upload and became beyond recoverable. This is indicated in the `WARNING` file (`cat` cmd can be used to investigate file)."
   ],
   "id": "e24152b2739d43e6"
  },
  {
   "metadata": {},
   "cell_type": "code",
   "source": "!cat data/uci-heart-disease/WARNING",
   "id": "cfb5aab52dd8229",
   "outputs": [],
   "execution_count": null
  },
  {
   "metadata": {},
   "cell_type": "markdown",
   "source": [
    "## 3.3 Investigating the Corruption\n",
    "Though other raw data files (hungarian.data, long-beach-va.data and switzerland.data) are in `ascii` format, the `cleveland.data` file found to be in binary format and indicates uploading disruption. This can be investigated with `file -I` cmd."
   ],
   "id": "2f9a6ddf136d996c"
  },
  {
   "metadata": {},
   "cell_type": "code",
   "source": [
    "# Originally, 'text/plain' protocol was used to upload (transfer) with charset=us-ascii for encoding.\n",
    "!file -I data/uci-heart-disease/hungarian.data"
   ],
   "id": "9394d914d625138f",
   "outputs": [],
   "execution_count": null
  },
  {
   "cell_type": "code",
   "id": "193f84d4c578e7da",
   "metadata": {},
   "source": [
    "# Meanwhile, for the corrupted 'cleveland.data file, 'octet-stream' protocol was used to upload (transfer) with charset=binary for encoding.\n",
    "!file -I data/uci-heart-disease/cleveland.data"
   ],
   "outputs": [],
   "execution_count": null
  },
  {
   "metadata": {},
   "cell_type": "markdown",
   "source": "Though the first half of `cleveland.data` file seem in `ascii` format, when `tail -n 100 cleveland.data` was used, the second half of the file appears in binary encoding. This can be observed with gibberish characters.",
   "id": "64eb230a042b019d"
  },
  {
   "metadata": {},
   "cell_type": "code",
   "source": "!tail -n 100 data/uci-heart-disease/cleveland.data",
   "id": "553d540c25180997",
   "outputs": [],
   "execution_count": null
  },
  {
   "cell_type": "markdown",
   "id": "6b41a81bd892b61a",
   "metadata": {},
   "source": [
    "## 3.4 Processed Files as Alternatives\n",
    "So, that was the necessary history (a mystery perhaps) - to understand the original (raw) `cleveland.data` file was never available for preprocessing and no attempts of re-reloading the corrupted file was seen ever since. Alternatively, a set of processed files were made available for working on this dataset.\n",
    "\n",
    "The original (raw) file has 76 features, while, the processed file has only 14 of them, can be referred in [Data-Dictionary](#data-dictionary), below. The author in his <a href='International application of a new probability algorithm for the diagnosis of coronary artery disease.'> initial paper</a> written in 1989, indicated that he only needs the 13 features to build prediction model (of course 14<sup>th</sup> is the target variable).\n",
    "\n",
    "The table below shows the relationship of the original (raw) and processed files' dataset.\n",
    "#### Original (raw)\n",
    "| Filename                   | Records (Rows) | Features (Cols) |\n",
    "|:---------------------------|:--------------:|:---------------:|\n",
    "| cleveland.data             |      303       |       76        |\n",
    "| hungarian.data             |      294       |       76        |\n",
    "| long-beach-va.data         |      200       |       76        |\n",
    "| switzerland.data           |      123       |       76        |\n",
    "\n",
    "#### Processed\n",
    "| Filename                   | Records (Rows) | Features (Cols) |\n",
    "|:---------------------------|:--------------:|:---------------:|\n",
    "| processed.cleveland.data   |      303       |       14        |\n",
    "| processed.hungarian.data   |      294       |       14        |\n",
    "| processed.va.data          |      200       |       14        |\n",
    "| processed.switzerland.data |      123       |       14        |\n",
    "\n",
    "<br>\n",
    "This processed dataset's dimension can be verified using pandas:"
   ]
  },
  {
   "metadata": {},
   "cell_type": "code",
   "source": [
    "import pandas as pd\n",
    "\n",
    "# Headers are described in Data Dictionary section.\n",
    "header =['age','sex','cp','trestbps','chol','fbs','restecg','thalach','exang','oldpeak','slope','ca','thal','num']\n",
    "data = pd.read_csv('data/uci-heart-disease/processed.cleveland.data', names=header)\n",
    "data.head(5)"
   ],
   "id": "d29789a317edb6bc",
   "outputs": [],
   "execution_count": null
  },
  {
   "metadata": {},
   "cell_type": "code",
   "source": "data.shape",
   "id": "9ca591ccf757ed50",
   "outputs": [],
   "execution_count": null
  },
  {
   "metadata": {},
   "cell_type": "markdown",
   "source": [
    "<a id='data_dictionary'></a>\n",
    "# Data Dictionary\n",
    "In the original journal, the author describes that he only needed the 13 variables (features) to predict heart disease in a patient based on the 14<sup>th</sup> variable, which is the target variable.\n",
    "\n",
    "So, he dropped all other 62 features, making only 14 variables available in the processed datasets, both for model building and testing.\n",
    "\n",
    "The detail documentation can be found in the `heart-disease.namaes` file."
   ],
   "id": "4135fb7b61f2c405"
  },
  {
   "metadata": {},
   "cell_type": "code",
   "source": "!cat data/uci-heart-disease/heart-disease.names",
   "id": "586e3e53b09f89cd",
   "outputs": [],
   "execution_count": null
  },
  {
   "metadata": {},
   "cell_type": "markdown",
   "source": [
    "In the processed datasets, the author has mapped the following variables from the original (raw) dataset to processed dataset for building the model. Please find the <u>data dictionary for the processed dataset that is used in this study</u>.\n",
    "| No  | Name         | Description                                              | Values                                                                                                                              |\n",
    "|:----|:-------------|:---------------------------------------------------------|:------------------------------------------------------------------------------------------------------------------------------------|\n",
    "| 1.  | age          | age in years                                             |                                                                                                                                     |\n",
    "| 2.  | sex          | sex                                                      | 1: male <br> 0: female                                                                                                              |\n",
    "| 3.  | cp           | chest pain type                                          | 1: typical angina <br> 2: atypical angina <br> 3: non-anginal pain <br> 4: asymptomatic                                             |\n",
    "| 4.  | trestbps     | systolic blood pressure at rest (in mm Hg)               |                                                                                                                                     |\n",
    "| 5.  | chol         | serum cholesterol in mg/dl                               |                                                                                                                                     |\n",
    "| 6.  | fbs          | fasting blood sugar > 120 mg/dl                          | 1: true <br> 0: false                                                                                                               |\n",
    "| 7.  | restecg      | resting electrocardiographic results                     | 0: normal <br> 1: having ST-T wave abnormality <br> 2: showing probable or definite left ventricular hypertrophy by Estes' criteria |\n",
    "| 8.  | thalach      | maximum heart rate achieved                              |                                                                                                                                     |\n",
    "| 9.  | exang        | exercise induced angina                                  | 1: yes <br> 0: no                                                                                                                   |\n",
    "| 10. | oldpeak      | ST depression induced by exercise relative to rest       |                                                                                                                                     |\n",
    "| 11. | slope        | the slope of the peak exercise ST segment                | 1: upsloping <br> 2: flat <br> 3: downsloping                                                                                       |\n",
    "| 12. | ca           | number of major vessels (0-3) colored by fluoroscopy     | 0 <br> 1 <br> 2 <br> 3                                                                                                                                  |\n",
    "| 13. | thal         |                                                          | 3: normal <br> 6: fixed defect <br> 7: reversable defect                                                                            |\n",
    "| 14. | num (target) | diagnosis of heart disease (angiographic disease status) | 0: < 50% diameter narrowing <br> 1: > 50% diameter narrowing                                                                        |"
   ],
   "id": "bf7e93008567e901"
  },
  {
   "metadata": {},
   "cell_type": "code",
   "outputs": [],
   "execution_count": null,
   "source": "",
   "id": "290b626214942421"
  }
 ],
 "metadata": {
  "kernelspec": {
   "display_name": "Python 3 (ipykernel)",
   "language": "python",
   "name": "python3"
  },
  "language_info": {
   "codemirror_mode": {
    "name": "ipython",
    "version": 3
   },
   "file_extension": ".py",
   "mimetype": "text/x-python",
   "name": "python",
   "nbconvert_exporter": "python",
   "pygments_lexer": "ipython3",
   "version": "3.12.2"
  }
 },
 "nbformat": 4,
 "nbformat_minor": 5
}
