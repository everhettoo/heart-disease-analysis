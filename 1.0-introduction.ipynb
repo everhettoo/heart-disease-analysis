{
 "cells": [
  {
   "cell_type": "markdown",
   "id": "4354665ec71d95ae",
   "metadata": {},
   "source": [
    "# 1. Acknowledgements\n",
    "It is a requirement to include the names of the principal investigator responsible for the data collection at each institution when the dataset is being used.  They would be:\n",
    "\n",
    "1. Hungarian Institute of Cardiology. Budapest: Andras Janosi, M.D.\n",
    "2. University Hospital, Zurich, Switzerland: William Steinbrunn, M.D.\n",
    "3. University Hospital, Basel, Switzerland: Matthias Pfisterer, M.D.\n",
    "4. V.A. Medical Center, Long Beach and Cleveland Clinic Foundation: Robert Detrano, M.D., Ph.D."
   ]
  },
  {
   "metadata": {},
   "cell_type": "markdown",
   "source": [
    "# 2. Introduction\n",
    "\n",
    "Few heart disease dataset can be found in the internet where its origin can be traced to the UCI Heart Disease dataset. Quite often, the processed datasets doesn't discuss the origin or inherited issues.\n",
    "\n",
    "In order to understand the underlying problem that originally the author (Dr. Robert Detrano) intended to solve, using the original source can be reliable.\n",
    "\n",
    "The original <a href='https://archive.ics.uci.edu/dataset/45/heart+disease'>UCI Heart Disease</a> dataset contains 4 data files collected from the four following locations, from 1981 to 1987:\n",
    "\n",
    "| Sample Location                   | Collection Year | Filename                   | Records | Features | Purpose                     |\n",
    "|:----------------------------------|:---------------:|:---------------------------|:-------:|:--------:|:----------------------------|\n",
    "| Cleveland Clinic Foundation       |   1981 - 1984   | processed.cleveland.data   |   303   |    14    | Used for building the model |\n",
    "| Hungarian Institute of Cardiology |   1983 - 1987   | processed.hungarian.data   |   294   |    14    | Used for testing            |\n",
    "| Long Beach Medical Center         |   1984 - 1987   | processed.va.data          |   200   |    14    | Used for testing            |\n",
    "| University Hospital Switzerland   |      1985       | processed.switzerland.data |   123   |    14    | Used for testing            |\n",
    "\n",
    "### Background\n",
    "Though the data is being widely used in ML field, there are quite number of critics on its validity.\n",
    "\n",
    "For instance, there are two datasets made available for each sample, and the author had mentioned the original data for Cleveland was corrupted.\n",
    "\n",
    "Also, most often only the `processed.cleveland.data` dataset with 303 records are used without considering the other datasets.\n",
    "\n",
    "|        Raw         | Processed                  | Records | Raw Features | Processed Features |\n",
    "|:------------------:|:---------------------------|:-------:|:------------:|:------------------:|\n",
    "|   cleveland.data   | processed.cleveland.data   |   303   |      76      |         14         |\n",
    "|   hungarian.data   | processed.hungarian.data   |   294   |      76      |         14         |\n",
    "| long-beach-va.data | processed.va.data          |   200   |      76      |         14         |\n",
    "|  switzerland.data  | processed.switzerland.data |   123   |      76      |         14         |\n",
    "\n",
    "### Questions that needs Clarifications:\n",
    "- Since a combined dataset should provide  920 records, why only 303 record are always used?\n",
    "- Could the dataset derived from this and published elsewhere have inherited the issues without discussing them?\n",
    "- Without understanding the data background, how a model built on it can be trusted?\n",
    "\n",
    "The data corruption was acknowledged in the following file:"
   ],
   "id": "ddeec4793d357dbe"
  },
  {
   "metadata": {},
   "cell_type": "code",
   "source": "!cat data/uci-heart-disease/Warning",
   "id": "7a94ba813592cd73",
   "outputs": [],
   "execution_count": null
  },
  {
   "metadata": {},
   "cell_type": "markdown",
   "source": [
    "<a id='data_dictionary'></a>\n",
    "# 3. Data Dictionary\n",
    "The original (raw) file has 76 features, while, the processed file has only 14 of them. The author in his <a href='International application of a new probability algorithm for the diagnosis of coronary artery disease.'> initial paper</a> written in 1989, indicated that he only needs the 13 features to build prediction model (14<sup>th</sup> being the target variable).\n",
    "\n",
    "So, he dropped all other 62 features, making only 14 variables available in the processed datasets, both for model building and testing.\n",
    "\n",
    "The detail documentation can be found in the `heart-disease.namaes` file."
   ],
   "id": "9e003c75e8fd4df5"
  },
  {
   "metadata": {},
   "cell_type": "code",
   "source": "!cat data/uci-heart-disease/heart-disease.names",
   "id": "884d4e8e1de2447b",
   "outputs": [],
   "execution_count": null
  },
  {
   "metadata": {},
   "cell_type": "markdown",
   "source": [
    "In the processed datasets, the author has mapped the following variables from the original (raw) dataset accordingly. Please find the data dictionary for the processed dataset used in this study.\n",
    "\n",
    "| No  | Original Name  |   Meaningful Name    | Description                                              | Values                                                                                                                              |\n",
    "|:----|:--------------:|:--------------------:|----------------------------------------------------------|:------------------------------------------------------------------------------------------------------------------------------------|\n",
    "| 1.  |      age       |         Age          | age in years                                             |                                                                                                                                     |\n",
    "| 2.  |      sex       |        Gender        | sex                                                      | 1: male <br> 0: female                                                                                                              |\n",
    "| 3.  |       cp       |      Chest Pain      | chest pain type                                          | 1: typical angina <br> 2: atypical angina <br> 3: non-anginal pain <br> 4: asymptomatic                                             |\n",
    "| 4.  |    trestbps    |     BP Systolic      | systolic blood pressure at rest (in mm Hg)               |                                                                                                                                     |\n",
    "| 5.  |      chol      |      Cholestrol      | serum cholesterol in mg/dl                               |                                                                                                                                     |\n",
    "| 6.  |      fbs       |     Blood Sugar      | fasting blood sugar > 120 mg/dl                          | 1: true <br> 0: false                                                                                                               |\n",
    "| 7.  |    restecg     |       Rest ECG       | resting electrocardiographic results                     | 0: normal <br> 1: having ST-T wave abnormality <br> 2: showing probable or definite left ventricular hypertrophy by Estes' criteria |\n",
    "| 8.  |    thalach     |  Exe. Max Heartrate  | maximum heart rate achieved                              |                                                                                                                                     |\n",
    "| 9.  |     exang      | Exe. Induced Angina  | exercise induced angina                                  | 1: yes <br> 0: no                                                                                                                   |\n",
    "| 10. |    oldpeak     |  Exe. ST Depression  | ST depression induced by exercise relative to rest       |                                                                                                                                     |\n",
    "| 11. |     slope      | Exe ST Segment Slope | the slope of the peak exercise ST segment                | 1: upsloping <br> 2: flat <br> 3: downsloping                                                                                       |\n",
    "| 12. |       ca       |    Major Vessels     | number of major vessels (0-3) colored by fluoroscopy     | 0 <br> 1 <br> 2 <br> 3                                                                                                              |\n",
    "| 13. |      thal      |     Thalassemia      |                                                          | 3: normal <br> 6: fixed defect <br> 7: reversable defect                                                                            |\n",
    "| 14. |  num (target)  |        Target        | diagnosis of heart disease (angiographic disease status) | 0: < 50% diameter narrowing <br> 1: > 50% diameter narrowing                                                                        |"
   ],
   "id": "f86b5647e37a3e39"
  },
  {
   "metadata": {},
   "cell_type": "markdown",
   "source": [
    "# 4. Objective\n",
    "In this study, the following are done:\n",
    "1. Exploratory Data Analysis, to:\n",
    "    - define the problem statement\n",
    "    - investigate the data validity\n",
    "    - understand features relationship and importance\n",
    "2. Preprocessing - to prepare the data for model building\n",
    "3. Build and fine-tuning model:\n",
    "    - SVM\n",
    "    - LR\n",
    "    - ?\n",
    "4. Conclusion"
   ],
   "id": "48f6906c2887f645"
  }
 ],
 "metadata": {
  "kernelspec": {
   "display_name": "Python 3 (ipykernel)",
   "language": "python",
   "name": "python3"
  },
  "language_info": {
   "codemirror_mode": {
    "name": "ipython",
    "version": 3
   },
   "file_extension": ".py",
   "mimetype": "text/x-python",
   "name": "python",
   "nbconvert_exporter": "python",
   "pygments_lexer": "ipython3",
   "version": "3.12.2"
  }
 },
 "nbformat": 4,
 "nbformat_minor": 5
}
