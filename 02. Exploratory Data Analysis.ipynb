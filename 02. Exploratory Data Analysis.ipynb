{
 "cells": [
  {
   "metadata": {},
   "cell_type": "markdown",
   "source": [
    "# Introduction\n",
    "As described in [01.data-introduction](01.data-introduction.ipynb), the author (Dr. Roberto Detrano) intended to build a model to predict heart disease using the 13 variables and 1 target variable. The dataset are explained in the table below:\n",
    "\n",
    "| Filename                   | Records (Rows) | Features (Cols) | Description                 |\n",
    "|:---------------------------|:--------------:|:---------------:|:----------------------------|\n",
    "| processed.cleveland.data   |      303       |       14        | Used for building the model |\n",
    "| processed.hungarian.data   |      294       |       14        | Used for testing            |\n",
    "| processed.va.data          |      200       |       14        | Used for testing            |\n",
    "| processed.switzerland.data |      123       |       14        | Used for testing            |\n",
    "\n",
    "## Data Dictionary\n",
    "| No  | Name     | Description                                              | Values                                                                                                                              |\n",
    "|:----|:---------|:---------------------------------------------------------|:------------------------------------------------------------------------------------------------------------------------------------|\n",
    "| 1.  | age      | age in years                                             |                                                                                                                                     |\n",
    "| 2.  | sex      | sex                                                      | 1: male <br> 0: female                                                                                                              |\n",
    "| 3.  | cp       | chest pain type                                          | 1: typical angina <br> 2: atypical angina <br> 3: non-anginal pain <br> 4: asymptomatic                                             |\n",
    "| 4.  | trestbps | resting blood pressure (in mm Hg)                        |                                                                                                                                     |\n",
    "| 5.  | chol     | serum cholestoral in mg/dl                               |                                                                                                                                     |\n",
    "| 6.  | fbs      | fasting blood sugar > 120 mg/dl                          | 1: true <br> 0: false                                                                                                               |\n",
    "| 7.  | restecg  | resting electrocardiographic results                     | 0: normal <br> 1: having ST-T wave abnormality <br> 2: showing probable or definite left ventricular hypertrophy by Estes' criteria |\n",
    "| 8.  | thalach  | maximum heart rate achieved                              |                                                                                                                                     |\n",
    "| 9.  | exang    | exercise induced angina                                  | 1: yes <br> 0: no                                                                                                                   |\n",
    "| 10. | oldpeak  | ST depression induced by exercise relative to rest       |                                                                                                                                     |\n",
    "| 11. | slope    | the slope of the peak exercise ST segment                | 1: upsloping <br> 2: flat <br> 3: downsloping                                                                                       |\n",
    "| 12. | ca       | number of major vessels (0-3) colored by flourosopy      |                                                                                                                                     |\n",
    "| 13. | thal     |                                                          | 3: normal <br> 6: fixed defect <br> 7: reversable defect                                                                            |\n",
    "| 14. | num      | diagnosis of heart disease (angiographic disease status) | 0: < 50% diameter narrowing <br> 1: > 50% diameter narrowing                                                                        |"
   ],
   "id": "6b5b0cfff891869d"
  },
  {
   "metadata": {},
   "cell_type": "code",
   "outputs": [],
   "execution_count": null,
   "source": [
    "# All required libraries.\n",
    "import pandas as pd"
   ],
   "id": "8f21e87a43621955"
  },
  {
   "cell_type": "code",
   "id": "890749f0a123e02b",
   "metadata": {},
   "source": [
    "header =['age','sex','cp','trestbps','chol','fbs','restecg','thalach','exang','oldpeak','slope','ca','thal','num']\n",
    "data = pd.read_csv('data/uci-heart-disease/processed.cleveland.data', names=header)\n",
    "# 303 records and 14 columns.\n",
    "data.head(5)"
   ],
   "outputs": [],
   "execution_count": null
  },
  {
   "cell_type": "markdown",
   "id": "8507e08cef1044d3",
   "metadata": {},
   "source": [
    "## Check for duplicate rows and missing data."
   ]
  },
  {
   "cell_type": "code",
   "id": "3d481675109c5f05",
   "metadata": {},
   "source": [],
   "outputs": [],
   "execution_count": null
  },
  {
   "cell_type": "code",
   "id": "91cc56735f3fd9b5",
   "metadata": {},
   "source": [
    "# When all columns were checked, no duplicate rows were found.\n",
    "duplicate = data[data.duplicated()]\n",
    "duplicate"
   ],
   "outputs": [],
   "execution_count": null
  },
  {
   "cell_type": "code",
   "id": "2c98fef25a77d2a6",
   "metadata": {},
   "source": [
    "# No missing data. isnull and isna is the same, checking for None, NaN or NaT (datetime)\n",
    "data.isnull().sum()"
   ],
   "outputs": [],
   "execution_count": null
  },
  {
   "cell_type": "markdown",
   "id": "cf4f49a32a13a82b",
   "metadata": {},
   "source": [
    "# Data Exploration (EDA)"
   ]
  },
  {
   "cell_type": "code",
   "id": "2e409564811cc21b",
   "metadata": {},
   "source": [
    "# Check the target balance.\n",
    "data[\"num\"].value_counts()"
   ],
   "outputs": [],
   "execution_count": null
  },
  {
   "cell_type": "code",
   "id": "5b9b942d2829b943",
   "metadata": {},
   "source": [
    "data[\"num\"].value_counts().plot(kind='bar');"
   ],
   "outputs": [],
   "execution_count": null
  },
  {
   "cell_type": "code",
   "id": "1955c177ccd800b0",
   "metadata": {},
   "source": [
    "data[data[\"num\"]!=0]=1"
   ],
   "outputs": [],
   "execution_count": null
  },
  {
   "cell_type": "code",
   "id": "73e064d08caf7c2f",
   "metadata": {},
   "source": [
    "data[\"num\"].value_counts()"
   ],
   "outputs": [],
   "execution_count": null
  },
  {
   "cell_type": "code",
   "id": "872aaadb0af4dabe",
   "metadata": {},
   "source": [
    "data[\"num\"].value_counts().plot(kind='bar', color=['salmon','lightblue']);"
   ],
   "outputs": [],
   "execution_count": null
  },
  {
   "cell_type": "code",
   "id": "df664cd2987d461a",
   "metadata": {},
   "source": [
    "data.cp.value_counts()"
   ],
   "outputs": [],
   "execution_count": null
  },
  {
   "cell_type": "code",
   "id": "a85faba5a58628f9",
   "metadata": {},
   "source": [
    " # Taken from heart-disease.names\n",
    " # The \"goal\" field refers to the presence of heart disease\n",
    " #     in the patient.  It is integer valued from 0 (no presence) to 4.\n",
    " #     Experiments with the Cleveland database have concentrated on simply\n",
    " #     attempting to distinguish presence (values 1,2,3,4) from absence (value\n",
    " #     0).\n",
    "data.num.value_counts()"
   ],
   "outputs": [],
   "execution_count": null
  },
  {
   "cell_type": "code",
   "id": "2ceffadf7f2ae17f",
   "metadata": {},
   "source": [
    "data.isna().sum()"
   ],
   "outputs": [],
   "execution_count": null
  },
  {
   "cell_type": "code",
   "id": "b4893ac7de253a5d",
   "metadata": {},
   "source": [
    "# When investigated, 2 columns that 'ca' and 'thal' has non-numeric values.\n",
    "data.info()"
   ],
   "outputs": [],
   "execution_count": null
  },
  {
   "cell_type": "code",
   "id": "d4e58d1185210cb8",
   "metadata": {},
   "source": [
    "# For column 'ca', 4 records contains the value of '?'.\n",
    "data['ca'].value_counts()"
   ],
   "outputs": [],
   "execution_count": null
  },
  {
   "cell_type": "code",
   "id": "f0082c403daf0e82",
   "metadata": {},
   "source": [
    "# For column 'thal', 2 records contains the value of '?'.\n",
    "data['thal'].value_counts()"
   ],
   "outputs": [],
   "execution_count": null
  },
  {
   "cell_type": "code",
   "id": "2e8836c659819978",
   "metadata": {},
   "source": [
    "selected = data[data['thal']=='?']\n",
    "selected"
   ],
   "outputs": [],
   "execution_count": null
  },
  {
   "cell_type": "code",
   "id": "547e683c6d1283dd",
   "metadata": {},
   "source": [
    "data['sex'].value_counts()"
   ],
   "outputs": [],
   "execution_count": null
  }
 ],
 "metadata": {
  "kernelspec": {
   "display_name": "Python 3 (ipykernel)",
   "language": "python",
   "name": "python3"
  },
  "language_info": {
   "codemirror_mode": {
    "name": "ipython",
    "version": 3
   },
   "file_extension": ".py",
   "mimetype": "text/x-python",
   "name": "python",
   "nbconvert_exporter": "python",
   "pygments_lexer": "ipython3",
   "version": "3.12.2"
  }
 },
 "nbformat": 4,
 "nbformat_minor": 5
}
