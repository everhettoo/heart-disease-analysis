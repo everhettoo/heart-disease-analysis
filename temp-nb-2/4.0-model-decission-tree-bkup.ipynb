{
 "cells": [
  {
   "metadata": {},
   "cell_type": "markdown",
   "source": [
    "# Algorithm: Decision Tree\n",
    "Acknowledgement: Most of the code was referenced from Prof. Mafas Raheem's AML lab-5.1.\n",
    "## Model Validation Strategy\n",
    "Three models evaluated with two different datasets as described below.\n",
    "### Standard data (without oversampling)\n",
    "- Base,\n",
    "- Grid-Search-CV,\n",
    "- Random-Search-CV\n",
    "### Oversampling data (class balancing)\n",
    "- Base,\n",
    "- Grid-Search-CV,\n",
    "- Random-Search-CV"
   ],
   "id": "a5c7eeb486978711"
  },
  {
   "cell_type": "code",
   "id": "initial_id",
   "metadata": {
    "collapsed": true,
    "ExecuteTime": {
     "end_time": "2024-12-28T05:58:53.005460Z",
     "start_time": "2024-12-28T05:58:52.863669Z"
    }
   },
   "source": [
    "import warnings\n",
    "from collections import Counter\n",
    "from importlib import reload\n",
    "\n",
    "import matplotlib.pyplot as plt\n",
    "import pandas as pd\n",
    "import seaborn as sns\n",
    "from imblearn.over_sampling import SMOTE\n",
    "from sklearn.model_selection import GridSearchCV\n",
    "from sklearn.model_selection import RandomizedSearchCV\n",
    "from sklearn.model_selection import StratifiedKFold\n",
    "from sklearn.tree import DecisionTreeClassifier\n",
    "\n",
    "import custom_libs.evaluation_helper as ev\n",
    "import models.uci_heart_disease_dataset as uci\n",
    "\n",
    "# Disabled warning.\n",
    "# warnings.filterwarnings(\"ignore\")"
   ],
   "outputs": [],
   "execution_count": 1
  },
  {
   "metadata": {
    "ExecuteTime": {
     "end_time": "2024-12-28T05:58:55.803754Z",
     "start_time": "2024-12-28T05:58:55.791061Z"
    }
   },
   "cell_type": "code",
   "source": [
    "# Load the preprocessed dataset (299 records; with 14 features).\n",
    "data = pd.read_csv(uci.UCIHeartDiseaseDataFile.cleveland_preprocessed, names = uci.get_standard_features())\n",
    "print(f'Data shape: {data.shape}.')\n",
    "data.head(3)"
   ],
   "id": "b56fe2f0b56e8fd7",
   "outputs": [
    {
     "name": "stdout",
     "output_type": "stream",
     "text": [
      "Data shape: (299, 14).\n"
     ]
    },
    {
     "data": {
      "text/plain": [
       "   Age  Gender  Chest Pain  BP Systolic  Cholesterol  Blood Sugar  Rest ECG  \\\n",
       "0   63       1           1          145        233.0            1         2   \n",
       "1   67       1           4          160        286.0            0         2   \n",
       "2   67       1           4          120        229.0            0         2   \n",
       "\n",
       "   Exe. Max Heartrate  Exe. Induced Angina  Exe. ST Depression  \\\n",
       "0                 150                    0                 2.3   \n",
       "1                 108                    1                 1.5   \n",
       "2                 129                    1                 2.6   \n",
       "\n",
       "   Exe. ST Segment Slope  Major Vessels  Thalassemia  Target  \n",
       "0                      3              0            6       0  \n",
       "1                      2              3            3       1  \n",
       "2                      2              2            7       1  "
      ],
      "text/html": [
       "<div>\n",
       "<style scoped>\n",
       "    .dataframe tbody tr th:only-of-type {\n",
       "        vertical-align: middle;\n",
       "    }\n",
       "\n",
       "    .dataframe tbody tr th {\n",
       "        vertical-align: top;\n",
       "    }\n",
       "\n",
       "    .dataframe thead th {\n",
       "        text-align: right;\n",
       "    }\n",
       "</style>\n",
       "<table border=\"1\" class=\"dataframe\">\n",
       "  <thead>\n",
       "    <tr style=\"text-align: right;\">\n",
       "      <th></th>\n",
       "      <th>Age</th>\n",
       "      <th>Gender</th>\n",
       "      <th>Chest Pain</th>\n",
       "      <th>BP Systolic</th>\n",
       "      <th>Cholesterol</th>\n",
       "      <th>Blood Sugar</th>\n",
       "      <th>Rest ECG</th>\n",
       "      <th>Exe. Max Heartrate</th>\n",
       "      <th>Exe. Induced Angina</th>\n",
       "      <th>Exe. ST Depression</th>\n",
       "      <th>Exe. ST Segment Slope</th>\n",
       "      <th>Major Vessels</th>\n",
       "      <th>Thalassemia</th>\n",
       "      <th>Target</th>\n",
       "    </tr>\n",
       "  </thead>\n",
       "  <tbody>\n",
       "    <tr>\n",
       "      <th>0</th>\n",
       "      <td>63</td>\n",
       "      <td>1</td>\n",
       "      <td>1</td>\n",
       "      <td>145</td>\n",
       "      <td>233.0</td>\n",
       "      <td>1</td>\n",
       "      <td>2</td>\n",
       "      <td>150</td>\n",
       "      <td>0</td>\n",
       "      <td>2.3</td>\n",
       "      <td>3</td>\n",
       "      <td>0</td>\n",
       "      <td>6</td>\n",
       "      <td>0</td>\n",
       "    </tr>\n",
       "    <tr>\n",
       "      <th>1</th>\n",
       "      <td>67</td>\n",
       "      <td>1</td>\n",
       "      <td>4</td>\n",
       "      <td>160</td>\n",
       "      <td>286.0</td>\n",
       "      <td>0</td>\n",
       "      <td>2</td>\n",
       "      <td>108</td>\n",
       "      <td>1</td>\n",
       "      <td>1.5</td>\n",
       "      <td>2</td>\n",
       "      <td>3</td>\n",
       "      <td>3</td>\n",
       "      <td>1</td>\n",
       "    </tr>\n",
       "    <tr>\n",
       "      <th>2</th>\n",
       "      <td>67</td>\n",
       "      <td>1</td>\n",
       "      <td>4</td>\n",
       "      <td>120</td>\n",
       "      <td>229.0</td>\n",
       "      <td>0</td>\n",
       "      <td>2</td>\n",
       "      <td>129</td>\n",
       "      <td>1</td>\n",
       "      <td>2.6</td>\n",
       "      <td>2</td>\n",
       "      <td>2</td>\n",
       "      <td>7</td>\n",
       "      <td>1</td>\n",
       "    </tr>\n",
       "  </tbody>\n",
       "</table>\n",
       "</div>"
      ]
     },
     "execution_count": 2,
     "metadata": {},
     "output_type": "execute_result"
    }
   ],
   "execution_count": 2
  },
  {
   "metadata": {},
   "cell_type": "markdown",
   "source": "### Model's Hyper-parameters & Cross-Vaidation Parameters",
   "id": "7190a84cd8056e45"
  },
  {
   "metadata": {
    "ExecuteTime": {
     "end_time": "2024-12-28T05:58:57.729588Z",
     "start_time": "2024-12-28T05:58:57.726660Z"
    }
   },
   "cell_type": "code",
   "source": [
    "# Verbose variable for log inspection.\n",
    "verbose = False\n",
    "\n",
    "# Dictionary to hold model's hyperparameters.\n",
    "parameters = dict()\n",
    "\n",
    "# A minimal/effective set of hyperparameters were referenced from Prof. Mafas Raheem's Lab-5.1.\n",
    "# Further hyperparameters can be referred below: https://scikit-learn.org/1.5/modules/generated/sklearn.tree.DecisionTreeClassifier.html\n",
    "\n",
    "# The function to measure the quality of a split. Default=gini.\n",
    "parameters['criterion'] = ['entropy', 'gini', 'log_loss']\n",
    "# The maximum depth of the tree. Default=None.\n",
    "parameters['max_depth'] = [2, 3, 5, 10, 50]\n",
    "# The number of features to consider when looking for the best split. Default=None.\n",
    "parameters['max_features'] = ['log2', 'sqrt']\n",
    "# The minimum number of samples required to split an internal node. Default=2.\n",
    "parameters['min_samples_split'] = [2, 3, 50, 100]\n",
    "# The minimum number of samples required to be at a leaf node. Default=1.\n",
    "parameters['min_samples_leaf'] = [1, 5, 8, 10]\n",
    "\n",
    "# A stratified K fold for cross validation strategy - values are assigned from the global class.\n",
    "skfolds = StratifiedKFold(n_splits = ev.kfold_n_split,\n",
    "                          shuffle = ev.kfold_shuffle,\n",
    "                          random_state = ev.random_state)\n",
    "\n",
    "# Reset accuracies for SVM\n",
    "ev.accuracies = {}"
   ],
   "id": "dda875d83e7b6c7c",
   "outputs": [],
   "execution_count": 3
  },
  {
   "metadata": {},
   "cell_type": "markdown",
   "source": "### Base Model (Function)",
   "id": "562faf4bcc050eb6"
  },
  {
   "metadata": {},
   "cell_type": "code",
   "source": [
    "reload(ev)\n",
    "# A function to build a base model.\n",
    "def build_and_validate_base_model(x_set, y_set, test_name):\n",
    "    print(f'\\nEvaluation name: {test_name}.')\n",
    "\n",
    "    # Calls the evaluation helper module to scale features and do split (classes are balanced using stratify split).\n",
    "    x_train, x_test, y_train, y_test = ev.scale_and_split(x_set, y_set)\n",
    "\n",
    "    # Train the model with training set.\n",
    "    # Without the random-state, DT is producing different result despite the random-state in sample split for training-set.\n",
    "    dc= DecisionTreeClassifier(random_state=ev.random_state)\n",
    "    dc.fit(x_train, y_train)\n",
    "\n",
    "    # Display the best hyperparameters used.\n",
    "    print(f'Params         :{ dc.get_params()}.')\n",
    "\n",
    "    # Do prediction with the trained model.\n",
    "    y_pred = dc.predict(x_test)\n",
    "\n",
    "    # Calls the evaluation helper module to display classification-report, confusion-matrix and ROC curve.\n",
    "    ev.display_validation_report(y_test, y_pred, x_test, dc, test_name)"
   ],
   "id": "13d54e478f9733b5",
   "outputs": [],
   "execution_count": null
  },
  {
   "metadata": {},
   "cell_type": "markdown",
   "source": "### Grid Search CV (Function)",
   "id": "4f046cd4ab0bbe3f"
  },
  {
   "metadata": {},
   "cell_type": "code",
   "source": [
    "reload(ev)\n",
    "# A function discover the model's best hyperparameters and perform cross-validation using GridSearchCV.\n",
    "def build_and_validate_with_grid_search_cv(x_set, y_set, test_name):\n",
    "    print(f'\\nEvaluation name: {test_name}.')\n",
    "\n",
    "    # Calls the evaluation helper module to scale features and do split (classes are balanced using stratify split).\n",
    "    x_train, x_test, y_train, y_test = ev.scale_and_split(x_set, y_set)\n",
    "\n",
    "    dt= DecisionTreeClassifier(random_state=ev.random_state)\n",
    "\n",
    "    # Build Grid-search with parameters and stratified k fold strategy for cross-validation.\n",
    "    grid_scv = GridSearchCV(dt, parameters, scoring='accuracy', cv=skfolds)\n",
    "\n",
    "    # Train and discover the model's best hyperparameters for optimal performance.\n",
    "    grid_scv.fit(x_train,y_train)\n",
    "\n",
    "    # Display the best hyperparameters and score. The best score is mean of CV scores for train-set.\n",
    "    print(f'Best params          :{grid_scv.best_params_}.')\n",
    "    print(f'Best score (*mean)   :{grid_scv.best_score_}.')\n",
    "\n",
    "    # Predict using the trained model on the test-set.\n",
    "    y_pred = grid_scv.predict(x_test)\n",
    "\n",
    "    # Calls the evaluation helper module to display classification-report, confusion-matrix and ROC curve.\n",
    "    ev.display_validation_report(y_test, y_pred, x_test, grid_scv, test_name)"
   ],
   "id": "708dd7e8caed6ca5",
   "outputs": [],
   "execution_count": null
  },
  {
   "metadata": {},
   "cell_type": "markdown",
   "source": "### Random Search CV (Function)",
   "id": "b41571812e0534b0"
  },
  {
   "metadata": {},
   "cell_type": "code",
   "source": [
    "reload(ev)\n",
    "# A function discover the model's best hyperparameters and perform cross-validation using RandomSearchCV.\n",
    "def build_and_validate_with_random_search_cv(x_set, y_set, test_name):\n",
    "    print(f'\\nEvaluation name: {test_name}.')\n",
    "\n",
    "    # Calls the evaluation helper module to scale features and do split (classes are balanced using stratify split).\n",
    "    x_train, x_test, y_train, y_test = ev.scale_and_split(x_set, y_set)\n",
    "\n",
    "    dt= DecisionTreeClassifier(random_state=ev.random_state)\n",
    "\n",
    "    # Train and discover the model's best hyperparameters for optimal performance.\n",
    "    rand_svc = RandomizedSearchCV(dt, parameters, scoring='accuracy', cv=skfolds)\n",
    "\n",
    "    # Train and discover the model's hyperparameters for optimal result.\n",
    "    rand_svc.fit(x_train,y_train)\n",
    "\n",
    "    # Display the best hyperparameters and score.\n",
    "    print(f'Best params :{rand_svc.best_params_}.')\n",
    "    print(f'Best score  :{rand_svc.best_score_}.')\n",
    "\n",
    "    # Predict using the trained model.\n",
    "    y_pred = rand_svc.predict(x_test)\n",
    "\n",
    "    # Calls the evaluation helper module to display classification-report, confusion-matrix and ROC curve\n",
    "    ev.display_validation_report(y_test, y_pred, x_test, rand_svc, test_name)"
   ],
   "id": "f7f51728763c42b2",
   "outputs": [],
   "execution_count": null
  },
  {
   "metadata": {},
   "cell_type": "markdown",
   "source": [
    "## Evaluation with Standard Dataset (without oversampling)\n",
    "`processed.cleveland-preprocessed` - standard dataset is the preprocessed data with 299 records and 14 columns."
   ],
   "id": "411bab791d873c1d"
  },
  {
   "metadata": {},
   "cell_type": "markdown",
   "source": "### Data Preparation",
   "id": "5117a44a9e3e1e14"
  },
  {
   "metadata": {},
   "cell_type": "code",
   "source": [
    "reload(ev)\n",
    "# Prepare features and target variables.\n",
    "X = data.drop(uci.UCIHeartDiseaseData.target, axis=1)\n",
    "y = data[uci.UCIHeartDiseaseData.target]\n",
    "\n",
    "print(f'Classes before split: {Counter(y)}.')\n",
    "\n",
    "x_train, x_test, y_train, y_test = ev.scale_and_split(X, y)\n",
    "print(f'Classes after split (train): {Counter(y_train)}.')\n",
    "print(f'Classes after split (test): {Counter(y_test)}.')\n",
    "\n"
   ],
   "id": "2e7bbc3fb749dc84",
   "outputs": [],
   "execution_count": null
  },
  {
   "metadata": {
    "ExecuteTime": {
     "end_time": "2024-12-28T02:51:24.267076Z",
     "start_time": "2024-12-28T02:51:24.173483Z"
    }
   },
   "cell_type": "code",
   "source": [
    "# Evaluation: Standard data with base model\n",
    "reload(ev)\n",
    "build_and_validate_base_model(X, y, ev.EvaluationType.std_base)"
   ],
   "id": "fa3dec4ac3dbc8c1",
   "outputs": [
    {
     "name": "stdout",
     "output_type": "stream",
     "text": [
      "\n",
      "Evaluation name: std-base.\n",
      "Params         :{'ccp_alpha': 0.0, 'class_weight': None, 'criterion': 'gini', 'max_depth': None, 'max_features': None, 'max_leaf_nodes': None, 'min_impurity_decrease': 0.0, 'min_samples_leaf': 1, 'min_samples_split': 2, 'min_weight_fraction_leaf': 0.0, 'monotonic_cst': None, 'random_state': 1, 'splitter': 'best'}.\n",
      "\n",
      "Classification Report\n",
      "              precision    recall  f1-score   support\n",
      "\n",
      "           0       0.75      0.75      0.75        32\n",
      "           1       0.71      0.71      0.71        28\n",
      "\n",
      "    accuracy                           0.73        60\n",
      "   macro avg       0.73      0.73      0.73        60\n",
      "weighted avg       0.73      0.73      0.73        60\n",
      "\n",
      "{'0': {'precision': 0.75, 'recall': 0.75, 'f1-score': 0.75, 'support': 32.0}, '1': {'precision': 0.7142857142857143, 'recall': 0.7142857142857143, 'f1-score': 0.7142857142857143, 'support': 28.0}, 'accuracy': 0.7333333333333333, 'macro avg': {'precision': 0.7321428571428572, 'recall': 0.7321428571428572, 'f1-score': 0.7321428571428572, 'support': 60.0}, 'weighted avg': {'precision': 0.7333333333333333, 'recall': 0.7333333333333333, 'f1-score': 0.7333333333333333, 'support': 60.0}}\n",
      "accuracy: 0.7333333333333333.\n",
      "accuracy t1: 0.7333333333333333.\n",
      "\n",
      "Confusion Matrix\n"
     ]
    },
    {
     "data": {
      "text/plain": [
       "<Figure size 300x300 with 1 Axes>"
      ],
      "image/png": "[encoded data removed]"
     },
     "metadata": {},
     "output_type": "display_data"
    },
    {
     "data": {
      "text/plain": [
       "<Figure size 640x480 with 1 Axes>"
      ],
      "image/png": "[encoded data removed]"
     },
     "metadata": {},
     "output_type": "display_data"
    }
   ],
   "execution_count": 83
  },
  {
   "metadata": {},
   "cell_type": "code",
   "source": [
    "# Evaluation: Standard data with Grid Search CV\n",
    "build_and_validate_with_grid_search_cv(X, y, ev.EvaluationType.std_grid_search_cv)"
   ],
   "id": "5ff133659b50a6f4",
   "outputs": [],
   "execution_count": null
  },
  {
   "metadata": {},
   "cell_type": "code",
   "source": [
    "# Evaluation: Standard Random Search CV\n",
    "build_and_validate_with_random_search_cv(X, y, ev.EvaluationType.std_random_search_cv)"
   ],
   "id": "37bee9ea660bce7f",
   "outputs": [],
   "execution_count": null
  },
  {
   "metadata": {},
   "cell_type": "code",
   "source": "print(ev.accuracies)",
   "id": "46a53d7088d81e90",
   "outputs": [],
   "execution_count": null
  },
  {
   "metadata": {},
   "cell_type": "markdown",
   "source": "## Evaluation with Oversampling Dataset (Class balancing)",
   "id": "36476ad66e0ed040"
  },
  {
   "metadata": {},
   "cell_type": "markdown",
   "source": "### Data Preparation and Oversampling",
   "id": "bc4aaf4ceca7c794"
  },
  {
   "metadata": {},
   "cell_type": "code",
   "source": [
    "# Prepare features and target variables.\n",
    "X = data.drop(uci.UCIHeartDiseaseData.target, axis=1)\n",
    "y = data[uci.UCIHeartDiseaseData.target]\n",
    "\n",
    "# Perform over-sampling with SMOTE\n",
    "X_b, y_b = SMOTE().fit_resample(X, y)\n",
    "print(f'Classes before oversampling :{Counter(data[uci.UCIHeartDiseaseData.target])}.')\n",
    "print(f'Classes after oversampling  :{Counter(y_b)}.')"
   ],
   "id": "b6294d37456edbd7",
   "outputs": [],
   "execution_count": null
  },
  {
   "metadata": {},
   "cell_type": "code",
   "source": [
    "# Before over-sampling\n",
    "plt.subplots(figsize=(5,5))\n",
    "sns.countplot(x=data[uci.UCIHeartDiseaseData.target])\n",
    "\n",
    "# After over-sampling\n",
    "plt.subplots(figsize=(5,5))\n",
    "sns.countplot(x=y_b)"
   ],
   "id": "32ad6c2c1c2a9796",
   "outputs": [],
   "execution_count": null
  },
  {
   "metadata": {},
   "cell_type": "code",
   "source": [
    "# Evaluation: Over-sampled Base\n",
    "build_and_validate_base_model(X_b, y_b, ev.EvaluationType.os_base)"
   ],
   "id": "388a8e475befd119",
   "outputs": [],
   "execution_count": null
  },
  {
   "metadata": {},
   "cell_type": "code",
   "source": [
    "# Evaluation: Over-sampled Grid Search CV\n",
    "build_and_validate_with_grid_search_cv(X_b, y_b, ev.EvaluationType.os_grid_search_cv)"
   ],
   "id": "c7cca0fd48de349d",
   "outputs": [],
   "execution_count": null
  },
  {
   "metadata": {},
   "cell_type": "code",
   "source": [
    "# Evaluation: Over-sampled Random Search CV\n",
    "build_and_validate_with_random_search_cv(X_b, y_b, ev.EvaluationType.os_random_search_cv)"
   ],
   "id": "357c4277d918393d",
   "outputs": [],
   "execution_count": null
  },
  {
   "metadata": {},
   "cell_type": "code",
   "source": "print(ev.accuracies)",
   "id": "3629168643044700",
   "outputs": [],
   "execution_count": null
  },
  {
   "metadata": {},
   "cell_type": "markdown",
   "source": "## Conclusion",
   "id": "5fbb3decbf32b3da"
  },
  {
   "metadata": {},
   "cell_type": "code",
   "source": [
    "plt.bar(range(len(ev.accuracies)), list(ev.accuracies.values()), align='center')\n",
    "plt.xticks(range(len(ev.accuracies)), list(ev.accuracies.keys()))\n",
    "\n",
    "plt.show()"
   ],
   "id": "42ec4ae45974874a",
   "outputs": [],
   "execution_count": null
  },
  {
   "metadata": {},
   "cell_type": "code",
   "source": [
    "### Register the highest in global\n",
    "ev.global_accuracies['DT'] = 87"
   ],
   "id": "5c5750b2ab2fd8d1",
   "outputs": [],
   "execution_count": null
  }
 ],
 "metadata": {
  "kernelspec": {
   "display_name": "Python 3",
   "language": "python",
   "name": "python3"
  },
  "language_info": {
   "codemirror_mode": {
    "name": "ipython",
    "version": 2
   },
   "file_extension": ".py",
   "mimetype": "text/x-python",
   "name": "python",
   "nbconvert_exporter": "python",
   "pygments_lexer": "ipython2",
   "version": "2.7.6"
  }
 },
 "nbformat": 4,
 "nbformat_minor": 5
}
