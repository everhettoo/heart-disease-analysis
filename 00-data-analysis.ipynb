{
 "cells": [
  {
   "metadata": {
    "ExecuteTime": {
     "end_time": "2024-12-03T07:52:43.011142Z",
     "start_time": "2024-12-03T07:52:26.897676Z"
    }
   },
   "cell_type": "code",
   "source": [
    "file_path = 'data/cleveland.data'\n",
    "\n",
    "with open(file_path, 'rb') as file:\n",
    "    file_content = file.read()\n",
    "\n",
    "dat1 = file_content.split(b'\\n')\n",
    "str1  =dat1[0].decode('utf-8')\n",
    "\n",
    "print(file_content.decode(encoding='ascii'))"
   ],
   "id": "76f99600267563b0",
   "outputs": [
    {
     "ename": "KeyboardInterrupt",
     "evalue": "",
     "output_type": "error",
     "traceback": [
      "\u001B[0;31m---------------------------------------------------------------------------\u001B[0m",
      "\u001B[0;31mKeyboardInterrupt\u001B[0m                         Traceback (most recent call last)",
      "Cell \u001B[0;32mIn[68], line 9\u001B[0m\n\u001B[1;32m      6\u001B[0m dat1 \u001B[38;5;241m=\u001B[39m file_content\u001B[38;5;241m.\u001B[39msplit(\u001B[38;5;124mb\u001B[39m\u001B[38;5;124m'\u001B[39m\u001B[38;5;130;01m\\n\u001B[39;00m\u001B[38;5;124m'\u001B[39m)\n\u001B[1;32m      7\u001B[0m str1  \u001B[38;5;241m=\u001B[39mdat1[\u001B[38;5;241m0\u001B[39m]\u001B[38;5;241m.\u001B[39mdecode(\u001B[38;5;124m'\u001B[39m\u001B[38;5;124mutf-8\u001B[39m\u001B[38;5;124m'\u001B[39m)\n\u001B[0;32m----> 9\u001B[0m \u001B[38;5;28mprint\u001B[39m(file_content\u001B[38;5;241m.\u001B[39mdecode(encoding\u001B[38;5;241m=\u001B[39m\u001B[38;5;124m'\u001B[39m\u001B[38;5;124mascii\u001B[39m\u001B[38;5;124m'\u001B[39m))\n",
      "File \u001B[0;32m_pydevd_bundle/pydevd_cython_darwin_312_64.pyx:1187\u001B[0m, in \u001B[0;36m_pydevd_bundle.pydevd_cython_darwin_312_64.SafeCallWrapper.__call__\u001B[0;34m()\u001B[0m\n",
      "File \u001B[0;32m_pydevd_bundle/pydevd_cython_darwin_312_64.pyx:627\u001B[0m, in \u001B[0;36m_pydevd_bundle.pydevd_cython_darwin_312_64.PyDBFrame.trace_dispatch\u001B[0;34m()\u001B[0m\n",
      "File \u001B[0;32m_pydevd_bundle/pydevd_cython_darwin_312_64.pyx:1103\u001B[0m, in \u001B[0;36m_pydevd_bundle.pydevd_cython_darwin_312_64.PyDBFrame.trace_dispatch\u001B[0;34m()\u001B[0m\n",
      "File \u001B[0;32m_pydevd_bundle/pydevd_cython_darwin_312_64.pyx:1061\u001B[0m, in \u001B[0;36m_pydevd_bundle.pydevd_cython_darwin_312_64.PyDBFrame.trace_dispatch\u001B[0;34m()\u001B[0m\n",
      "File \u001B[0;32m~/Applications/PyCharm Professional Edition.app/Contents/plugins/python/helpers-pro/jupyter_debug/pydev_jupyter_plugin.py:169\u001B[0m, in \u001B[0;36mstop\u001B[0;34m(plugin, pydb, frame, event, args, stop_info, arg, step_cmd)\u001B[0m\n\u001B[1;32m    167\u001B[0m     frame \u001B[38;5;241m=\u001B[39m suspend_jupyter(main_debugger, thread, frame, step_cmd)\n\u001B[1;32m    168\u001B[0m     \u001B[38;5;28;01mif\u001B[39;00m frame:\n\u001B[0;32m--> 169\u001B[0m         main_debugger\u001B[38;5;241m.\u001B[39mdo_wait_suspend(thread, frame, event, arg)\n\u001B[1;32m    170\u001B[0m         \u001B[38;5;28;01mreturn\u001B[39;00m \u001B[38;5;28;01mTrue\u001B[39;00m\n\u001B[1;32m    171\u001B[0m \u001B[38;5;28;01mreturn\u001B[39;00m \u001B[38;5;28;01mFalse\u001B[39;00m\n",
      "File \u001B[0;32m~/Applications/PyCharm Professional Edition.app/Contents/plugins/python-ce/helpers/pydev/pydevd.py:1220\u001B[0m, in \u001B[0;36mPyDB.do_wait_suspend\u001B[0;34m(self, thread, frame, event, arg, send_suspend_message, is_unhandled_exception)\u001B[0m\n\u001B[1;32m   1217\u001B[0m         from_this_thread\u001B[38;5;241m.\u001B[39mappend(frame_id)\n\u001B[1;32m   1219\u001B[0m \u001B[38;5;28;01mwith\u001B[39;00m \u001B[38;5;28mself\u001B[39m\u001B[38;5;241m.\u001B[39m_threads_suspended_single_notification\u001B[38;5;241m.\u001B[39mnotify_thread_suspended(thread_id, stop_reason):\n\u001B[0;32m-> 1220\u001B[0m     \u001B[38;5;28mself\u001B[39m\u001B[38;5;241m.\u001B[39m_do_wait_suspend(thread, frame, event, arg, suspend_type, from_this_thread)\n",
      "File \u001B[0;32m~/Applications/PyCharm Professional Edition.app/Contents/plugins/python-ce/helpers/pydev/pydevd.py:1235\u001B[0m, in \u001B[0;36mPyDB._do_wait_suspend\u001B[0;34m(self, thread, frame, event, arg, suspend_type, from_this_thread)\u001B[0m\n\u001B[1;32m   1232\u001B[0m             \u001B[38;5;28mself\u001B[39m\u001B[38;5;241m.\u001B[39m_call_mpl_hook()\n\u001B[1;32m   1234\u001B[0m         \u001B[38;5;28mself\u001B[39m\u001B[38;5;241m.\u001B[39mprocess_internal_commands()\n\u001B[0;32m-> 1235\u001B[0m         time\u001B[38;5;241m.\u001B[39msleep(\u001B[38;5;241m0.01\u001B[39m)\n\u001B[1;32m   1237\u001B[0m \u001B[38;5;28mself\u001B[39m\u001B[38;5;241m.\u001B[39mcancel_async_evaluation(get_current_thread_id(thread), \u001B[38;5;28mstr\u001B[39m(\u001B[38;5;28mid\u001B[39m(frame)))\n\u001B[1;32m   1239\u001B[0m \u001B[38;5;66;03m# process any stepping instructions\u001B[39;00m\n",
      "\u001B[0;31mKeyboardInterrupt\u001B[0m: "
     ]
    }
   ],
   "execution_count": 68
  },
  {
   "cell_type": "code",
   "id": "initial_id",
   "metadata": {
    "collapsed": true,
    "ExecuteTime": {
     "end_time": "2024-12-03T08:33:09.968695Z",
     "start_time": "2024-12-03T08:33:08.967904Z"
    }
   },
   "source": [
    "import pandas as pd\n",
    "\n",
    "data = pd.read_csv('data/processed.cleveland.data')\n",
    "\n",
    "data"
   ],
   "outputs": [
    {
     "data": {
      "text/plain": [
       "     63.0  1.0  1.0.1  145.0  233.0  1.0.2  2.0  150.0  0.0  2.3  3.0 0.0.1  \\\n",
       "0    67.0  1.0    4.0  160.0  286.0    0.0  2.0  108.0  1.0  1.5  2.0   3.0   \n",
       "1    67.0  1.0    4.0  120.0  229.0    0.0  2.0  129.0  1.0  2.6  2.0   2.0   \n",
       "2    37.0  1.0    3.0  130.0  250.0    0.0  0.0  187.0  0.0  3.5  3.0   0.0   \n",
       "3    41.0  0.0    2.0  130.0  204.0    0.0  2.0  172.0  0.0  1.4  1.0   0.0   \n",
       "4    56.0  1.0    2.0  120.0  236.0    0.0  0.0  178.0  0.0  0.8  1.0   0.0   \n",
       "..    ...  ...    ...    ...    ...    ...  ...    ...  ...  ...  ...   ...   \n",
       "297  45.0  1.0    1.0  110.0  264.0    0.0  0.0  132.0  0.0  1.2  2.0   0.0   \n",
       "298  68.0  1.0    4.0  144.0  193.0    1.0  0.0  141.0  0.0  3.4  2.0   2.0   \n",
       "299  57.0  1.0    4.0  130.0  131.0    0.0  0.0  115.0  1.0  1.2  2.0   1.0   \n",
       "300  57.0  0.0    2.0  130.0  236.0    0.0  2.0  174.0  0.0  0.0  2.0   1.0   \n",
       "301  38.0  1.0    3.0  138.0  175.0    0.0  0.0  173.0  0.0  0.0  1.0     ?   \n",
       "\n",
       "     6.0  0  \n",
       "0    3.0  2  \n",
       "1    7.0  1  \n",
       "2    3.0  0  \n",
       "3    3.0  0  \n",
       "4    3.0  0  \n",
       "..   ... ..  \n",
       "297  7.0  1  \n",
       "298  7.0  2  \n",
       "299  7.0  3  \n",
       "300  3.0  1  \n",
       "301  3.0  0  \n",
       "\n",
       "[302 rows x 14 columns]"
      ],
      "text/html": [
       "<div>\n",
       "<style scoped>\n",
       "    .dataframe tbody tr th:only-of-type {\n",
       "        vertical-align: middle;\n",
       "    }\n",
       "\n",
       "    .dataframe tbody tr th {\n",
       "        vertical-align: top;\n",
       "    }\n",
       "\n",
       "    .dataframe thead th {\n",
       "        text-align: right;\n",
       "    }\n",
       "</style>\n",
       "<table border=\"1\" class=\"dataframe\">\n",
       "  <thead>\n",
       "    <tr style=\"text-align: right;\">\n",
       "      <th></th>\n",
       "      <th>63.0</th>\n",
       "      <th>1.0</th>\n",
       "      <th>1.0.1</th>\n",
       "      <th>145.0</th>\n",
       "      <th>233.0</th>\n",
       "      <th>1.0.2</th>\n",
       "      <th>2.0</th>\n",
       "      <th>150.0</th>\n",
       "      <th>0.0</th>\n",
       "      <th>2.3</th>\n",
       "      <th>3.0</th>\n",
       "      <th>0.0.1</th>\n",
       "      <th>6.0</th>\n",
       "      <th>0</th>\n",
       "    </tr>\n",
       "  </thead>\n",
       "  <tbody>\n",
       "    <tr>\n",
       "      <th>0</th>\n",
       "      <td>67.0</td>\n",
       "      <td>1.0</td>\n",
       "      <td>4.0</td>\n",
       "      <td>160.0</td>\n",
       "      <td>286.0</td>\n",
       "      <td>0.0</td>\n",
       "      <td>2.0</td>\n",
       "      <td>108.0</td>\n",
       "      <td>1.0</td>\n",
       "      <td>1.5</td>\n",
       "      <td>2.0</td>\n",
       "      <td>3.0</td>\n",
       "      <td>3.0</td>\n",
       "      <td>2</td>\n",
       "    </tr>\n",
       "    <tr>\n",
       "      <th>1</th>\n",
       "      <td>67.0</td>\n",
       "      <td>1.0</td>\n",
       "      <td>4.0</td>\n",
       "      <td>120.0</td>\n",
       "      <td>229.0</td>\n",
       "      <td>0.0</td>\n",
       "      <td>2.0</td>\n",
       "      <td>129.0</td>\n",
       "      <td>1.0</td>\n",
       "      <td>2.6</td>\n",
       "      <td>2.0</td>\n",
       "      <td>2.0</td>\n",
       "      <td>7.0</td>\n",
       "      <td>1</td>\n",
       "    </tr>\n",
       "    <tr>\n",
       "      <th>2</th>\n",
       "      <td>37.0</td>\n",
       "      <td>1.0</td>\n",
       "      <td>3.0</td>\n",
       "      <td>130.0</td>\n",
       "      <td>250.0</td>\n",
       "      <td>0.0</td>\n",
       "      <td>0.0</td>\n",
       "      <td>187.0</td>\n",
       "      <td>0.0</td>\n",
       "      <td>3.5</td>\n",
       "      <td>3.0</td>\n",
       "      <td>0.0</td>\n",
       "      <td>3.0</td>\n",
       "      <td>0</td>\n",
       "    </tr>\n",
       "    <tr>\n",
       "      <th>3</th>\n",
       "      <td>41.0</td>\n",
       "      <td>0.0</td>\n",
       "      <td>2.0</td>\n",
       "      <td>130.0</td>\n",
       "      <td>204.0</td>\n",
       "      <td>0.0</td>\n",
       "      <td>2.0</td>\n",
       "      <td>172.0</td>\n",
       "      <td>0.0</td>\n",
       "      <td>1.4</td>\n",
       "      <td>1.0</td>\n",
       "      <td>0.0</td>\n",
       "      <td>3.0</td>\n",
       "      <td>0</td>\n",
       "    </tr>\n",
       "    <tr>\n",
       "      <th>4</th>\n",
       "      <td>56.0</td>\n",
       "      <td>1.0</td>\n",
       "      <td>2.0</td>\n",
       "      <td>120.0</td>\n",
       "      <td>236.0</td>\n",
       "      <td>0.0</td>\n",
       "      <td>0.0</td>\n",
       "      <td>178.0</td>\n",
       "      <td>0.0</td>\n",
       "      <td>0.8</td>\n",
       "      <td>1.0</td>\n",
       "      <td>0.0</td>\n",
       "      <td>3.0</td>\n",
       "      <td>0</td>\n",
       "    </tr>\n",
       "    <tr>\n",
       "      <th>...</th>\n",
       "      <td>...</td>\n",
       "      <td>...</td>\n",
       "      <td>...</td>\n",
       "      <td>...</td>\n",
       "      <td>...</td>\n",
       "      <td>...</td>\n",
       "      <td>...</td>\n",
       "      <td>...</td>\n",
       "      <td>...</td>\n",
       "      <td>...</td>\n",
       "      <td>...</td>\n",
       "      <td>...</td>\n",
       "      <td>...</td>\n",
       "      <td>...</td>\n",
       "    </tr>\n",
       "    <tr>\n",
       "      <th>297</th>\n",
       "      <td>45.0</td>\n",
       "      <td>1.0</td>\n",
       "      <td>1.0</td>\n",
       "      <td>110.0</td>\n",
       "      <td>264.0</td>\n",
       "      <td>0.0</td>\n",
       "      <td>0.0</td>\n",
       "      <td>132.0</td>\n",
       "      <td>0.0</td>\n",
       "      <td>1.2</td>\n",
       "      <td>2.0</td>\n",
       "      <td>0.0</td>\n",
       "      <td>7.0</td>\n",
       "      <td>1</td>\n",
       "    </tr>\n",
       "    <tr>\n",
       "      <th>298</th>\n",
       "      <td>68.0</td>\n",
       "      <td>1.0</td>\n",
       "      <td>4.0</td>\n",
       "      <td>144.0</td>\n",
       "      <td>193.0</td>\n",
       "      <td>1.0</td>\n",
       "      <td>0.0</td>\n",
       "      <td>141.0</td>\n",
       "      <td>0.0</td>\n",
       "      <td>3.4</td>\n",
       "      <td>2.0</td>\n",
       "      <td>2.0</td>\n",
       "      <td>7.0</td>\n",
       "      <td>2</td>\n",
       "    </tr>\n",
       "    <tr>\n",
       "      <th>299</th>\n",
       "      <td>57.0</td>\n",
       "      <td>1.0</td>\n",
       "      <td>4.0</td>\n",
       "      <td>130.0</td>\n",
       "      <td>131.0</td>\n",
       "      <td>0.0</td>\n",
       "      <td>0.0</td>\n",
       "      <td>115.0</td>\n",
       "      <td>1.0</td>\n",
       "      <td>1.2</td>\n",
       "      <td>2.0</td>\n",
       "      <td>1.0</td>\n",
       "      <td>7.0</td>\n",
       "      <td>3</td>\n",
       "    </tr>\n",
       "    <tr>\n",
       "      <th>300</th>\n",
       "      <td>57.0</td>\n",
       "      <td>0.0</td>\n",
       "      <td>2.0</td>\n",
       "      <td>130.0</td>\n",
       "      <td>236.0</td>\n",
       "      <td>0.0</td>\n",
       "      <td>2.0</td>\n",
       "      <td>174.0</td>\n",
       "      <td>0.0</td>\n",
       "      <td>0.0</td>\n",
       "      <td>2.0</td>\n",
       "      <td>1.0</td>\n",
       "      <td>3.0</td>\n",
       "      <td>1</td>\n",
       "    </tr>\n",
       "    <tr>\n",
       "      <th>301</th>\n",
       "      <td>38.0</td>\n",
       "      <td>1.0</td>\n",
       "      <td>3.0</td>\n",
       "      <td>138.0</td>\n",
       "      <td>175.0</td>\n",
       "      <td>0.0</td>\n",
       "      <td>0.0</td>\n",
       "      <td>173.0</td>\n",
       "      <td>0.0</td>\n",
       "      <td>0.0</td>\n",
       "      <td>1.0</td>\n",
       "      <td>?</td>\n",
       "      <td>3.0</td>\n",
       "      <td>0</td>\n",
       "    </tr>\n",
       "  </tbody>\n",
       "</table>\n",
       "<p>302 rows × 14 columns</p>\n",
       "</div>"
      ]
     },
     "execution_count": 1,
     "metadata": {},
     "output_type": "execute_result"
    }
   ],
   "execution_count": 1
  },
  {
   "metadata": {
    "ExecuteTime": {
     "end_time": "2024-11-29T11:38:49.031171Z",
     "start_time": "2024-11-29T11:38:47.657724Z"
    }
   },
   "cell_type": "code",
   "source": [
    "from ucimlrepo import fetch_ucirepo, list_available_datasets\n",
    "\n",
    "# check which datasets can be imported\n",
    "# list_available_datasets()\n",
    "\n",
    "# # import dataset\n",
    "heart_disease = fetch_ucirepo(id=45)\n",
    "# data = heart_disease.data.original\n",
    "print(heart_disease.metadata.description)\n",
    "# data.shape\n",
    "\n",
    "\n",
    "# alternatively: fetch_ucirepo(name='Heart Disease')\n",
    "#\n",
    "# # access data\n",
    "# X = heart_disease.data.features\n",
    "# y = heart_disease.data.targets\n",
    "# # train model e.g. sklearn.linear_model.LinearRegression().fit(X, y)\n",
    "#\n",
    "# # access metadata\n",
    "# print(heart_disease.metadata.uci_id)\n",
    "# print(heart_disease.metadata.num_instances)\n",
    "# print(heart_disease.metadata.additional_info.summary)\n",
    "#\n",
    "# # access variable info in tabular format\n",
    "# print(heart_disease.variables)"
   ],
   "id": "7176123d344ffa70",
   "outputs": [
    {
     "name": "stdout",
     "output_type": "stream",
     "text": [
      "None\n"
     ]
    }
   ],
   "execution_count": 26
  },
  {
   "metadata": {
    "ExecuteTime": {
     "end_time": "2024-12-03T06:25:54.023854Z",
     "start_time": "2024-12-03T06:25:53.647880Z"
    }
   },
   "cell_type": "code",
   "source": [
    "import numpy as np\n",
    "import pandas as pd\n",
    "\n",
    "# Create a dtype with the binary data format and the desired column names\n",
    "dt = np.dtype([('a', 'i4'), ('b', 'i4'), ('c', 'i4'), ('d', 'f4'), ('e', 'i4'),\n",
    "               ('f', 'i4', (256,))])\n",
    "data = np.fromfile('data/cleveland.data', dtype=dt)\n",
    "df = pd.DataFrame(data)\n",
    "\n",
    "# Or if you want to explicitly set the column names\n",
    "df = pd.DataFrame(data, columns=data.dtype.names)"
   ],
   "id": "e2ef09db493ebf16",
   "outputs": [
    {
     "ename": "ValueError",
     "evalue": "Data must be 1-dimensional, got ndarray of shape (58, 256) instead",
     "output_type": "error",
     "traceback": [
      "\u001B[0;31m---------------------------------------------------------------------------\u001B[0m",
      "\u001B[0;31mValueError\u001B[0m                                Traceback (most recent call last)",
      "Cell \u001B[0;32mIn[4], line 8\u001B[0m\n\u001B[1;32m      5\u001B[0m dt \u001B[38;5;241m=\u001B[39m np\u001B[38;5;241m.\u001B[39mdtype([(\u001B[38;5;124m'\u001B[39m\u001B[38;5;124ma\u001B[39m\u001B[38;5;124m'\u001B[39m, \u001B[38;5;124m'\u001B[39m\u001B[38;5;124mi4\u001B[39m\u001B[38;5;124m'\u001B[39m), (\u001B[38;5;124m'\u001B[39m\u001B[38;5;124mb\u001B[39m\u001B[38;5;124m'\u001B[39m, \u001B[38;5;124m'\u001B[39m\u001B[38;5;124mi4\u001B[39m\u001B[38;5;124m'\u001B[39m), (\u001B[38;5;124m'\u001B[39m\u001B[38;5;124mc\u001B[39m\u001B[38;5;124m'\u001B[39m, \u001B[38;5;124m'\u001B[39m\u001B[38;5;124mi4\u001B[39m\u001B[38;5;124m'\u001B[39m), (\u001B[38;5;124m'\u001B[39m\u001B[38;5;124md\u001B[39m\u001B[38;5;124m'\u001B[39m, \u001B[38;5;124m'\u001B[39m\u001B[38;5;124mf4\u001B[39m\u001B[38;5;124m'\u001B[39m), (\u001B[38;5;124m'\u001B[39m\u001B[38;5;124me\u001B[39m\u001B[38;5;124m'\u001B[39m, \u001B[38;5;124m'\u001B[39m\u001B[38;5;124mi4\u001B[39m\u001B[38;5;124m'\u001B[39m),\n\u001B[1;32m      6\u001B[0m                (\u001B[38;5;124m'\u001B[39m\u001B[38;5;124mf\u001B[39m\u001B[38;5;124m'\u001B[39m, \u001B[38;5;124m'\u001B[39m\u001B[38;5;124mi4\u001B[39m\u001B[38;5;124m'\u001B[39m, (\u001B[38;5;241m256\u001B[39m,))])\n\u001B[1;32m      7\u001B[0m data \u001B[38;5;241m=\u001B[39m np\u001B[38;5;241m.\u001B[39mfromfile(\u001B[38;5;124m'\u001B[39m\u001B[38;5;124mdata/cleveland.data\u001B[39m\u001B[38;5;124m'\u001B[39m, dtype\u001B[38;5;241m=\u001B[39mdt)\n\u001B[0;32m----> 8\u001B[0m df \u001B[38;5;241m=\u001B[39m pd\u001B[38;5;241m.\u001B[39mDataFrame(data)\n\u001B[1;32m     10\u001B[0m \u001B[38;5;66;03m# Or if you want to explicitly set the column names\u001B[39;00m\n\u001B[1;32m     11\u001B[0m df \u001B[38;5;241m=\u001B[39m pd\u001B[38;5;241m.\u001B[39mDataFrame(data, columns\u001B[38;5;241m=\u001B[39mdata\u001B[38;5;241m.\u001B[39mdtype\u001B[38;5;241m.\u001B[39mnames)\n",
      "File \u001B[0;32m~/miniconda3/lib/python3.12/site-packages/pandas/core/frame.py:805\u001B[0m, in \u001B[0;36mDataFrame.__init__\u001B[0;34m(self, data, index, columns, dtype, copy)\u001B[0m\n\u001B[1;32m    802\u001B[0m \u001B[38;5;28;01mif\u001B[39;00m data\u001B[38;5;241m.\u001B[39mdtype\u001B[38;5;241m.\u001B[39mnames:\n\u001B[1;32m    803\u001B[0m     \u001B[38;5;66;03m# i.e. numpy structured array\u001B[39;00m\n\u001B[1;32m    804\u001B[0m     data \u001B[38;5;241m=\u001B[39m cast(np\u001B[38;5;241m.\u001B[39mndarray, data)\n\u001B[0;32m--> 805\u001B[0m     mgr \u001B[38;5;241m=\u001B[39m rec_array_to_mgr(\n\u001B[1;32m    806\u001B[0m         data,\n\u001B[1;32m    807\u001B[0m         index,\n\u001B[1;32m    808\u001B[0m         columns,\n\u001B[1;32m    809\u001B[0m         dtype,\n\u001B[1;32m    810\u001B[0m         copy,\n\u001B[1;32m    811\u001B[0m         typ\u001B[38;5;241m=\u001B[39mmanager,\n\u001B[1;32m    812\u001B[0m     )\n\u001B[1;32m    813\u001B[0m \u001B[38;5;28;01melif\u001B[39;00m \u001B[38;5;28mgetattr\u001B[39m(data, \u001B[38;5;124m\"\u001B[39m\u001B[38;5;124mname\u001B[39m\u001B[38;5;124m\"\u001B[39m, \u001B[38;5;28;01mNone\u001B[39;00m) \u001B[38;5;129;01mis\u001B[39;00m \u001B[38;5;129;01mnot\u001B[39;00m \u001B[38;5;28;01mNone\u001B[39;00m:\n\u001B[1;32m    814\u001B[0m     \u001B[38;5;66;03m# i.e. Series/Index with non-None name\u001B[39;00m\n\u001B[1;32m    815\u001B[0m     _copy \u001B[38;5;241m=\u001B[39m copy \u001B[38;5;28;01mif\u001B[39;00m using_copy_on_write() \u001B[38;5;28;01melse\u001B[39;00m \u001B[38;5;28;01mTrue\u001B[39;00m\n",
      "File \u001B[0;32m~/miniconda3/lib/python3.12/site-packages/pandas/core/internals/construction.py:189\u001B[0m, in \u001B[0;36mrec_array_to_mgr\u001B[0;34m(data, index, columns, dtype, copy, typ)\u001B[0m\n\u001B[1;32m    186\u001B[0m \u001B[38;5;28;01mif\u001B[39;00m columns \u001B[38;5;129;01mis\u001B[39;00m \u001B[38;5;28;01mNone\u001B[39;00m:\n\u001B[1;32m    187\u001B[0m     columns \u001B[38;5;241m=\u001B[39m arr_columns\n\u001B[0;32m--> 189\u001B[0m mgr \u001B[38;5;241m=\u001B[39m arrays_to_mgr(arrays, columns, index, dtype\u001B[38;5;241m=\u001B[39mdtype, typ\u001B[38;5;241m=\u001B[39mtyp)\n\u001B[1;32m    191\u001B[0m \u001B[38;5;28;01mif\u001B[39;00m copy:\n\u001B[1;32m    192\u001B[0m     mgr \u001B[38;5;241m=\u001B[39m mgr\u001B[38;5;241m.\u001B[39mcopy()\n",
      "File \u001B[0;32m~/miniconda3/lib/python3.12/site-packages/pandas/core/internals/construction.py:119\u001B[0m, in \u001B[0;36marrays_to_mgr\u001B[0;34m(arrays, columns, index, dtype, verify_integrity, typ, consolidate)\u001B[0m\n\u001B[1;32m    116\u001B[0m         index \u001B[38;5;241m=\u001B[39m ensure_index(index)\n\u001B[1;32m    118\u001B[0m     \u001B[38;5;66;03m# don't force copy because getting jammed in an ndarray anyway\u001B[39;00m\n\u001B[0;32m--> 119\u001B[0m     arrays, refs \u001B[38;5;241m=\u001B[39m _homogenize(arrays, index, dtype)\n\u001B[1;32m    120\u001B[0m     \u001B[38;5;66;03m# _homogenize ensures\u001B[39;00m\n\u001B[1;32m    121\u001B[0m     \u001B[38;5;66;03m#  - all(len(x) == len(index) for x in arrays)\u001B[39;00m\n\u001B[1;32m    122\u001B[0m     \u001B[38;5;66;03m#  - all(x.ndim == 1 for x in arrays)\u001B[39;00m\n\u001B[0;32m   (...)\u001B[0m\n\u001B[1;32m    125\u001B[0m \n\u001B[1;32m    126\u001B[0m \u001B[38;5;28;01melse\u001B[39;00m:\n\u001B[1;32m    127\u001B[0m     index \u001B[38;5;241m=\u001B[39m ensure_index(index)\n",
      "File \u001B[0;32m~/miniconda3/lib/python3.12/site-packages/pandas/core/internals/construction.py:629\u001B[0m, in \u001B[0;36m_homogenize\u001B[0;34m(data, index, dtype)\u001B[0m\n\u001B[1;32m    626\u001B[0m         val \u001B[38;5;241m=\u001B[39m \u001B[38;5;28mdict\u001B[39m(val)\n\u001B[1;32m    627\u001B[0m     val \u001B[38;5;241m=\u001B[39m lib\u001B[38;5;241m.\u001B[39mfast_multiget(val, oindex\u001B[38;5;241m.\u001B[39m_values, default\u001B[38;5;241m=\u001B[39mnp\u001B[38;5;241m.\u001B[39mnan)\n\u001B[0;32m--> 629\u001B[0m val \u001B[38;5;241m=\u001B[39m sanitize_array(val, index, dtype\u001B[38;5;241m=\u001B[39mdtype, copy\u001B[38;5;241m=\u001B[39m\u001B[38;5;28;01mFalse\u001B[39;00m)\n\u001B[1;32m    630\u001B[0m com\u001B[38;5;241m.\u001B[39mrequire_length_match(val, index)\n\u001B[1;32m    631\u001B[0m refs\u001B[38;5;241m.\u001B[39mappend(\u001B[38;5;28;01mNone\u001B[39;00m)\n",
      "File \u001B[0;32m~/miniconda3/lib/python3.12/site-packages/pandas/core/construction.py:659\u001B[0m, in \u001B[0;36msanitize_array\u001B[0;34m(data, index, dtype, copy, allow_2d)\u001B[0m\n\u001B[1;32m    656\u001B[0m             subarr \u001B[38;5;241m=\u001B[39m cast(np\u001B[38;5;241m.\u001B[39mndarray, subarr)\n\u001B[1;32m    657\u001B[0m             subarr \u001B[38;5;241m=\u001B[39m maybe_infer_to_datetimelike(subarr)\n\u001B[0;32m--> 659\u001B[0m subarr \u001B[38;5;241m=\u001B[39m _sanitize_ndim(subarr, data, dtype, index, allow_2d\u001B[38;5;241m=\u001B[39mallow_2d)\n\u001B[1;32m    661\u001B[0m \u001B[38;5;28;01mif\u001B[39;00m \u001B[38;5;28misinstance\u001B[39m(subarr, np\u001B[38;5;241m.\u001B[39mndarray):\n\u001B[1;32m    662\u001B[0m     \u001B[38;5;66;03m# at this point we should have dtype be None or subarr.dtype == dtype\u001B[39;00m\n\u001B[1;32m    663\u001B[0m     dtype \u001B[38;5;241m=\u001B[39m cast(np\u001B[38;5;241m.\u001B[39mdtype, dtype)\n",
      "File \u001B[0;32m~/miniconda3/lib/python3.12/site-packages/pandas/core/construction.py:718\u001B[0m, in \u001B[0;36m_sanitize_ndim\u001B[0;34m(result, data, dtype, index, allow_2d)\u001B[0m\n\u001B[1;32m    716\u001B[0m     \u001B[38;5;28;01mif\u001B[39;00m allow_2d:\n\u001B[1;32m    717\u001B[0m         \u001B[38;5;28;01mreturn\u001B[39;00m result\n\u001B[0;32m--> 718\u001B[0m     \u001B[38;5;28;01mraise\u001B[39;00m \u001B[38;5;167;01mValueError\u001B[39;00m(\n\u001B[1;32m    719\u001B[0m         \u001B[38;5;124mf\u001B[39m\u001B[38;5;124m\"\u001B[39m\u001B[38;5;124mData must be 1-dimensional, got ndarray of shape \u001B[39m\u001B[38;5;132;01m{\u001B[39;00mdata\u001B[38;5;241m.\u001B[39mshape\u001B[38;5;132;01m}\u001B[39;00m\u001B[38;5;124m instead\u001B[39m\u001B[38;5;124m\"\u001B[39m\n\u001B[1;32m    720\u001B[0m     )\n\u001B[1;32m    721\u001B[0m \u001B[38;5;28;01mif\u001B[39;00m is_object_dtype(dtype) \u001B[38;5;129;01mand\u001B[39;00m \u001B[38;5;28misinstance\u001B[39m(dtype, ExtensionDtype):\n\u001B[1;32m    722\u001B[0m     \u001B[38;5;66;03m# i.e. NumpyEADtype(\"O\")\u001B[39;00m\n\u001B[1;32m    724\u001B[0m     result \u001B[38;5;241m=\u001B[39m com\u001B[38;5;241m.\u001B[39masarray_tuplesafe(data, dtype\u001B[38;5;241m=\u001B[39mnp\u001B[38;5;241m.\u001B[39mdtype(\u001B[38;5;124m\"\u001B[39m\u001B[38;5;124mobject\u001B[39m\u001B[38;5;124m\"\u001B[39m))\n",
      "\u001B[0;31mValueError\u001B[0m: Data must be 1-dimensional, got ndarray of shape (58, 256) instead"
     ]
    }
   ],
   "execution_count": 4
  },
  {
   "metadata": {
    "ExecuteTime": {
     "end_time": "2024-12-03T06:36:06.644323Z",
     "start_time": "2024-12-03T06:36:06.631630Z"
    }
   },
   "cell_type": "code",
   "source": [
    "# Opening the binary file in binary mode as rb(read binary)\n",
    "f = open('data/cleveland.data', mode='rb', encoding='binary')\n",
    "\n",
    "# Reading file data with read() method\n",
    "data = f.read()\n",
    "\n",
    "# Knowing the Type of our data\n",
    "print(type(data))\n",
    "b'1 0 63 1 -9 -9 -9\\n', b'-9 1 145 1 233 -9 50 20\\n', b'1 -9 1 2 2 3 81 0\\n', b'0 0 0 0 1 10.5 6 13\\n', b'150 60 190 90 145 85 0 0\\n', b'2.3 3 -9 172 0 -9 -9 -9\\n', b'-9 -9 -9 6 -9 -9 -9 2\\n', b'16 81 0 1 1 1 -9 1\\n', b'-9 1 -9 1 1 1 1 1\\n', b'1 1 -9 -9 name\\n\n",
    "# Printing our byte sequenced data\n",
    "print(data.decode('ascii'))\n",
    "\n",
    "# Closing the opened file\n",
    "f.close()"
   ],
   "id": "e7c5e9994f5d3c54",
   "outputs": [
    {
     "ename": "ValueError",
     "evalue": "binary mode doesn't take an encoding argument",
     "output_type": "error",
     "traceback": [
      "\u001B[0;31m---------------------------------------------------------------------------\u001B[0m",
      "\u001B[0;31mValueError\u001B[0m                                Traceback (most recent call last)",
      "Cell \u001B[0;32mIn[12], line 2\u001B[0m\n\u001B[1;32m      1\u001B[0m \u001B[38;5;66;03m# Opening the binary file in binary mode as rb(read binary)\u001B[39;00m\n\u001B[0;32m----> 2\u001B[0m f \u001B[38;5;241m=\u001B[39m \u001B[38;5;28mopen\u001B[39m(\u001B[38;5;124m'\u001B[39m\u001B[38;5;124mdata/cleveland.data\u001B[39m\u001B[38;5;124m'\u001B[39m, mode\u001B[38;5;241m=\u001B[39m\u001B[38;5;124m'\u001B[39m\u001B[38;5;124mrb\u001B[39m\u001B[38;5;124m'\u001B[39m, encoding\u001B[38;5;241m=\u001B[39m\u001B[38;5;124m'\u001B[39m\u001B[38;5;124mbinary\u001B[39m\u001B[38;5;124m'\u001B[39m)\n\u001B[1;32m      4\u001B[0m \u001B[38;5;66;03m# Reading file data with read() method\u001B[39;00m\n\u001B[1;32m      5\u001B[0m data \u001B[38;5;241m=\u001B[39m f\u001B[38;5;241m.\u001B[39mread()\n",
      "File \u001B[0;32m~/miniconda3/lib/python3.12/site-packages/IPython/core/interactiveshell.py:324\u001B[0m, in \u001B[0;36m_modified_open\u001B[0;34m(file, *args, **kwargs)\u001B[0m\n\u001B[1;32m    317\u001B[0m \u001B[38;5;28;01mif\u001B[39;00m file \u001B[38;5;129;01min\u001B[39;00m {\u001B[38;5;241m0\u001B[39m, \u001B[38;5;241m1\u001B[39m, \u001B[38;5;241m2\u001B[39m}:\n\u001B[1;32m    318\u001B[0m     \u001B[38;5;28;01mraise\u001B[39;00m \u001B[38;5;167;01mValueError\u001B[39;00m(\n\u001B[1;32m    319\u001B[0m         \u001B[38;5;124mf\u001B[39m\u001B[38;5;124m\"\u001B[39m\u001B[38;5;124mIPython won\u001B[39m\u001B[38;5;124m'\u001B[39m\u001B[38;5;124mt let you open fd=\u001B[39m\u001B[38;5;132;01m{\u001B[39;00mfile\u001B[38;5;132;01m}\u001B[39;00m\u001B[38;5;124m by default \u001B[39m\u001B[38;5;124m\"\u001B[39m\n\u001B[1;32m    320\u001B[0m         \u001B[38;5;124m\"\u001B[39m\u001B[38;5;124mas it is likely to crash IPython. If you know what you are doing, \u001B[39m\u001B[38;5;124m\"\u001B[39m\n\u001B[1;32m    321\u001B[0m         \u001B[38;5;124m\"\u001B[39m\u001B[38;5;124myou can use builtins\u001B[39m\u001B[38;5;124m'\u001B[39m\u001B[38;5;124m open.\u001B[39m\u001B[38;5;124m\"\u001B[39m\n\u001B[1;32m    322\u001B[0m     )\n\u001B[0;32m--> 324\u001B[0m \u001B[38;5;28;01mreturn\u001B[39;00m io_open(file, \u001B[38;5;241m*\u001B[39margs, \u001B[38;5;241m*\u001B[39m\u001B[38;5;241m*\u001B[39mkwargs)\n",
      "\u001B[0;31mValueError\u001B[0m: binary mode doesn't take an encoding argument"
     ]
    }
   ],
   "execution_count": 12
  },
  {
   "metadata": {
    "ExecuteTime": {
     "end_time": "2024-12-03T07:11:20.473488Z",
     "start_time": "2024-12-03T07:10:43.764292Z"
    }
   },
   "cell_type": "code",
   "source": [
    "# Python3 code to demonstrate working of\n",
    "# Converting binary to string\n",
    "# Using BinarytoDecimal(binary)+chr()\n",
    "\n",
    "\n",
    "# Defining BinarytoDecimal() function\n",
    "def BinaryToDecimal(binary):\n",
    "\n",
    "\tbinary1 = binary\n",
    "\tdecimal, i, n = 0, 0, 0\n",
    "\twhile(binary != 0):\n",
    "\t\tdec = binary % 10\n",
    "\t\tdecimal = decimal + dec * pow(2, i)\n",
    "\t\tbinary = binary//10\n",
    "\t\ti += 1\n",
    "\treturn (decimal)\n",
    "\n",
    "# Driver's code\n",
    "# initializing binary data\n",
    "bin_data ='10001111100101110010111010111110011'\n",
    "\n",
    "# print binary data\n",
    "print(\"The binary value is:\", bin_data)\n",
    "\n",
    "# initializing a empty string for\n",
    "# storing the string data\n",
    "str_data =' '\n",
    "\n",
    "# slicing the input and converting it\n",
    "# in decimal and then converting it in string\n",
    "for i in range(0, len(bin_data), 7):\n",
    "\n",
    "\t# slicing the bin_data from index range [0, 6]\n",
    "\t# and storing it as integer in temp_data\n",
    "\ttemp_data = int(bin_data[i:i + 7])\n",
    "\n",
    "\t# passing temp_data in BinarytoDecimal() function\n",
    "\t# to get decimal value of corresponding temp_data\n",
    "\tdecimal_data = BinaryToDecimal(temp_data)\n",
    "\n",
    "\t# Decoding the decimal value returned by\n",
    "\t# BinarytoDecimal() function, using chr()\n",
    "\t# function which return the string corresponding\n",
    "\t# character for given ASCII value, and store it\n",
    "\t# in str_data\n",
    "\tstr_data = str_data + chr(decimal_data)\n",
    "\n",
    "# printing the result\n",
    "print(\"The Binary value after string conversion is:\",\n",
    "\tstr_data)\n"
   ],
   "id": "33126c7c30fc31da",
   "outputs": [
    {
     "name": "stdout",
     "output_type": "stream",
     "text": [
      "The binary value is: 10001111100101110010111010111110011\n"
     ]
    },
    {
     "ename": "KeyboardInterrupt",
     "evalue": "",
     "output_type": "error",
     "traceback": [
      "\u001B[0;31m---------------------------------------------------------------------------\u001B[0m",
      "\u001B[0;31mKeyboardInterrupt\u001B[0m                         Traceback (most recent call last)",
      "Cell \u001B[0;32mIn[43], line 39\u001B[0m\n\u001B[1;32m     35\u001B[0m temp_data \u001B[38;5;241m=\u001B[39m \u001B[38;5;28mint\u001B[39m(bin_data[i:i \u001B[38;5;241m+\u001B[39m \u001B[38;5;241m7\u001B[39m])\n\u001B[1;32m     37\u001B[0m \u001B[38;5;66;03m# passing temp_data in BinarytoDecimal() function\u001B[39;00m\n\u001B[1;32m     38\u001B[0m \u001B[38;5;66;03m# to get decimal value of corresponding temp_data\u001B[39;00m\n\u001B[0;32m---> 39\u001B[0m decimal_data \u001B[38;5;241m=\u001B[39m BinaryToDecimal(temp_data)\n\u001B[1;32m     41\u001B[0m \u001B[38;5;66;03m# Decoding the decimal value returned by\u001B[39;00m\n\u001B[1;32m     42\u001B[0m \u001B[38;5;66;03m# BinarytoDecimal() function, using chr()\u001B[39;00m\n\u001B[1;32m     43\u001B[0m \u001B[38;5;66;03m# function which return the string corresponding\u001B[39;00m\n\u001B[1;32m     44\u001B[0m \u001B[38;5;66;03m# character for given ASCII value, and store it\u001B[39;00m\n\u001B[1;32m     45\u001B[0m \u001B[38;5;66;03m# in str_data\u001B[39;00m\n\u001B[1;32m     46\u001B[0m str_data \u001B[38;5;241m=\u001B[39m str_data \u001B[38;5;241m+\u001B[39m \u001B[38;5;28mchr\u001B[39m(decimal_data)\n",
      "Cell \u001B[0;32mIn[43], line 15\u001B[0m, in \u001B[0;36mBinaryToDecimal\u001B[0;34m(binary)\u001B[0m\n\u001B[1;32m     13\u001B[0m \tdecimal \u001B[38;5;241m=\u001B[39m decimal \u001B[38;5;241m+\u001B[39m dec \u001B[38;5;241m*\u001B[39m \u001B[38;5;28mpow\u001B[39m(\u001B[38;5;241m2\u001B[39m, i)\n\u001B[1;32m     14\u001B[0m \tbinary \u001B[38;5;241m=\u001B[39m binary\u001B[38;5;241m/\u001B[39m\u001B[38;5;241m/\u001B[39m\u001B[38;5;241m10\u001B[39m\n\u001B[0;32m---> 15\u001B[0m \ti \u001B[38;5;241m+\u001B[39m\u001B[38;5;241m=\u001B[39m \u001B[38;5;241m1\u001B[39m\n\u001B[1;32m     16\u001B[0m \u001B[38;5;28;01mreturn\u001B[39;00m (decimal)\n",
      "File \u001B[0;32m_pydevd_bundle/pydevd_cython_darwin_312_64.pyx:1187\u001B[0m, in \u001B[0;36m_pydevd_bundle.pydevd_cython_darwin_312_64.SafeCallWrapper.__call__\u001B[0;34m()\u001B[0m\n",
      "File \u001B[0;32m_pydevd_bundle/pydevd_cython_darwin_312_64.pyx:627\u001B[0m, in \u001B[0;36m_pydevd_bundle.pydevd_cython_darwin_312_64.PyDBFrame.trace_dispatch\u001B[0;34m()\u001B[0m\n",
      "File \u001B[0;32m_pydevd_bundle/pydevd_cython_darwin_312_64.pyx:1103\u001B[0m, in \u001B[0;36m_pydevd_bundle.pydevd_cython_darwin_312_64.PyDBFrame.trace_dispatch\u001B[0;34m()\u001B[0m\n",
      "File \u001B[0;32m_pydevd_bundle/pydevd_cython_darwin_312_64.pyx:1061\u001B[0m, in \u001B[0;36m_pydevd_bundle.pydevd_cython_darwin_312_64.PyDBFrame.trace_dispatch\u001B[0;34m()\u001B[0m\n",
      "File \u001B[0;32m~/Applications/PyCharm Professional Edition.app/Contents/plugins/python/helpers-pro/jupyter_debug/pydev_jupyter_plugin.py:169\u001B[0m, in \u001B[0;36mstop\u001B[0;34m(plugin, pydb, frame, event, args, stop_info, arg, step_cmd)\u001B[0m\n\u001B[1;32m    167\u001B[0m     frame \u001B[38;5;241m=\u001B[39m suspend_jupyter(main_debugger, thread, frame, step_cmd)\n\u001B[1;32m    168\u001B[0m     \u001B[38;5;28;01mif\u001B[39;00m frame:\n\u001B[0;32m--> 169\u001B[0m         main_debugger\u001B[38;5;241m.\u001B[39mdo_wait_suspend(thread, frame, event, arg)\n\u001B[1;32m    170\u001B[0m         \u001B[38;5;28;01mreturn\u001B[39;00m \u001B[38;5;28;01mTrue\u001B[39;00m\n\u001B[1;32m    171\u001B[0m \u001B[38;5;28;01mreturn\u001B[39;00m \u001B[38;5;28;01mFalse\u001B[39;00m\n",
      "File \u001B[0;32m~/Applications/PyCharm Professional Edition.app/Contents/plugins/python-ce/helpers/pydev/pydevd.py:1220\u001B[0m, in \u001B[0;36mPyDB.do_wait_suspend\u001B[0;34m(self, thread, frame, event, arg, send_suspend_message, is_unhandled_exception)\u001B[0m\n\u001B[1;32m   1217\u001B[0m         from_this_thread\u001B[38;5;241m.\u001B[39mappend(frame_id)\n\u001B[1;32m   1219\u001B[0m \u001B[38;5;28;01mwith\u001B[39;00m \u001B[38;5;28mself\u001B[39m\u001B[38;5;241m.\u001B[39m_threads_suspended_single_notification\u001B[38;5;241m.\u001B[39mnotify_thread_suspended(thread_id, stop_reason):\n\u001B[0;32m-> 1220\u001B[0m     \u001B[38;5;28mself\u001B[39m\u001B[38;5;241m.\u001B[39m_do_wait_suspend(thread, frame, event, arg, suspend_type, from_this_thread)\n",
      "File \u001B[0;32m~/Applications/PyCharm Professional Edition.app/Contents/plugins/python-ce/helpers/pydev/pydevd.py:1235\u001B[0m, in \u001B[0;36mPyDB._do_wait_suspend\u001B[0;34m(self, thread, frame, event, arg, suspend_type, from_this_thread)\u001B[0m\n\u001B[1;32m   1232\u001B[0m             \u001B[38;5;28mself\u001B[39m\u001B[38;5;241m.\u001B[39m_call_mpl_hook()\n\u001B[1;32m   1234\u001B[0m         \u001B[38;5;28mself\u001B[39m\u001B[38;5;241m.\u001B[39mprocess_internal_commands()\n\u001B[0;32m-> 1235\u001B[0m         time\u001B[38;5;241m.\u001B[39msleep(\u001B[38;5;241m0.01\u001B[39m)\n\u001B[1;32m   1237\u001B[0m \u001B[38;5;28mself\u001B[39m\u001B[38;5;241m.\u001B[39mcancel_async_evaluation(get_current_thread_id(thread), \u001B[38;5;28mstr\u001B[39m(\u001B[38;5;28mid\u001B[39m(frame)))\n\u001B[1;32m   1239\u001B[0m \u001B[38;5;66;03m# process any stepping instructions\u001B[39;00m\n",
      "\u001B[0;31mKeyboardInterrupt\u001B[0m: "
     ]
    }
   ],
   "execution_count": 43
  },
  {
   "metadata": {
    "ExecuteTime": {
     "end_time": "2024-12-03T07:28:18.443240Z",
     "start_time": "2024-12-03T07:28:18.441544Z"
    }
   },
   "cell_type": "code",
   "source": [
    "ts = \"2 0 67 1 -9 -9 -9 -9 4 160 1 286 -9 40 40 0 -9 1 2 3 5 81 0 1 0 0 0 1 9.5 6 13 108 64 160 90 160 90 1 0 1.5 2 -9 185 3 -9 -9 -9 -9 -9 -9 3 -9 -9 -9 2 5 81 2 1 2 2 -9 2 -9 1 -9 1 1 1 1 1 1 1 -9 -9 name\"\n",
    "str1 = ts.split(' ')\n",
    "print(len(str1))\n"
   ],
   "id": "a4bcd68126bc55a6",
   "outputs": [
    {
     "name": "stdout",
     "output_type": "stream",
     "text": [
      "76\n"
     ]
    }
   ],
   "execution_count": 55
  },
  {
   "metadata": {
    "ExecuteTime": {
     "end_time": "2024-12-03T07:50:39.875066Z",
     "start_time": "2024-12-03T07:50:39.871619Z"
    }
   },
   "cell_type": "code",
   "source": [
    "filename = 'data/cleveland.data'\n",
    "# with open('data/cleveland.data', 'rb') as f:\n",
    "#     dat = f.readlines()\n",
    "# print(dat)  # binary values represented as string\n",
    "#\n",
    "# rows = dat.decode('ascii')\n",
    "#\n",
    "# rows\n",
    "\n",
    "# with open(filename, \"rb\") as f:\n",
    "#     byte = f.read(1)\n",
    "#     while byte != b\"\":\n",
    "#         # Do stuff with byte.\n",
    "#         byte = f.read(1)\n",
    "\n",
    "\n",
    "# import funcy\n",
    "\n",
    "with open(filename, \"rb\") as f:\n",
    "    while chunk := f.read(1024 * 64):\n",
    "        print(chunk)\n",
    "        # d2 = chunk.split(b'\\n')\n",
    "        # print(d2[1].decode('utf-8',errors='strict'))\n",
    "\n",
    "        # int1 = BinaryToDecimal(d2[0])\n",
    "        # print(list(funcy.chunks(6,d2)))\n",
    "        # print(d2)\n",
    "        # print(chunk)\n",
    "    # process(chunk)\n",
    "    # byte = f.read(1)\n",
    "    # while byte:\n",
    "    #     # Do stuff with byte.\n",
    "    #     byte = f.read(1)\n",
    "    #     print(byte.decode('utf-8'))\n"
   ],
   "id": "d83d992d53da57bb",
   "outputs": [
    {
     "name": "stdout",
     "output_type": "stream",
     "text": [
      "b'1 0 63 1 -9 -9 -9\\n-9 1 145 1 233 -9 50 20\\n1 -9 1 2 2 3 81 0\\n0 0 0 0 1 10.5 6 13\\n150 60 190 90 145 85 0 0\\n2.3 3 -9 172 0 -9 -9 -9\\n-9 -9 -9 6 -9 -9 -9 2\\n16 81 0 1 1 1 -9 1\\n-9 1 -9 1 1 1 1 1\\n1 1 -9 -9 name\\n2 0 67 1 -9 -9 -9\\n-9 4 160 1 286 -9 40 40\\n0 -9 1 2 3 5 81 0\\n1 0 0 0 1 9.5 6 13\\n108 64 160 90 160 90 1 0\\n1.5 2 -9 185 3 -9 -9 -9\\n-9 -9 -9 3 -9 -9 -9 2\\n5 81 2 1 2 2 -9 2\\n-9 1 -9 1 1 1 1 1\\n1 1 -9 -9 name\\n3 0 67 1 -9 -9 -9\\n-9 4 120 1 229 -9 20 35\\n0 -9 1 2 2 19 81 0\\n1 0 0 0 1 8.5 6 10\\n129 78 140 80 120 80 1 0\\n2.6 2 -9 150 2 -9 -9 -9\\n-9 -9 -9 7 -9 -9 -9 2\\n20 81 1 1 1 1 -9 1\\n-9 1 -9 2 2 1 1 1\\n7 3 -9 -9 name\\n4 0 37 1 -9 -9 -9\\n-9 3 130 0 250 -9 0 0\\n0 -9 1 0 2 13 81 0\\n1 0 0 0 1 13 13 17\\n187 84 195 68 130 78 0 0\\n3.5 3 -9 167 0 -9 -9 -9\\n-9 -9 -9 3 -9 -9 -9 2\\n4 81 0 1 1 1 -9 1\\n-9 1 -9 1 1 1 1 1\\n1 1 -9 -9 name\\n6 0 41 0 -9 -9 -9\\n-9 2 130 1 204 -9 0 0\\n0 -9 1 2 2 7 81 0\\n0 0 0 0 1 7 -9 9\\n172 71 160 74 130 86 0 0\\n1.4 1 -9 40 0 -9 -9 -9\\n-9 -9 -9 3 -9 -9 -9 2\\n18 81 0 1 1 1 -9 1\\n-9 1 -9 1 1 1 1 1\\n1 1 -9 -9 name\\n7 0 56 1 -9 -9 -9\\n-9 2 120 1 236 -9 20 20\\n0 -9 1 0 3 9 81 1\\n0 0 0 0 1 11.3 -9 16\\n178 73 165 70 120 75 0 0\\n0.8 1 -9 127 0 -9 -9 -9\\n-9 -9 -9 3 -9 -9 -9 3\\n10 81 0 1 1 1 -9 1\\n-9 1 -9 1 1 1 1 1\\n1 1 -9 -9 name\\n8 0 62 0 -9 -9 -9\\n-9 4 140 0 268 -9 0 0\\n0 -9 1 2 1 28 81 0\\n0 0 0 0 1 6 6 7\\n160 83 180 84 140 100 0 0\\n3.6 3 -9 122 2 -9 -9 -9\\n-9 -9 -9 3 -9 -9 -9 2\\n2 81 3 1 2 1 -9 1\\n-9 2 -9 2 1 1 1 1\\n7 1 -9 -9 name\\n9 0 57 0 -9 -9 -9\\n-9 4 120 1 354 -9 0 0\\n0 -9 1 0 7 20 81 0\\n0 0 0 0 1 9 6 10\\n163 84 165 80 120 80 1 0\\n0.6 1 -9 122 0 -9 -9 -9\\n-9 -9 -9 3 -9 -9 -9 7\\n21 81 0 1 1 1 -9 1\\n-9 1 -9 1 1 1 1 1\\n1 1 -9 -9 name\\n10 0 63 1 -9 -9 -9\\n-9 4 130 1 254 -9 0 0\\n0 -9 0 2 7 2 81 0\\n1 1 0 0 1 8 8 9\\n147 75 120 70 130 105 0 0\\n1.4 2 -9 75 1 -9 -9 -9\\n-9 -9 -9 7 -9 -9 -9 7\\n3 81 2 1 2 1 -9 1\\n-9 1 -9 2 1 1 1 6\\n7 2 -9 -9 name\\n11 0 53 1 -9 -9 -9\\n-9 4 140 0 203 -9 20 25\\n1 -9 1 2 7 3 81 0\\n1 0 0 1 1 5.5 3 7\\n155 86 185 120 140 100 1 0\\n3.1 3 -9 68 0 -9 -9 -9\\n-9 -9 -9 7 -9 -9 -9 7\\n6 81 1 1 1 1 -9 1\\n-9 1 -9 2 1 1 1 1\\n1 1 -9 -9 name\\n12 0 57 1 -9 -9 -9\\n-9 4 140 0 192 -9 75 25\\n0 -9 0 0 6 30 81 0\\n0 0 0 0 1 8.2 -9 9\\n148 86 180 75 140 90 0 0\\n0.4 2 -9 200 0 -9 -9 -9\\n-9 -9 -9 6 -9 -9 -9 7\\n1 81 0 1 1 1 -9 1\\n-9 1 -9 1 1 1 1 1\\n1 1 -9 -9 name\\n13 0 56 0 -9 -9 -9\\n-9 2 140 0 294 -9 0 0\\n0 -9 0 2 1 16 81 0\\n1 1 0 0 1 4.5 4.5 7\\n153 85 204 118 140 100 0 0\\n1.3 2 -9 175 0 -9 -9 -9\\n-9 -9 -9 3 -9 -9 -9 1\\n19 81 0 1 1 1 -9 1\\n-9 1 -9 1 1 1 1 1\\n1 1 -9 -9 name\\n14 0 56 1 -9 -9 -9\\n-9 3 130 0 256 -9 30 25\\n1 1 1 2 1 19 81 0\\n0 0 0 0 1 13 -9 16\\n142 74 145 87 130 90 1 0\\n0.6 2 -9 110 1 -9 -9 -9\\n-9 -9 -9 6 -9 -9 -9 1\\n20 81 2 1 2 1 -9 1\\n-9 1 -9 2 1 1 1 1\\n3 1 -9 -9 name\\n15 0 44 1 -9 -9 -9\\n-9 2 120 1 263 -9 50 30\\n0 -9 1 0 5 20 81 0\\n1 0 0 0 1 9.3 -9 13\\n173 70 165 70 120 80 0 0\\n0 1 -9 49 0 -9 -9 -9\\n-9 -9 -9 7 -9 -9 -9 5\\n21 81 0 1 1 1 -9 1\\n-9 1 -9 1 1 1 1 1\\n1 1 -9 -9 name\\n16 0 52 1 -9 -9 -9\\n-9 3 172 0 199 -9 30 35\\n1 -9 0 0 6 9 81 0\\n0 0 0 0 1 12.5 -9 18\\n162 91 220 96 172 100 0 0\\n0.5 1 -9 231 0 -9 -9 -9\\n-9 -9 -9 7 -9 -9 -9 6\\n10 81 0 1 1 1 -9 1\\n-9 1 -9 1 1 1 1 1\\n1 1 -9 -9 name\\n17 0 57 1 -9 -9 -9\\n-9 3 150 1 168 -9 15 40\\n0 -9 1 0 7 13 81 0\\n0 1 0 0 1 11 -9 13\\n174 60 192 80 150 90 0 0\\n1.6 1 -9 150 0 -9 -9 -9\\n-9 -9 -9 3 -9 -9 -9 7\\n14 81 0 1 1 1 -9 1\\n-9 1 -9 1 1 1 1 1\\n1 1 -9 -9 name\\n18 0 48 1 -9 -9 -9\\n-9 2 110 1 229 -9 0 0\\n0 -9 0 0 7 21 81 0\\n1 0 0 0 1 9.8 -9 13\\n168 75 175 80 110 80 0 0\\n1 3 -9 197 0 -9 -9 -9\\n-9 -9 -9 7 -9 -9 -9 7\\n21 81 1 1 1 1 -9 2\\n-9 1 -9 1 1 1 1 1\\n1 1 -9 -9 name\\n19 0 54 1 -9 -9 -9\\n-9 4 140 1 239 -9 20 30\\n0 -9 0 0 6 24 81 0\\n0 0 0 1 1 7.8 7.8 10\\n160 86 180 98 140 100 0 0\\n1.2 1 -9 85 0 -9 -9 -9\\n-9 -9 -9 3 -9 -9 -9 6\\n25 81 0 1 1 1 -9 1\\n-9 1 -9 1 1 1 1 1\\n1 1 -9 -9 name\\n20 0 48 0 -9 -9 -9\\n-9 3 130 1 275 -9 2 20\\n0 -9 1 0 6 2 81 0\\n0 0 0 0 1 10 -9 13\\n139 62 165 75 130 80 0 0\\n0.2 1 -9 170 0 -9 -9 -9\\n-9 -9 -9 3 -9 -9 -9 6\\n3 81 0 1 1 1 -9 1\\n-9 1 -9 1 1 1 1 1\\n1 1 -9 -9 name\\n21 0 49 1 -9 -9 -9\\n-9 2 130 1 266 -9 25 22\\n0 -9 0 0 7 24 81 0\\n0 0 0 0 1 12 -9 14\\n171 82 135 80 130 75 0 0\\n0.6 1 -9 127 0 -9 -9 -9\\n-9 -9 -9 3 -9 -9 -9 7\\n27 81 0 1 1 1 -9 1\\n-9 1 -9 1 1 1 1 1\\n1 1 -9 -9 name\\n22 0 64 1 -9 -9 -9\\n-9 1 110 1 211 -9 30 20\\n0 -9 0 2 6 22 81 0\\n0 0 0 0 1 9 9 10\\n144 58 170 64 110 70 1 0\\n1.8 2 -9 200 0 -9 -9 -9\\n-9 -9 -9 3 -9 -9 -9 6\\n23 81 0 1 1 1 -9 1\\n-9 1 -9 1 1 1 1 1\\n1 1 -9 -9 name\\n23 0 58 0 -9 -9 -9\\n-9 1 150 1 283 -9 -9 -9\\n1 -9 1 2 5 26 81 0\\n1 0 0 0 1 5.8 5.8 7\\n162 75 210 70 150 100 0 0\\n1 1 -9 93 0 -9 -9 -9\\n-9 -9 -9 3 -9 -9 -9 5\\n27 81 0 1 1 1 -9 1\\n-9 1 -9 1 1 1 1 1\\n1 1 -9 -9 name\\n24 0 58 1 -9 -9 -9\\n-9 2 120 0 284 -9 0 0\\n0 -9 1 2 5 21 81 0\\n0 0 0 0 1 10 3 13\\n160 69 170 60 120 70 0 0\\n1.8 2 -9 145 0 -9 -9 -9\\n-9 -9 -9 3 -9 -9 -9 5\\n28 81 1 1 2 2 -9 1\\n-9 1 -9 1 1 1 1 1\\n1 1 -9 -9 name\\n25 0 58 1 -9 -9 -9\\n-9 3 132 1 224 -9 -9 -9\\n0 -9 1 2 6 4 81 0\\n0 0 0 0 1 8 3 10\\n173 98 150 62 132 76 0 0\\n3.2 1 -9 110 2 -9 -9 -9\\n-9 -9 -9 7 -9 -9 -9 6\\n5 81 3 1 1 2 -9 1\\n-9 2 -9 2 1 1 1 1\\n8 3 -9 -9 name\\n26 0 60 1 -9 -9 -9\\n-9 4 130 1 206 -9 50 32\\n0 -9 0 2 5 19 81 0\\n1 0 0 0 1 5 3 7\\n132 83 140 80 130 88 1 0\\n2.4 2 -9 24 2 -9 -9 -9\\n-9 -9 -9 7 -9 -9 -9 5\\n20 81 4 2 1 1 -9 2\\n-9 1 -9 2 1 1 1 1\\n1 1 -9 -9 name\\n27 0 50 0 -9 -9 -9\\n-9 3 120 0 219 -9 20 8\\n0 -9 1 0 6 29 81 0\\n0 0 0 0 1 6.3 6.3 9\\n158 71 160 90 120 85 0 0\\n1.6 2 -9 220 0 -9 -9 -9\\n-9 -9 -9 3 -9 -9 -9 6\\n30 81 0 1 1 1 -9 1\\n-9 1 -9 1 1 1 1 1\\n1 1 -9 -9 name\\n28 0 58 0 -9 -9 -9\\n-9 3 120 1 340 -9 0 0\\n0 -9 1 0 1 21 81 0\\n0 0 0 0 1 7 -9 9\\n172 95 160 100 120 95 0 0\\n0 1 -9 270 0 -9 -9 -9\\n-9 -9 -9 3 -9 -9 -9 1\\n22 81 0 1 1 1 -9 1\\n-9 1 -9 1 1 1 1 1\\n1 1 -9 -9 name\\n29 0 66 0 -9 -9 -9\\n-9 1 150 0 226 -9 0 0\\n0 -9 0 0 6 3 81 1\\n1 0 0 0 1 7.5 3 9\\n114 49 185 60 150 70 0 0\\n2.6 3 -9 152 0 -9 -9 -9\\n-9 -9 -9 3 -9 -9 -9 6\\n4 81 0 1 1 1 -9 1\\n-9 1 -9 1 1 1 1 1\\n1 1 -9 -9 name\\n30 0 43 1 -9 -9 -9\\n-9 4 150 0 247 -9 10 30\\n0 -9 1 0 6 15 81 0\\n0 0 0 0 1 10.5 9 13\\n171 67 190 70 150 80 0 0\\n1.5 1 -9 172 0 -9 -9 -9\\n-9 -9 -9 3 -9 -9 -9 6\\n16 81 0 1 1 1 -9 1\\n-9 1 -9 1 1 1 1 1\\n1 1 -9 -9 name\\n31 0 40 1 -9 -9 -9\\n-9 4 110 0 167 -9 0 0\\n0 -9 1 2 7 21 81 0\\n1 1 0 0 1 6 6 7\\n114 64 160 75 110 80 1 0\\n2 2 -9 140 0 -9 -9 -9\\n-9 -9 -9 7 -9 -9 -9 7\\n22 81 3 1 2 2 -9 1\\n-9 2 -9 2 1 1 1 1\\n1 1 -9 -9 name\\n32 0 69 0 -9 -9 -9\\n-9 1 140 1 239 -9 30 50\\n0 -9 1 0 5 29 81 0\\n0 0 0 0 1 6 6 7\\n151 81 150 74 140 78 0 0\\n1.8 1 -9 74 2 -9 -9 -9\\n-9 -9 -9 3 -9 -9 -9 6\\n1 81 0 1 1 1 -9 1\\n-9 1 -9 1 1 1 1 1\\n1 1 -9 -9 name\\n33 0 60 1 -9 -9 -9\\n-9 4 117 1 230 -9 0 0\\n1 -9 0 0 11 4 81 0\\n0 0 0 0 1 9 9 10\\n160 97 158 85 117 80 1 0\\n1.4 1 -9 118 2 -9 -9 -9\\n-9 -9 -9 7 -9 -9 -9 11\\n5 81 2 1 1 2 -9 1\\n-9 1 -9 2 1 1 1 1\\n1 1 -9 -9 name\\n34 0 64 1 -9 -9 -9\\n-9 3 140 0 335 -9 0 0\\n0 -9 1 0 11 9 81 0\\n0 0 0 0 1 6.5 6 7\\n158 91 215 105 140 90 0 0\\n0 1 -9 220 0 -9 -9 -9\\n-9 -9 -9 3 -9 -9 -9 11\\n10 81 1 1 1 1 -9 2\\n-9 1 -9 1 1 1 1 1\\n1 1 -9 -9 name\\n36 0 59 1 -9 -9 -9\\n-9 4 135 1 234 -9 20 40\\n0 -9 0 0 12 1 81 0\\n0 0 0 0 1 10.5 6 11\\n161 71 175 84 135 90 0 0\\n0.5 2 -9 176 0 -9 -9 -9\\n-9 -9 -9 7 -9 -9 -9 10\\n29 81 0 1 1 1 -9 1\\n-9 1 -9 1 1 1 1 1\\n1 1 -9 -9 name\\n38 0 44 1 -9 -9 -9\\n-9 3 130 0 233 -9 20 19\\n0 -9 0 0 10 28 81 0\\n1 0 0 0 1 13 -9 15\\n179 70 190 78 130 85 1 0\\n0.4 1 -9 105 0 -9 -9 -9\\n-9 -9 -9 3 -9 -9 -9 10\\n29 81 0 1 1 1 -9 1\\n-9 1 -9 1 1 1 1 1\\n1 1 -9 -9 name\\n39 0 42 1 -9 -9 -9\\n-9 4 140 1 226 -9 20 25\\n0 -9 1 0 9 18 81 0\\n0 0 0 0 1 10.3 -9 12\\n178 62 185 75 140 90 0 0\\n0 1 -9 120 0 -9 -9 -9\\n-9 -9 -9 3 -9 -9 -9 9\\n18 81 0 1 1 1 -9 1\\n-9 1 -9 1 1 1 1 1\\n8 1 -9 -9 name\\n41 0 43 1 -9 -9 -9\\n-9 4 120 1 177 -9 40 23\\n0 -9 0 2 11 24 81 0\\n0 0 0 0 1 5.5 3 6\\n120 103 130 78 120 88 1 0\\n2.5 2 -9 115 0 -9 -9 -9\\n-9 -9 -9 7 -9 -9 -9 5\\n26 82 3 1 2 1 -9 2\\n-9 1 -9 1 2 1 1 1\\n7 1 -9 -9 name\\n42 0 57 1 -9 -9 -9\\n-9 4 150 1 276 -9 40 30\\n0 -9 0 2 12 29 81 0\\n1 1 0 0 1 6.5 -9 9\\n112 65 210 90 150 92 1 0\\n0.6 2 -9 60 1 -9 -9 -9\\n-9 -9 -9 6 -9 -9 -9 12\\n30 81 1 1 1 1 -9 1\\n-9 1 -9 2 2 1 1 1\\n1 1 -9 -9 name\\n43 0 55 1 -9 -9 -9\\n-9 4 132 0 353 -9 60 30\\n0 -9 1 0 1 3 81 0\\n1 0 0 0 1 7.5 7.5 8\\n132 69 160 90 132 94 1 0\\n1.2 2 -9 113 1 -9 -9 -9\\n-9 -9 -9 7 -9 -9 -9 11\\n4 81 3 1 2 1 -9 2\\n-9 1 -9 1 2 1 1 1\\n1 2 -9 -9 name\\n44 0 61 1 -9 -9 -9\\n-9 3 150 1 243 -9 99 35\\n1 -9 0 0 1 5 82 0\\n0 0 0 0 1 6.5 6.5 8\\n137 88 200 90 150 110 1 0\\n1 2 -9 150 0 -9 -9 -9\\n-9 -9 -9 3 -9 -9 -9 1\\n6 82 0 1 1 1 -9 1\\n-9 1 -9 1 1 1 1 1\\n1 1 -9 -9 name\\n45 0 65 0 -9 -9 -9\\n-9 4 150 0 225 -9 0 0\\n0 -9 1 2 12 3 81 0\\n1 1 0 0 1 5 5 5\\n114 68 180 80 150 86 0 0\\n1 2 -9 59 3 -9 -9 -9\\n-9 -9 -9 7 -9 -9 -9 12\\n4 81 4 2 2 1 -9 1\\n-9 2 -9 1 1 1 1 1\\n1 1 -9 -9 name\\n46 0 40 1 -9 -9 -9\\n-9 1 140 1 199 -9 0 0\\n0 -9 0 0 11 12 81 0\\n0 0 0 0 1 9 -9 10\\n178 87 200 90 140 100 1 0\\n1.4 1 -9 105 0 -9 -9 -9\\n-9 -9 -9 7 -9 -9 -9 11\\n13 81 0 1 1 1 -9 1\\n-9 1 -9 1 1 1 1 1\\n1 1 -9 -9 name\\n47 0 71 0 -9 -9 -9\\n-9 2 160 0 302 -9 40 50\\n0 -9 1 0 12 4 81 0\\n1 0 0 1 1 5.5 5.5 5\\n162 93 190 80 160 90 0 0\\n0.4 1 -9 70 2 -9 -9 -9\\n-9 -9 -9 3 -9 -9 -9 12\\n7 81 0 1 1 1 -9 1\\n-9 1 -9 1 1 1 1 1\\n1 1 -9 -9 name\\n48 0 59 1 -9 -9 -9\\n-9 3 150 0 212 -9 50 30\\n1 -9 0 0 12 2 81 0\\n0 0 0 0 1 9 6 9\\n157 64 185 85 150 90 0 0\\n1.6 1 -9 195 0 -9 -9 -9\\n-9 -9 -9 3 -9 -9 -9 11\\n9 81 0 1 1 1 -9 1\\n-9 1 -9 1 1 1 1 1\\n1 1 -9 -9 name\\n49 0 61 0 -9 -9 -9\\n-9 4 130 1 330 -9 0 0\\n0 -9 1 2 11 6 82 0\\n0 0 0 0 1 5 -9 6\\n169 81 170 100 130 90 0 0\\n0 1 -9 120 0 -9 -9 -9\\n-9 -9 -9 3 -9 -9 -9 8\\n14 81 1 1 1 1 -9 1\\n-9 1 -9 1 2 1 1 1\\n1 1 -9 -9 name\\n50 0 58 1 -9 -9 -9\\n-9 3 112 1 230 -9 4 40\\n0 -9 0 2 8 13 81 0\\n0 0 0 0 1 9.5 9.5 11\\n165 74 155 75 112 80 0 0\\n2.5 2 -9 92 1 -9 -9 -9\\n-9 -9 -9 7 -9 -9 -9 8\\n14 81 4 2 2 2 -9 2\\n-9 1 -9 1 2 1 1 1\\n1 1 -9 -9 name\\n51 0 51 1 -9 -9 -9\\n-9 3 110 0 175 -9 60 30\\n0 1 1 0 10 30 81 0\\n1 0 0 1 1 9 -9 11\\n123 52 140 80 110 78 0 0\\n0.6 1 -9 133 0 -9 -9 -9\\n-9 -9 -9 3 -9 -9 -9 9\\n17 81 0 1 1 1 -9 1\\n-9 1 -9 1 1 1 1 1\\n1 1 -9 -9 name\\n52 0 50 1 -9 -9 -9\\n-9 4 150 1 243 -9 20 35\\n0 -9 0 2 9 16 81 0\\n0 0 0 0 1 4.5 3 7\\n128 69 160 80 150 90 0 0\\n2.6 2 -9 103 0 -9 -9 -9\\n-9 -9 -9 7 -9 -9 -9 9\\n17 81 4 2 1 1 -9 2\\n-9 1 -9 2 1 1 1 1\\n1 2 -9 -9 name\\n53 0 65 0 -9 -9 -9\\n-9 3 140 0 417 -9 0 0\\n1 -9 0 2 11 16 81 0\\n0 0 0 0 1 3.5 3.5 5\\n157 110 165 98 140 95 0 0\\n0.8 1 -9 24 1 -9 -9 -9\\n-9 -9 -9 3 -9 -9 -9 11\\n17 81 0 1 1 1 -9 1\\n-9 1 -9 1 1 1 1 1\\n1 1 -9 -9 name\\n54 0 53 1 -9 -9 -9\\n-9 3 130 0 197 -9 25 30\\n1 1 0 2 12 16 81 0\\n1 1 0 0 1 9 -9 10\\n152 75 197 83 130 90 0 0\\n1.2 3 -9 100 0 -9 -9 -9\\n-9 -9 -9 3 -9 -9 -9 12\\n17 81 0 1 1 1 -9 1\\n-9 1 -9 1 1 1 1 1\\n1 1 -9 -9 name\\n55 0 41 0 -9 -9 -9\\n-9 2 105 1 198 -9 20 24\\n0 -9 0 0 8 27 81 0\\n0 0 0 0 1 8.3 -9 9\\n168 92 145 80 105 70 0 0\\n0 1 -9 160 1 -9 -9 -9\\n-9 -9 -9 3 -9 -9 -9 8\\n28 81 0 1 1 1 -9 1\\n-9 1 -9 1 1 1 1 1\\n1 1 -9 -9 name\\n56 0 65 1 -9 -9 -9\\n-9 4 120 0 177 -9 40 20\\n0 -9 1 0 9 15 81 0\\n1 0 0 1 1 9 -9 9\\n140 60 165 100 120 100 0 0\\n0.4 1 -9 163 0 -9 -9 -9\\n-9 -9 -9 7 -9 -9 -9 9\\n15 81 0 1 1 1 -9 1\\n-9 1 -9 1 1 1 1 1\\n1 1 -9 -9 name\\n57 0 44 1 -9 -9 -9\\n-9 4 112 1 290 -9 0 0\\n0 -9 1 2 8 18 81 0\\n1 1 0 0 1 15 15 17\\n153 56 144 100 112 88 0 0\\n0 1 -9 125 1 -9 -9 -9\\n-9 -9 -9 3 -9 -9 -9 8\\n19 81 2 1 2 1 -9 2\\n-9 1 -9 1 1 1 1 1\\n1 1 -9 -9 name\\n58 0 44 1 -9 -9 -9\\n-9 2 130 1 219 -9 0 0\\n0 -9 1 2 10 26 81 0\\n0 0 0 0 1 11 -9 14\\n188 79 145 85 130 95 0 0\\n0 1 -9 110 0 -9 -9 -9\\n-9 -9 -9 3 -9 -9 -9 10\\n27 81 0 1 1 1 -9 1\\n-9 1 -9 1 1 1 1 1\\n1 1 -9 -9 name\\n59 0 60 1 -9 -9 -9\\n-9 4 130 1 253 -9 20 40\\n0 -9 1 0 11 5 81 0\\n0 0 0 0 1 9 9 10\\n144 77 190 84 130 78 1 0\\n1.4 1 -9 105 1 -9 -9 -9\\n-9 -9 -9 7 -9 -9 -9 11\\n5 81 1 1 1 2 -9 1\\n-9 1 -9 1 1 1 1 1\\n1 2 -9 -9 name\\n60 0 54 1 -9 -9 -9\\n-9 4 124 1 266 -9 0 0\\n0 -9 1 2 11 17 81 0\\n1 1 0 0 1 5 5 5\\n109 66 90 50 124 84 1 1\\n2.2 2 -9 100 1 -9 -9 -9\\n-9 -9 -9 7 -9 -9 -9 11\\n18 81 1 1 2 1 -9 1\\n-9 1 -9 1 1 1 1 1\\n1 1 -9 -9 name\\n61 0 50 1 -9 -9 -9\\n-9 3 140 1 233 -9 30 30\\n0 -9 1 0 11 19 81 0\\n1 1 0 0 1 12 6 14\\n163 79 200 95 140 95 0 0\\n0.6 2 -9 150 1 -9 -9 -9\\n-9 -9 -9 7 -9 -9 -9 11\\n20 81 1 1 1 1 -9 1\\n-9 2 -9 1 1 1 1 1\\n1 1 -9 -9 name\\n62 0 41 1 -9 -9 -9\\n-9 4 110 1 172 -9 50 29\\n0 -9 1 2 12 9 81 0\\n0 0 0 0 1 12 13 14\\n158 68 170 65 110 80 0 0\\n0 1 -9 48 0 -9 -9 -9\\n-9 -9 -9 7 -9 -9 -9 12\\n10 81 1 1 2 1 -9 1\\n-9 1 -9 1 1 1 1 1\\n1 1 -9 -9 name\\n63 0 54 1 -9 -9 -9\\n-9 3 125 1 273 -9 50 30\\n0 -9 1 2 12 10 81 0\\n0 0 0 0 1 10.5 -9 13\\n152 67 198 78 125 95 0 0\\n0.5 3 -9 57 1 -9 -9 -9\\n-9 -9 -9 3 -9 -9 -9 12\\n11 81 0 1 1 1 -9 1\\n-9 1 -9 1 1 1 1 1\\n1 1 -9 -9 name\\n64 0 51 1 -9 -9 -9\\n-9 1 125 0 213 -9 0 0\\n0 -9 0 2 12 14 81 0\\n1 1 0 0 1 7.9 7.9 10\\n125 52 210 88 125 80 1 0\\n1.4 1 -9 210 1 -9 -9 -9\\n-9 -9 -9 3 -9 -9 -9 12\\n15 81 0 1 1 1 -9 1\\n-9 1 -9 1 1 1 1 1\\n1 1 -9 -9 name\\n65 0 51 0 -9 -9 -9\\n-9 4 130 0 305 -9 0 0\\n0 -9 1 0 12 11 81 0\\n0 0 0 0 1 5 5 5\\n142 90 175 70 130 90 1 0\\n1.2 2 -9 110 0 -9 -9 -9\\n-9 -9 -9 7 -9 -9 -9 12\\n14 81 2 1 1 1 -9 1\\n-9 2 -9 2 1 1 1 1\\n1 1 -9 -9 name\\n66 0 46 0 -9 -9 -9\\n-9 3 142 0 177 -9 0 0\\n0 -9 1 2 12 17 81 0\\n0 0 0 0 1 6 3 7\\n160 96 170 80 142 98 1 0\\n1.4 3 -9 80 0 -9 -9 -9\\n-9 -9 -9 3 -9 -9 -9 12\\n18 81 0 1 1 1 -9 1\\n-9 1 -9 1 1 1 1 1\\n1 1 -9 -9 name\\n67 0 58 1 -9 -9 -9\\n-9 4 128 1 216 -9 60 30\\n0 -9 1 2 12 28 81 0\\n0 0 0 0 1 5.2 3 7\\n131 76 180 90 128 90 1 0\\n2.2 2 -9 145 3 -9 -9 -9\\n-9 -9 -9 7 -9 -9 -9 12\\n29 81 1 1 1 1 -9 1\\n-9 1 -9 2 1 1 1 1\\n1 1 -9 -9 name\\n68 0 54 0 -9 -9 -9\\n-9 3 135 0 304 -9 60 30\\n1 -9 0 0 1 7 82 0\\n0 1 0 0 1 7 -9 9\\n170 100 200 80 135 85 0 0\\n0 1 -9 110 0 -9 -9 -9\\n-9 -9 -9 3 -9 -9 -9 1\\n8 82 0 1 1 1 -9 1\\n-9 1 -9 1 1 1 1 1\\n1 1 -9 -9 name\\n69 0 54 1 -9 -9 -9\\n-9 4 120 1 188 -9 60 29\\n0 -9 1 0 2 4 81 0\\n1 0 0 0 1 9 9 10\\n113 54 160 80 120 80 0 0\\n1.4 2 -9 72 1 -9 -9 -9\\n-9 -9 -9 7 -9 -9 -9 2\\n5 82 2 1 1 2 -9 1\\n-9 1 -9 2 2 1 1 1\\n1 1 -9 -9 name\\n70 0 60 1 -9 -9 -9\\n-9 4 145 1 282 -9 40 30\\n0 -9 1 2 2 11 82 0\\n0 1 0 0 1 7.5 7.5 9\\n142 84 170 80 145 80 1 0\\n2.8 2 -9 120 2 -9 -9 -9\\n-9 -9 -9 7 -9 -9 -9 2\\n12 82 2 1 2 2 -9 1\\n-9 2 -9 1 1 1 1 1\\n1 1 -9 -9 name\\n71 0 60 1 -9 -9 -9\\n-9 3 140 0 185 -9 0 0\\n0 -9 1 2 1 18 82 0\\n0 0 0 1 1 12.2 12 14\\n155 67 200 70 140 80 0 0\\n3 2 -9 112 0 -9 -9 -9\\n-9 -9 -9 3 -9 -9 -9 1\\n19 82 1 1 1 2 -9 1\\n-9 1 -9 1 1 1 1 1\\n1 2 -9 -9 name\\n72 0 54 1 -9 -9 -9\\n-9 3 150 0 232 -9 40 40\\n0 -9 0 2 1 21 82 0\\n1 0 0 0 1 9.5 9 10\\n165 56 170 95 150 100 0 0\\n1.6 1 -9 105 0 -9 -9 -9\\n-9 -9 -9 7 -9 -9 -9 1\\n22 82 0 1 1 1 -9 1\\n-9 1 -9 1 1 1 1 1\\n1 1 -9 -9 name\\n73 0 59 1 -9 -9 -9\\n-9 4 170 1 326 -9 0 0\\n0 -9 1 2 1 26 82 0\\n0 0 0 0 1 6 4 7\\n140 56 125 110 170 100 1 1\\n3.4 3 -9 155 0 -9 -9 -9\\n-9 -9 -9 7 -9 -9 -9 1\\n27 82 2 1 2 1 -9 1\\n-9 1 -9 2 1 1 1 1\\n1 1 -9 -9 name\\n74 0 46 1 -9 -9 -9\\n-9 3 150 1 231 -9 40 25\\n0 -9 0 0 2 2 82 0\\n1 0 0 0 1 10 9 12\\n147 67 180 75 150 90 0 0\\n3.6 2 -9 176 0 -9 -9 -9\\n-9 -9 -9 3 -9 -9 -9 2\\n3 82 1 1 2 1 -9 1\\n-9 1 -9 1 1 1 1 1\\n1 1 -9 -9 name\\n75 0 65 0 -9 -9 -9\\n-9 3 155 1 269 -9 0 0\\n0 -9 0 0 2 17 82 0\\n1 0 0 0 1 6 3 8\\n148 71 180 80 155 80 0 0\\n0.8 1 -9 150 0 -9 -9 -9\\n-9 -9 -9 3 -9 -9 -9 2\\n18 82 0 1 1 1 -9 1\\n-9 1 -9 1 1 1 1 1\\n1 1 -9 -9 name\\n76 0 67 1 -9 -9 -9\\n-9 4 125 1 254 -9 20 1\\n1 -9 0 0 1 20 82 0\\n0 0 0 0 1 11 0 14\\n163 88 190 72 125 80 0 0\\n0.2 2 -9 113 2 -9 -9 -9\\n-9 -9 -9 7 -9 -9 -9 1\\n21 82 3 1 1 2 -9 2\\n-9 1 -9 1 2 1 1 1\\n1 1 -9 -9 name\\n77 0 62 1 -9 -9 -9\\n-9 4 120 1 267 -9 20 30\\n0 -9 1 0 2 18 82 0\\n1 1 0 0 1 6 6 7\\n99 43 180 83 120 88 1 0\\n1.8 2 -9 130 2 -9 -9 -9\\n-9 -9 -9 7 -9 -9 -9 2\\n19 82 1 1 2 2 -9 1\\n-9 1 -9 1 1 1 1 1\\n1 1 -9 -9 name\\n78 0 65 1 -9 -9 -9\\n-9 4 110 1 248 -9 0 0\\n0 -9 1 2 1 12 82 0\\n0 1 0 0 1 7.5 6 9\\n158 82 144 72 110 70 0 0\\n0.6 1 -9 145 2 -9 -9 -9\\n-9 -9 -9 6 -9 -9 -9 1\\n13 82 1 1 2 1 -9 1\\n-9 1 -9 1 1 1 1 1\\n1 1 -9 -9 name\\n79 0 44 1 -9 -9 -9\\n-9 4 110 1 197 -9 80 30\\n0 -9 0 2 1 28 82 0\\n0 1 0 0 1 12 0 14\\n177 61 155 70 110 80 0 0\\n0 1 -9 134 1 -9 -9 -9\\n-9 -9 -9 3 -9 -9 -9 1\\n29 82 1 1 1 1 -9 2\\n-9 1 -9 1 1 1 1 1\\n1 1 -9 -9 name\\n80 0 65 0 -9 -9 -9\\n-9 3 160 1 360 -9 0 0\\n0 -9 1 2 2 3 82 0\\n0 0 0 0 1 5.9 4 7\\n151 69 170 78 160 85 0 0\\n0.8 1 -9 65 0 -9 -9 -9\\n-9 -9 -9 3 -9 -9 -9 2\\n4 82 0 1 1 1 -9 1\\n-9 1 -9 1 1 1 1 1\\n1 1 -9 -9 name\\n81 0 60 1 -9 -9 -9\\n-9 4 125 1 258 -9 30 1\\n0 -9 0 2 2 1 82 0\\n0 0 0 0 1 8.2 6 10\\n141 93 152 70 125 85 1 0\\n2.8 2 -9 132 1 -9 -9 -9\\n-9 -9 -9 7 -9 -9 -9 2\\n2 82 1 1 1 1 -9 1\\n-9 1 -9 2 1 1 1 1\\n1 1 -9 -9 name\\n82 0 51 0 -9 -9 -9\\n-9 3 140 1 308 -9 20 20\\n0 -9 1 2 2 15 82 0\\n1 0 0 0 1 4.5 0 7\\n142 74 158 82 140 90 0 0\\n1.5 1 -9 116 1 -9 -9 -9\\n-9 -9 -9 3 -9 -9 -9 3\\n2 82 0 1 1 1 -9 1\\n-9 1 -9 1 1 1 1 1\\n1 1 -9 -9 name\\n83 0 48 1 -9 -9 -9\\n-9 2 130 0 245 -9 50 15\\n0 -9 0 2 12 16 82 0\\n0 0 0 0 1 11 0 13\\n180 68 180 80 130 90 0 0\\n0.2 2 -9 100 0 -9 -9 -9\\n-9 -9 -9 3 -9 -9 -9 2\\n17 82 0 1 1 1 -9 1\\n-9 1 -9 1 1 1 1 1\\n1 1 -9 -9 name\\n85 0 58 1 -9 -9 -9\\n-9 4 150 0 270 -9 40 54\\n0 -9 0 2 1 15 82 0\\n0 0 0 0 1 8.2 8 10\\n111 70 192 82 150 98 1 0\\n0.8 1 -9 225 0 -9 -9 -9\\n-9 -9 -9 7 -9 -9 -9 1\\n18 82 3 1 2 1 -9 1\\n-9 2 -9 1 2 1 1 1\\n1 1 -9 -9 name\\n86 0 45 1 -9 -9 -9\\n-9 4 104 1 208 -9 40 35\\n0 -9 0 2 4 1 82 0\\n0 1 0 0 1 7 6 8\\n148 84 150 76 104 80 1 0\\n3 2 -9 204 0 -9 -9 -9\\n-9 -9 -9 3 -9 -9 -9 4\\n2 82 0 1 1 1 -9 1\\n-9 1 -9 1 1 1 1 1\\n1 1 -9 -9 name\\n87 0 53 0 -9 -9 -9\\n-9 4 130 0 264 -9 0 0\\n0 -9 0 2 3 4 82 0\\n0 0 0 0 1 10.5 9 13\\n143 101 162 70 130 90 0 0\\n0.4 2 -9 40 0 -9 -9 -9\\n-9 -9 -9 3 -9 -9 -9 3\\n5 82 0 1 1 1 -9 1\\n-9 1 -9 1 1 1 1 1\\n1 1 -9 -9 name\\n88 0 39 1 -9 -9 -9\\n-9 3 140 1 321 -9 20 20\\n0 -9 1 2 4 20 82 0\\n0 1 1 0 1 14 0 16\\n182 65 200 100 140 90 0 0\\n0 1 -9 94 0 -9 -9 -9\\n-9 -9 -9 3 -9 -9 -9 4\\n21 82 0 1 1 1 -9 1\\n-9 1 -9 1 1 1 1 1\\n1 2 -9 -9 name\\n89 0 68 1 -9 -9 -9\\n-9 3 180 0 274 -9 8 40\\n1 1 1 2 2 26 82 0\\n1 1 0 0 1 4.5 3 7\\n150 85 190 100 180 100 1 0\\n1.6 2 -9 140 0 -9 -9 -9\\n-9 -9 -9 7 -9 -9 -9 3\\n1 82 3 1 1 2 -9 1\\n-9 2 -9 1 2 1 1 1\\n1 2 -9 -9 name\\n90 0 52 1 -9 -9 -9\\n-9 2 120 1 325 -9 30 20\\n0 -9 1 0 3 23 82 0\\n0 0 0 0 1 9.5 0 12\\n172 71 160 65 120 75 0 0\\n0.2 1 -9 125 0 -9 -9 -9\\n-9 -9 -9 3 -9 -9 -9 3\\n24 82 0 1 1 1 -9 1\\n-9 1 -9 1 1 1 1 1\\n1 1 -9 -9 name\\n91 0 44 1 -9 -9 -9\\n-9 3 140 1 235 -9 40 24\\n0 -9 0 2 2 25 82 0\\n0 0 0 0 1 10.5 0 13\\n180 70 190 80 140 80 0 0\\n0 1 -9 98 0 -9 -9 -9\\n-9 -9 -9 3 -9 -9 -9 2\\n26 82 0 1 1 1 -9 1\\n-9 1 -9 1 1 1 1 1\\n1 1 -9 -9 name\\n92 0 47 1 -9 -9 -9\\n-9 3 138 0 257 -9 0 0\\n0 -9 1 2 4 21 82 0\\n1 0 0 0 1 11 0 14\\n156 62 160 90 138 90 0 0\\n0 1 -9 88 0 -9 -9 -9\\n-9 -9 -9 3 -9 -9 -9 4\\n22 82 0 1 1 1 -9 1\\n-9 1 -9 1 1 1 1 1\\n1 1 -9 -9 name\\n93 0 53 0 -9 -9 -9\\n-9 3 128 0 216 -9 0 0\\n0 -9 0 2 2 19 82 1\\n1 0 0 1 1 5.5 0 7\\n115 67 158 104 128 90 0 0\\n0 1 -9 45 0 -9 -9 -9\\n-9 -9 -9 -9 -9 -9 -9 2\\n22 82 0 1 1 1 -9 1\\n-9 1 -9 1 1 1 1 1\\n1 1 -9 -9 name\\n94 0 53 0 -9 -9 -9\\n-9 4 138 1 234 -9 0 0\\n0 -9 1 2 4 14 82 0\\n1 0 0 0 1 15 6 12\\n160 80 168 68 138 84 0 0\\n0 1 -9 100 0 -9 -9 -9\\n-9 -9 -9 3 -9 -9 -9 4\\n15 82 0 1 1 1 -9 1\\n-9 1 -9 1 1 1 1 1\\n1 1 -9 -9 name\\n95 0 51 0 -9 -9 -9\\n-9 3 130 1 256 -9 20 20\\n0 -9 1 2 3 5 82 0\\n0 0 0 0 1 10 3 13\\n149 81 165 78 130 90 0 0\\n0.5 1 -9 120 0 -9 -9 -9\\n-9 -9 -9 3 -9 -9 -9 3\\n8 82 0 1 1 1 -9 1\\n-9 1 -9 1 1 1 1 1\\n1 1 -9 -9 name\\n96 0 66 1 -9 -9 -9\\n-9 4 120 1 302 -9 20 30\\n0 -9 1 2 4 5 82 0\\n0 0 0 0 1 8 0 9\\n151 73 150 80 120 80 0 0\\n0.4 2 -9 157 0 -9 -9 -9\\n-9 -9 -9 3 -9 -9 -9 4\\n6 82 0 1 1 1 -9 1\\n-9 1 -9 1 1 1 1 1\\n1 1 -9 -9 name\\n97 0 62 0 -9 -9 -9\\n-9 4 160 0 164 -9 0 0\\n0 -9 1 2 3 29 82 0\\n1 1 0 1 1 5.2 3 6\\n145 64 160 70 160 90 0 0\\n6.2 3 -9 150 3 -9 -9 -9\\n-9 -9 -9 7 -9 -9 -9 3\\n30 82 3 1 1 2 -9 1\\n-9 2 -9 2 2 1 1 3\\n5 2 -9 -9 name\\n98 0 62 1 -9 -9 -9\\n-9 3 130 1 231 -9 30 20\\n0 -9 1 0 2 23 82 0\\n0 0 0 0 1 8.7 7 10\\n146 82 158 100 130 90 0 0\\n1.8 2 -9 170 3 -9 -9 -9\\n-9 -9 -9 7 -9 -9 -9 2\\n24 82 0 1 1 1 -9 1\\n-9 1 -9 1 1 1 1 1\\n1 1 -9 -9 name\\n99 0 44 0 -9 -9 -9\\n-9 3 108 1 141 -9 0 0\\n0 -9 1 0 3 15 82 0\\n0 0 0 0 1 8 6 8\\n175 78 124 88 108 90 0 0\\n0.6 2 -9 200 0 -9 -9 -9\\n-9 -9 -9 3 -9 -9 -9 3\\n16 82 0 1 1 1 -9 1\\n-9 1 -9 1 1 1 1 1\\n1 1 -9 -9 name\\n100 0 63 0 -9 -9 -9\\n-9 3 135 0 252 -9 0 0\\n0 -9 0 2 3 9 82 0\\n0 0 0 0 1 7.1 6 6\\n172 71 180 80 135 80 0 0\\n0 1 -9 110 0 -9 -9 -9\\n-9 -9 -9 3 -9 -9 -9 3\\n10 82 0 1 1 1 -9 1\\n-9 1 -9 1 1 1 1 1\\n1 1 -9 -9 name\\n101 0 52 1 -9 -9 -9\\n-9 4 128 1 255 -9 40 20\\n0 -9 1 0 2 24 82 0\\n0 0 0 0 1 8 6 9\\n161 100 200 80 128 95 1 0\\n0 1 -9 180 1 -9 -9 -9\\n-9 -9 -9 7 -9 -9 -9 2\\n25 82 1 1 2 2 -9 1\\n-9 1 -9 1 1 1 1 1\\n1 1 -9 -9 name\\n102 0 59 1 -9 -9 -9\\n-9 4 110 1 239 -9 0 0\\n0 -9 1 2 3 16 82 0\\n1 0 0 0 1 8.5 8 9\\n142 79 164 80 110 78 1 0\\n1.2 2 -9 170 1 -9 -9 -9\\n-9 -9 -9 7 -9 -9 -9 3\\n17 82 2 1 1 1 -9 2\\n-9 1 -9 2 1 1 1 1\\n1 1 -9 -9 name\\n103 0 60 0 -9 -9 -9\\n-9 4 150 0 258 -9 20 40\\n0 -9 1 2 3 2 82 0\\n0 1 0 0 1 5 0 7\\n157 109 180 75 150 80 0 0\\n2.6 2 -9 190 2 -9 -9 -9\\n-9 -9 -9 7 -9 -9 -9 3\\n3 82 3 1 2 2 -9 2\\n-9 2 -9 2 1 1 1 1\\n1 1 -9 -9 name\\n104 0 52 1 -9 -9 -9\\n-9 2 134 1 201 -9 20 30\\n0 -9 1 0 7 7 82 0\\n1 1 0 0 1 9 0 10\\n158 83 160 96 134 94 0 0\\n0.8 1 -9 80 1 -9 -9 -9\\n-9 -9 -9 3 -9 -9 -9 7\\n8 82 0 1 1 1 -9 1\\n-9 1 -9 1 1 1 1 1\\n1 1 -9 -9 name\\n105 0 48 1 -9 -9 -9\\n-9 4 122 0 222 -9 60 20\\n0 -9 0 2 5 5 82 0\\n0 0 0 1 1 11 0 13\\n186 83 184 88 122 100 0 0\\n0 1 -9 58 0 -9 -9 -9\\n-9 -9 -9 3 -9 -9 -9 5\\n6 82 0 1 1 1 -9 1\\n-9 1 -9 1 1 1 1 1\\n1 1 -9 -9 name\\n106 0 45 1 -9 -9 -9\\n-9 4 115 1 260 -9 10 24\\n0 -9 1 2 6 25 82 0\\n0 0 0 0 1 11 0 12\\n185 66 174 75 115 80 0 0\\n0 1 -9 70 0 -9 -9 -9\\n-9 -9 -9 3 -9 -9 -9 6\\n28 82 0 1 1 1 -9 1\\n-9 1 -9 1 1 1 1 1\\n1 1 -9 -9 name\\n107 0 34 1 -9 -9 -9\\n-9 1 118 1 182 -9 20 6\\n0 -9 0 2 5 14 82 0\\n0 0 0 0 1 15 0 18\\n174 53 198 40 118 70 0 0\\n0 1 -9 140 0 -9 -9 -9\\n-9 -9 -9 3 -9 -9 -9 5\\n17 82 0 1 1 1 -9 1\\n-9 1 -9 1 1 1 1 1\\n1 1 -9 -9 name\\n108 0 57 0 -9 -9 -9\\n-9 4 128 1 303 -9 0 0\\n0 -9 0 2 6 21 82 0\\n1 0 0 0 1 10.3 9 13\\n159 67 170 82 128 86 0 0\\n0 1 -9 76 1 -9 -9 -9\\n-9 -9 -9 3 -9 -9 -9 6\\n22 82 0 1 1 1 -9 1\\n-9 1 -9 1 1 1 1 1\\n1 1 -9 -9 name\\n110 0 71 0 -9 -9 -9\\n-9 3 110 0 265 -9 0 0\\n1 -9 1 2 6 28 82 0\\n0 0 0 0 1 7 0 7\\n130 88 180 110 110 90 0 0\\n0 1 -9 88 1 -9 -9 -9\\n-9 -9 -9 3 -9 -9 -9 6\\n30 82 0 1 1 1 -9 1\\n-9 1 -9 1 1 1 1 1\\n1 2 -9 -9 name\\n111 0 49 1 -9 -9 -9\\n-9 3 120 0 188 -9 30 33\\n0 -9 1 0 6 23 82 0\\n1 0 0 1 1 10 9 13\\n139 78 160 80 120 85 0 0\\n2 2 -9 110 3 -9 -9 -9\\n-9 -9 -9 7 -9 -9 -9 6\\n24 82 3 1 1 2 -9 1\\n-9 2 -9 2 1 1 1 1\\n1 1 -9 -9 name\\n112 0 54 1 -9 -9 -9\\n-9 2 108 1 309 -9 30 34\\n0 -9 0 0 7 12 82 0\\n1 0 0 0 1 9.5 0 13\\n156 75 170 68 108 74 0 0\\n0 1 -9 74 0 -9 -9 -9\\n-9 -9 -9 7 -9 -9 -9 7\\n13 82 0 1 1 1 -9 1\\n-9 1 -9 1 1 1 1 1\\n1 1 -9 -9 name\\n113 0 59 1 -9 -9 -9\\n-9 4 140 1 177 -9 20 45\\n0 -9 0 0 6 10 82 0\\n1 0 1 0 1 7 3 9\\n162 82 165 85 140 86 1 0\\n0 1 -9 100 1 -9 -9 -9\\n-9 -9 -9 7 -9 -9 -9 6\\n11 82 2 1 2 1 -9 2\\n-9 1 -9 1 1 1 1 1\\n1 1 -9 -9 name\\n114 0 57 1 -9 -9 -9\\n-9 3 128 0 229 -9 40 40\\n0 -9 0 2 5 11 82 0\\n0 0 1 0 1 9.4 6 11\\n150 75 210 78 128 90 0 0\\n0.4 2 -9 90 1 -9 -9 -9\\n-9 -9 -9 7 -9 -9 -9 5\\n12 82 1 1 1 1 -9 1\\n-9 1 -9 2 1 1 1 1\\n1 1 -9 -9 name\\n115 0 61 1 -9 -9 -9\\n-9 4 120 1 260 -9 10 20\\n0 -9 1 0 7 15 82 0\\n0 0 0 0 1 7 6 9\\n140 60 156 75 120 80 1 0\\n3.6 2 -9 111 1 -9 -9 -9\\n-9 -9 -9 7 -9 -9 -9 7\\n16 82 2 1 2 1 -9 2\\n-9 1 -9 1 1 1 1 1\\n1 1 -9 -9 name\\n116 0 39 1 -9 -9 -9\\n-9 4 118 1 219 -9 40 20\\n0 -9 1 0 7 13 82 0\\n0 0 0 0 1 12 6 14\\n140 69 146 70 118 80 0 0\\n1.2 2 -9 118 0 -9 -9 -9\\n-9 -9 -9 7 -9 -9 -9 7\\n14 82 3 1 1 2 -9 2\\n-9 1 -9 2 1 1 1 1\\n1 1 -9 -9 name\\n118 0 61 0 -9 -9 -9\\n-9 4 145 1 307 -9 20 25\\n0 1 1 2 7 1 82 0\\n0 1 1 0 1 4 4 6\\n146 78 150 80 145 90 1 0\\n1 2 -9 122 0 -9 -9 -9\\n-9 -9 -9 7 -9 -9 -9 7\\n2 82 1 1 1 2 -9 1\\n-9 1 -9 1 1 1 1 1\\n1 1 -9 -9 name\\n119 0 56 1 -9 -9 -9\\n-9 4 125 0 249 -9 5 15\\n1 1 1 2 4 29 82 0\\n1 0 0 0 1 9 7 10\\n144 66 143 80 125 95 1 0\\n1.2 2 -9 155 1 -9 -9 -9\\n-9 -9 -9 3 -9 -9 -9 4\\n30 82 1 1 2 1 -9 1\\n-9 1 -9 1 1 1 1 1\\n1 1 -9 -9 name\\n120 0 52 1 -9 -9 -9\\n-9 1 118 0 186 -9 20 10\\n0 -9 1 2 3 22 82 1\\n0 1 0 0 1 8 0 8\\n190 90 160 100 118 89 0 0\\n0 2 -9 117 0 -9 -9 -9\\n-9 -9 -9 6 -9 -9 -9 3\\n23 82 0 1 1 1 -9 1\\n-9 1 -9 1 1 1 1 1\\n1 1 -9 -9 name\\n123 0 43 0 -9 -9 -9\\n-9 4 132 1 341 -9 40 20\\n1 -9 1 2 1 25 82 0\\n1 1 0 0 1 5.5 3 7\\n136 63 140 94 132 92 1 0\\n3 2 -9 120 0 -9 -9 -9\\n-9 -9 -9 7 -9 -9 -9 1\\n26 82 2 1 2 1 -9 1\\n-9 1 -9 2 1 1 1 1\\n1 1 -9 -9 name\\n124 0 62 0 -9 -9 -9\\n-9 3 130 0 263 -9 0 0\\n0 -9 1 0 4 22 82 0\\n1 0 0 0 1 14 12 8\\n97 56 152 65 130 75 0 0\\n1.2 2 -9 125 1 -9 -9 -9\\n-9 -9 -9 7 -9 -9 -9 4\\n23 82 2 1 2 1 -9 2\\n-9 1 -9 1 1 1 1 1\\n1 1 -9 -9 name\\n125 0 41 1 -9 -9 -9\\n-9 2 135 0 203 -9 0 0\\n0 -9 1 0 12 15 81 0\\n1 0 0 0 1 10.5 0 14\\n132 49 168 85 135 98 0 0\\n0 2 -9 171 0 -9 -9 -9\\n-9 -9 -9 6 -9 -9 -9 12\\n16 81 0 1 1 1 -9 1\\n-9 1 -9 1 1 1 1 1\\n1 1 -9 -9 name\\n126 0 58 1 -9 -9 -9\\n-9 3 140 0 211 -9 0 0\\n1 1 1 2 7 8 82 0\\n1 0 0 0 1 10 0 13\\n165 84 160 95 140 100 0 0\\n0 1 -9 112 0 -9 -9 -9\\n-9 -9 -9 3 -9 -9 -9 7\\n9 82 0 1 1 1 -9 1\\n-9 1 -9 1 1 1 1 1\\n1 1 -9 -9 name\\n127 0 35 0 -9 -9 -9\\n-9 4 138 0 183 -9 0 0\\n0 -9 1 0 6 29 82 0\\n0 0 0 0 1 10 9 13\\n182 85 196 89 138 90 0 0\\n1.4 1 -9 97 0 -9 -9 -9\\n-9 -9 -9 3 -9 -9 -9 6\\n30 82 0 1 1 1 -9 1\\n-9 1 -9 1 1 1 1 1\\n1 1 -9 -9 name\\n128 0 63 1 -9 -9 -9\\n-9 4 130 0 330 -9 0 0\\n1 1 0 2 1 8 82 0\\n1 0 0 1 1 7.5 6 9\\n132 68 150 70 130 90 1 0\\n1.8 1 -9 161 3 -9 -9 -9\\n-9 -9 -9 7 -9 -9 -9 1\\n11 82 3 1 1 2 -9 2\\n-9 2 -9 2 1 1 1 1\\n1 1 -9 -9 name\\n129 0 65 1 -9 -9 -9\\n-9 4 135 1 254 -9 40 30\\n0 -9 1 2 1 14 82 0\\n1 0 0 0 1 9 6 9\\n127 59 170 75 135 70 0 0\\n2.8 2 -9 153 1 -9 -9 -9\\n-9 -9 -9 7 -9 -9 -9 1\\n15 82 2 1 2 1 -9 2\\n-9 2 -9 1 1 1 1 1\\n1 1 -9 -9 name\\n130 0 48 1 -9 -9 -9\\n-9 4 130 1 256 -9 60 15\\n1 1 1 2 4 2 82 0\\n0 1 0 0 1 6.5 0 7\\n150 87 160 80 130 80 1 0\\n0 1 -9 100 2 -9 -9 -9\\n-9 -9 -9 7 -9 -9 -9 4\\n5 82 3 1 2 1 -9 1\\n-9 2 -9 1 2 1 1 1\\n1 1 -9 -9 name\\n131 0 63 0 -9 -9 -9\\n-9 4 150 1 407 -9 3 47\\n0 -9 1 2 11 11 81 -9\\n-9 -9 -9 -9 1 6.5 5.5 6.5\\n154 76 160 85 150 82 0 0\\n4 2 -9 180 3 -9 -9 -9\\n-9 -9 -9 7 -9 -9 -9 11\\n12 81 4 2 1 2 -9 2\\n-9 1 -9 2 1 1 1 1\\n1 1 -9 -9 name\\n132 0 51 1 -9 -9 -9\\n-9 3 100 1 222 -9 0 0\\n0 -9 0 0 8 3 82 0\\n0 0 0 0 1 6.7 6 8\\n143 59 145 60 100 70 1 0\\n1.2 2 -9 130 0 -9 -9 -9\\n-9 -9 -9 3 -9 -9 -9 8\\n4 82 0 1 1 1 -9 1\\n-9 1 -9 1 1 1 1 1\\n1 1 -9 -9 name\\n133 0 55 1 -9 -9 -9\\n-9 4 140 1 217 -9 0 0\\n0 -9 0 0 1 27 82 0\\n1 1 0 0 1 5.5 5.5 7\\n111 68 150 90 140 90 1 0\\n5.6 3 -9 176 0 -9 -9 -9\\n-9 -9 -9 7 -9 -9 -9 1\\n28 82 3 1 2 2 -9 2\\n-9 2 -9 1 2 1 1 1\\n1 1 -9 -9 name\\n134 0 65 1 -9 -9 -9\\n-9 1 138 1 282 -9 20 7\\n1 -9 1 2 11 10 81 0\\n0 0 0 0 1 10 9 12\\n174 72 162 80 138 90 0 0\\n1.4 2 -9 83 1 -9 -9 -9\\n-9 -9 -9 3 -9 -9 -9 11\\n11 81 1 1 1 2 -9 1\\n-9 1 -9 1 1 1 1 1\\n1 1 -9 -9 name\\n135 0 45 0 -9 -9 -9\\n-9 2 130 0 234 -9 0 0\\n0 -9 1 2 6 17 82 0\\n1 0 0 0 1 7.6 -9 9\\n175 87 145 90 130 95 0 0\\n0.6 2 -9 90 0 -9 -9 -9\\n-9 -9 -9 3 -9 -9 -9 7\\n1 82 0 1 1 1 -9 1\\n-9 1 -9 1 1 1 1 1\\n1 4 -9 -9 name\\n136 0 56 0 -9 -9 -9\\n-9 4 200 0 288 -9 0 0\\n1 1 1 2 8 20 81 0\\n0 0 0 0 1 5.1 5.1 3\\n133 68 200 80 200 90 1 0\\n4 3 -9 210 2 -9 -9 -9\\n-9 -9 -9 7 -9 -9 -9 8\\n21 81 3 1 1 2 -9 2\\n-9 2 -9 1 2 1 1 1\\n1 1 -9 -9 name\\n137 0 54 1 -9 -9 -9\\n-9 4 110 0 239 -9 0 0\\n0 -9 0 0 12 7 81 0\\n1 1 0 1 1 9.5 6 12\\n126 57 165 70 110 80 1 0\\n2.8 2 -9 88 1 -9 -9 -9\\n-9 -9 -9 7 -9 -9 -9 12\\n8 81 3 1 2 2 -9 1\\n-9 2 -9 1 2 1 1 1\\n1 1 -9 -9 name\\n138 0 44 1 -9 -9 -9\\n-9 2 120 1 220 -9 40 20\\n0 -9 0 0 9 13 82 0\\n0 0 0 0 1 13 0 16\\n170 78 158 58 120 70 0 0\\n0 1 -9 92 0 -9 -9 -9\\n-9 -9 -9 3 -9 -9 -9 9\\n14 82 0 1 1 1 -9 1\\n-9 1 -9 1 1 1 1 1\\n1 2 -9 -9 name\\n139 0 62 0 -9 -9 -9\\n-9 4 124 1 209 -9 0 0\\n0 -9 1 0 8 9 82 0\\n0 0 0 0 1 8.1 3 8\\n163 72 154 80 124 78 0 0\\n0 1 -9 96 0 -9 -9 -9\\n-9 -9 -9 3 -9 -9 -9 7\\n23 82 0 1 1 1 -9 1\\n-9 1 -9 1 1 1 1 1\\n1 2 -9 -9 name\\n141 0 54 1 -9 -9 -9\\n-9 3 120 0 258 -9 0 0\\n0 -9 1 2 7 16 82 0\\n0 0 1 0 1 10.4 0 13\\n147 66 140 100 120 95 0 0\\n0.4 2 -9 92 0 -9 -9 -9\\n-9 -9 -9 7 -9 -9 -9 7\\n19 82 0 1 1 1 -9 1\\n-9 1 -9 1 1 1 1 1\\n1 1 -9 -9 name\\n142 0 51 1 -9 -9 -9\\n-9 3 94 1 227 -9 30 36\\n0 -9 0 0 8 18 82 0\\n0 0 0 0 1 7.3 0 9\\n154 83 124 70 94 72 1 0\\n0 1 -9 35 1 -9 -9 -9\\n-9 -9 -9 7 -9 -9 -9 8\\n20 82 0 1 1 1 -9 1\\n-9 1 -9 1 1 1 1 1\\n1 1 -9 -9 name\\n143 0 29 1 -9 -9 -9\\n-9 2 130 1 204 -9 2 6\\n0 1 0 2 8 13 82 0\\n0 0 0 0 1 13 0 16\\n202 53 180 70 130 90 0 0\\n0 1 -9 73 0 -9 -9 -9\\n-9 -9 -9 3 -9 -9 -9 8\\n16 82 0 1 1 1 -9 1\\n-9 1 -9 1 1 1 1 1\\n1 2 -9 -9 name\\n144 0 51 1 -9 -9 -9\\n-9 4 140 0 261 -9 0 0\\n0 -9 1 2 8 10 82 0\\n0 0 0 1 1 9.5 3 11\\n186 90 220 110 140 90 1 0\\n0 1 -9 123 0 -9 -9 -9\\n-9 -9 -9 3 -9 -9 -9 8\\n11 82 0 1 1 1 -9 1\\n-9 1 -9 1 1 1 1 1\\n1 1 -9 -9 name\\n145 0 43 0 -9 -9 -9\\n-9 3 122 1 213 -9 25 20\\n0 -9 1 0 8 19 82 0\\n0 0 0 0 1 14 12 16\\n165 62 140 80 122 78 0 0\\n0.2 2 -9 28 0 -9 -9 -9\\n-9 -9 -9 3 -9 -9 -9 8\\n20 82 0 1 1 1 -9 1\\n-9 1 -9 1 1 1 1 1\\n1 1 -9 -9 name\\n146 0 55 0 -9 -9 -9\\n-9 2 135 0 250 -9 30 30\\n0 -9 0 2 8 4 82 0\\n0 1 0 1 1 6 3 8\\n161 98 175 80 135 85 0 0\\n1.4 2 -9 227 0 -9 -9 -9\\n-9 -9 -9 3 -9 -9 -9 8\\n5 82 0 1 1 1 -9 1\\n-9 1 -9 1 1 1 1 1\\n1 1 -9 -9 name\\n147 0 70 1 -9 -9 -9\\n-9 4 145 1 174 -9 20 30\\n0 -9 1 0 7 27 82 0\\n1 1 0 0 1 6 6 7\\n125 40 152 75 145 80 1 0\\n2.6 3 -9 130 0 -9 -9 -9\\n-9 -9 -9 7 -9 -9 -9 7\\n28 82 4 2 1 1 -9 1\\n-9 2 -9 1 2 1 1 1\\n1 1 -9 -9 name\\n148 0 62 1 -9 -9 -9\\n-9 2 120 1 281 -9 20 25\\n0 -9 1 2 7 19 82 0\\n0 0 0 0 1 5.5 5.5 7\\n103 65 152 75 120 80 0 0\\n1.4 2 -9 158 1 -9 -9 -9\\n-9 -9 -9 7 -9 -9 -9 7\\n26 82 3 1 1 2 -9 2\\n-9 1 -9 1 2 1 1 1\\n1 1 -9 -9 name\\n149 0 35 1 -9 -9 -9\\n-9 4 120 0 198 -9 0 0\\n0 -9 0 0 8 11 82 0\\n1 0 0 1 1 10 9 12\\n130 61 165 78 120 88 1 0\\n1.6 2 -9 80 0 -9 -9 -9\\n-9 -9 -9 7 -9 -9 -9 8\\n12 82 1 1 1 2 -9 1\\n-9 1 -9 1 1 1 1 1\\n1 1 -9 -9 name\\n150 0 51 1 -9 -9 -9\\n-9 3 125 0 245 -9 0 0\\n1 -9 0 2 9 29 82 0\\n0 0 0 1 1 9.3 9.3 11\\n166 80 185 85 125 102 0 0\\n2.4 2 -9 166 0 -9 -9 -9\\n-9 -9 -9 3 -9 -9 -9 9\\n30 82 0 1 1 1 -9 1\\n-9 1 -9 1 1 1 1 1\\n1 1 -9 -9 name\\n151 0 59 1 -9 -9 -9\\n-9 2 140 0 221 -9 20 40\\n0 -9 1 0 8 16 82 0\\n0 1 0 0 1 10.1 0 12\\n164 79 165 95 140 105 1 0\\n0 1 -9 80 0 -9 -9 -9\\n-9 -9 -9 3 -9 -9 -9 8\\n17 82 0 1 1 1 -9 1\\n-9 1 -9 1 1 1 1 1\\n1 1 -9 -9 name\\n152 0 59 1 -9 -9 -9\\n-9 1 170 0 288 -9 0 0\\n0 -9 0 2 8 23 82 0\\n0 0 0 1 1 12.4 0 15\\n159 71 230 75 170 90 0 0\\n0.2 2 -9 158 0 -9 -9 -9\\n-9 -9 -9 7 -9 -9 -9 8\\n30 82 1 1 1 1 -9 1\\n-9 1 -9 1 2 1 1 1\\n1 1 -9 -9 name\\n153 0 52 1 -9 -9 -9\\n-9 2 128 1 205 -9 20 37\\n1 1 0 0 10 13 82 0\\n0 0 1 0 1 11 0 15\\n184 96 182 68 128 78 0 0\\n0 1 -9 101 0 -9 -9 -9\\n-9 -9 -9 3 -9 -9 -9 10\\n14 82 0 1 1 1 -9 1\\n-9 1 -9 1 1 1 1 1\\n1 1 -9 -9 name\\n154 0 64 1 -9 -9 -9\\n-9 3 125 1 309 -9 20 30\\n0 1 0 0 11 2 82 0\\n1 1 0 0 1 7 6 8\\n131 67 175 60 125 70 1 0\\n1.8 2 -9 110 0 -9 -9 -9\\n-9 -9 -9 7 -9 -9 -9 11\\n3 82 1 1 1 1 -9 2\\n-9 1 -9 1 1 1 1 1\\n1 1 -9 -9 name\\n156 0 58 1 -9 -9 -9\\n-9 3 105 1 240 -9 20 40\\n0 -9 1 2 10 29 82 1\\n0 0 0 0 1 6.5 6 7\\n154 102 150 78 105 80 1 0\\n0.6 2 -9 97 0 -9 -9 -9\\n-9 -9 -9 7 -9 -9 -9 11\\n1 82 0 1 1 1 -9 1\\n-9 1 -9 1 1 1 1 1\\n1 3 -9 -9 name\\n158 0 47 1 -9 -9 -9\\n-9 3 108 1 243 -9 0 0\\n0 1 1 0 11 4 82 0\\n0 0 0 0 1 11 0 14\\n152 52 148 75 108 75 0 0\\n0 1 -9 115 0 -9 -9 -9\\n-9 -9 -9 3 -9 -9 -9 11\\n5 82 1 1 1 1 -9 1\\n-9 1 -9 2 1 1 1 1\\n1 1 -9 -9 name\\n159 0 57 1 -9 -9 -9\\n-9 4 165 0 289 -9 70 38\\n1 1 1 2 12 2 82 0\\n0 0 0 0 1 6.1 4 7\\n124 102 190 85 165 100 0 0\\n1 2 -9 115 3 -9 -9 -9\\n-9 -9 -9 7 -9 -9 -9 12\\n3 82 4 2 2 1 -9 2\\n-9 2 -9 2 2 1 1 1\\n1 1 -9 -9 name\\n160 0 41 1 -9 -9 -9\\n-9 3 112 1 250 -9 20 20\\n0 -9 0 0 10 27 82 0\\n0 0 0 0 1 13.3 12 14\\n179 80 148 45 112 68 0 0\\n0 1 -9 132 0 -9 -9 -9\\n-9 -9 -9 3 -9 -9 -9 10\\n28 82 0 1 1 1 -9 1\\n-9 1 -9 1 1 1 1 1\\n1 1 -9 -9 name\\n161 0 45 1 -9 -9 -9\\n-9 2 128 0 308 -9 0 0\\n0 -9 1 2 10 22 82 0\\n0 0 0 0 1 12 9 16\\n170 86 168 80 128 90 0 0\\n0 1 -9 125 0 -9 -9 -9\\n-9 -9 -9 3 -9 -9 -9 10\\n25 82 0 1 1 1 -9 1\\n-9 1 -9 1 1 1 1 1\\n1 1 -9 -9 name\\n162 0 60 0 -9 -9 -9\\n-9 3 102 0 318 -9 0 0\\n0 -9 0 0 12 1 82 0\\n0 0 0 1 1 9 0 10\\n160 89 152 80 102 80 0 0\\n0 1 -9 220 1 -9 -9 -9\\n-9 -9 -9 3 -9 -9 -9 12\\n2 82 0 1 1 1 -9 1\\n-9 1 -9 1 1 1 1 1\\n1 1 -9 -9 name\\n165 0 52 1 -9 -9 -9\\n-9 1 152 1 298 -9 0 0\\n1 -9 1 0 9 22 82 0\\n0 0 0 0 1 11 11 12\\n178 112 180 62 152 84 0 0\\n1.2 2 -9 145 0 -9 -9 -9\\n-9 -9 -9 7 -9 -9 -9 9\\n23 82 0 1 1 1 -9 1\\n-9 1 -9 1 1 1 1 1\\n1 1 -9 -9 name\\n166 0 42 0 -9 -9 -9\\n-9 4 102 1 265 -9 0 0\\n0 -9 1 2 1 12 83 0\\n1 1 1 1 1 8.5 0 9\\n122 74 152 70 102 72 0 0\\n0.6 2 -9 100 0 -9 -9 -9\\n-9 -9 -9 3 -9 -9 -9 1\\n13 83 0 1 1 1 -9 1\\n-9 1 -9 1 1 1 1 1\\n1 1 -9 -9 name\\n167 0 67 0 -9 -9 -9\\n-9 3 115 1 564 -9 0 0\\n0 -9 0 2 12 17 82 0\\n0 1 0 0 1 9 6 10\\n160 80 188 80 115 82 0 0\\n1.6 2 -9 130 0 -9 -9 -9\\n-9 -9 -9 7 -9 -9 -9 12\\n20 82 0 1 1 1 -9 1\\n-9 1 -9 1 1 1 1 1\\n1 1 -9 -9 name\\n168 0 55 1 -9 -9 -9\\n-9 4 160 0 289 -9 20 25\\n0 -9 0 2 1 4 83 0\\n0 0 0 0 1 6 3 7\\n145 80 180 118 160 95 1 0\\n0.8 2 -9 118 1 -9 -9 -9\\n-9 -9 -9 7 -9 -9 -9 1\\n5 83 4 2 1 2 -9 1\\n-9 2 -9 1 1 1 1 1\\n1 1 -9 -9 name\\n169 0 64 1 -9 -9 -9\\n-9 4 120 1 246 -9 0 0\\n0 -9 1 2 12 28 82 0\\n0 1 0 0 1 8 3 9\\n96 73 152 90 120 85 1 0\\n2.2 3 -9 176 1 -9 -9 -9\\n-9 -9 -9 3 -9 -9 -9 12\\n29 82 3 1 1 2 -9 1\\n-9 2 -9 1 2 1 1 1\\n1 1 -9 -9 name\\n170 0 70 1 -9 -9 -9\\n-9 4 130 1 322 -9 30 41\\n0 -9 1 2 1 6 83 0\\n0 0 1 0 1 3.4 3 7\\n109 65 160 78 130 85 0 0\\n2.4 2 -9 150 3 -9 -9 -9\\n-9 -9 -9 3 -9 -9 -9 1\\n7 83 1 1 1 1 -9 2\\n-9 1 -9 1 1 1 1 1\\n8 1 -9 -9 name\\n171 0 51 1 -9 -9 -9\\n-9 4 140 1 299 -9 30 30\\n0 -9 0 0 11 22 82 0\\n1 0 0 0 1 11 6 13\\n173 74 196 88 140 94 1 0\\n1.6 1 -9 152 0 -9 -9 -9\\n-9 -9 -9 7 -9 -9 -9 11\\n24 82 1 1 1 1 -9 1\\n-9 1 -9 1 2 1 1 1\\n1 1 -9 -9 name\\n172 0 58 1 -9 -9 -9\\n-9 4 125 1 300 -9 10 18\\n0 -9 1 2 12 15 82 0\\n1 1 0 0 1 12 6 14\\n171 90 180 60 125 80 0 0\\n0 1 -9 190 2 -9 -9 -9\\n-9 -9 -9 7 -9 -9 -9 12\\n16 82 1 1 1 1 -9 1\\n-9 1 -9 2 2 1 1 1\\n7 2 -9 -9 name\\n173 0 60 1 -9 -9 -9\\n-9 4 140 1 293 -9 30 48\\n0 -9 1 2 11 18 82 0\\n0 0 0 0 1 6 3 8\\n170 94 205 85 140 90 0 0\\n1.2 2 -9 103 2 -9 -9 -9\\n-9 -9 -9 7 -9 -9 -9 11\\n19 82 2 1 1 2 -9 1\\n-9 1 -9 2 1 1 1 1\\n1 2 -9 -9 name\\n174 0 68 1 -9 -9 -9\\n-9 3 118 1 277 -9 2 -9\\n0 -9 0 0 1 25 83 0\\n0 0 0 0 1 10.2 0 12\\n151 64 162 60 118 70 0 0\\n1 1 -9 158 1 -9 -9 -9\\n-9 -9 -9 7 -9 -9 -9 1\\n26 83 0 1 1 1 -9 1\\n-9 1 -9 1 1 1 1 1\\n1 1 -9 -9 name\\n175 0 46 1 -9 -9 -9\\n-9 2 101 0 197 -9 30 25\\n1 -9 0 0 2 21 83 0\\n1 0 0 1 1 14.4 0 13\\n156 74 160 60 101 70 0 0\\n0 1 -9 145 0 -9 -9 -9\\n-9 -9 -9 7 -9 -9 -9 2\\n28 83 0 1 1 1 -9 1\\n-9 1 -9 1 1 1 1 1\\n1 1 -9 -9 name\\n177 0 77 1 -9 -9 -9\\n-9 4 125 1 304 -9 10 15\\n0 -9 1 2 2 16 83 0\\n1 0 0 0 1 4.5 3 7\\n162 101 165 88 125 80 1 0\\n0 1 -9 30 3 -9 -9 -9\\n-9 -9 -9 3 -9 -9 -9 2\\n17 83 4 2 1 2 -9 2\\n-9 2 -9 2 1 1 1 1\\n1 1 -9 -9 name\\n178 0 54 0 -9 -9 -9\\n-9 3 110 1 214 -9 0 0\\n0 -9 1 0 1 21 83 0\\n0 0 0 0 1 9.2 9 13\\n158 63 148 60 110 64 0 0\\n1.6 2 -9 148 0 -9 -9 -9\\n-9 -9 -9 3 -9 -9 -9 1\\n24 83 0 1 1 1 -9 1\\n-9 1 -9 1 1 1 1 1\\n1 1 -9 -9 name\\n179 0 58 0 -9 -9 -9\\n-9 4 100 1 248 -9 0 0\\n0 -9 0 2 4 20 83 0\\n1 1 0 0 1 6 0 5\\n122 98 112 80 100 74 0 0\\n1 2 -9 50 0 -9 -9 -9\\n-9 -9 -9 3 -9 -9 -9 4\\n21 83 0 1 1 1 -9 1\\n-9 1 -9 1 1 1 1 1\\n1 1 -9 -9 name\\n180 0 48 1 -9 -9 -9\\n-9 3 124 0 255 -9 20 25\\n1 -9 0 0 3 7 83 0\\n1 0 0 1 1 9.5 0 11\\n175 73 190 80 124 90 0 0\\n0 1 -9 110 2 -9 -9 -9\\n-9 -9 -9 3 -9 -9 -9 3\\n8 83 0 1 1 1 -9 1\\n-9 1 -9 1 1 1 1 1\\n1 1 -9 -9 name\\n181 0 57 1 -9 -9 -9\\n-9 4 132 1 207 -9 20 15\\n0 -9 1 0 4 5 83 1\\n0 1 0 0 1 7 3 7\\n168 73 180 74 132 98 1 0\\n0 1 -9 170 0 -9 -9 -9\\n-9 -9 -9 7 -9 -9 -9 4\\n6 83 0 1 1 1 -9 1\\n-9 1 -9 1 1 1 1 1\\n1 1 -9 -9 name\\n182 0 52 1 -9 -9 -9\\n-9 3 138 1 223 -9 50 30\\n0 -9 1 0 3 31 83 0\\n0 1 1 0 1 11 0 12\\n169 63 190 70 138 94 0 0\\n0 1 -9 90 -9 -9 -9 -9\\n-9 -9 -9 3 -9 -9 -9 4\\n1 83 0 1 1 1 -9 1\\n-9 1 -9 1 1 1 1 1\\n1 1 -9 -9 name\\n183 0 54 0 -9 -9 -9\\n-9 2 132 1 288 -9 0 0\\n1 -9 0 2 3 31 83 0\\n0 0 1 0 1 9 0 10\\n159 89 190 70 132 80 1 0\\n0 1 -9 140 1 -9 -9 -9\\n-9 -9 -9 3 -9 -9 -9 4\\n1 83 0 1 1 1 -9 1\\n-9 1 -9 1 1 1 1 1\\n1 1 -9 -9 name\\n184 0 35 1 -9 -9 -9\\n-9 4 126 0 282 -9 60 18\\n0 -9 0 2 10 19 82 0\\n0 0 0 0 1 8.5 8.5 9\\n156 75 168 65 126 80 1 0\\n0 1 -9 155 0 -9 -9 -9\\n-9 -9 -9 7 -9 -9 -9 10\\n20 82 1 1 1 2 -9 1\\n-9 1 -9 1 1 1 1 1\\n1 1 -9 -9 name\\n185 0 45 0 -9 -9 -9\\n-9 2 112 0 160 -9 0 0\\n0 -9 0 0 10 12 82 0\\n0 0 0 0 1 7 0 9\\n138 101 84 60 112 82 0 1\\n0 2 -9 95 0 -9 -9 -9\\n-9 -9 -9 3 -9 -9 -9 10\\n13 82 0 1 1 1 -9 1\\n-9 1 -9 1 1 1 1 1\\n1 1 -9 -9 name\\n186 0 70 1 -9 -9 -9\\n-9 3 160 1 269 -9 0 0\\n0 -9 0 0 8 30 82 0\\n0 0 0 0 1 5.3 3 8\\n112 60 180 75 160 90 1 0\\n2.9 2 -9 137 1 -9 -9 -9\\n-9 -9 -9 7 -9 -9 -9 8\\n31 82 3 1 1 2 -9 2\\n-9 2 -9 1 2 1 1 1\\n3 2 -9 -9 name\\n187 0 53 1 -9 -9 -9\\n-9 4 142 1 226 -9 40 30\\n0 -9 1 2 8 24 82 0\\n0 0 0 0 1 7.5 0 8\\n111 58 192 80 142 76 1 0\\n0 1 -9 140 0 -9 -9 -9\\n-9 -9 -9 7 -9 -9 -9 8\\n25 82 0 1 1 1 -9 1\\n-9 1 -9 1 1 1 1 1\\n1 1 -9 -9 name\\n188 0 59 0 -9 -9 -9\\n-9 4 174 1 249 -9 0 0\\n0 1 0 0 10 7 82 0\\n0 0 0 0 1 4 4 5\\n143 74 200 82 174 92 1 0\\n0 2 -9 47 0 -9 -9 -9\\n-9 -9 -9 3 -9 -9 -9 10\\n8 82 1 1 1 1 -9 1\\n-9 2 -9 1 1 1 1 5\\n7 1 -9 -9 name\\n189 0 62 0 -9 -9 -9\\n-9 4 140 0 394 -9 0 0\\n0 -9 1 2 1 10 83 0\\n0 1 0 1 1 6.4 6.3 9\\n157 65 170 78 140 90 0 0\\n1.2 2 -9 120 0 -9 -9 -9\\n-9 -9 -9 3 -9 -9 -9 1\\n11 83 0 1 1 1 -9 1\\n-9 1 -9 1 1 1 1 1\\n1 1 -9 -9 name\\n190 0 64 1 -9 -9 -9\\n-9 4 145 1 212 -9 25 10\\n0 -9 0 2 8 20 83 0\\n0 1 0 0 1 4.5 3 6\\n132 64 180 90 145 90 0 0\\n2 2 -9 178 2 -9 -9 -9\\n-9 -9 -9 6 -9 -9 -9 8\\n23 82 4 2 1 2 -9 2\\n-9 1 -9 1 1 1 1 5\\n3 2 -9 -9 name\\n191 0 57 1 -9 -9 -9\\n-9 4 152 1 274 -9 40 20\\n0 -9 1 0 2 8 83 0\\n1 1 1 0 1 4.7 4.7 6\\n88 53 164 80 152 82 1 0\\n1.2 2 -9 170 1 -9 -9 -9\\n-9 -9 -9 7 -9 -9 -9 2\\n9 83 1 1 1 1 -9 2\\n-9 1 -9 1 1 1 1 1\\n1 1 -9 -9 name\\n192 0 52 1 -9 -9 -9\\n-9 4 108 1 233 -9 20 35\\n1 -9 0 0 5 10 83 0\\n0 1 1 0 1 8.5 0 9\\n147 74 164 56 108 60 0 0\\n0.1 1 -9 90 3 -9 -9 -9\\n-9 -9 -9 7 -9 -9 -9 5\\n10 83 0 1 1 1 -9 1\\n-9 1 -9 1 1 1 1 1\\n1 1 -9 -9 name\\n193 0 56 1 -9 -9 -9\\n-9 4 132 1 184 -9 40 20\\n0 -9 1 2 2 1 83 0\\n0 1 0 0 1 6 6 7\\n105 61 182 66 132 80 1 0\\n2.1 2 -9 230 1 -9 -9 -9\\n-9 -9 -9 6 -9 -9 -9 2\\n2 83 1 1 1 2 -9 1\\n-9 1 -9 1 1 1 1 1\\n1 1 -9 -9 name\\n194 0 43 1 -9 -9 -9\\n-9 3 130 1 315 -9 30 20\\n0 -9 1 0 2 14 83 0\\n0 0 0 0 1 10 9 12\\n162 94 174 70 130 86 0 0\\n1.9 1 -9 206 1 -9 -9 -9\\n-9 -9 -9 3 -9 -9 -9 2\\n15 83 0 1 1 1 -9 1\\n-9 1 -9 1 1 1 1 1\\n1 1 -9 -9 name\\n195 0 53 1 -9 -9 -9\\n-9 3 130 0 246 -9 20 15\\n1 -9 1 2 1 20 83 0\\n0 0 0 1 1 12 0 14\\n173 71 170 74 130 80 0 0\\n0 1 -9 130 3 -9 -9 -9\\n-9 -9 -9 3 -9 -9 -9 1\\n21 83 0 1 1 1 -9 1\\n-9 1 -9 1 1 1 1 1\\n1 2 -9 -9 name\\n196 0 48 1 -9 -9 -9\\n-9 4 124 0 274 -9 20 10\\n0 -9 1 2 2 15 83 0\\n1 0 1 1 1 11 11 14\\n166 69 144 84 124 94 0 0\\n0.5 2 -9 58 0 -9 -9 -9\\n-9 -9 -9 7 -9 -9 -9 2\\n16 83 3 1 1 2 -9 1\\n-9 2 -9 2 1 1 1 1\\n1 1 -9 -9 name\\n197 0 56 0 -9 -9 -9\\n-9 4 134 1 409 -9 0 0\\n0 -9 1 2 11 8 82 0\\n0 1 0 0 1 3.6 2.5 5\\n150 89 180 110 134 90 1 0\\n1.9 2 -9 110 2 -9 -9 -9\\n-9 -9 -9 7 -9 -9 -9 11\\n9 82 2 1 1 2 -9 1\\n-9 1 -9 2 1 1 1 1\\n1 1 -9 -9 name\\n199 0 42 1 -9 -9 -9\\n-9 1 148 0 244 -9 -9 1\\n0 -9 0 2 6 20 83 0\\n0 0 0 0 1 13 9 14\\n178 73 182 90 148 98 0 0\\n0.8 1 -9 106 2 -9 -9 -9\\n-9 -9 -9 3 -9 -9 -9 6\\n21 83 0 1 1 1 -9 1\\n-9 1 -9 1 1 1 1 1\\n1 1 -9 -9 name\\n200 0 59 1 -9 -9 -9\\n-9 1 178 1 270 -9 0 0\\n0 -9 1 2 6 9 83 0\\n0 1 0 0 1 8.2 3 9\\n145 57 189 80 178 100 0 0\\n4.2 3 -9 222 0 -9 -9 -9\\n-9 -9 -9 7 -9 -9 -9 6\\n10 83 0 1 1 1 -9 1\\n-9 1 -9 1 1 1 1 1\\n1 2 -9 -9 name\\n201 0 60 0 -9 -9 -9\\n-9 4 158 0 305 -9 0 0\\n0 -9 0 2 6 7 83 0\\n0 1 0 0 1 9 -9 10\\n161 78 180 78 158 90 0 0\\n0 1 -9 135 0 -9 -9 -9\\n-9 -9 -9 3 -9 -9 -9 6\\n10 83 1 1 2 1 -9 1\\n-9 1 -9 1 1 1 1 1\\n1 1 -9 -9 name\\n202 0 63 0 -9 -9 -9\\n-9 2 140 0 195 -9 2 20\\n0 -9 1 0 6 16 83 0\\n0 0 0 0 1 9 0 10\\n179 119 196 50 140 80 0 0\\n0 1 -9 160 2 -9 -9 -9\\n-9 -9 -9 3 -9 -9 -9 6\\n17 83 0 1 1 1 -9 1\\n-9 1 -9 1 1 1 1 1\\n1 1 -9 -9 name\\n203 0 42 1 -9 -9 -9\\n-9 3 120 1 240 -9 10 17\\n1 -9 1 0 6 13 83 0\\n1 0 0 0 1 9.3 0 11\\n194 74 170 75 120 90 0 0\\n0.8 3 -9 68 0 -9 -9 -9\\n-9 -9 -9 7 -9 -9 -9 6\\n14 83 0 1 1 1 -9 1\\n-9 1 -9 1 1 1 1 1\\n1 1 -9 -9 name\\n204 0 66 1 -9 -9 -9\\n-9 2 160 1 246 -9 0 0\\n0 1 0 0 6 28 83 0\\n1 1 0 0 1 9 9 10\\n120 52 188 90 160 100 1 0\\n0 2 -9 90 3 -9 -9 -9\\n-9 -9 -9 6 -9 -9 -9 6\\n29 83 2 1 1 1 -9 1\\n-9 2 -9 1 2 1 1 1\\n1 1 -9 -9 name\\n205 0 54 1 -9 -9 -9\\n-9 2 192 1 283 -9 35 25\\n0 -9 1 2 6 7 83 0\\n0 1 0 0 1 10 10 11\\n195 92 192 90 192 100 0 0\\n0 1 -9 120 1 -9 -9 -9\\n-9 -9 -9 7 -9 -9 -9 6\\n8 83 1 1 1 1 -9 1\\n-9 2 -9 1 1 1 1 1\\n1 2 -9 -9 name\\n206 0 69 1 -9 -9 -9\\n-9 3 140 1 254 -9 1 30\\n0 -9 1 2 6 29 83 0\\n0 0 0 0 1 9 9 10\\n146 57 162 68 140 80 0 0\\n2 2 -9 138 3 -9 -9 -9\\n-9 -9 -9 7 -9 -9 -9 6\\n30 83 2 1 1 1 -9 1\\n-9 2 -9 1 2 1 1 1\\n1 1 -9 -9 name\\n207 0 50 1 -9 -9 -9\\n-9 3 129 1 196 -9 20 28\\n0 -9 0 0 6 13 83 0\\n0 0 0 0 1 11.2 -9 12\\n163 80 170 60 129 90 0 0\\n0 1 -9 157 0 -9 -9 -9\\n-9 -9 -9 3 -9 -9 -9 6\\n14 83 0 1 1 1 -9 1\\n-9 1 -9 1 1 1 1 1\\n1 1 -9 -9 name\\n208 0 51 1 -9 -9 -9\\n-9 4 140 1 298 -9 0 0\\n0 -9 0 0 7 11 83 0\\n0 1 0 0 1 6.5 2 7\\n122 90 170 75 140 90 1 0\\n4.2 2 -9 144 3 -9 -9 -9\\n-9 -9 -9 7 -9 -9 -9 7\\n12 83 3 1 1 2 -9 2\\n-9 1 -9 2 1 1 1 1\\n1 2 -9 -9 name\\n209 0 43 1 -9 -9 -9\\n-9 4 132 1 247 -9 35 20\\n1 -9 1 2 7 29 83 0\\n1 0 1 0 1 4 3 5\\n143 70 138 80 132 88 1 0\\n0.1 2 -9 160 -9 -9 -9 -9\\n-9 -9 -9 7 -9 -9 -9 8\\n1 83 1 1 2 2 -9 1\\n-9 1 -9 1 1 1 1 4\\n2 4 -9 -9 name\\n210 0 62 0 -9 -9 -9\\n-9 4 138 0 294 -9 20 25\\n1 -9 1 0 8 2 83 0\\n1 1 0 1 1 4 3.6 5\\n106 68 170 90 138 100 0 0\\n1.9 2 -9 108 3 -9 -9 -9\\n-9 -9 -9 3 -9 -9 -9 8\\n3 83 2 1 2 2 -9 1\\n-9 1 -9 2 2 1 1 1\\n2 2 -9 -9 name\\n211 0 68 0 -9 -9 -9\\n-9 3 120 1 211 -9 9 20\\n0 -9 1 2 8 4 83 1\\n1 1 0 0 1 5 4.8 6\\n115 64 145 70 120 80 0 0\\n1.5 2 -9 60 0 -9 -9 -9\\n-9 -9 -9 3 -9 -9 -9 8\\n5 83 0 1 1 1 -9 1\\n-9 1 -9 1 1 1 1 1\\n1 1 -9 -9 name\\n212 0 67 1 -9 -9 -9\\n-9 4 100 1 299 -9 -9 -9\\n0 -9 1 2 7 27 83 0\\n1 1 0 0 1 3.4 3 5\\n125 75 128 65 100 70 1 0\\n0.9 2 -9 73 2 -9 -9 -9\\n-9 -9 -9 3 -9 -9 -9 7\\n28 83 3 1 1 2 -9 2\\n-9 2 -9 2 1 1 1 1\\n1 1 -9 -9 name\\n213 0 69 1 -9 -9 -9\\n-9 1 160 1 234 -9 0 0\\n1 1 0 2 7 25 83 0\\n0 0 0 0 1 8 -9 9\\n131 64 224 80 160 88 0 0\\n0.1 2 -9 118 1 -9 -9 -9\\n-9 -9 -9 3 -9 -9 -9 7\\n26 83 0 1 1 1 -9 1\\n-9 1 -9 1 1 1 1 1\\n1 1 -9 -9 name\\n214 0 45 0 -9 -9 -9\\n-9 4 138 1 236 -9 3 5\\n0 -9 1 2 8 10 83 0\\n0 0 1 0 1 9.2 -9 9\\n152 78 140 70 138 80 1 0\\n0.2 2 -9 179 0 -9 -9 -9\\n-9 -9 -9 3 -9 -9 -9 8\\n11 83 0 1 1 1 -9 1\\n-9 1 -9 1 1 1 1 1\\n1 2 -9 -9 name\\n215 0 50 0 -9 -9 -9\\n-9 2 120 1 244 -9 20 34\\n0 -9 1 0 8 8 83 0\\n0 1 0 0 1 7.5 6 8\\n162 85 180 85 120 90 0 0\\n1.1 1 -9 160 0 -9 -9 -9\\n-9 -9 -9 3 -9 -9 -9 8\\n9 83 0 1 1 1 -9 1\\n-9 1 -9 1 1 1 1 1\\n1 2 -9 -9 name\\n216 0 59 1 -9 -9 -9\\n-9 1 160 1 273 -9 20 30\\n0 -9 1 2 8 11 83 0\\n1 0 0 0 1 9 -9 10\\n125 71 190 80 160 90 0 0\\n0 1 -9 115 0 -9 -9 -9\\n-9 -9 -9 3 -9 -9 -9 8\\n12 83 1 1 1 1 -9 1\\n-9 1 -9 1 2 1 1 1\\n1 1 -9 -9 name\\n217 0 50 0 -9 -9 -9\\n-9 4 110 1 254 -9 10 35\\n0 -9 1 2 9 6 83 0\\n0 0 0 0 1 9.7 -9 10\\n159 60 152 60 110 70 0 0\\n0 1 -9 75 0 -9 -9 -9\\n-9 -9 -9 3 -9 -9 -9 9\\n7 83 0 1 1 1 -9 1\\n-9 1 -9 1 1 1 1 1\\n1 1 -9 -9 name\\n218 0 64 0 -9 -9 -9\\n-9 4 180 1 325 -9 10 50\\n0 -9 1 0 8 26 83 0\\n0 0 0 0 1 7.8 7 8\\n154 91 210 98 180 100 1 0\\n0 1 -9 121 0 -9 -9 -9\\n-9 -9 -9 3 -9 -9 -9 8\\n29 83 0 1 1 1 -9 1\\n-9 1 -9 1 1 1 1 1\\n1 1 -9 -9 name\\n219 0 57 1 -9 -9 -9\\n-9 3 150 0 126 -9 0 0\\n1 -9 1 0 8 23 83 0\\n0 0 0 0 1 11 -9 12\\n173 86 200 80 150 80 0 0\\n0.2 1 -9 180 1 -9 -9 -9\\n-9 -9 -9 7 -9 -9 -9 8\\n24 83 0 1 1 1 -9 1\\n-9 1 -9 1 1 1 1 1\\n1 1 -9 -9 name\\n220 0 64 0 -9 -9 -9\\n-9 3 140 1 313 -9 20 40\\n0 -9 1 0 8 30 83 0\\n0 0 0 0 1 6 -9 7\\n133 85 146 82 140 78 0 0\\n0.2 1 -9 125 0 -9 -9 -9\\n-9 -9 -9 7 -9 -9 -9 8\\n31 83 0 1 1 1 -9 1\\n-9 1 -9 1 1 1 1 1\\n1 1 -9 -9 name\\n221 0 43 1 -9 -9 -9\\n-9 4 110 1 211 -9 10 20\\n0 -9 1 0 8 29 83 0\\n1 0 0 0 1 11.5 -9 12\\n161 59 160 60 110 76 0 0\\n0 1 -9 75 0 -9 -9 -9\\n-9 -9 -9 7 -9 -9 -9 8\\n30 83 0 1 1 1 -9 1\\n-9 1 -9 1 1 1 1 1\\n1 1 -9 -9 name\\n222 0 45 1 -9 -9 -9\\n-9 4 142 1 309 -9 0 0\\n0 -9 0 2 8 17 83 0\\n0 0 0 0 1 11 -9 12\\n147 73 160 70 142 80 1 0\\n0 2 -9 87 3 -9 -9 -9\\n-9 -9 -9 7 -9 -9 -9 8\\n18 83 3 1 1 2 -9 2\\n-9 1 -9 2 1 1 1 1\\n1 1 -9 -9 name\\n223 0 58 1 -9 -9 -9\\n-9 4 128 1 259 -9 15 15\\n0 -9 0 2 9 1 83 0\\n0 0 0 0 1 4 3 5\\n130 56 165 100 128 90 1 0\\n3 2 -9 130 2 -9 -9 -9\\n-9 -9 -9 7 -9 -9 -9 9\\n2 83 3 1 2 1 -9 1\\n-9 2 -9 1 2 1 1 2\\n5 1 -9 -9 name\\n224 0 50 1 -9 -9 -9\\n-9 4 144 1 200 -9 0 0\\n0 -9 1 2 8 16 83 -9\\n-9 -9 -9 -9 1 5.5 3 6\\n126 92 154 60 144 80 1 0\\n0.9 2 -9 105 0 -9 -9 -9\\n-9 -9 -9 7 -9 -9 -9 8\\n17 83 3 1 2 1 -9 1\\n-9 2 -9 2 1 1 1 1\\n1 1 -9 -9 name\\n225 0 55 1 -9 -9 -9\\n-9 2 130 1 262 -9 10 6\\n0 -9 1 0 9 21 83 0\\n0 0 0 0 1 12.5 -9 14\\n155 76 162 65 130 85 0 0\\n0 1 -9 190 0 -9 -9 -9\\n-9 -9 -9 3 -9 -9 -9 9\\n22 83 0 1 1 1 -9 1\\n-9 1 -9 1 1 1 1 1\\n1 1 -9 -9 name\\n226 0 62 0 -9 -9 -9\\n-9 4 150 1 244 -9 0 0\\n0 -9 1 0 9 26 83 0\\n1 1 0 0 1 3.1 3 5\\n154 79 150 76 150 78 1 0\\n1.4 2 -9 71 0 -9 -9 -9\\n-9 -9 -9 3 -9 -9 -9 9\\n27 83 1 1 2 1 -9 1\\n-9 1 -9 1 1 1 1 1\\n1 1 -9 -9 name\\n227 0 37 0 -9 -9 -9\\n-9 3 120 1 215 -9 0 0\\n0 -9 1 0 9 15 83 0\\n1 0 0 0 1 9 -9 10\\n170 78 165 65 120 80 0 0\\n0 1 -9 104 0 -9 -9 -9\\n-9 -9 -9 3 -9 -9 -9 10\\n6 83 0 1 1 1 -9 1\\n-9 1 -9 1 1 1 1 1\\n1 1 -9 -9 name\\n228 0 38 1 -9 -9 -9\\n-9 1 120 1 231 -9 30 20\\n0 -9 1 0 8 24 83 0\\n0 0 0 0 1 9.2 9 10\\n182 70 160 68 120 68 1 0\\n3.8 2 -9 97 0 -9 -9 -9\\n-9 -9 -9 7 -9 -9 -9 8\\n25 83 4 2 1 2 -9 1\\n-9 1 -9 1 1 1 1 1\\n1 2 -9 -9 name\\n229 0 41 1 -9 -9 -9\\n-9 3 130 1 214 -9 0 0\\n0 -9 1 2 10 17 83 0\\n1 0 0 0 1 12 -9 12\\n168 72 186 78 130 80 0 0\\n2 2 -9 105 0 -9 -9 -9\\n-9 -9 -9 3 -9 -9 -9 10\\n18 83 0 1 1 1 -9 1\\n-9 1 -9 1 1 1 1 1\\n1 1 -9 -9 name\\n230 0 66 0 -9 -9 -9\\n-9 4 178 1 228 -9 0 0\\n1 1 1 0 2 18 83 0\\n0 0 0 0 1 5 5 6\\n165 88 185 90 178 100 1 0\\n1 2 -9 117 2 -9 -9 -9\\n-9 -9 -9 7 -9 -9 -9 2\\n21 83 3 1 1 2 -9 2\\n-9 1 -9 2 1 1 1 1\\n1 1 -9 -9 name\\n231 0 52 1 -9 -9 -9\\n-9 4 112 0 230 -9 0 0\\n0 -9 1 0 10 13 83 0\\n1 0 0 0 1 13 -9 14\\n160 59 182 74 112 80 0 0\\n0 1 -9 105 1 -9 -9 -9\\n-9 -9 -9 3 -9 -9 -9 10\\n14 83 1 1 1 2 -9 1\\n-9 1 -9 1 1 1 1 1\\n1 1 -9 -9 name\\n232 0 56 1 -9 -9 -9\\n-9 1 120 1 193 -9 40 38\\n0 -9 1 2 10 6 83 0\\n0 0 0 0 1 9.5 9.5 10\\n162 77 174 68 120 70 0 0\\n1.9 2 -9 100 0 -9 -9 -9\\n-9 -9 -9 7 -9 -9 -9 10\\n7 83 0 1 1 1 -9 1\\n-9 1 -9 1 1 1 1 1\\n1 1 -9 -9 name\\n233 0 46 0 -9 -9 -9\\n-9 2 105 1 204 -9 40 20\\n0 -9 1 0 10 4 83 0\\n0 1 0 0 1 9 9 10\\n172 76 138 58 105 82 0 0\\n0 1 -9 125 0 -9 -9 -9\\n-9 -9 -9 3 -9 -9 -9 10\\n5 83 0 1 1 1 -9 1\\n-9 1 -9 1 1 1 1 1\\n1 1 -9 -9 name\\n234 0 46 0 -9 -9 -9\\n-9 4 138 0 243 -9 0 0\\n0 -9 1 2 10 26 83 0\\n0 1 1 0 1 1.8 1 4\\n152 79 148 80 138 84 1 0\\n0 2 -9 103 0 -9 -9 -9\\n-9 -9 -9 3 -9 -9 -9 10\\n27 83 0 1 1 1 -9 1\\n-9 1 -9 1 1 1 1 1\\n1 1 -9 -9 name\\n235 0 64 0 -9 -9 -9\\n-9 4 130 0 303 -9 0 0\\n0 -9 1 0 10 19 83 0\\n1 1 1 1 1 6.8 6.8 8\\n122 63 190 76 130 80 0 0\\n2 2 -9 74 2 -9 -9 -9\\n-9 -9 -9 3 -9 -9 -9 10\\n20 83 0 1 1 1 -9 1\\n-9 1 -9 1 1 1 1 1\\n1 1 -9 -9 name\\n236 0 59 1 -9 -9 -9\\n-9 4 138 1 271 -9 30 31\\n0 1 1 2 10 25 83 0\\n0 0 0 0 1 12 -9 13\\n182 76 194 26 138 90 0 0\\n0 1 -9 50 0 -9 -9 -9\\n-9 -9 -9 3 -9 -9 -9 10\\n26 83 0 1 1 1 -9 1\\n-9 1 -9 1 1 1 1 1\\n1 1 -9 -9 name\\n237 0 41 0 -9 -9 -9\\n-9 3 112 0 268 -9 50 4\\n0 -9 0 2 11 9 83 0\\n0 0 0 0 1 11 9 12\\n172 94 146 75 112 70 1 0\\n0 1 -9 102 0 -9 -9 -9\\n-9 -9 -9 3 -9 -9 -9 11\\n10 83 0 1 1 1 -9 1\\n-9 1 -9 1 1 1 1 1\\n1 1 -9 -9 name\\n238 0 54 0 -9 -9 -9\\n-9 3 108 1 267 -9 0 0\\n0 -9 1 2 11 28 82 0\\n0 0 0 0 1 4 -9 6\\n167 102 140 62 108 80 0 0\\n0 1 -9 55 0 -9 -9 -9\\n-9 -9 -9 3 -9 -9 -9 11\\n29 83 0 1 1 1 -9 1\\n-9 1 -9 1 1 1 1 1\\n1 1 -9 -9 name\\n239 0 39 0 -9 -9 -9\\n-9 3 94 1 199 -9 0 0\\n0 -9 0 0 11 3 83 0\\n0 0 0 0 1 10.5 -9 11\\n179 89 116 58 94 64 0 0\\n0 1 -9 120 0 -9 -9 -9\\n-9 -9 -9 3 -9 -9 -9 11\\n4 83 0 1 1 1 -9 1\\n-9 1 -9 1 1 1 1 1\\n1 1 -9 -9 name\\n240 0 53 1 -9 -9 -9\\n-9 4 123 0 282 -9 0 0\\n0 -9 0 0 9 9 83 0\\n0 1 0 0 1 3 3 4\\n95 61 98 68 123 85 1 1\\n2 2 -9 177 2 -9 -9 -9\\n-9 -9 -9 7 -9 -9 -9 9\\n12 83 3 1 1 2 -9 2\\n-9 2 -9 1 2 1 1 1\\n1 1 -9 -9 name\\n241 0 63 0 -9 -9 -9\\n-9 4 108 0 269 -9 0 0\\n0 -9 0 0 11 10 83 0\\n0 0 0 0 1 8 8 9\\n169 58 156 74 108 80 1 0\\n1.8 2 -9 75 2 -9 -9 -9\\n-9 -9 -9 3 -9 -9 -9 11\\n11 83 1 1 1 1 -9 1\\n-9 1 -9 2 1 1 1 1\\n1 1 -9 -9 name\\n242 0 34 0 -9 -9 -9\\n-9 2 118 1 210 -9 10 15\\n0 -9 1 0 12 5 83 0\\n0 0 0 0 1 8 -9 9\\n192 92 152 78 118 84 0 0\\n0.7 1 -9 83 0 -9 -9 -9\\n-9 -9 -9 3 -9 -9 -9 12\\n6 83 0 1 1 1 -9 1\\n-9 1 -9 1 1 1 1 1\\n1 1 -9 -9 name\\n243 0 47 1 -9 -9 -9\\n-9 4 112 1 204 -9 20 22\\n0 -9 1 0 11 30 83 0\\n0 0 0 0 1 11 -9 12\\n143 65 176 60 112 68 0 0\\n0.1 1 -9 115 0 -9 -9 -9\\n-9 -9 -9 3 -9 -9 -9 12\\n1 83 0 1 1 1 -9 1\\n-9 1 -9 1 1 1 1 1\\n1 1 -9 -9 name\\n244 0 67 0 -9 -9 -9\\n-9 3 152 1 277 -9 0 0\\n0 -9 1 0 10 20 83 0\\n0 1 0 0 1 6.5 -9 7\\n172 99 172 80 152 94 0 0\\n0 1 -9 83 1 -9 -9 -9\\n-9 -9 -9 3 -9 -9 -9 10\\n21 83 0 1 1 1 -9 1\\n-9 1 -9 1 1 1 1 1\\n1 1 -9 -9 name\\n245 0 54 1 -9 -9 -9\\n-9 4 110 1 206 -9 0 0\\n0 -9 0 2 9 23 83 0\\n0 1 0 0 1 8 -9 9\\n108 59 135 70 110 70 1 0\\n0 2 -9 120 1 -9 -9 -9\\n-9 -9 -9 3 -9 -9 -9 9\\n26 83 3 1 1 2 -9 2\\n-9 1 -9 1 2 1 1 1\\n6 1 -9 -9 name\\n246 0 66 1 -9 -9 -9\\n-9 4 112 1 212 -9 20 35\\n0 -9 1 2 12 8 83 0\\n0 0 0 0 1 6.2 -9 7\\n132 77 180 80 112 90 1 0\\n0.1 1 -9 60 1 -9 -9 -9\\n-9 -9 -9 3 -9 -9 -9 12\\n9 83 2 1 1 1 -9 1\\n-9 2 -9 2 2 1 1 1\\n1 1 -9 -9 name\\n247 0 52 0 -9 -9 -9\\n-9 3 136 1 196 -9 0 0\\n0 -9 0 2 12 12 83 0\\n0 0 0 0 1 9 9 10\\n169 91 154 90 136 106 0 0\\n0.1 2 -9 70 0 -9 -9 -9\\n-9 -9 -9 3 -9 -9 -9 12\\n13 83 0 1 1 1 -9 1\\n-9 1 -9 1 1 1 1 1\\n1 1 -9 -9 name\\n248 0 55 0 -9 -9 -9\\n-9 4 180 0 327 -9 15 40\\n0 -9 1 1 8 12 83 0\\n0 0 0 0 1 5 -9 5\\n117 73 200 100 180 110 1 0\\n3.4 2 -9 252 0 -9 -9 -9\\n-9 -9 -9 3 -9 -9 -9 8\\n15 83 2 1 1 1 -9 1\\n-9 2 -9 2 2 1 1 1\\n1 1 -9 -9 name\\n249 0 49 1 -9 -9 -9\\n-9 3 118 1 149 -9 25 40\\n0 -9 1 2 11 30 83 0\\n1 0 0 0 1 8.8 -9 9\\n126 70 120 68 118 82 0 0\\n0.8 1 -9 230 3 -9 -9 -9\\n-9 -9 -9 3 -9 -9 -9 12\\n1 83 1 1 1 1 -9 1\\n-9 2 -9 1 1 1 1 1\\n1 1 -9 -9 name\\n250 0 74 0 -9 -9 -9\\n-9 2 120 0 269 -9 0 0\\n0 -9 1 2 11 29 83 1\\n0 0 1 1 1 4 3 3\\n121 75 182 78 120 80 1 0\\n0.2 1 -9 253 1 -9 -9 -9\\n-9 -9 -9 3 -9 -9 -9 11\\n30 83 0 1 1 1 -9 1\\n-9 1 -9 1 1 1 1 1\\n1 1 -9 -9 name\\n251 0 54 0 -9 -9 -9\\n-9 3 160 0 201 -9 0 0\\n0 -9 1 0 12 1 83 0\\n1 0 0 1 1 8 -9 9\\n163 77 190 110 160 100 0 0\\n0 1 -9 125 1 -9 -9 -9\\n-9 -9 -9 3 -9 -9 -9 12\\n2 83 0 1 1 1 -9 1\\n-9 1 -9 1 1 1 1 1\\n1 1 -9 -9 name\\n252 0 54 1 -9 -9 -9\\n-9 4 122 0 286 -9 0 0\\n0 -9 0 2 11 22 83 0\\n1 1 0 0 1 3.6 3.6 5\\n116 82 98 68 122 80 1 1\\n3.2 2 -9 154 2 -9 -9 -9\\n-9 -9 -9 3 -9 -9 -9 11\\n23 83 3 1 2 1 -9 1\\n-9 2 -9 2 1 1 1 5\\n7 1 -9 -9 name\\n253 0 56 1 -9 -9 -9\\n-9 4 130 0 283 -9 20 14\\n1 -9 1 2 12 14 83 0\\n1 0 0 0 1 9 6 10\\n103 66 160 80 130 88 1 0\\n1.6 3 -9 78 0 -9 -9 -9\\n-9 -9 -9 7 -9 -9 -9 12\\n15 83 2 1 1 1 -9 1\\n-9 2 -9 2 1 1 1 8\\n7 3 -9 -9 name\\n254 0 46 1 -9 -9 -9\\n-9 4 120 1 249 -9 60 20\\n0 -9 1 2 12 9 83 0\\n0 0 0 0 1 9.5 -9 10\\n144 87 135 75 120 85 0 0\\n0.8 1 -9 24 0 -9 -9 -9\\n-9 -9 -9 7 -9 -9 -9 12\\n12 83 1 1 1 1 -9 2\\n-9 2 -9 1 1 1 1 1\\n7 2 -9 -9 name\\n255 0 49 0 -9 -9 -9\\n-9 2 134 0 271 -9 0 0\\n0 -9 1 0 1 12 84 0\\n0 0 0 0 1 8.5 8.5 9\\n162 63 162 84 134 82 0 0\\n0 2 -9 90 0 -9 -9 -9\\n-9 -9 -9 3 -9 -9 -9 1\\n13 84 0 1 1 1 -9 1\\n-9 1 -9 1 1 1 1 1\\n1 1 -9 -9 name\\n256 0 42 1 -9 -9 -9\\n-9 2 120 1 295 -9 40 20\\n0 -9 0 0 9 22 83 0\\n0 0 0 0 1 10.5 -9 11\\n162 77 155 68 120 85 0 0\\n0 1 -9 50 0 -9 -9 -9\\n-9 -9 -9 3 -9 -9 -9 9\\n23 83 0 1 1 1 -9 1\\n-9 1 -9 1 1 1 1 4\\n3 1 -9 -9 name\\n257 0 41 1 -9 -9 -9\\n-9 2 110 0 235 -9 0 0\\n0 -9 0 0 1 5 84 0\\n1 0 0 0 1 10 10 11\\n153 76 190 100 110 66 0 0\\n0 1 -9 113 0 -9 -9 -9\\n-9 -9 -9 3 -9 -9 -9 1\\n6 84 0 1 1 1 -9 1\\n-9 1 -9 1 1 1 1 1\\n1 1 -9 -9 name\\n258 0 41 0 -9 -9 -9\\n-9 2 126 1 306 -9 0 0\\n0 -9 1 0 12 8 83 0\\n0 0 0 0 1 7 -9 8\\n163 94 140 70 126 90 0 0\\n0 1 -9 92 0 -9 -9 -9\\n-9 -9 -9 3 -9 -9 -9 12\\n9 83 0 1 1 1 -9 1\\n-9 1 -9 1 1 1 1 1\\n1 1 -9 -9 name\\n259 0 49 0 -9 -9 -9\\n-9 4 130 1 269 -9 30 32\\n0 -9 1 0 12 13 83 0\\n0 0 0 0 1 7.5 -9 8\\n163 70 172 60 130 70 0 0\\n0 1 -9 80 0 -9 -9 -9\\n-9 -9 -9 3 -9 -9 -9 12\\n14 83 0 1 1 1 -9 1\\n-9 1 -9 1 1 1 1 1\\n1 1 -9 -9 name\\n260 0 61 1 -9 -9 -9\\n-9 1 134 1 234 -9 0 0\\n0 -9 1 0 1 4 84 0\\n0 0 0 0 1 8 6 9\\n145 87 154 60 134 80 0 0\\n2.6 2 -9 175 2 -9 -9 -9\\n-9 -9 -9 3 -9 -9 -9 1\\n11 84 2 1 1 1 -9 2\\n-9 2 -9 2 2 1 1 1\\n1 1 -9 -9 name\\n261 0 60 0 -9 -9 -9\\n-9 3 120 0 178 -9 0 0\\n1 1 0 0 10 28 83 0\\n1 0 0 0 1 7 -9 8\\n96 59 160 84 120 70 0 0\\n0 1 -9 130 0 -9 -9 -9\\n-9 -9 -9 3 -9 -9 -9 10\\n31 83 0 1 1 1 -9 1\\n-9 1 -9 1 1 1 1 1\\n1 1 -9 -9 name\\n262 0 67 1 -9 -9 -9\\n-9 4 120 0 237 -9 2 5\\n0 -9 0 0 1 4 84 0\\n1 1 1 1 1 6.3 3 7\\n71 49 92 56 120 68 0 1\\n1 2 -9 140 0 -9 -9 -9\\n-9 -9 -9 3 -9 -9 -9 1\\n5 84 2 1 1 2 -9 2\\n-9 2 -9 1 1 1 1 1\\n1 1 -9 -9 name\\n263 0 58 1 -9 -9 -9\\n-9 4 100 1 234 -9 40 40\\n0 -9 1 0 10 21 83 0\\n0 1 0 0 1 11 -9 12\\n156 64 170 70 100 70 0 0\\n0.1 1 -9 115 1 -9 -9 -9\\n-9 -9 -9 7 -9 -9 -9 10\\n24 83 2 1 1 2 -9 2\\n-9 1 -9 1 1 1 1 1\\n1 1 -9 -9 name\\n264 0 47 1 -9 -9 -9\\n-9 4 110 1 275 -9 0 0\\n0 -9 1 2 12 21 83 0\\n1 1 0 0 1 7 6 8\\n118 83 140 77 110 85 1 0\\n1 2 -9 116 1 -9 -9 -9\\n-9 -9 -9 3 -9 -9 -9 12\\n22 83 1 1 1 2 -9 1\\n-9 1 -9 1 1 1 1 1\\n1 1 -9 -9 name\\n265 0 52 1 -9 -9 -9\\n-9 4 125 0 212 -9 40 25\\n0 -9 0 0 12 16 83 0\\n0 0 0 0 1 7.5 7.5 8\\n168 79 150 70 125 80 0 0\\n1 1 -9 90 2 -9 -9 -9\\n-9 -9 -9 7 -9 -9 -9 12\\n19 83 3 1 2 2 -9 1\\n-9 2 -9 2 1 1 1 1\\n1 1 -9 -9 name\\n266 0 62 1 -9 -9 -9\\n-9 2 128 1 208 -9 0 0\\n1 -9 0 2 1 18 84 0\\n0 0 0 0 1 7 -9 8\\n140 91 160 70 128 72 0 0\\n0 1 -9 96 0 -9 -9 -9\\n-9 -9 -9 3 -9 -9 -9 1\\n19 84 0 1 1 1 -9 1\\n-9 1 -9 1 1 1 1 1\\n1 1 -9 -9 name\\n267 0 57 1 -9 -9 -9\\n-9 4 110 0 201 -9 -9 -9\\n0 -9 1 0 12 20 83 0\\n1 0 1 0 1 9 9 10\\n126 56 140 70 110 80 1 0\\n1.5 2 -9 122 0 -9 -9 -9\\n-9 -9 -9 6 -9 -9 -9 12\\n21 83 0 1 1 1 -9 1\\n-9 1 -9 1 1 1 1 1\\n1 1 -9 -9 name\\n268 0 58 1 -9 -9 -9\\n-9 4 146 0 218 -9 40 20\\n0 -9 1 0 2 8 84 0\\n0 0 0 0 1 5.8 5.8 6\\n105 59 164 80 146 88 0 0\\n2 2 -9 190 1 -9 -9 -9\\n-9 -9 -9 7 -9 -9 -9 2\\n9 84 1 1 2 1 -9 1\\n-9 1 -9 1 1 1 1 1\\n1 1 -9 -9 name\\n269 0 64 1 -9 -9 -9\\n-9 4 128 0 263 -9 40 35\\n0 -9 1 0 1 23 84 0\\n1 1 1 1 1 6 -9 7\\n105 61 182 82 128 84 1 0\\n0.2 2 -9 90 1 -9 -9 -9\\n-9 -9 -9 7 -9 -9 -9 1\\n24 84 0 1 1 1 -9 1\\n-9 1 -9 1 1 1 1 1\\n1 1 -9 -9 name\\n270 0 51 0 -9 -9 -9\\n-9 3 120 0 295 -9 0 0\\n0 -9 0 2 1 31 84 0\\n1 1 1 0 1 9 6 10\\n157 80 144 80 120 78 0 0\\n0.6 1 -9 195 0 -9 -9 -9\\n-9 -9 -9 3 -9 -9 -9 2\\n1 84 0 1 1 1 -9 1\\n-9 1 -9 1 1 1 1 1\\n1 1 -9 -9 name\\n271 0 43 1 -9 -9 -9\\n-9 4 115 1 303 -9 0 0\\n0 -9 1 0 1 30 84 0\\n0 0 1 0 1 13 12 14\\n181 62 180 70 115 80 0 0\\n1.2 2 -9 166 0 -9 -9 -9\\n-9 -9 -9 3 -9 -9 -9 1\\n31 84 0 1 1 1 -9 1\\n-9 1 -9 1 1 1 1 1\\n1 1 -9 -9 name\\n272 0 42 0 -9 -9 -9\\n-9 3 120 1 209 -9 28 30\\n0 1 1 0 1 26 84 0\\n0 1 1 0 1 8.7 -9 10\\n173 115 160 70 120 72 0 0\\n0 2 -9 115 0 -9 -9 -9\\n-9 -9 -9 3 -9 -9 -9 1\\n27 84 0 1 1 1 -9 1\\n-9 1 -9 1 1 1 1 1\\n1 1 -9 -9 name\\n273 0 67 0 -9 -9 -9\\n-9 4 106 1 223 -9 20 50\\n0 -9 0 0 2 6 84 0\\n0 0 0 0 1 7 7 8\\n142 96 180 40 106 50 0 0\\n0.3 1 -9 145 2 -9 -9 -9\\n-9 -9 -9 3 -9 -9 -9 2\\n7 84 0 1 1 1 -9 1\\n-9 1 -9 1 1 1 1 1\\n1 1 -9 -9 name\\n274 0 76 0 -9 -9 -9\\n-9 3 140 0 197 -9 0 0\\n0 -9 0 1 2 14 84 0\\n0 0 0 0 1 5.4 5.2 6\\n116 90 150 78 140 80 0 0\\n1.1 2 -9 165 0 -9 -9 -9\\n-9 -9 -9 3 -9 -9 -9 2\\n15 84 0 1 1 1 -9 1\\n-9 1 -9 1 1 1 1 1\\n1 1 -9 -9 name\\n275 0 70 1 -9 -9 -9\\n-9 2 156 0 245 -9 0 0\\n0 -9 1 2 1 3 84 0\\n0 0 0 1 1 9.5 -9 10\\n143 79 200 86 156 96 0 0\\n0 1 -9 110 0 -9 -9 -9\\n-9 -9 -9 3 -9 -9 -9 1\\n4 84 0 1 1 1 -9 1\\n-9 1 -9 1 1 1 1 1\\n1 1 -9 -9 name\\n276 0 57 1 -9 -9 -9\\n-9 2 124 1 261 -9 20 35\\n0 -9 0 0 12 15 83 0\\n0 0 0 0 1 7.5 -9 8\\n141 69 184 78 124 80 0 0\\n0.3 1 -9 127 0 -9 -9 -9\\n-9 -9 -9 7 -9 -9 -9 12\\n8 83 1 1 1 1 -9 1\\n-9 2 -9 1 1 1 1 1\\n1 1 -9 -9 name\\n277 0 44 0 -9 -9 -9\\n-9 3 118 0 242 -9 20 20\\n0 -9 1 0 1 20 84 0\\n1 0 0 0 1 10.3 6 11\\n149 68 176 78 118 86 0 0\\n0.3 2 -9 112 1 -9 -9 -9\\n-9 -9 -9 3 -9 -9 -9 1\\n21 84 0 1 1 1 -9 1\\n-9 1 -9 1 1 1 1 1\\n1 1 -9 -9 name\\n278 0 58 0 -9 -9 -9\\n-9 2 136 0 319 -9 10 25\\n1 1 1 2 11 1 83 0\\n0 0 0 0 1 10 -9 11\\n152 80 196 68 136 86 0 0\\n0 1 -9 115 2 -9 -9 -9\\n-9 -9 -9 3 -9 -9 -9 11\\n2 83 3 1 1 2 -9 2\\n-9 1 -9 1 2 1 1 1\\n1 1 -9 -9 name\\n279 0 60 0 -9 -9 -9\\n-9 1 150 1 240 -9 0 0\\n0 -9 0 0 3 5 84 0\\n0 0 0 0 1 9 -9 10\\n171 75 184 100 150 100 0 0\\n0.9 1 -9 125 0 -9 -9 -9\\n-9 -9 -9 3 -9 -9 -9 3\\n6 84 0 1 1 1 -9 1\\n-9 1 -9 1 1 1 1 1\\n1 1 -9 -9 name\\n280 0 44 1 -9 -9 -9\\n-9 3 120 0 226 -9 80 4\\n0 -9 0 0 2 28 84 0\\n0 0 0 0 1 9.2 -9 10\\n169 88 176 80 120 90 0 0\\n0 1 -9 132 0 -9 -9 -9\\n-9 -9 -9 3 -9 -9 -9 2\\n29 84 0 1 1 1 -9 1\\n-9 1 -9 1 1 1 1 1\\n1 1 -9 -9 name\\n281 0 61 1 -9 -9 -9\\n-9 4 138 0 166 -9 40 4\\n0 -9 1 2 12 12 83 0\\n0 0 0 0 1 6 5 7\\n125 70 158 86 138 96 1 0\\n3.6 2 -9 240 1 -9 -9 -9\\n-9 -9 -9 3 -9 -9 -9 12\\n13 83 4 2 1 2 -9 1\\n-9 2 -9 2 1 1 1 1\\n5 1 -9 -9 name\\n282 0 42 1 -9 -9 -9\\n-9 4 136 0 315 -9 40 18\\n0 -9 1 0 1 11 84 0\\n1 0 1 1 1 8 6 9\\n125 66 170 74 136 80 1 0\\n1.8 2 -9 200 0 -9 -9 -9\\n-9 -9 -9 6 -9 -9 -9 1\\n12 84 2 1 1 1 -9 2\\n-9 1 -9 2 1 1 1 1\\n1 1 -9 -9 name\\n283 0 52 1 -9 -9 -9\\n-9 4 128 1 204 -9 0 0\\n1 -9 1 0 2 15 84 0\\n0 0 0 0 1 9 8.5 10\\n156 74 180 78 128 80 1 0\\n1 2 -9 125 0 -9 -9 -9\\n-9 -9 -9 -9 -9 -9 -9 2\\n16 84 2 1 1 1 -9 2\\n-9 2 -9 1 2 1 1 6\\n5 2 -9 -9 name\\n284 0 59 1 -9 -9 -9\\n-9 3 126 0 218 -9 0 0\\n1 -9 1 0 2 2 84 0\\n1 0 1 0 1 8 6 9\\n134 60 190 98 126 85 0 0\\n2.2 2 -9 145 1 -9 -9 -9\\n-9 -9 -9 6 -9 -9 -9 2\\n3 84 2 1 1 2 -9 1\\n-9 1 -9 2 1 1 1 1\\n5 1 -9 -9 name\\n285 0 40 1 -9 -9 -9\\n-9 4 152 1 223 -9 25 27\\n0 -9 0 0 2 20 84 0\\n0 0 0 0 1 12 -9 13\\n181 58 184 86 152 90 0 0\\n0 1 -9 85 0 -9 -9 -9\\n-9 -9 -9 7 -9 -9 -9 2\\n21 84 1 1 1 2 -9 1\\n-9 1 -9 1 1 1 1 1\\n1 1 -9 -9 name\\n286 0 42 1 -9 -9 -9\\n-9 3 130 0 180 -9 0 0\\n0 -9 1 0 3 12 84 0\\n1 0 0 0 1 11 -9 12\\n150 51 180 80 130 80 0 0\\n0 1 -9 135 0 -9 -9 -9\\n-9 -9 -9 3 -9 -9 -9 3\\n13 84 0 1 1 1 -9 1\\n-9 1 -9 1 1 1 1 1\\n1 1 -9 -9 name\\n287 0 61 1 -9 -9 -9\\n-9 4 140 0 207 -9 20 20\\n0 -9 1 2 3 13 84 0\\n0 0 0 0 1 9 -9 10\\n138 72 170 75 140 90 1 0\\n1.9 1 -9 105 1 -9 -9 -9\\n-9 -9 -9 7 -9 -9 -9 3\\n14 84 1 1 1 2 -9 1\\n-9 1 -9 1 1 1 1 1\\n1 1 -9 -9 name\\n288 0 66 1 -9 -9 -9\\n-9 4 160 0 228 -9 0 0\\n0 -9 0 2 1 18 84 0\\n1 0 0 0 1 5.9 3 7\\n138 81 200 94 160 98 0 0\\n2.3 1 -9 108 0 -9 -9 -9\\n-9 -9 -9 6 -9 -9 -9 1\\n9 84 0 1 1 1 -9 1\\n-9 1 -9 1 1 1 1 1\\n1 1 -9 -9 name\\n289 0 46 1 -9 -9 -9\\n-9 4 140 1 311 -9 15 25\\n0 -9 1 0 3 15 84 0\\n0 0 0 0 1 6.8 3 8\\n120 89 160 76 140 82 1 0\\n1.8 2 -9 185 2 -9 -9 -9\\n-9 -9 -9 7 -9 -9 -9 3\\n16 84 2 1 1 2 -9 1\\n-9 1 -9 2 1 1 1 1\\n7 1 -9 -9 name\\n290 0 71 0 -9 -9 -9\\n-9 4 112 1 149 -9 0 0\\n0 -9 0 0 4 5 84 0\\n1 0 1 0 1 7 3 8\\n125 59 140 70 112 78 0 0\\n1.6 2 -9 41 0 -9 -9 -9\\n-9 -9 -9 3 -9 -9 -9 4\\n6 84 0 1 1 1 -9 1\\n-9 1 -9 1 1 1 1 1\\n1 1 -9 -9 name\\n291 0 59 1 -9 -9 -9\\n-9 1 134 1 204 -9 2 35\\n0 -9 0 0 4 18 84 0\\n0 0 0 0 1 13 12 14\\n162 70 190 80 134 80 0 0\\n0.8 1 -9 140 2 -9 -9 -9\\n-9 -9 -9 3 -9 -9 -9 4\\n19 84 1 1 1 2 -9 1\\n-9 1 -9 1 1 1 1 1\\n1 1 -9 -9 name\\n292 0 64 1 -9 -9 -9\\n-9 1 170 0 227 -9 0 0\\n0 -9 0 2 4 2 84 0\\n0 0 0 0 1 9 3 10\\n155 84 232 120 170 90 0 0\\n0.6 2 -9 100 0 -9 -9 -9\\n-9 -9 -9 7 -9 -9 -9 4\\n3 84 0 1 1 1 -9 1\\n-9 1 -9 1 1 1 1 1\\n1 1 -9 -9 name\\n293 0 66 0 -9 -9 -9\\n-9 3 146 0 278 -9 0 0\\n0 -9 0 2 4 10 84 0\\n0 1 1 0 1 10.5 -9 11\\n152 83 156 90 146 70 0 0\\n0 2 -9 122 1 -9 -9 -9\\n-9 -9 -9 3 -9 -9 -9 4\\n11 84 0 1 1 1 -9 1\\n-9 1 -9 1 1 1 1 1\\n1 1 -9 -9 name\\n294 0 39 0 -9 -9 -9\\n-9 3 138 1 220 -9 20 23\\n0 -9 0 0 5 8 84 0\\n0 0 0 0 1 7.3 3 8\\n152 98 174 80 138 90 0 0\\n0 2 -9 161 0 -9 -9 -9\\n-9 -9 -9 3 -9 -9 -9 5\\n9 84 0 1 1 1 -9 1\\n-9 1 -9 1 1 1 1 1\\n1 2 -9 -9 name\\n295 0 57 1 -9 -9 -9\\n-9 2 154 0 232 -9 40 35\\n0 -9 1 2 6 4 84 0\\n0 0 0 0 1 10.5 -9 12\\n164 76 200 92 154 98 0 0\\n0 1 -9 62 1 -9 -9 -9\\n-9 -9 -9 3 -9 -9 -9 6\\n5 84 1 1 1 1 -9 2\\n-9 1 -9 1 1 1 1 1\\n1 1 -9 -9 name\\n296 0 58 0 -9 -9 -9\\n-9 4 130 1 197 -9 0 0\\n0 -9 1 0 3 28 84 1\\n1 0 0 0 1 7.5 3 8\\n131 54 160 70 130 85 0 0\\n0.6 2 -9 94 0 -9 -9 -9\\n-9 -9 -9 3 -9 -9 -9 3\\n29 84 0 1 1 1 -9 1\\n-9 1 -9 1 1 1 1 1\\n1 1 -9 -9 name\\n297 0 57 1 -9 -9 -9\\n-9 4 110 1 335 -9 20 15\\n0 -9 1 0 5 3 84 0\\n0 0 0 0 1 7 3 8\\n143 62 130 78 110 80 1 0\\n3 2 -9 91 1 -9 -9 -9\\n-9 -9 -9 7 -9 -9 -9 5\\n4 84 2 1 1 1 -9 1\\n-9 2 -9 1 2 1 1 1\\n1 1 -9 -9 name\\n298 0 47 1 -9 -9 -9\\n-9 3 130 1 253 -9 0 0\\n0 -9 1 0 5 23 84 0\\n0 0 0 0 1 9.5 -9 11\\n179 65 170 82 130 80 0 0\\n0 1 -9 55 0 -9 -9 -9\\n-9 -9 -9 3 -9 -9 -9 5\\n24 84 0 1 1 1 -9 1\\n-9 1 -9 1 1 1 1 1\\n1 1 -9 -9 name\\n299 0 55 0 -9 -9 -9\\n-9 4 128 0 2044 1 44 1 40 0 0\\n0.4 0 0 0\\n0.4 0\\x00\\x000\\n0 1 -9\\n0 1 -9\\n75 8105 1 105 1 18 1018 101881 1-9 3 -9 -9-9 3 -9 -9-\\x00\\x00-4\\n94\\n94\\x00\\x004\\x00\\x00\\x00\\x00\\x00\\x00\\x00\\x00\\x00 -9 1\\n-9 1 -9 1 \\x08\\x08\\x08\\x00\\x00\\x08-9 -9 -9\\n-9 2 12 1 1 22 1 1 22\\x00\\x002\\x00\\x00\\x000 751319 -9\\n-9 9 -9\\n-9 9\\x00\\x009\\x00\\x00\\x00\\x00\\x00\\x00 -9 -9 -9\\n-9 4 128 -9 -9 -9\\n-9 4 128 \\x00\\x00 \\x00\\x00\\x009\\n-9 4 -9 -9 -9\\n-9 -9 -9 7 -9 -9 -9 2-9 -9 -9\\n-9 -9 -9 7 -9 -9 -9 2-\\x00\\x00-\\x00\\x00\\x00 6\\n89 1 -9 1 1 1 1\\n1 1 -9 -9  1 7 1 7 \\x00\\x00 \\x00\\x00\\x00 -9 -9 -1 2609 -9 12\\n2-9 -9 -9\\n-9 3 1-9 -9 -9\\n-9 3 1-\\x00\\x00--9 104 1 234 1 234 0 0 1 12 -\\n-9 -69 169 16\\x00\\x006-9\\n-9 -9\\n-9 -92 7 2  7 2   -9 -9 -9\\n-9 -9 -9 3 -9 -9 -9  -9 -9 -9\\n-9 -9 -9 3 -9 -9 -9  \\x00\\x00 \\x00\\x00\\x001 -9 -9 -9\\n-9 4 143 8\\n19 -9 -9\\n-9 4 1109 -9 -9\\n-9 4 110971 0 471 0 47\\x00\\x007\\x00\\x00\\x00-9\\n-9 -9 -9 7135 135 1\\x00\\x0019\\n-9 3 16 2002 1502 1502\\x00\\x00240 9 118 0\\n0 0 0 0 1 50\\n0 0 0 0 1 50 1 0 0  1 0 0   name\\n239 -9\\n-9 9 -9\\n-9 9\\x00\\x009\\x00\\x00\\x00 82 0\\n0 0 0 0 1 610 1 090 139 1 1\\n16 84 \\n16 84 \\n\\x00\\x00\\n\\x00\\x00\\x00 6\\n136 898 198 19 1 0 8 1 0 8 7 27\\n115 \\n115 \\n\\x00\\x00\\n\\x00\\x00\\x002 6 147\\n1259 1 135 13 2 -9 1183 0\\n0 0 0 0 83 0\\n0 0 0 0 8 -9 0 0 8 35\\n80 80 1e\\n27e\\n27e 810 0 0\\n0 8\\n1112 0\\n0 1 110 452 0 -940 1 -9150 80150 801zzz\\x00\\x00z3 53 53 0 10  0 10  \\x00\\x00 \\x00\\x00\\x0060 153 4 3 4 3\\x00\\x003\\x00\\x00\\x009 309 309\\x00\\x0099 16542 99\\n-9 -9 -91\\n4\\x8e3 83 0 3 83 0 3\\x00\\x003\\x00\\x00\\x00\\x00\\x00\\x00120 8120 81-9 1 2 7-9 1 2 7--9 -9\\n-9 -9 -950 90 06 25 110 0 110 0 \\x00\\x00 \\x00\\x00\\x002 -9 1\\n-2 -9 1\\n-21 1 1 1 1\\n1 1 1\\n1 1 -9 -9 n1 1 1\\n1 1 -9 -9 n1\\x00\\x0010 0 0 1 50 0 0 1 5020 0 -9-9 20  1 -9 -9 -9\\n-9 3 1382 -9-9 9\\n-9 9\\n- 84 0 1  84 0 1  3 -9 2050 701 0 1 01 0 1 01-9 -9 -9\\n-9 4 136-9 -9 -9\\n-9 4 136-9\\n1 9\\n1 92 -9 1 2 1 10 81 0 0 81 0 0\\x00\\x00060 360 36\\x00\\x0067.5 3.2 09 7 -9 7 -9\\x00\\x00980 1 0\\n0 1\\n1 1 -7 177 177\\x00\\x0070 0\\n0.2 0 0\\n0.2 0 24 81 0 0 01 0 0 01\\x00\\x0015 -9 5 1 1 1\\n1 1 - 1 -9 1 1 1 1 1\\n1 10 80 10 80 10-9 3 --9 3 --\\x00\\x00-60 60 60 13\\x00\\x00\\x00 0 1  0 1  \\x00\\x00 \\x00\\x00\\x00 1 1\\n1 1 -9 7\\n117\\n1174 0 13 12\\n4 11 -9 -9 -9\\n-9 -9 -9 3 -9 -9 -9 1 -9 1\\n-9 0 55  0 55  \\x00\\x00 -9 0 2 19 -9\\n-9 4 130 5 0 -9 -9 -8 808 808 30\\n0  -9 -9 12\\n6 2 1 1 1\\n7 2 1 1 1\\n7  1 32<<<\\x00\\x00<\\n5  26705 64 1 -9  6\\n891 0\\x8d40 0 1940 0 194 2 -9 22 2 -9 22 \\x00\\x00 \\x00\\x00 \\x00\\x00 \\x00\\x00\\x00\\x00 60 0  60 0  \\x00\\x00 2116 3 -93 1 -9 -9 n\\n-9 1 -9 1 1 1 1 1\\n90 0 -90 0 -92 80 1 1 0 18 1585 15 -9 7 -9 -70 1070 107e\\nfff -9 -9 name\\n89 81 0 1  81 0 1  \\x00\\x00 7 17 name\\n23 name\\n23 \\x00\\x00  15 1 1 -9 -9 -9\\n-9 -7 2449494811 1 12 1282 1282\\x00\\x002-9 -9 -9 3 -0 1450 1450\\x7f\\x7f\\x7f\\x00\\x00\\x7f5 8626 84 --9 name\\n75-9 name\\n75-\\x00\\x00-\\x00\\x00\\x0058 8658 865\\x00\\x005\\x00\\x00\\x004 1 2 0\\n3 -9 5-9 5--9 name\\n81 6 2 1 2 1 0 -9 0 0 125 2 1 -9 10 1 -9 10 \\x00\\x00 7 67 671\\n-9 1 -66 66 6\\x00\\x006\\x00\\x00\\x009 1 -9 1 1 1 9 1 -9 1 1 1 9\\x00\\x0099.6 1 -9 -9 26 8426 8422 1 -9 -9 -9 -9\\n-9 -9 -9 7 -9 3 -9 83 -9 830 0\\n0.2 00 0\\n0.2 00\\x00\\x00\\x00\\x00\\x00\\x00\\x000 1 9  -9 1014 685 3 3539 0 680 0\\n0 0\\n06363660 1 23\\x00\\x00\\x003 7\\n14-9 -9 -9 12\\n1-9 20-9 20-\\x00\\x00-\\x00\\x00\\x0051 0 541 -9 1\\n-9  62 133 13  81 0 1 81 0 1 9 3 9 3 94 1\\n4 1\\n4\\x00\\x0042242242\\x00\\x0028 1 111\\n182 1355 0 465 0 4659 1 -9 2081 681 6880 71 1 1 1\\n1 1 -9 1 1 1 1\\n1 1 -9 1-9 -9 -9 3 -0-9 -9 -9 12\\n89 169 169\\x00\\x009\\x00\\x00\\x00 -9 name\\n12 2829 8229 8223 13 0 0 0 1 70 0 0 1 707\\n167\\n16781 481 487 854 1 2 9 12 9 12\\x00\\x002-9 1\\n-9 1 -9 2 158 658 65\\x00\\x005.7 9 3 -9 -99 3 -9 -99 1 -9 -9 name\\n237\\n1116 83 16 83 1\\x00\\x0011 1 6  125 125 \\x00\\x00  -9 10\\n17 40  40  1 1 1 1 1\\n1 11 1 1 1 1\\n1 11\\x00\\x001\\x00\\x00\\x00\\x00\\x00\\x000\\n0 -9 1 2 1 -9 0 27\\n111 1 -9 -9 -9\\n-9 4 3 85 3 85 3\\x00\\x003\\x00\\x00\\x00 1\\n-9 1 -9 1 1\\n-9 1 -9 1  81 0 1 1 1 - 81 0 1 1 1 -  81 04 1084 1084\\x00\\x00400 1100 110\\x00\\x00040e\\n4650 12 80 0 0 70 0 -9 -9 103 0 -9 -9 -9\\n3 0 -9 -9 -9\\n3\\x00\\x003\\x00\\x00\\x000\\n0 -9 1 0 1 1 1 - 234\\n11 80 0\\n0 -1 -9 1 04 0 -9 -9 \\n23 89 -9 -9 6\\n9 -9 -9 6\\n94 1 -9 -9 -9\\n-9 357 -57 -51 1 -9 1 1 1\\n1 1 1 1 1\\n1 1 1 -9 1 1 1 1 1\\n1 1 -9 -90 0\\n0 1 -4 729 1\\n-9 1 -9 1 1 1 1 19 1\\n-9 1 -9 1 1 1 1 19 2 1 0\\n0 - 0\\n0 - \\n23 8\\n13165 0 -965 0 -96\\x00\\x006 1 -9 -9 -9\\n-9 3 138 81 0\\n1 0 0.7 -9 -9 name\\n9-9 -9 name\\n9-\\x00\\x00-5 2 -9 26 -26 -2\\x00\\x002\\x00\\x00\\x006 0 -9 -6 0 -9 -6\\x00\\x006\\x00\\x00\\x00\\x00\\x00\\x009 0 6584 0\\n1 84 0\\n1 8\\x00\\x0088 -9 4016 8216 8216 788 0 -9 -9 -9\\n-0 0 0 1 9 -9 130 80 0 130 80 0 1\\x00\\x001\\n-9 3 1h9 1 -9 -9 -9\\n-9 3\\x00\\x00 -9 -9 -9\\n-9 -9 -9 3 -9 -4 1 1'\n"
     ]
    }
   ],
   "execution_count": 66
  },
  {
   "metadata": {
    "ExecuteTime": {
     "end_time": "2024-12-03T06:32:45.459393Z",
     "start_time": "2024-12-03T06:32:45.446334Z"
    }
   },
   "cell_type": "code",
   "source": [
    "import codecs\n",
    "BLOCKSIZE = 1048576 # or some other, desired size in bytes\n",
    "with codecs.open('data/cleveland.data', \"rb\", \"utf-8\") as sourceFile:\n",
    "    with codecs.open('data/output-cleveland.csv', \"w\", \"utf-8\") as targetFile:\n",
    "        while True:\n",
    "            contents = sourceFile.read(BLOCKSIZE)\n",
    "            if not contents:\n",
    "                break\n",
    "            targetFile.write(contents)"
   ],
   "id": "5e6221b0c6cfad08",
   "outputs": [
    {
     "ename": "UnicodeDecodeError",
     "evalue": "'utf-8' codec can't decode byte 0x8e in position 58079: invalid start byte",
     "output_type": "error",
     "traceback": [
      "\u001B[0;31m---------------------------------------------------------------------------\u001B[0m",
      "\u001B[0;31mUnicodeDecodeError\u001B[0m                        Traceback (most recent call last)",
      "Cell \u001B[0;32mIn[11], line 6\u001B[0m\n\u001B[1;32m      4\u001B[0m \u001B[38;5;28;01mwith\u001B[39;00m codecs\u001B[38;5;241m.\u001B[39mopen(\u001B[38;5;124m'\u001B[39m\u001B[38;5;124mdata/output-cleveland.csv\u001B[39m\u001B[38;5;124m'\u001B[39m, \u001B[38;5;124m\"\u001B[39m\u001B[38;5;124mw\u001B[39m\u001B[38;5;124m\"\u001B[39m, \u001B[38;5;124m\"\u001B[39m\u001B[38;5;124mutf-8\u001B[39m\u001B[38;5;124m\"\u001B[39m) \u001B[38;5;28;01mas\u001B[39;00m targetFile:\n\u001B[1;32m      5\u001B[0m     \u001B[38;5;28;01mwhile\u001B[39;00m \u001B[38;5;28;01mTrue\u001B[39;00m:\n\u001B[0;32m----> 6\u001B[0m         contents \u001B[38;5;241m=\u001B[39m sourceFile\u001B[38;5;241m.\u001B[39mread(BLOCKSIZE)\n\u001B[1;32m      7\u001B[0m         \u001B[38;5;28;01mif\u001B[39;00m \u001B[38;5;129;01mnot\u001B[39;00m contents:\n\u001B[1;32m      8\u001B[0m             \u001B[38;5;28;01mbreak\u001B[39;00m\n",
      "File \u001B[0;32m<frozen codecs>:707\u001B[0m, in \u001B[0;36mread\u001B[0;34m(self, size)\u001B[0m\n",
      "File \u001B[0;32m<frozen codecs>:507\u001B[0m, in \u001B[0;36mread\u001B[0;34m(self, size, chars, firstline)\u001B[0m\n",
      "\u001B[0;31mUnicodeDecodeError\u001B[0m: 'utf-8' codec can't decode byte 0x8e in position 58079: invalid start byte"
     ]
    }
   ],
   "execution_count": 11
  },
  {
   "metadata": {
    "ExecuteTime": {
     "end_time": "2024-12-03T06:39:13.628568Z",
     "start_time": "2024-12-03T06:39:13.617619Z"
    }
   },
   "cell_type": "code",
   "source": [
    "import numpy as np\n",
    "\n",
    "dat = np.fromfile('data/cleveland.data','rb', dtype=np.uint8)"
   ],
   "id": "284dd6c7a7444e01",
   "outputs": [
    {
     "ename": "TypeError",
     "evalue": "data type 'rb' not understood",
     "output_type": "error",
     "traceback": [
      "\u001B[0;31m---------------------------------------------------------------------------\u001B[0m",
      "\u001B[0;31mTypeError\u001B[0m                                 Traceback (most recent call last)",
      "Cell \u001B[0;32mIn[18], line 3\u001B[0m\n\u001B[1;32m      1\u001B[0m \u001B[38;5;28;01mimport\u001B[39;00m \u001B[38;5;21;01mnumpy\u001B[39;00m \u001B[38;5;28;01mas\u001B[39;00m \u001B[38;5;21;01mnp\u001B[39;00m\n\u001B[0;32m----> 3\u001B[0m dat \u001B[38;5;241m=\u001B[39m np\u001B[38;5;241m.\u001B[39mfromfile(\u001B[38;5;124m'\u001B[39m\u001B[38;5;124mdata/cleveland.data\u001B[39m\u001B[38;5;124m'\u001B[39m,\u001B[38;5;124m'\u001B[39m\u001B[38;5;124mrb\u001B[39m\u001B[38;5;124m'\u001B[39m, dtype\u001B[38;5;241m=\u001B[39mnp\u001B[38;5;241m.\u001B[39muint8)\n",
      "\u001B[0;31mTypeError\u001B[0m: data type 'rb' not understood"
     ]
    }
   ],
   "execution_count": 18
  },
  {
   "metadata": {
    "ExecuteTime": {
     "end_time": "2024-12-03T06:38:29.165530Z",
     "start_time": "2024-12-03T06:38:29.163520Z"
    }
   },
   "cell_type": "code",
   "source": "dat.shape",
   "id": "6137222807b5d9d1",
   "outputs": [
    {
     "data": {
      "text/plain": [
       "(60669,)"
      ]
     },
     "execution_count": 15,
     "metadata": {},
     "output_type": "execute_result"
    }
   ],
   "execution_count": 15
  },
  {
   "metadata": {
    "ExecuteTime": {
     "end_time": "2024-12-03T06:38:44.049118Z",
     "start_time": "2024-12-03T06:38:44.046548Z"
    }
   },
   "cell_type": "code",
   "source": "dat",
   "id": "6f99420195823e1b",
   "outputs": [
    {
     "data": {
      "text/plain": [
       "array([49, 32, 48, ..., 49, 32, 49], dtype=uint8)"
      ]
     },
     "execution_count": 17,
     "metadata": {},
     "output_type": "execute_result"
    }
   ],
   "execution_count": 17
  },
  {
   "metadata": {},
   "cell_type": "code",
   "outputs": [],
   "execution_count": null,
   "source": "",
   "id": "60a005166ccba9f3"
  }
 ],
 "metadata": {
  "kernelspec": {
   "display_name": "Python 3",
   "language": "python",
   "name": "python3"
  },
  "language_info": {
   "codemirror_mode": {
    "name": "ipython",
    "version": 2
   },
   "file_extension": ".py",
   "mimetype": "text/x-python",
   "name": "python",
   "nbconvert_exporter": "python",
   "pygments_lexer": "ipython2",
   "version": "2.7.6"
  }
 },
 "nbformat": 4,
 "nbformat_minor": 5
}
