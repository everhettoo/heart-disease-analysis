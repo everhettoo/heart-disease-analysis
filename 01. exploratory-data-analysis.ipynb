{
 "cells": [
  {
   "cell_type": "markdown",
   "id": "4354665ec71d95ae",
   "metadata": {},
   "source": [
    "# Dataset Description\n",
    "The original <a href='https://archive.ics.uci.edu/dataset/45/heart+disease'>UCI Heart Disease</a> dataset contains 4 data files collected from the four following locations from 1981 to 1987:\n",
    "\n",
    "1. Cleveland Clinic Foundation (cleveland.data), 1981 - 1984\n",
    "2. Hungarian Institute of Cardiology, Budapest (hungarian.data), 1983 - 1987\n",
    "3. V.A. Medical Center, Long Beach, CA (long-beach-va.data), 1984 - 1987\n",
    "4. University Hospital, Zurich, Switzerland (switzerland.data), 1985\n",
    "\n",
    "## 1. Acknowledgements\n",
    "It is a requirement to include the names of the principal investigator responsible for the data collection at each institution when the dataset is being used.  They would be:\n",
    "\n",
    "1. Hungarian Institute of Cardiology. Budapest: Andras Janosi, M.D.\n",
    "2. University Hospital, Zurich, Switzerland: William Steinbrunn, M.D.\n",
    "3. University Hospital, Basel, Switzerland: Matthias Pfisterer, M.D.\n",
    "4. V.A. Medical Center, Long Beach and Cleveland Clinic Foundation: Robert Detrano, M.D., Ph.D.\n",
    "\n",
    "## 2. Background\n",
    "In this section, following a brief necessary history, <u>the files used in this study and its relationship is discussed</u>:\n",
    "### 2.1 Dataset content\n",
    "After the original dataset was downloaded, few files are extracted in the `/heart-disease` directory. To investigate the contents of the dataset, the `cat` cmd can be used on `Index` file."
   ]
  },
  {
   "metadata": {
    "ExecuteTime": {
     "end_time": "2024-12-06T09:39:26.189130Z",
     "start_time": "2024-12-06T09:39:26.064403Z"
    }
   },
   "cell_type": "code",
   "source": "!cat data/uci-heart-disease/Index",
   "id": "e6179ef89aaed835",
   "outputs": [
    {
     "name": "stdout",
     "output_type": "stream",
     "text": [
      "Index of heart-disease\r\n",
      "\r\n",
      "02 Dec 1996      644 Index\r\n",
      "02 Dec 1996      dir costs\r\n",
      "23 Jul 1996    11058 reprocessed.hungarian.data\r\n",
      "14 Aug 1991     6737 bak\r\n",
      "14 Aug 1991    10263 processed.hungarian.data\r\n",
      "14 Aug 1991     4109 processed.switzerland.data\r\n",
      "14 Aug 1991     6737 processed.va.data\r\n",
      "20 Jul 1990   389771 new.data\r\n",
      "06 Jun 1990    10060 heart-disease.names\r\n",
      "15 Mar 1990      587 ask-detrano\r\n",
      "15 Mar 1990    62192 hungarian.data\r\n",
      "13 Mar 1990    23941 cleve.mod\r\n",
      "06 Mar 1990    18461 processed.cleveland.data\r\n",
      "31 Jan 1990      407 WARNING\r\n",
      "31 Jan 1990    60669 cleveland.data\r\n",
      "30 May 1989    39892 long-beach-va.data\r\n",
      "30 May 1989    24674 switzerland.data\r\n"
     ]
    }
   ],
   "execution_count": 15
  },
  {
   "metadata": {},
   "cell_type": "markdown",
   "source": [
    "### 2.2 History (on raw data)\n",
    "Dr. Robert Detrano used the raw `cleveland.data` file to build a model to predict the other three datasets:\n",
    "- hungarian.data\n",
    "- long-beach-va.data\n",
    "- switzerland.data\n",
    "\n",
    "For unknown reasons, the `cleveland.data` got corrupted during upload and became beyond recoverable. This is indicated in the `WARNING` file (`cat` cmd can be used to investigate file)."
   ],
   "id": "e24152b2739d43e6"
  },
  {
   "metadata": {
    "ExecuteTime": {
     "end_time": "2024-12-06T09:39:29.477081Z",
     "start_time": "2024-12-06T09:39:29.351541Z"
    }
   },
   "cell_type": "code",
   "source": "!cat data/uci-heart-disease/WARNING",
   "id": "cfb5aab52dd8229",
   "outputs": [
    {
     "name": "stdout",
     "output_type": "stream",
     "text": [
      "The file cleveland.data has been unfortunately messed up when we lost\r\n",
      "node cip2 and loaded the file on node ics.  The file processed.cleveland.data\r\n",
      "seems to be in good shape and is useable (for the 14 attributes situation).\r\n",
      "I'll clean up cleveland.data as soon as possible.\r\n",
      "\r\n",
      "Bad news: my original copy of the database appears to be corrupted.\r\n",
      "I'll have to go back to the donor to get a new copy.\r\n",
      "\r\n",
      "David Aha\r\n"
     ]
    }
   ],
   "execution_count": 16
  },
  {
   "metadata": {},
   "cell_type": "markdown",
   "source": [
    "#### `Cleveland.data` is Beyond Recoverable\n",
    "Though other raw data files (hungarian.data, long-beach-va.data and switzerland.data) are in `ascii` the `cleveland.data`, file is in binary format and indicates uploading disrupted. This can be investigated with `file -I` cmd."
   ],
   "id": "2f9a6ddf136d996c"
  },
  {
   "metadata": {
    "ExecuteTime": {
     "end_time": "2024-12-06T09:39:33.559610Z",
     "start_time": "2024-12-06T09:39:33.427075Z"
    }
   },
   "cell_type": "code",
   "source": [
    "# Protocol text/plain was used for transfer and charset=us-ascii for encoding.\n",
    "!file -I data/uci-heart-disease/hungarian.data"
   ],
   "id": "9394d914d625138f",
   "outputs": [
    {
     "name": "stdout",
     "output_type": "stream",
     "text": [
      "data/uci-heart-disease/hungarian.data: text/plain; charset=us-ascii\r\n"
     ]
    }
   ],
   "execution_count": 17
  },
  {
   "cell_type": "code",
   "id": "193f84d4c578e7da",
   "metadata": {
    "ExecuteTime": {
     "end_time": "2024-12-06T09:39:35.930289Z",
     "start_time": "2024-12-06T09:39:35.804459Z"
    }
   },
   "source": [
    "# Protocol octet-stream (for binary) was used for uploading and charset=binary for encoding.\n",
    "!file -I data/uci-heart-disease/cleveland.data"
   ],
   "outputs": [
    {
     "name": "stdout",
     "output_type": "stream",
     "text": [
      "data/uci-heart-disease/cleveland.data: application/octet-stream; charset=binary\r\n"
     ]
    }
   ],
   "execution_count": 18
  },
  {
   "metadata": {},
   "cell_type": "markdown",
   "source": "Though the first half of `cleveland.data` file seem ascii readable, when `tail -n 100 cleveland.data` was used, the second half of the file appears in binary encoding. This can be observed with gibberish characters.",
   "id": "64eb230a042b019d"
  },
  {
   "metadata": {
    "ExecuteTime": {
     "end_time": "2024-12-06T09:39:38.507275Z",
     "start_time": "2024-12-06T09:39:38.380094Z"
    }
   },
   "cell_type": "code",
   "source": "!tail -n 100 data/uci-heart-disease/cleveland.data",
   "id": "553d540c25180997",
   "outputs": [
    {
     "name": "stdout",
     "output_type": "stream",
     "text": [
      "-21 1 1 1 1\r\n",
      "1 1 1\r\n",
      "1 1 -9 -9 n1 1 1\r\n",
      "1 1 -9 -9 n1\u0000\u000010 0 0 1 50 0 0 1 5020 0 -9-9 20  1 -9 -9 -9\r\n",
      "-9 3 1382 -9-9 9\r\n",
      "-9 9\r\n",
      "- 84 0 1  84 0 1  3 -9 2050 701 0 1 01 0 1 01-9 -9 -9\r\n",
      "-9 4 136-9 -9 -9\r\n",
      "-9 4 136-9\r\n",
      "1 9\r\n",
      "1 92 -9 1 2 1 10 81 0 0 81 0 0\u0000\u0000060 360 36\u0000\u000067.5 3.2 09 7 -9 7 -9\u0000\u0000980 1 0\r\n",
      "0 1\r\n",
      "1 1 -7 177 177\u0000\u000070 0\r\n",
      "0.2 0 0\r\n",
      "0.2 0 24 81 0 0 01 0 0 01\u0000\u000015 -9 5 1 1 1\r\n",
      "1 1 - 1 -9 1 1 1 1 1\r\n",
      "1 10 80 10 80 10-9 3 --9 3 --\u0000\u0000-60 60 60 13\u0000\u0000\u0000 0 1  0 1  \u0000\u0000 \u0000\u0000\u0000 1 1\r\n",
      "1 1 -9 7\r\n",
      "117\r\n",
      "1174 0 13 12\r\n",
      "4 11 -9 -9 -9\r\n",
      "-9 -9 -9 3 -9 -9 -9 1 -9 1\r\n",
      "-9 0 55  0 55  \u0000\u0000 -9 0 2 19 -9\r\n",
      "-9 4 130 5 0 -9 -9 -8 808 808 30\r\n",
      "0  -9 -9 12\r\n",
      "6 2 1 1 1\r\n",
      "7 2 1 1 1\r\n",
      "7  1 32<<<\u0000\u0000<\r\n",
      "5  26705 64 1 -9  6\r\n",
      "891 0�40 0 1940 0 194 2 -9 22 2 -9 22 \u0000\u0000 \u0000\u0000 \u0000\u0000 \u0000\u0000\u0000\u0000 60 0  60 0  \u0000\u0000 2116 3 -93 1 -9 -9 n\r\n",
      "-9 1 -9 1 1 1 1 1\r\n",
      "90 0 -90 0 -92 80 1 1 0 18 1585 15 -9 7 -9 -70 1070 107e\r\n",
      "fff -9 -9 name\r\n",
      "89 81 0 1  81 0 1  \u0000\u0000 7 17 name\r\n",
      "23 name\r\n",
      "23 \u0000\u0000  15 1 1 -9 -9 -9\r\n",
      "-9 -7 2449494811 1 12 1282 1282\u0000\u00002-9 -9 -9 3 -0 1450 1450\u0000\u00005 8626 84 --9 name\r\n",
      "75-9 name\r\n",
      "75-\u0000\u0000-\u0000\u0000\u000058 8658 865\u0000\u00005\u0000\u0000\u00004 1 2 0\r\n",
      "3 -9 5-9 5--9 name\r\n",
      "81 6 2 1 2 1 0 -9 0 0 125 2 1 -9 10 1 -9 10 \u0000\u0000 7 67 671\r\n",
      "-9 1 -66 66 6\u0000\u00006\u0000\u0000\u00009 1 -9 1 1 1 9 1 -9 1 1 1 9\u0000\u000099.6 1 -9 -9 26 8426 8422 1 -9 -9 -9 -9\r\n",
      "-9 -9 -9 7 -9 3 -9 83 -9 830 0\r\n",
      "0.2 00 0\r\n",
      "0.2 00\u0000\u0000\u0000\u0000\u0000\u0000\u00000 1 9  -9 1014 685 3 3539 0 680 0\r\n",
      "0 0\r\n",
      "06363660 1 23\u0000\u0000\u00003 7\r\n",
      "14-9 -9 -9 12\r\n",
      "1-9 20-9 20-\u0000\u0000-\u0000\u0000\u000051 0 541 -9 1\r\n",
      "-9  62 133 13  81 0 1 81 0 1 9 3 9 3 94 1\r\n",
      "4 1\r\n",
      "4\u0000\u000042242242\u0000\u000028 1 111\r\n",
      "182 1355 0 465 0 4659 1 -9 2081 681 6880 71 1 1 1\r\n",
      "1 1 -9 1 1 1 1\r\n",
      "1 1 -9 1-9 -9 -9 3 -0-9 -9 -9 12\r\n",
      "89 169 169\u0000\u00009\u0000\u0000\u0000 -9 name\r\n",
      "12 2829 8229 8223 13 0 0 0 1 70 0 0 1 707\r\n",
      "167\r\n",
      "16781 481 487 854 1 2 9 12 9 12\u0000\u00002-9 1\r\n",
      "-9 1 -9 2 158 658 65\u0000\u00005.7 9 3 -9 -99 3 -9 -99 1 -9 -9 name\r\n",
      "237\r\n",
      "1116 83 16 83 1\u0000\u000011 1 6  125 125 \u0000\u0000  -9 10\r\n",
      "17 40  40  1 1 1 1 1\r\n",
      "1 11 1 1 1 1\r\n",
      "1 11\u0000\u00001\u0000\u0000\u0000\u0000\u0000\u00000\r\n",
      "0 -9 1 2 1 -9 0 27\r\n",
      "111 1 -9 -9 -9\r\n",
      "-9 4 3 85 3 85 3\u0000\u00003\u0000\u0000\u0000 1\r\n",
      "-9 1 -9 1 1\r\n",
      "-9 1 -9 1  81 0 1 1 1 - 81 0 1 1 1 -  81 04 1084 1084\u0000\u0000400 1100 110\u0000\u0000040e\r\n",
      "4650 12 80 0 0 70 0 -9 -9 103 0 -9 -9 -9\r\n",
      "3 0 -9 -9 -9\r\n",
      "3\u0000\u00003\u0000\u0000\u00000\r\n",
      "0 -9 1 0 1 1 1 - 234\r\n",
      "11 80 0\r\n",
      "0 -1 -9 1 04 0 -9 -9 \r\n",
      "23 89 -9 -9 6\r\n",
      "9 -9 -9 6\r\n",
      "94 1 -9 -9 -9\r\n",
      "-9 357 -57 -51 1 -9 1 1 1\r\n",
      "1 1 1 1 1\r\n",
      "1 1 1 -9 1 1 1 1 1\r\n",
      "1 1 -9 -90 0\r\n",
      "0 1 -4 729 1\r\n",
      "-9 1 -9 1 1 1 1 19 1\r\n",
      "-9 1 -9 1 1 1 1 19 2 1 0\r\n",
      "0 - 0\r\n",
      "0 - \r\n",
      "23 8\r\n",
      "13165 0 -965 0 -96\u0000\u00006 1 -9 -9 -9\r\n",
      "-9 3 138 81 0\r\n",
      "1 0 0.7 -9 -9 name\r\n",
      "9-9 -9 name\r\n",
      "9-\u0000\u0000-5 2 -9 26 -26 -2\u0000\u00002\u0000\u0000\u00006 0 -9 -6 0 -9 -6\u0000\u00006\u0000\u0000\u0000\u0000\u0000\u00009 0 6584 0\r\n",
      "1 84 0\r\n",
      "1 8\u0000\u000088 -9 4016 8216 8216 788 0 -9 -9 -9\r\n",
      "-0 0 0 1 9 -9 130 80 0 130 80 0 1\u0000\u00001\r\n",
      "-9 3 1h9 1 -9 -9 -9\r\n",
      "-9 3\u0000\u0000 -9 -9 -9\r\n",
      "-9 -9 -9 3 -9 -4 1 1"
     ]
    }
   ],
   "execution_count": 19
  },
  {
   "cell_type": "markdown",
   "id": "6b41a81bd892b61a",
   "metadata": {},
   "source": [
    "### 2.1 From Raw to Preprocessed\n",
    "So, that was the necessary history (a mystery) - to understand the original (raw) `cleveland.data` file was never available for preprocessing since no attempts of re-reloading the corrupted file seen ever since. As a workaround, a set of processed files were made available for not looking back.\\\n",
    "The original (raw) file has 76 features (is enclosed in `Data Dictionary` section). Meanwhile, the processed file has only 14 of them. Dr. Robert Detrano in his <a href='International application of a new probability algorithm for the diagnosis of coronary artery disease.'> initial paper</a> written in 1989, indicates that he only needs the 13 features to build his model (of course 14<sup>th</sup> is the target variable) .\\\n",
    "The table below shows the relationship of original (raw) data and processed.\n",
    "#### Original (raw)\n",
    "| Filename                   | Records (Rows) | Features (Cols) |\n",
    "|:---------------------------|:--------------:|:---------------:|\n",
    "| cleveland.data             |      303       |       76        |\n",
    "| hungarian.data             |      294       |       76        |\n",
    "| long-beach-va.data         |      200       |       76        |\n",
    "| switzerland.data           |      123       |       76        |\n",
    "\n",
    "#### Processed\n",
    "| Filename                   | Records (Rows) | Features (Cols) |\n",
    "|:---------------------------|:--------------:|:---------------:|\n",
    "| processed.cleveland.data   |      303       |       14        |\n",
    "| processed.hungarian.data   |      294       |       14        |\n",
    "| processed.va.data          |      200       |       14        |\n",
    "| processed.switzerland.data |      123       |       14        |\n",
    "\n",
    "\n",
    "# Raw Data\n",
    "Explain how the processed raw data relates to the original (76) columns.\n",
    "\n",
    "## TODO:\n",
    "1. Check for duplicate rows.\n",
    "\n",
    "### Was the pressure converted to MAP?\n",
    "- https://www.mdcalc.com/calc/74/mean-arterial-pressure-map\n",
    "\n",
    "## Data dictionary\n",
    "\n"
   ]
  },
  {
   "metadata": {},
   "cell_type": "code",
   "source": "",
   "id": "3898704aaa217463",
   "outputs": [],
   "execution_count": null
  },
  {
   "cell_type": "markdown",
   "id": "a65b903f0afcf8a8",
   "metadata": {},
   "source": [
    "In z-lab\n",
    "- With heart disease (1): 165\n",
    "- No heart disease (0): 138\n",
    "\n",
    "Actual\n",
    "- With heart disease (1,2,3,4): 139\n",
    "- No heart disease (0): 0\n",
    "\n",
    "Value from 1 to 4\n",
    "1. Mild heart disease.\n",
    "2. Moderate heart disease.\n",
    "3. Severe heart disease.\n",
    "4. Very severe heart disease."
   ]
  },
  {
   "cell_type": "code",
   "id": "8f21e87a43621955",
   "metadata": {},
   "source": [
    "# All required libraries.\n",
    "import pandas as pd"
   ],
   "outputs": [],
   "execution_count": null
  },
  {
   "cell_type": "code",
   "id": "890749f0a123e02b",
   "metadata": {},
   "source": [
    "header =['age','sex','cp','trestbps','chol','fbs','restecg','thalach','exang','oldpeak','slope','ca','thal','num']\n",
    "data = pd.read_csv('data/uci-heart-disease/processed.cleveland.data', names=header)\n",
    "# 303 records and 14 columns.\n",
    "data.head(5)"
   ],
   "outputs": [],
   "execution_count": null
  },
  {
   "cell_type": "markdown",
   "id": "8507e08cef1044d3",
   "metadata": {},
   "source": [
    "## Check for duplicate rows and missing data."
   ]
  },
  {
   "cell_type": "code",
   "id": "3d481675109c5f05",
   "metadata": {},
   "source": [],
   "outputs": [],
   "execution_count": null
  },
  {
   "cell_type": "code",
   "id": "91cc56735f3fd9b5",
   "metadata": {},
   "source": [
    "# When all columns were checked, no duplicate rows were found.\n",
    "duplicate = data[data.duplicated()]\n",
    "duplicate"
   ],
   "outputs": [],
   "execution_count": null
  },
  {
   "cell_type": "code",
   "id": "2c98fef25a77d2a6",
   "metadata": {},
   "source": [
    "# No missing data. isnull and isna is the same, checking for None, NaN or NaT (datetime)\n",
    "data.isnull().sum()"
   ],
   "outputs": [],
   "execution_count": null
  },
  {
   "cell_type": "markdown",
   "id": "cf4f49a32a13a82b",
   "metadata": {},
   "source": [
    "# Data Exploration (EDA)"
   ]
  },
  {
   "cell_type": "code",
   "id": "2e409564811cc21b",
   "metadata": {},
   "source": [
    "# Check the target balance.\n",
    "data[\"num\"].value_counts()"
   ],
   "outputs": [],
   "execution_count": null
  },
  {
   "cell_type": "code",
   "id": "5b9b942d2829b943",
   "metadata": {},
   "source": [
    "data[\"num\"].value_counts().plot(kind='bar');"
   ],
   "outputs": [],
   "execution_count": null
  },
  {
   "cell_type": "code",
   "id": "1955c177ccd800b0",
   "metadata": {},
   "source": [
    "data[data[\"num\"]!=0]=1"
   ],
   "outputs": [],
   "execution_count": null
  },
  {
   "cell_type": "code",
   "id": "73e064d08caf7c2f",
   "metadata": {},
   "source": [
    "data[\"num\"].value_counts()"
   ],
   "outputs": [],
   "execution_count": null
  },
  {
   "cell_type": "code",
   "id": "872aaadb0af4dabe",
   "metadata": {},
   "source": [
    "data[\"num\"].value_counts().plot(kind='bar', color=['salmon','lightblue']);"
   ],
   "outputs": [],
   "execution_count": null
  },
  {
   "cell_type": "code",
   "id": "df664cd2987d461a",
   "metadata": {},
   "source": [
    "data.cp.value_counts()"
   ],
   "outputs": [],
   "execution_count": null
  },
  {
   "cell_type": "code",
   "id": "a85faba5a58628f9",
   "metadata": {},
   "source": [
    " # Taken from heart-disease.names\n",
    " # The \"goal\" field refers to the presence of heart disease\n",
    " #     in the patient.  It is integer valued from 0 (no presence) to 4.\n",
    " #     Experiments with the Cleveland database have concentrated on simply\n",
    " #     attempting to distinguish presence (values 1,2,3,4) from absence (value\n",
    " #     0).\n",
    "data.num.value_counts()"
   ],
   "outputs": [],
   "execution_count": null
  },
  {
   "cell_type": "code",
   "id": "2ceffadf7f2ae17f",
   "metadata": {},
   "source": [
    "data.isna().sum()"
   ],
   "outputs": [],
   "execution_count": null
  },
  {
   "cell_type": "code",
   "id": "b4893ac7de253a5d",
   "metadata": {},
   "source": [
    "# When investigated, 2 columns that 'ca' and 'thal' has non-numeric values.\n",
    "data.info()"
   ],
   "outputs": [],
   "execution_count": null
  },
  {
   "cell_type": "code",
   "id": "d4e58d1185210cb8",
   "metadata": {},
   "source": [
    "# For column 'ca', 4 records contains the value of '?'.\n",
    "data['ca'].value_counts()"
   ],
   "outputs": [],
   "execution_count": null
  },
  {
   "cell_type": "code",
   "id": "f0082c403daf0e82",
   "metadata": {},
   "source": [
    "# For column 'thal', 2 records contains the value of '?'.\n",
    "data['thal'].value_counts()"
   ],
   "outputs": [],
   "execution_count": null
  },
  {
   "cell_type": "code",
   "id": "2e8836c659819978",
   "metadata": {},
   "source": [
    "selected = data[data['thal']=='?']\n",
    "selected"
   ],
   "outputs": [],
   "execution_count": null
  },
  {
   "cell_type": "code",
   "id": "547e683c6d1283dd",
   "metadata": {},
   "source": [
    "data['sex'].value_counts()"
   ],
   "outputs": [],
   "execution_count": null
  }
 ],
 "metadata": {
  "kernelspec": {
   "display_name": "Python 3 (ipykernel)",
   "language": "python",
   "name": "python3"
  },
  "language_info": {
   "codemirror_mode": {
    "name": "ipython",
    "version": 3
   },
   "file_extension": ".py",
   "mimetype": "text/x-python",
   "name": "python",
   "nbconvert_exporter": "python",
   "pygments_lexer": "ipython3",
   "version": "3.12.2"
  }
 },
 "nbformat": 4,
 "nbformat_minor": 5
}
