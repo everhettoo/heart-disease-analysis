{
 "cells": [
  {
   "cell_type": "markdown",
   "id": "989067476106975e",
   "metadata": {},
   "source": [
    "# Objective\n",
    "During EDA, while exploring cleveland dataset (`cleveland.processed.data`), it was observed, the `?` character was inserted into important columns and rendering the records with missing values. About 2% (6 records) was affected.\n",
    "\n",
    "Also, a preliminary investigation on other datasets (Long Beach, Hungarian and Switzerland) indicated the `?` is prevalent (68%).\n",
    "\n",
    "In this notebook, the following processed datasets are investigated for the missing values.\n",
    "- Long Beach (VA) `processed.va.data`\n",
    "- Hungarian `processed.hungarian.data`\n",
    "- Switzerland `processed.switzerland.data`"
   ]
  },
  {
   "cell_type": "code",
   "id": "initial_id",
   "metadata": {
    "collapsed": true,
    "jupyter": {
     "outputs_hidden": true
    },
    "ExecuteTime": {
     "end_time": "2024-12-30T13:14:02.345721Z",
     "start_time": "2024-12-30T13:14:02.343749Z"
    }
   },
   "source": [
    "from importlib import reload\n",
    "\n",
    "# Load required libraries.\n",
    "import pandas as pd\n",
    "\n",
    "import models.uci_heart_disease_dataset as uci"
   ],
   "outputs": [],
   "execution_count": 2
  },
  {
   "cell_type": "markdown",
   "id": "66c0ac3b6916bb60",
   "metadata": {},
   "source": [
    "# Long Beach (VA)"
   ]
  },
  {
   "metadata": {
    "ExecuteTime": {
     "end_time": "2024-12-30T13:14:06.140042Z",
     "start_time": "2024-12-30T13:14:06.124173Z"
    }
   },
   "cell_type": "code",
   "source": [
    "reload(uci)\n",
    "total_records = 0\n",
    "\n",
    "data = pd.read_csv(uci.UCIHeartDiseaseDataFile.longbeach_processed, names=uci.get_standard_features())\n",
    "data.head(5)"
   ],
   "id": "2c6adc0584c2b01e",
   "outputs": [
    {
     "data": {
      "text/plain": [
       "   Age  Gender  Chest Pain BP Systolic Cholesterol Blood Sugar  Rest ECG  \\\n",
       "0   63       1           4         140         260           0         1   \n",
       "1   44       1           4         130         209           0         1   \n",
       "2   60       1           4         132         218           0         1   \n",
       "3   55       1           4         142         228           0         1   \n",
       "4   66       1           3         110         213           1         2   \n",
       "\n",
       "  Exe. Max Heartrate Exe. Induced Angina Exe. ST Depression  \\\n",
       "0                112                   1                  3   \n",
       "1                127                   0                  0   \n",
       "2                140                   1                1.5   \n",
       "3                149                   1                2.5   \n",
       "4                 99                   1                1.3   \n",
       "\n",
       "  Exe. ST Segment Slope Major Vessels Thalassemia  Target  \n",
       "0                     2             ?           ?       2  \n",
       "1                     ?             ?           ?       0  \n",
       "2                     3             ?           ?       2  \n",
       "3                     1             ?           ?       1  \n",
       "4                     2             ?           ?       0  "
      ],
      "text/html": [
       "<div>\n",
       "<style scoped>\n",
       "    .dataframe tbody tr th:only-of-type {\n",
       "        vertical-align: middle;\n",
       "    }\n",
       "\n",
       "    .dataframe tbody tr th {\n",
       "        vertical-align: top;\n",
       "    }\n",
       "\n",
       "    .dataframe thead th {\n",
       "        text-align: right;\n",
       "    }\n",
       "</style>\n",
       "<table border=\"1\" class=\"dataframe\">\n",
       "  <thead>\n",
       "    <tr style=\"text-align: right;\">\n",
       "      <th></th>\n",
       "      <th>Age</th>\n",
       "      <th>Gender</th>\n",
       "      <th>Chest Pain</th>\n",
       "      <th>BP Systolic</th>\n",
       "      <th>Cholesterol</th>\n",
       "      <th>Blood Sugar</th>\n",
       "      <th>Rest ECG</th>\n",
       "      <th>Exe. Max Heartrate</th>\n",
       "      <th>Exe. Induced Angina</th>\n",
       "      <th>Exe. ST Depression</th>\n",
       "      <th>Exe. ST Segment Slope</th>\n",
       "      <th>Major Vessels</th>\n",
       "      <th>Thalassemia</th>\n",
       "      <th>Target</th>\n",
       "    </tr>\n",
       "  </thead>\n",
       "  <tbody>\n",
       "    <tr>\n",
       "      <th>0</th>\n",
       "      <td>63</td>\n",
       "      <td>1</td>\n",
       "      <td>4</td>\n",
       "      <td>140</td>\n",
       "      <td>260</td>\n",
       "      <td>0</td>\n",
       "      <td>1</td>\n",
       "      <td>112</td>\n",
       "      <td>1</td>\n",
       "      <td>3</td>\n",
       "      <td>2</td>\n",
       "      <td>?</td>\n",
       "      <td>?</td>\n",
       "      <td>2</td>\n",
       "    </tr>\n",
       "    <tr>\n",
       "      <th>1</th>\n",
       "      <td>44</td>\n",
       "      <td>1</td>\n",
       "      <td>4</td>\n",
       "      <td>130</td>\n",
       "      <td>209</td>\n",
       "      <td>0</td>\n",
       "      <td>1</td>\n",
       "      <td>127</td>\n",
       "      <td>0</td>\n",
       "      <td>0</td>\n",
       "      <td>?</td>\n",
       "      <td>?</td>\n",
       "      <td>?</td>\n",
       "      <td>0</td>\n",
       "    </tr>\n",
       "    <tr>\n",
       "      <th>2</th>\n",
       "      <td>60</td>\n",
       "      <td>1</td>\n",
       "      <td>4</td>\n",
       "      <td>132</td>\n",
       "      <td>218</td>\n",
       "      <td>0</td>\n",
       "      <td>1</td>\n",
       "      <td>140</td>\n",
       "      <td>1</td>\n",
       "      <td>1.5</td>\n",
       "      <td>3</td>\n",
       "      <td>?</td>\n",
       "      <td>?</td>\n",
       "      <td>2</td>\n",
       "    </tr>\n",
       "    <tr>\n",
       "      <th>3</th>\n",
       "      <td>55</td>\n",
       "      <td>1</td>\n",
       "      <td>4</td>\n",
       "      <td>142</td>\n",
       "      <td>228</td>\n",
       "      <td>0</td>\n",
       "      <td>1</td>\n",
       "      <td>149</td>\n",
       "      <td>1</td>\n",
       "      <td>2.5</td>\n",
       "      <td>1</td>\n",
       "      <td>?</td>\n",
       "      <td>?</td>\n",
       "      <td>1</td>\n",
       "    </tr>\n",
       "    <tr>\n",
       "      <th>4</th>\n",
       "      <td>66</td>\n",
       "      <td>1</td>\n",
       "      <td>3</td>\n",
       "      <td>110</td>\n",
       "      <td>213</td>\n",
       "      <td>1</td>\n",
       "      <td>2</td>\n",
       "      <td>99</td>\n",
       "      <td>1</td>\n",
       "      <td>1.3</td>\n",
       "      <td>2</td>\n",
       "      <td>?</td>\n",
       "      <td>?</td>\n",
       "      <td>0</td>\n",
       "    </tr>\n",
       "  </tbody>\n",
       "</table>\n",
       "</div>"
      ]
     },
     "execution_count": 3,
     "metadata": {},
     "output_type": "execute_result"
    }
   ],
   "execution_count": 3
  },
  {
   "metadata": {
    "ExecuteTime": {
     "end_time": "2024-12-30T13:14:10.480745Z",
     "start_time": "2024-12-30T13:14:10.477625Z"
    }
   },
   "cell_type": "code",
   "source": [
    "# 200 records found.\n",
    "total_records += data.shape[0]\n",
    "data.shape"
   ],
   "id": "77211d1c2a77d2b0",
   "outputs": [
    {
     "data": {
      "text/plain": [
       "(200, 14)"
      ]
     },
     "execution_count": 4,
     "metadata": {},
     "output_type": "execute_result"
    }
   ],
   "execution_count": 4
  },
  {
   "cell_type": "code",
   "id": "2da33611a1bd99e0",
   "metadata": {
    "ExecuteTime": {
     "end_time": "2024-12-30T13:14:15.773582Z",
     "start_time": "2024-12-30T13:14:15.768123Z"
    }
   },
   "source": [
    "# Invalid such as '?' exists in columns that are of type object.\n",
    "data.columns.to_series().groupby(data.dtypes).groups"
   ],
   "outputs": [
    {
     "data": {
      "text/plain": [
       "{int64: ['Age', 'Gender', 'Chest Pain', 'Rest ECG', 'Target'], object: ['BP Systolic', 'Cholesterol', 'Blood Sugar', 'Exe. Max Heartrate', 'Exe. Induced Angina', 'Exe. ST Depression', 'Exe. ST Segment Slope', 'Major Vessels', 'Thalassemia']}"
      ]
     },
     "execution_count": 5,
     "metadata": {},
     "output_type": "execute_result"
    }
   ],
   "execution_count": 5
  },
  {
   "metadata": {
    "ExecuteTime": {
     "end_time": "2024-12-30T13:14:19.241422Z",
     "start_time": "2024-12-30T13:14:19.236965Z"
    }
   },
   "cell_type": "code",
   "source": "data[uci.UCIHeartDiseaseData.thalassemia].value_counts()",
   "id": "ad62a47180f1cb0f",
   "outputs": [
    {
     "data": {
      "text/plain": [
       "Thalassemia\n",
       "?    166\n",
       "7     22\n",
       "6      8\n",
       "3      4\n",
       "Name: count, dtype: int64"
      ]
     },
     "execution_count": 6,
     "metadata": {},
     "output_type": "execute_result"
    }
   ],
   "execution_count": 6
  },
  {
   "cell_type": "code",
   "id": "5b6b5242d0fc4f4d",
   "metadata": {
    "ExecuteTime": {
     "end_time": "2024-12-30T13:14:24.251622Z",
     "start_time": "2024-12-30T13:14:24.246175Z"
    }
   },
   "source": [
    "# object: [\n",
    "# 'BP Systolic',\n",
    "# 'Cholesterol',\n",
    "# 'Blood Sugar',\n",
    "# 'Exe. Max Heartrate',\n",
    "# 'Exe. Induced Angina',\n",
    "# 'Exe. ST Depression',\n",
    "# 'Exe. ST Segment Slope',\n",
    "# 'Major Vessels',\n",
    "# 'Thalassemia'\n",
    "# ]}\n",
    "invalid_data = data[(data[uci.UCIHeartDiseaseData.bp_systolic] == '?')\n",
    "      |(data[uci.UCIHeartDiseaseData.cholesterol] == '?')\n",
    "      |(data[uci.UCIHeartDiseaseData.blood_sugar] == '?')\n",
    "      |(data[uci.UCIHeartDiseaseData.exe_max_heartrate] == '?')\n",
    "      |(data[uci.UCIHeartDiseaseData.exe_induced_angina] == '?')\n",
    "      |(data[uci.UCIHeartDiseaseData.exe_st_depression] == '?')\n",
    "      |(data[uci.UCIHeartDiseaseData.exe_st_segment_slope] == '?')\n",
    "      |(data[uci.UCIHeartDiseaseData.major_vessels] == '?')\n",
    "      |(data[uci.UCIHeartDiseaseData.thalassemia] == '?')\n",
    " ]\n",
    "\n",
    "invalid_data.shape"
   ],
   "outputs": [
    {
     "data": {
      "text/plain": [
       "(199, 14)"
      ]
     },
     "execution_count": 7,
     "metadata": {},
     "output_type": "execute_result"
    }
   ],
   "execution_count": 7
  },
  {
   "cell_type": "code",
   "id": "904a03301a537f21",
   "metadata": {
    "ExecuteTime": {
     "end_time": "2024-12-30T13:14:27.601219Z",
     "start_time": "2024-12-30T13:14:27.595005Z"
    }
   },
   "source": [
    "# Records with invalid data is 199 => 200 - 199 = 1 (Balance can be salvaged)\n",
    "# Dropping the invalid data and salvaging the valid one(s).\n",
    "data.drop(invalid_data.index, inplace=True)\n",
    "valid_data = data\n",
    "valid_data"
   ],
   "outputs": [
    {
     "data": {
      "text/plain": [
       "    Age  Gender  Chest Pain BP Systolic Cholesterol Blood Sugar  Rest ECG  \\\n",
       "28   56       1           4         120         100           0         0   \n",
       "\n",
       "   Exe. Max Heartrate Exe. Induced Angina Exe. ST Depression  \\\n",
       "28                120                   1                1.5   \n",
       "\n",
       "   Exe. ST Segment Slope Major Vessels Thalassemia  Target  \n",
       "28                     2             0           7       1  "
      ],
      "text/html": [
       "<div>\n",
       "<style scoped>\n",
       "    .dataframe tbody tr th:only-of-type {\n",
       "        vertical-align: middle;\n",
       "    }\n",
       "\n",
       "    .dataframe tbody tr th {\n",
       "        vertical-align: top;\n",
       "    }\n",
       "\n",
       "    .dataframe thead th {\n",
       "        text-align: right;\n",
       "    }\n",
       "</style>\n",
       "<table border=\"1\" class=\"dataframe\">\n",
       "  <thead>\n",
       "    <tr style=\"text-align: right;\">\n",
       "      <th></th>\n",
       "      <th>Age</th>\n",
       "      <th>Gender</th>\n",
       "      <th>Chest Pain</th>\n",
       "      <th>BP Systolic</th>\n",
       "      <th>Cholesterol</th>\n",
       "      <th>Blood Sugar</th>\n",
       "      <th>Rest ECG</th>\n",
       "      <th>Exe. Max Heartrate</th>\n",
       "      <th>Exe. Induced Angina</th>\n",
       "      <th>Exe. ST Depression</th>\n",
       "      <th>Exe. ST Segment Slope</th>\n",
       "      <th>Major Vessels</th>\n",
       "      <th>Thalassemia</th>\n",
       "      <th>Target</th>\n",
       "    </tr>\n",
       "  </thead>\n",
       "  <tbody>\n",
       "    <tr>\n",
       "      <th>28</th>\n",
       "      <td>56</td>\n",
       "      <td>1</td>\n",
       "      <td>4</td>\n",
       "      <td>120</td>\n",
       "      <td>100</td>\n",
       "      <td>0</td>\n",
       "      <td>0</td>\n",
       "      <td>120</td>\n",
       "      <td>1</td>\n",
       "      <td>1.5</td>\n",
       "      <td>2</td>\n",
       "      <td>0</td>\n",
       "      <td>7</td>\n",
       "      <td>1</td>\n",
       "    </tr>\n",
       "  </tbody>\n",
       "</table>\n",
       "</div>"
      ]
     },
     "execution_count": 8,
     "metadata": {},
     "output_type": "execute_result"
    }
   ],
   "execution_count": 8
  },
  {
   "cell_type": "markdown",
   "id": "e31ceea70acddaa1",
   "metadata": {},
   "source": [
    "# Hungarian"
   ]
  },
  {
   "cell_type": "code",
   "id": "4cc11fad5bac521e",
   "metadata": {
    "ExecuteTime": {
     "end_time": "2024-12-30T13:14:30.218877Z",
     "start_time": "2024-12-30T13:14:30.210236Z"
    }
   },
   "source": [
    "data = pd.read_csv(uci.UCIHeartDiseaseDataFile.hungarian_processed, names=uci.get_standard_features())\n",
    "data.head(5)"
   ],
   "outputs": [
    {
     "data": {
      "text/plain": [
       "   Age  Gender  Chest Pain BP Systolic Cholesterol Blood Sugar Rest ECG  \\\n",
       "0   28       1           2         130         132           0        2   \n",
       "1   29       1           2         120         243           0        0   \n",
       "2   29       1           2         140           ?           0        0   \n",
       "3   30       0           1         170         237           0        1   \n",
       "4   31       0           2         100         219           0        1   \n",
       "\n",
       "  Exe. Max Heartrate Exe. Induced Angina  Exe. ST Depression  \\\n",
       "0                185                   0                 0.0   \n",
       "1                160                   0                 0.0   \n",
       "2                170                   0                 0.0   \n",
       "3                170                   0                 0.0   \n",
       "4                150                   0                 0.0   \n",
       "\n",
       "  Exe. ST Segment Slope Major Vessels Thalassemia  Target  \n",
       "0                     ?             ?           ?       0  \n",
       "1                     ?             ?           ?       0  \n",
       "2                     ?             ?           ?       0  \n",
       "3                     ?             ?           6       0  \n",
       "4                     ?             ?           ?       0  "
      ],
      "text/html": [
       "<div>\n",
       "<style scoped>\n",
       "    .dataframe tbody tr th:only-of-type {\n",
       "        vertical-align: middle;\n",
       "    }\n",
       "\n",
       "    .dataframe tbody tr th {\n",
       "        vertical-align: top;\n",
       "    }\n",
       "\n",
       "    .dataframe thead th {\n",
       "        text-align: right;\n",
       "    }\n",
       "</style>\n",
       "<table border=\"1\" class=\"dataframe\">\n",
       "  <thead>\n",
       "    <tr style=\"text-align: right;\">\n",
       "      <th></th>\n",
       "      <th>Age</th>\n",
       "      <th>Gender</th>\n",
       "      <th>Chest Pain</th>\n",
       "      <th>BP Systolic</th>\n",
       "      <th>Cholesterol</th>\n",
       "      <th>Blood Sugar</th>\n",
       "      <th>Rest ECG</th>\n",
       "      <th>Exe. Max Heartrate</th>\n",
       "      <th>Exe. Induced Angina</th>\n",
       "      <th>Exe. ST Depression</th>\n",
       "      <th>Exe. ST Segment Slope</th>\n",
       "      <th>Major Vessels</th>\n",
       "      <th>Thalassemia</th>\n",
       "      <th>Target</th>\n",
       "    </tr>\n",
       "  </thead>\n",
       "  <tbody>\n",
       "    <tr>\n",
       "      <th>0</th>\n",
       "      <td>28</td>\n",
       "      <td>1</td>\n",
       "      <td>2</td>\n",
       "      <td>130</td>\n",
       "      <td>132</td>\n",
       "      <td>0</td>\n",
       "      <td>2</td>\n",
       "      <td>185</td>\n",
       "      <td>0</td>\n",
       "      <td>0.0</td>\n",
       "      <td>?</td>\n",
       "      <td>?</td>\n",
       "      <td>?</td>\n",
       "      <td>0</td>\n",
       "    </tr>\n",
       "    <tr>\n",
       "      <th>1</th>\n",
       "      <td>29</td>\n",
       "      <td>1</td>\n",
       "      <td>2</td>\n",
       "      <td>120</td>\n",
       "      <td>243</td>\n",
       "      <td>0</td>\n",
       "      <td>0</td>\n",
       "      <td>160</td>\n",
       "      <td>0</td>\n",
       "      <td>0.0</td>\n",
       "      <td>?</td>\n",
       "      <td>?</td>\n",
       "      <td>?</td>\n",
       "      <td>0</td>\n",
       "    </tr>\n",
       "    <tr>\n",
       "      <th>2</th>\n",
       "      <td>29</td>\n",
       "      <td>1</td>\n",
       "      <td>2</td>\n",
       "      <td>140</td>\n",
       "      <td>?</td>\n",
       "      <td>0</td>\n",
       "      <td>0</td>\n",
       "      <td>170</td>\n",
       "      <td>0</td>\n",
       "      <td>0.0</td>\n",
       "      <td>?</td>\n",
       "      <td>?</td>\n",
       "      <td>?</td>\n",
       "      <td>0</td>\n",
       "    </tr>\n",
       "    <tr>\n",
       "      <th>3</th>\n",
       "      <td>30</td>\n",
       "      <td>0</td>\n",
       "      <td>1</td>\n",
       "      <td>170</td>\n",
       "      <td>237</td>\n",
       "      <td>0</td>\n",
       "      <td>1</td>\n",
       "      <td>170</td>\n",
       "      <td>0</td>\n",
       "      <td>0.0</td>\n",
       "      <td>?</td>\n",
       "      <td>?</td>\n",
       "      <td>6</td>\n",
       "      <td>0</td>\n",
       "    </tr>\n",
       "    <tr>\n",
       "      <th>4</th>\n",
       "      <td>31</td>\n",
       "      <td>0</td>\n",
       "      <td>2</td>\n",
       "      <td>100</td>\n",
       "      <td>219</td>\n",
       "      <td>0</td>\n",
       "      <td>1</td>\n",
       "      <td>150</td>\n",
       "      <td>0</td>\n",
       "      <td>0.0</td>\n",
       "      <td>?</td>\n",
       "      <td>?</td>\n",
       "      <td>?</td>\n",
       "      <td>0</td>\n",
       "    </tr>\n",
       "  </tbody>\n",
       "</table>\n",
       "</div>"
      ]
     },
     "execution_count": 9,
     "metadata": {},
     "output_type": "execute_result"
    }
   ],
   "execution_count": 9
  },
  {
   "cell_type": "code",
   "id": "e41d876eeccc7601",
   "metadata": {
    "ExecuteTime": {
     "end_time": "2024-12-30T13:14:33.052229Z",
     "start_time": "2024-12-30T13:14:33.049269Z"
    }
   },
   "source": [
    "# 294 records found.\n",
    "total_records += data.shape[0]\n",
    "data.shape"
   ],
   "outputs": [
    {
     "data": {
      "text/plain": [
       "(294, 14)"
      ]
     },
     "execution_count": 10,
     "metadata": {},
     "output_type": "execute_result"
    }
   ],
   "execution_count": 10
  },
  {
   "cell_type": "code",
   "id": "135fdd9d0a20e7fa",
   "metadata": {
    "ExecuteTime": {
     "end_time": "2024-12-30T13:14:35.169685Z",
     "start_time": "2024-12-30T13:14:35.165982Z"
    }
   },
   "source": [
    "# Invalid such as '?' exists in columns that are of type object.\n",
    "data.columns.to_series().groupby(data.dtypes).groups"
   ],
   "outputs": [
    {
     "data": {
      "text/plain": [
       "{int64: ['Age', 'Gender', 'Chest Pain', 'Target'], float64: ['Exe. ST Depression'], object: ['BP Systolic', 'Cholesterol', 'Blood Sugar', 'Rest ECG', 'Exe. Max Heartrate', 'Exe. Induced Angina', 'Exe. ST Segment Slope', 'Major Vessels', 'Thalassemia']}"
      ]
     },
     "execution_count": 11,
     "metadata": {},
     "output_type": "execute_result"
    }
   ],
   "execution_count": 11
  },
  {
   "cell_type": "code",
   "id": "ee8a18df568008b5",
   "metadata": {
    "ExecuteTime": {
     "end_time": "2024-12-30T13:14:37.121369Z",
     "start_time": "2024-12-30T13:14:37.116476Z"
    }
   },
   "source": [
    "# object: [\n",
    "# 'BP Systolic',\n",
    "# 'Cholesterol',\n",
    "# 'Blood Sugar',\n",
    "# 'Rest ECG',\n",
    "# 'Exe. Max Heartrate', '\n",
    "# 'Exe. Induced Angina',\n",
    "# 'Exe. ST Segment Slope',\n",
    "# 'Major Vessels',\n",
    "# 'Thalassemia'\n",
    "# ]}\n",
    "invalid_data = data[(data[uci.UCIHeartDiseaseData.bp_systolic]=='?')\n",
    "      |(data[uci.UCIHeartDiseaseData.cholesterol]=='?')\n",
    "      |(data[uci.UCIHeartDiseaseData.blood_sugar]=='?')\n",
    "      |(data[uci.UCIHeartDiseaseData.rest_ecg]=='?')\n",
    "      |(data[uci.UCIHeartDiseaseData.exe_max_heartrate]=='?')\n",
    "      |(data[uci.UCIHeartDiseaseData.exe_induced_angina]=='?')\n",
    "      |(data[uci.UCIHeartDiseaseData.exe_st_segment_slope]=='?')\n",
    "      |(data[uci.UCIHeartDiseaseData.major_vessels]=='?')\n",
    "      |(data[uci.UCIHeartDiseaseData.thalassemia]=='?')\n",
    " ]\n",
    "\n",
    "invalid_data.shape"
   ],
   "outputs": [
    {
     "data": {
      "text/plain": [
       "(293, 14)"
      ]
     },
     "execution_count": 12,
     "metadata": {},
     "output_type": "execute_result"
    }
   ],
   "execution_count": 12
  },
  {
   "cell_type": "code",
   "id": "30c4328e610f9b39",
   "metadata": {
    "ExecuteTime": {
     "end_time": "2024-12-30T13:14:40.425550Z",
     "start_time": "2024-12-30T13:14:40.420194Z"
    }
   },
   "source": [
    "# Records with invalid data is 293 => 294 - 293 = 1 (Balance can be salvaged)\n",
    "# Dropping the invalid data and salvaging the valid one(s).\n",
    "data.drop(invalid_data.index, inplace=True)\n",
    "tmp = data\n",
    "tmp"
   ],
   "outputs": [
    {
     "data": {
      "text/plain": [
       "     Age  Gender  Chest Pain BP Systolic Cholesterol Blood Sugar Rest ECG  \\\n",
       "205   47       1           4         150         226           0        0   \n",
       "\n",
       "    Exe. Max Heartrate Exe. Induced Angina  Exe. ST Depression  \\\n",
       "205                 98                   1                 1.5   \n",
       "\n",
       "    Exe. ST Segment Slope Major Vessels Thalassemia  Target  \n",
       "205                     2             0           7       1  "
      ],
      "text/html": [
       "<div>\n",
       "<style scoped>\n",
       "    .dataframe tbody tr th:only-of-type {\n",
       "        vertical-align: middle;\n",
       "    }\n",
       "\n",
       "    .dataframe tbody tr th {\n",
       "        vertical-align: top;\n",
       "    }\n",
       "\n",
       "    .dataframe thead th {\n",
       "        text-align: right;\n",
       "    }\n",
       "</style>\n",
       "<table border=\"1\" class=\"dataframe\">\n",
       "  <thead>\n",
       "    <tr style=\"text-align: right;\">\n",
       "      <th></th>\n",
       "      <th>Age</th>\n",
       "      <th>Gender</th>\n",
       "      <th>Chest Pain</th>\n",
       "      <th>BP Systolic</th>\n",
       "      <th>Cholesterol</th>\n",
       "      <th>Blood Sugar</th>\n",
       "      <th>Rest ECG</th>\n",
       "      <th>Exe. Max Heartrate</th>\n",
       "      <th>Exe. Induced Angina</th>\n",
       "      <th>Exe. ST Depression</th>\n",
       "      <th>Exe. ST Segment Slope</th>\n",
       "      <th>Major Vessels</th>\n",
       "      <th>Thalassemia</th>\n",
       "      <th>Target</th>\n",
       "    </tr>\n",
       "  </thead>\n",
       "  <tbody>\n",
       "    <tr>\n",
       "      <th>205</th>\n",
       "      <td>47</td>\n",
       "      <td>1</td>\n",
       "      <td>4</td>\n",
       "      <td>150</td>\n",
       "      <td>226</td>\n",
       "      <td>0</td>\n",
       "      <td>0</td>\n",
       "      <td>98</td>\n",
       "      <td>1</td>\n",
       "      <td>1.5</td>\n",
       "      <td>2</td>\n",
       "      <td>0</td>\n",
       "      <td>7</td>\n",
       "      <td>1</td>\n",
       "    </tr>\n",
       "  </tbody>\n",
       "</table>\n",
       "</div>"
      ]
     },
     "execution_count": 13,
     "metadata": {},
     "output_type": "execute_result"
    }
   ],
   "execution_count": 13
  },
  {
   "cell_type": "code",
   "id": "7be6599d9d91e786",
   "metadata": {
    "ExecuteTime": {
     "end_time": "2024-12-30T13:14:44.490015Z",
     "start_time": "2024-12-30T13:14:44.482863Z"
    }
   },
   "source": [
    "valid_data = pd.concat([valid_data, tmp], ignore_index=True)\n",
    "valid_data"
   ],
   "outputs": [
    {
     "data": {
      "text/plain": [
       "   Age  Gender  Chest Pain BP Systolic Cholesterol Blood Sugar Rest ECG  \\\n",
       "0   56       1           4         120         100           0        0   \n",
       "1   47       1           4         150         226           0        0   \n",
       "\n",
       "  Exe. Max Heartrate Exe. Induced Angina Exe. ST Depression  \\\n",
       "0                120                   1                1.5   \n",
       "1                 98                   1                1.5   \n",
       "\n",
       "  Exe. ST Segment Slope Major Vessels Thalassemia  Target  \n",
       "0                     2             0           7       1  \n",
       "1                     2             0           7       1  "
      ],
      "text/html": [
       "<div>\n",
       "<style scoped>\n",
       "    .dataframe tbody tr th:only-of-type {\n",
       "        vertical-align: middle;\n",
       "    }\n",
       "\n",
       "    .dataframe tbody tr th {\n",
       "        vertical-align: top;\n",
       "    }\n",
       "\n",
       "    .dataframe thead th {\n",
       "        text-align: right;\n",
       "    }\n",
       "</style>\n",
       "<table border=\"1\" class=\"dataframe\">\n",
       "  <thead>\n",
       "    <tr style=\"text-align: right;\">\n",
       "      <th></th>\n",
       "      <th>Age</th>\n",
       "      <th>Gender</th>\n",
       "      <th>Chest Pain</th>\n",
       "      <th>BP Systolic</th>\n",
       "      <th>Cholesterol</th>\n",
       "      <th>Blood Sugar</th>\n",
       "      <th>Rest ECG</th>\n",
       "      <th>Exe. Max Heartrate</th>\n",
       "      <th>Exe. Induced Angina</th>\n",
       "      <th>Exe. ST Depression</th>\n",
       "      <th>Exe. ST Segment Slope</th>\n",
       "      <th>Major Vessels</th>\n",
       "      <th>Thalassemia</th>\n",
       "      <th>Target</th>\n",
       "    </tr>\n",
       "  </thead>\n",
       "  <tbody>\n",
       "    <tr>\n",
       "      <th>0</th>\n",
       "      <td>56</td>\n",
       "      <td>1</td>\n",
       "      <td>4</td>\n",
       "      <td>120</td>\n",
       "      <td>100</td>\n",
       "      <td>0</td>\n",
       "      <td>0</td>\n",
       "      <td>120</td>\n",
       "      <td>1</td>\n",
       "      <td>1.5</td>\n",
       "      <td>2</td>\n",
       "      <td>0</td>\n",
       "      <td>7</td>\n",
       "      <td>1</td>\n",
       "    </tr>\n",
       "    <tr>\n",
       "      <th>1</th>\n",
       "      <td>47</td>\n",
       "      <td>1</td>\n",
       "      <td>4</td>\n",
       "      <td>150</td>\n",
       "      <td>226</td>\n",
       "      <td>0</td>\n",
       "      <td>0</td>\n",
       "      <td>98</td>\n",
       "      <td>1</td>\n",
       "      <td>1.5</td>\n",
       "      <td>2</td>\n",
       "      <td>0</td>\n",
       "      <td>7</td>\n",
       "      <td>1</td>\n",
       "    </tr>\n",
       "  </tbody>\n",
       "</table>\n",
       "</div>"
      ]
     },
     "execution_count": 14,
     "metadata": {},
     "output_type": "execute_result"
    }
   ],
   "execution_count": 14
  },
  {
   "cell_type": "markdown",
   "id": "f81db35eca1e84b5",
   "metadata": {},
   "source": [
    "# Switzerland"
   ]
  },
  {
   "cell_type": "code",
   "id": "bb609bda91203ec6",
   "metadata": {
    "ExecuteTime": {
     "end_time": "2024-12-30T13:14:47.290916Z",
     "start_time": "2024-12-30T13:14:47.283389Z"
    }
   },
   "source": [
    "data = pd.read_csv(uci.UCIHeartDiseaseDataFile.switzerland_processed, names=uci.get_standard_features())\n",
    "data.head(5)"
   ],
   "outputs": [
    {
     "data": {
      "text/plain": [
       "   Age  Gender  Chest Pain BP Systolic  Cholesterol Blood Sugar Rest ECG  \\\n",
       "0   32       1           1          95            0           ?        0   \n",
       "1   34       1           4         115            0           ?        ?   \n",
       "2   35       1           4           ?            0           ?        0   \n",
       "3   36       1           4         110            0           ?        0   \n",
       "4   38       0           4         105            0           ?        0   \n",
       "\n",
       "  Exe. Max Heartrate Exe. Induced Angina Exe. ST Depression  \\\n",
       "0                127                   0                 .7   \n",
       "1                154                   0                 .2   \n",
       "2                130                   1                  ?   \n",
       "3                125                   1                  1   \n",
       "4                166                   0                2.8   \n",
       "\n",
       "  Exe. ST Segment Slope Major Vessels Thalassemia  Target  \n",
       "0                     1             ?           ?       1  \n",
       "1                     1             ?           ?       1  \n",
       "2                     ?             ?           7       3  \n",
       "3                     2             ?           6       1  \n",
       "4                     1             ?           ?       2  "
      ],
      "text/html": [
       "<div>\n",
       "<style scoped>\n",
       "    .dataframe tbody tr th:only-of-type {\n",
       "        vertical-align: middle;\n",
       "    }\n",
       "\n",
       "    .dataframe tbody tr th {\n",
       "        vertical-align: top;\n",
       "    }\n",
       "\n",
       "    .dataframe thead th {\n",
       "        text-align: right;\n",
       "    }\n",
       "</style>\n",
       "<table border=\"1\" class=\"dataframe\">\n",
       "  <thead>\n",
       "    <tr style=\"text-align: right;\">\n",
       "      <th></th>\n",
       "      <th>Age</th>\n",
       "      <th>Gender</th>\n",
       "      <th>Chest Pain</th>\n",
       "      <th>BP Systolic</th>\n",
       "      <th>Cholesterol</th>\n",
       "      <th>Blood Sugar</th>\n",
       "      <th>Rest ECG</th>\n",
       "      <th>Exe. Max Heartrate</th>\n",
       "      <th>Exe. Induced Angina</th>\n",
       "      <th>Exe. ST Depression</th>\n",
       "      <th>Exe. ST Segment Slope</th>\n",
       "      <th>Major Vessels</th>\n",
       "      <th>Thalassemia</th>\n",
       "      <th>Target</th>\n",
       "    </tr>\n",
       "  </thead>\n",
       "  <tbody>\n",
       "    <tr>\n",
       "      <th>0</th>\n",
       "      <td>32</td>\n",
       "      <td>1</td>\n",
       "      <td>1</td>\n",
       "      <td>95</td>\n",
       "      <td>0</td>\n",
       "      <td>?</td>\n",
       "      <td>0</td>\n",
       "      <td>127</td>\n",
       "      <td>0</td>\n",
       "      <td>.7</td>\n",
       "      <td>1</td>\n",
       "      <td>?</td>\n",
       "      <td>?</td>\n",
       "      <td>1</td>\n",
       "    </tr>\n",
       "    <tr>\n",
       "      <th>1</th>\n",
       "      <td>34</td>\n",
       "      <td>1</td>\n",
       "      <td>4</td>\n",
       "      <td>115</td>\n",
       "      <td>0</td>\n",
       "      <td>?</td>\n",
       "      <td>?</td>\n",
       "      <td>154</td>\n",
       "      <td>0</td>\n",
       "      <td>.2</td>\n",
       "      <td>1</td>\n",
       "      <td>?</td>\n",
       "      <td>?</td>\n",
       "      <td>1</td>\n",
       "    </tr>\n",
       "    <tr>\n",
       "      <th>2</th>\n",
       "      <td>35</td>\n",
       "      <td>1</td>\n",
       "      <td>4</td>\n",
       "      <td>?</td>\n",
       "      <td>0</td>\n",
       "      <td>?</td>\n",
       "      <td>0</td>\n",
       "      <td>130</td>\n",
       "      <td>1</td>\n",
       "      <td>?</td>\n",
       "      <td>?</td>\n",
       "      <td>?</td>\n",
       "      <td>7</td>\n",
       "      <td>3</td>\n",
       "    </tr>\n",
       "    <tr>\n",
       "      <th>3</th>\n",
       "      <td>36</td>\n",
       "      <td>1</td>\n",
       "      <td>4</td>\n",
       "      <td>110</td>\n",
       "      <td>0</td>\n",
       "      <td>?</td>\n",
       "      <td>0</td>\n",
       "      <td>125</td>\n",
       "      <td>1</td>\n",
       "      <td>1</td>\n",
       "      <td>2</td>\n",
       "      <td>?</td>\n",
       "      <td>6</td>\n",
       "      <td>1</td>\n",
       "    </tr>\n",
       "    <tr>\n",
       "      <th>4</th>\n",
       "      <td>38</td>\n",
       "      <td>0</td>\n",
       "      <td>4</td>\n",
       "      <td>105</td>\n",
       "      <td>0</td>\n",
       "      <td>?</td>\n",
       "      <td>0</td>\n",
       "      <td>166</td>\n",
       "      <td>0</td>\n",
       "      <td>2.8</td>\n",
       "      <td>1</td>\n",
       "      <td>?</td>\n",
       "      <td>?</td>\n",
       "      <td>2</td>\n",
       "    </tr>\n",
       "  </tbody>\n",
       "</table>\n",
       "</div>"
      ]
     },
     "execution_count": 15,
     "metadata": {},
     "output_type": "execute_result"
    }
   ],
   "execution_count": 15
  },
  {
   "cell_type": "code",
   "id": "4a3c8b7e984e74eb",
   "metadata": {
    "ExecuteTime": {
     "end_time": "2024-12-30T13:14:49.574827Z",
     "start_time": "2024-12-30T13:14:49.572270Z"
    }
   },
   "source": [
    "# 123 records found.\n",
    "total_records += data.shape[0]\n",
    "data.shape"
   ],
   "outputs": [
    {
     "data": {
      "text/plain": [
       "(123, 14)"
      ]
     },
     "execution_count": 16,
     "metadata": {},
     "output_type": "execute_result"
    }
   ],
   "execution_count": 16
  },
  {
   "cell_type": "code",
   "id": "7dabe2a1c2497a83",
   "metadata": {
    "ExecuteTime": {
     "end_time": "2024-12-30T13:14:51.213156Z",
     "start_time": "2024-12-30T13:14:51.209825Z"
    }
   },
   "source": [
    "# Invalid such as '?' exists in columns that are of type object.\n",
    "data.columns.to_series().groupby(data.dtypes).groups"
   ],
   "outputs": [
    {
     "data": {
      "text/plain": [
       "{int64: ['Age', 'Gender', 'Chest Pain', 'Cholesterol', 'Target'], object: ['BP Systolic', 'Blood Sugar', 'Rest ECG', 'Exe. Max Heartrate', 'Exe. Induced Angina', 'Exe. ST Depression', 'Exe. ST Segment Slope', 'Major Vessels', 'Thalassemia']}"
      ]
     },
     "execution_count": 17,
     "metadata": {},
     "output_type": "execute_result"
    }
   ],
   "execution_count": 17
  },
  {
   "cell_type": "code",
   "id": "129df621cbae775a",
   "metadata": {
    "ExecuteTime": {
     "end_time": "2024-12-30T13:14:53.119563Z",
     "start_time": "2024-12-30T13:14:53.114785Z"
    }
   },
   "source": [
    "# [\n",
    "# 'BP Systolic',\n",
    "# 'Blood Sugar',\n",
    "# 'Rest ECG',\n",
    "# 'Exe. Max Heartrate',\n",
    "# 'Exe. Induced Angina',\n",
    "# 'Exe. ST Depression',\n",
    "# 'Exe. ST Segment Slope',\n",
    "# 'Major Vessels',\n",
    "# 'Thalassemia'\n",
    "# ]}\n",
    "invalid_data = data[(data[uci.UCIHeartDiseaseData.bp_systolic]=='?')\n",
    "      |(data[uci.UCIHeartDiseaseData.blood_sugar]=='?')\n",
    "      |(data[uci.UCIHeartDiseaseData.rest_ecg]=='?')\n",
    "      |(data[uci.UCIHeartDiseaseData.exe_max_heartrate]=='?')\n",
    "      |(data[uci.UCIHeartDiseaseData.exe_induced_angina]=='?')\n",
    "      |(data[uci.UCIHeartDiseaseData.exe_st_depression]=='?')\n",
    "      |(data[uci.UCIHeartDiseaseData.exe_st_segment_slope]=='?')\n",
    "      |(data[uci.UCIHeartDiseaseData.major_vessels]=='?')\n",
    "      |(data[uci.UCIHeartDiseaseData.thalassemia]=='?')\n",
    " ]\n",
    "\n",
    "invalid_data.shape"
   ],
   "outputs": [
    {
     "data": {
      "text/plain": [
       "(123, 14)"
      ]
     },
     "execution_count": 18,
     "metadata": {},
     "output_type": "execute_result"
    }
   ],
   "execution_count": 18
  },
  {
   "metadata": {
    "ExecuteTime": {
     "end_time": "2024-12-30T13:14:56.079542Z",
     "start_time": "2024-12-30T13:14:56.076537Z"
    }
   },
   "cell_type": "code",
   "source": [
    "print(f'Summary of records for all three datasets (Long Beach, Hungarian and Switzerland)')\n",
    "print(f'Total records \\t: {total_records}')\n",
    "print(f'Total salvaged \\t: {valid_data.shape[0]}')\n",
    "print(f'Missing values \\t: {(total_records - valid_data.shape[0])/total_records*100:.2f}%')"
   ],
   "id": "d5cd029da6285811",
   "outputs": [
    {
     "name": "stdout",
     "output_type": "stream",
     "text": [
      "Summary of records for all three datasets (Long Beach, Hungarian and Switzerland)\n",
      "Total records \t: 617\n",
      "Total salvaged \t: 2\n",
      "Missing values \t: 99.68%\n"
     ]
    }
   ],
   "execution_count": 19
  },
  {
   "cell_type": "markdown",
   "id": "245adfb50deeff56",
   "metadata": {},
   "source": [
    "# Save the Salvaged\n",
    "- Only 2/617 (less than 1%) records can be saved from the three datasets (Long Beach, Hungarian, Switzerland)\n",
    "- All 123 records in Switzerland dataset has missing values"
   ]
  },
  {
   "cell_type": "code",
   "id": "aacd35abc6fb3825",
   "metadata": {
    "ExecuteTime": {
     "end_time": "2024-12-30T13:15:06.366999Z",
     "start_time": "2024-12-30T13:15:06.358205Z"
    }
   },
   "source": [
    "reload(uci)\n",
    "# Save the two records to use later.\n",
    "valid_data.to_csv(uci.UCIHeartDiseaseDataFile.salvaged_standard, index=False, header=False)"
   ],
   "outputs": [],
   "execution_count": 20
  },
  {
   "cell_type": "markdown",
   "id": "b55ec6f97c18155a",
   "metadata": {},
   "source": [
    "# What Next?\n",
    "Since 99.79% data from all three processed datasets were found with the same missing values `?`, it is good to investigate the raw datasets:\n",
    "- to identify the root cause\n",
    "- or, explore chances to recover data from the original (raw) data files\n",
    "\n",
    "The raw datasets are further investigated here [raw dataset investigation](1.1-uci-raw-dataset-investigation.ipynb)."
   ]
  }
 ],
 "metadata": {
  "kernelspec": {
   "display_name": "Python 3 (ipykernel)",
   "language": "python",
   "name": "python3"
  },
  "language_info": {
   "codemirror_mode": {
    "name": "ipython",
    "version": 3
   },
   "file_extension": ".py",
   "mimetype": "text/x-python",
   "name": "python",
   "nbconvert_exporter": "python",
   "pygments_lexer": "ipython3",
   "version": "3.12.2"
  }
 },
 "nbformat": 4,
 "nbformat_minor": 5
}
