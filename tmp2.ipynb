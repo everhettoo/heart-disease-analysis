{
 "cells": [
  {
   "cell_type": "code",
   "id": "initial_id",
   "metadata": {
    "collapsed": true,
    "ExecuteTime": {
     "end_time": "2024-12-30T14:02:22.442313Z",
     "start_time": "2024-12-30T14:02:21.682164Z"
    }
   },
   "source": [
    "import custom_libs.evaluation_helper as ev\n",
    "ev.ModelAccuracyScore.register_model_accuracy('FNB',2)"
   ],
   "outputs": [
    {
     "data": {
      "text/plain": [
       "{'NB': 0, 'DT': 0, 'FNB': 2}"
      ]
     },
     "execution_count": 1,
     "metadata": {},
     "output_type": "execute_result"
    }
   ],
   "execution_count": 1
  },
  {
   "metadata": {},
   "cell_type": "code",
   "outputs": [],
   "execution_count": null,
   "source": "",
   "id": "e4ed65c16ae9350a"
  }
 ],
 "metadata": {
  "kernelspec": {
   "display_name": "Python 3",
   "language": "python",
   "name": "python3"
  },
  "language_info": {
   "codemirror_mode": {
    "name": "ipython",
    "version": 2
   },
   "file_extension": ".py",
   "mimetype": "text/x-python",
   "name": "python",
   "nbconvert_exporter": "python",
   "pygments_lexer": "ipython2",
   "version": "2.7.6"
  }
 },
 "nbformat": 4,
 "nbformat_minor": 5
}
