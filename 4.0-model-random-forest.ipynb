{
 "cells": [
  {
   "metadata": {},
   "cell_type": "markdown",
   "source": [
    "# Objective\n",
    "- base, Grid-Search-CV, Random-Search-CV models without oversampling\n",
    "- base, Grid-Search-CV, Random-Search-CV models with oversampling"
   ],
   "id": "a5c7eeb486978711"
  },
  {
   "cell_type": "code",
   "id": "initial_id",
   "metadata": {
    "collapsed": true
   },
   "source": [
    "import warnings\n",
    "from collections import Counter\n",
    "from importlib import reload\n",
    "\n",
    "import matplotlib.pyplot as plt\n",
    "import pandas as pd\n",
    "import seaborn as sns\n",
    "from imblearn.over_sampling import SMOTE\n",
    "from numpy import arange\n",
    "from sklearn.model_selection import GridSearchCV\n",
    "from sklearn.model_selection import RandomizedSearchCV\n",
    "from sklearn.model_selection import StratifiedKFold\n",
    "from sklearn.ensemble import RandomForestClassifier\n",
    "\n",
    "import custom_libs.evaluation_helper as ev\n",
    "import models.uci_heart_disease_dataset as uci\n",
    "\n",
    "warnings.filterwarnings(\"ignore\")"
   ],
   "outputs": [],
   "execution_count": null
  },
  {
   "metadata": {},
   "cell_type": "code",
   "source": [
    "# Load the preprocessed dataset (299 records; with 14 features).\n",
    "data = pd.read_csv(uci.UCIHeartDiseaseDataFile.cleveland_preprocessed, names = uci.get_standard_features())\n",
    "print(f'Data shape: {data.shape}.')\n",
    "data.head(3)"
   ],
   "id": "b56fe2f0b56e8fd7",
   "outputs": [],
   "execution_count": null
  },
  {
   "metadata": {},
   "cell_type": "markdown",
   "source": "### Parameters for SVM",
   "id": "7190a84cd8056e45"
  },
  {
   "metadata": {},
   "cell_type": "code",
   "source": [
    "# Verbose variable for log inspection.\n",
    "verbose = False\n",
    "\n",
    "# Dictionary to hold hyperparameters for grid search.\n",
    "parameters = dict()\n",
    "# The function to measure the quality of a split\n",
    "parameters['criterion'] = ['gini', 'entropy']\n",
    "# Class Weight\n",
    "parameters['class_weight'] = ['balanced', 'dict']\n",
    "\n",
    "# Number of trees in random forest\n",
    "parameters['n_estimators'] = arange(200, 1000, 100)\n",
    "\n",
    "# Number of features to consider at every split\n",
    "parameters['max_features'] = ['auto', 'sqrt']\n",
    "\n",
    "# Maximum number of levels in tree\n",
    "parameters['max_depth'] = arange(10, 110, 10)\n",
    "\n",
    "# Minimum number of samples required to split a node\n",
    "parameters['min_samples_split'] = [2, 5, 10]\n",
    "\n",
    "# Minimum number of samples required at each leaf node\n",
    "parameters['min_samples_leaf'] = [1, 2, 4]\n",
    "\n",
    "# Method of selecting samples for training each tree\n",
    "parameters['bootstrap'] = [True, False]\n",
    "\n",
    "\n",
    "# A stratified K fold for cross validation strategy - values are assigned from the global class.\n",
    "skfolds = StratifiedKFold(n_splits = ev.kfold_n_split,\n",
    "                          shuffle = ev.kfold_shuffle,\n",
    "                          random_state = ev.random_state)\n",
    "\n",
    "# Reset accuracies for SVM\n",
    "ev.accuracies = {}"
   ],
   "id": "dda875d83e7b6c7c",
   "outputs": [],
   "execution_count": null
  },
  {
   "metadata": {},
   "cell_type": "markdown",
   "source": "### Base Model (Function)",
   "id": "562faf4bcc050eb6"
  },
  {
   "metadata": {},
   "cell_type": "code",
   "source": [
    "reload(ev)\n",
    "# A function to build base model.\n",
    "# Acknowledgement: Code was referenced from Prof. Mafas Raheem's AML lab-8.\n",
    "def build_and_validate_base_model(x_set, y_set, test_name):\n",
    "    # Calls the evaluation helper module to Scale and do train/test split.\n",
    "    x_train, x_test, y_train, y_test = ev.scale_and_split(x_set, y_set)\n",
    "\n",
    "    print(f'\\nEvaluation name: {test_name}.')\n",
    "\n",
    "    # Train the model with training set.\n",
    "    rf= RandomForestClassifier(verbose=verbose)\n",
    "    rf.fit(x_train, y_train)\n",
    "\n",
    "    # Display the best hyperparameters and score.\n",
    "    print(f'Params         :{ rf.get_params()}.')\n",
    "\n",
    "    # Do prediction with the train model.\n",
    "    y_pred = rf.predict(x_test)\n",
    "\n",
    "    # Calls the evaluation helper module to display classification-report, confusion-matrix and ROC curve\n",
    "    ev.display_validation_report(y_test, y_pred, x_test, rf, test_name)"
   ],
   "id": "13d54e478f9733b5",
   "outputs": [],
   "execution_count": null
  },
  {
   "metadata": {},
   "cell_type": "markdown",
   "source": "### Grid Search CV (Function)",
   "id": "4f046cd4ab0bbe3f"
  },
  {
   "metadata": {},
   "cell_type": "code",
   "source": [
    "reload(ev)\n",
    "# A function to build and fine tune model using GridSearchCV.\n",
    "# Acknowledgement: Code was referenced from Prof. Mafas Raheem's AML lab-10.\n",
    "def build_and_validate_with_grid_search_cv(x_set, y_set, test_name):\n",
    "    # Calls the evaluation helper module to Scale and do train/test split.\n",
    "    x_train, x_test, y_train, y_test = ev.scale_and_split(x_set, y_set)\n",
    "\n",
    "    print(f'\\nEvaluation name: {test_name}.')\n",
    "\n",
    "    rf= RandomForestClassifier(verbose=verbose)\n",
    "\n",
    "    ## Building Grid Search algorithm with cross-validation and acc score.\n",
    "    grid_scv = GridSearchCV(rf, parameters, scoring='accuracy', cv=skfolds)\n",
    "\n",
    "    # Train and discover the model's hyperparameters for optimal result.\n",
    "    grid_scv.fit(x_train,y_train)\n",
    "\n",
    "    # Display the best hyperparameters and score.\n",
    "    print(f'Best params          :{grid_scv.best_params_}.')\n",
    "    print(f'Best score (*mean)   :{grid_scv.best_score_}.')\n",
    "\n",
    "    # Predict using the trained model.\n",
    "    y_pred = grid_scv.predict(x_test)\n",
    "\n",
    "    # Calls the evaluation helper module to display classification-report, confusion-matrix and ROC curve\n",
    "    ev.display_validation_report(y_test, y_pred, x_test, grid_scv, test_name)"
   ],
   "id": "708dd7e8caed6ca5",
   "outputs": [],
   "execution_count": null
  },
  {
   "metadata": {},
   "cell_type": "markdown",
   "source": "### Random Search CV (Function)",
   "id": "b41571812e0534b0"
  },
  {
   "metadata": {},
   "cell_type": "code",
   "source": [
    "reload(ev)\n",
    "# A function to build and fine tune model using RandomSearchCV.\n",
    "# Acknowledgement: Code was referenced from Prof. Mafas Raheem's AML lab-10.\n",
    "def build_and_validate_with_random_search_cv(x_set, y_set, test_name):\n",
    "    # Calls the evaluation helper module to Scale and do train/test split.\n",
    "    x_train, x_test, y_train, y_test = ev.scale_and_split(x_set, y_set)\n",
    "\n",
    "    print(f'\\nEvaluation name: {test_name}.')\n",
    "\n",
    "    rf = RandomForestClassifier(verbose=verbose)\n",
    "\n",
    "    ## Building Random Search algorithm with cross-validation and acc score.\n",
    "    rand_scv = RandomizedSearchCV(rf, parameters, scoring='accuracy', cv=skfolds)\n",
    "\n",
    "    # Train and discover the model's hyperparameters for optimal result.\n",
    "    rand_scv.fit(x_train,y_train)\n",
    "\n",
    "    # Display the best hyperparameters and score.\n",
    "    print(f'Best params :{rand_scv.best_params_}.')\n",
    "    print(f'Best score  :{rand_scv.best_score_}.')\n",
    "\n",
    "    # Predict using the trained model.\n",
    "    y_pred = rand_scv.predict(x_test)\n",
    "\n",
    "    # Calls the evaluation helper module to display classification-report, confusion-matrix and ROC curve\n",
    "    ev.display_validation_report(y_test, y_pred, x_test, rand_scv, test_name)"
   ],
   "id": "f7f51728763c42b2",
   "outputs": [],
   "execution_count": null
  },
  {
   "metadata": {},
   "cell_type": "markdown",
   "source": "## Evaluation with Standard Dataset (without over-sampling)",
   "id": "411bab791d873c1d"
  },
  {
   "metadata": {},
   "cell_type": "markdown",
   "source": "### Data Preparation",
   "id": "5117a44a9e3e1e14"
  },
  {
   "metadata": {
    "ExecuteTime": {
     "end_time": "2024-12-27T09:27:24.402752Z",
     "start_time": "2024-12-27T09:27:24.399938Z"
    }
   },
   "cell_type": "code",
   "source": [
    "# Prepare features and target variables.\n",
    "X = data.drop(uci.UCIHeartDiseaseData.target, axis=1)\n",
    "y = data[uci.UCIHeartDiseaseData.target]"
   ],
   "id": "2e7bbc3fb749dc84",
   "outputs": [],
   "execution_count": 10
  },
  {
   "metadata": {
    "ExecuteTime": {
     "end_time": "2024-12-27T09:27:26.101818Z",
     "start_time": "2024-12-27T09:27:25.962438Z"
    }
   },
   "cell_type": "code",
   "source": [
    "# Evaluation: Standard Base\n",
    "build_and_validate_base_model(X, y,ev.EvaluationType.std_base)"
   ],
   "id": "fa3dec4ac3dbc8c1",
   "outputs": [
    {
     "name": "stdout",
     "output_type": "stream",
     "text": [
      "\n",
      "Evaluation name: std-base.\n",
      "Params         :{'bootstrap': True, 'ccp_alpha': 0.0, 'class_weight': None, 'criterion': 'gini', 'max_depth': None, 'max_features': 'sqrt', 'max_leaf_nodes': None, 'max_samples': None, 'min_impurity_decrease': 0.0, 'min_samples_leaf': 1, 'min_samples_split': 2, 'min_weight_fraction_leaf': 0.0, 'monotonic_cst': None, 'n_estimators': 100, 'n_jobs': None, 'oob_score': False, 'random_state': None, 'verbose': False, 'warm_start': False}.\n",
      "\n",
      "Classification Report\n",
      "              precision    recall  f1-score   support\n",
      "\n",
      "           0       0.85      0.91      0.88        32\n",
      "           1       0.88      0.82      0.85        28\n",
      "\n",
      "    accuracy                           0.87        60\n",
      "   macro avg       0.87      0.86      0.87        60\n",
      "weighted avg       0.87      0.87      0.87        60\n",
      "\n",
      "\n",
      "Confusion Matrix\n"
     ]
    },
    {
     "data": {
      "text/plain": [
       "<Figure size 300x300 with 1 Axes>"
      ],
      "image/png": "[encoded data removed]"
     },
     "metadata": {},
     "output_type": "display_data"
    },
    {
     "data": {
      "text/plain": [
       "<Figure size 640x480 with 1 Axes>"
      ],
      "image/png": "[encoded data removed]"
     },
     "metadata": {},
     "output_type": "display_data"
    }
   ],
   "execution_count": 11
  },
  {
   "metadata": {
    "jupyter": {
     "is_executing": true
    },
    "ExecuteTime": {
     "start_time": "2024-12-27T09:27:29.396302Z"
    }
   },
   "cell_type": "code",
   "source": [
    "# Evaluation: Standard Grid Search CV\n",
    "build_and_validate_with_grid_search_cv(X, y, ev.EvaluationType.std_grid_search_cv)"
   ],
   "id": "5ff133659b50a6f4",
   "outputs": [
    {
     "name": "stdout",
     "output_type": "stream",
     "text": [
      "\n",
      "Evaluation name: std-grid-scv.\n"
     ]
    }
   ],
   "execution_count": null
  },
  {
   "metadata": {},
   "cell_type": "code",
   "source": [
    "# Evaluation: Standard Random Search CV\n",
    "build_and_validate_with_random_search_cv(X, y, ev.EvaluationType.std_random_search_cv)"
   ],
   "id": "37bee9ea660bce7f",
   "outputs": [],
   "execution_count": null
  },
  {
   "metadata": {},
   "cell_type": "code",
   "source": "print(ev.accuracies)",
   "id": "46a53d7088d81e90",
   "outputs": [],
   "execution_count": null
  },
  {
   "metadata": {},
   "cell_type": "markdown",
   "source": "## Evaluation with Over-sampled Dataset",
   "id": "36476ad66e0ed040"
  },
  {
   "metadata": {},
   "cell_type": "markdown",
   "source": "### Data Preparation and Over-sampling",
   "id": "bc4aaf4ceca7c794"
  },
  {
   "metadata": {},
   "cell_type": "code",
   "source": [
    "# Prepare features and target variables.\n",
    "X = data.drop(uci.UCIHeartDiseaseData.target, axis=1)\n",
    "y = data[uci.UCIHeartDiseaseData.target]\n",
    "\n",
    "# Perform over-sampling with SMOTE\n",
    "X_b, y_b = SMOTE().fit_resample(X, y)\n",
    "print(f'Classes before over-sampling :{Counter(data[uci.UCIHeartDiseaseData.target])}.')\n",
    "print(f'Classes after over-sampling  :{Counter(y_b)}.')"
   ],
   "id": "b6294d37456edbd7",
   "outputs": [],
   "execution_count": null
  },
  {
   "metadata": {},
   "cell_type": "code",
   "source": [
    "# Before over-sampling\n",
    "plt.subplots(figsize=(5,5))\n",
    "sns.countplot(x=data[uci.UCIHeartDiseaseData.target])\n",
    "\n",
    "# After over-sampling\n",
    "plt.subplots(figsize=(5,5))\n",
    "sns.countplot(x=y_b)"
   ],
   "id": "32ad6c2c1c2a9796",
   "outputs": [],
   "execution_count": null
  },
  {
   "metadata": {},
   "cell_type": "code",
   "source": [
    "# Evaluation: Over-sampled Base\n",
    "build_and_validate_base_model(X_b, y_b,ev.EvaluationType.os_base)"
   ],
   "id": "388a8e475befd119",
   "outputs": [],
   "execution_count": null
  },
  {
   "metadata": {},
   "cell_type": "code",
   "source": [
    "# Evaluation: Over-sampled Grid Search CV\n",
    "build_and_validate_with_grid_search_cv(X_b, y_b, ev.EvaluationType.os_grid_search_cv)"
   ],
   "id": "c7cca0fd48de349d",
   "outputs": [],
   "execution_count": null
  },
  {
   "metadata": {},
   "cell_type": "code",
   "source": [
    "# Evaluation: Over-sampled Random Search CV\n",
    "build_and_validate_with_random_search_cv(X_b, y_b, ev.EvaluationType.os_random_search_cv)"
   ],
   "id": "357c4277d918393d",
   "outputs": [],
   "execution_count": null
  },
  {
   "metadata": {},
   "cell_type": "code",
   "source": "print(ev.accuracies)",
   "id": "3629168643044700",
   "outputs": [],
   "execution_count": null
  },
  {
   "metadata": {},
   "cell_type": "markdown",
   "source": "## Conclusion",
   "id": "5fbb3decbf32b3da"
  },
  {
   "metadata": {},
   "cell_type": "code",
   "source": [
    "plt.bar(range(len(ev.accuracies)), list(ev.accuracies.values()), align='center')\n",
    "plt.xticks(range(len(ev.accuracies)), list(ev.accuracies.keys()))\n",
    "\n",
    "plt.show()"
   ],
   "id": "42ec4ae45974874a",
   "outputs": [],
   "execution_count": null
  },
  {
   "metadata": {},
   "cell_type": "code",
   "source": [
    "### Register the highest in global\n",
    "ev.global_accuracies['SVM'] = 87"
   ],
   "id": "5c5750b2ab2fd8d1",
   "outputs": [],
   "execution_count": null
  }
 ],
 "metadata": {
  "kernelspec": {
   "display_name": "Python 3",
   "language": "python",
   "name": "python3"
  },
  "language_info": {
   "codemirror_mode": {
    "name": "ipython",
    "version": 2
   },
   "file_extension": ".py",
   "mimetype": "text/x-python",
   "name": "python",
   "nbconvert_exporter": "python",
   "pygments_lexer": "ipython2",
   "version": "2.7.6"
  }
 },
 "nbformat": 4,
 "nbformat_minor": 5
}
