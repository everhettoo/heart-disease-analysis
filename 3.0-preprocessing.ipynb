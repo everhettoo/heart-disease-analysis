{
 "cells": [
  {
   "cell_type": "code",
   "id": "initial_id",
   "metadata": {
    "collapsed": true
   },
   "source": [
    "# All required libraries.\n",
    "import pandas as pd\n",
    "import matplotlib.pyplot as plt\n",
    "import seaborn as sns\n",
    "from custom_libs import helper\n",
    "from importlib import reload\n",
    "import numpy as np"
   ],
   "outputs": [],
   "execution_count": null
  },
  {
   "metadata": {},
   "cell_type": "code",
   "source": [
    "df = pd.read_csv('data/uci-heart-disease/processed.cleveland-cleansed.data')\n",
    "# 303 records and 14 columns.\n",
    "df.head(5)"
   ],
   "id": "de2ee6262a90c91c",
   "outputs": [],
   "execution_count": null
  },
  {
   "metadata": {},
   "cell_type": "code",
   "source": [
    "# From the data-dictionary, we can observe that only 'oldpeak' is in float format. Other data can be changed from float to int.\n",
    "df['age'] = df['age'].astype('int')\n",
    "df['sex'] = df['sex'].astype('int')\n",
    "df['cp'] = df['cp'].astype('int')\n",
    "df['trestbps'] = df['trestbps'].astype('int')\n",
    "df['chol'] = df['chol'].astype('int')\n",
    "df['fbs'] = df['fbs'].astype('int')\n",
    "df['restecg'] = df['restecg'].astype('int')\n",
    "df['thalach'] = df['thalach'].astype('int')\n",
    "df['exang'] = df['exang'].astype('int')\n",
    "df['slope'] = df['slope'].astype('int')\n",
    "df['ca'] = df['ca'].astype('int')\n",
    "df['thal'] = df['ca'].astype('int')"
   ],
   "id": "2170809f25d53874",
   "outputs": [],
   "execution_count": null
  },
  {
   "metadata": {},
   "cell_type": "code",
   "source": "df.head(5)",
   "id": "5ae73caa813e7a91",
   "outputs": [],
   "execution_count": null
  },
  {
   "metadata": {},
   "cell_type": "code",
   "source": "df.describe().round(2)",
   "id": "fdce6a7e7e1330e0",
   "outputs": [],
   "execution_count": null
  },
  {
   "metadata": {},
   "cell_type": "code",
   "source": [
    "key = 'ca'\n",
    "df[key].value_counts()"
   ],
   "id": "9fd31e4520a16289",
   "outputs": [],
   "execution_count": null
  },
  {
   "metadata": {},
   "cell_type": "markdown",
   "source": [
    "### Quantitative variables are analyzed for Gaussian distribution:\n",
    "- age\n",
    "- trestbps\n",
    "- chol\n",
    "- thalach\n",
    "- oldpeak"
   ],
   "id": "5396b6bddb6190a3"
  },
  {
   "metadata": {
    "ExecuteTime": {
     "end_time": "2024-12-19T04:51:35.301166Z",
     "start_time": "2024-12-19T04:51:35.234473Z"
    }
   },
   "cell_type": "code",
   "source": [
    "# Gaussian distribution is used to analyze quantitative data: age, trestbps, chol, thalach, oldpeak\n",
    "key = 'age'\n",
    "sns.histplot(df[key], kde=True, color='darksalmon', edgecolor='grey', alpha=0.7)\n",
    "plt.title('Histogram with Density Curve')\n",
    "plt.xlabel(key)\n",
    "plt.ylabel('Density')\n",
    "plt.grid(axis='y', linestyle='--', alpha=0.7)\n",
    "plt.show()"
   ],
   "id": "d354f608ce99eb00",
   "outputs": [
    {
     "data": {
      "text/plain": [
       "<Figure size 640x480 with 1 Axes>"
      ],
      "image/png": "[encoded data removed]"
     },
     "metadata": {},
     "output_type": "display_data"
    }
   ],
   "execution_count": 74
  },
  {
   "metadata": {},
   "cell_type": "code",
   "source": [
    "X = df.drop('target', axis=1)\n",
    "y = df['target']"
   ],
   "id": "82e9a5995ee65178",
   "outputs": [],
   "execution_count": null
  },
  {
   "metadata": {},
   "cell_type": "markdown",
   "source": "## Normalization - data doesn't follow Gaussian distribution",
   "id": "9ce39bfdbffc66d4"
  },
  {
   "metadata": {},
   "cell_type": "code",
   "source": [
    "from sklearn.preprocessing import MinMaxScaler\n",
    "scaler = MinMaxScaler()\n",
    "scaler.fit(X)\n",
    "normalized= scaler.transform(X)\n",
    "normalized"
   ],
   "id": "c8b3597ed383a32a",
   "outputs": [],
   "execution_count": null
  },
  {
   "metadata": {},
   "cell_type": "code",
   "outputs": [],
   "execution_count": null,
   "source": [
    "cols = df.columns.tolist()\n",
    "cols.remove('target')\n",
    "df2 = pd.DataFrame(normalized, columns=cols)\n",
    "df2.head(5)"
   ],
   "id": "cb7f9ca35a9585ab"
  },
  {
   "metadata": {},
   "cell_type": "markdown",
   "source": "## Standardization - data follows Gaussian distribution",
   "id": "ef0af57b8f74cc7c"
  },
  {
   "metadata": {
    "ExecuteTime": {
     "end_time": "2024-12-19T04:49:48.931961Z",
     "start_time": "2024-12-19T04:49:48.926105Z"
    }
   },
   "cell_type": "code",
   "source": [
    "# Feature Scaling\n",
    "from sklearn.preprocessing import StandardScaler\n",
    "scaler = StandardScaler()\n",
    "standardized = scaler.fit_transform(X)\n",
    "standardized"
   ],
   "id": "29d5e456ac79d2b",
   "outputs": [
    {
     "data": {
      "text/plain": [
       "array([[ 0.93618065,  0.69109474, -2.24062879, ...,  2.26414539,\n",
       "        -0.72197605, -0.72197605],\n",
       "       [ 1.3789285 ,  0.69109474,  0.87388018, ...,  0.6437811 ,\n",
       "         2.47842525,  2.47842525],\n",
       "       [ 1.3789285 ,  0.69109474,  0.87388018, ...,  0.6437811 ,\n",
       "         1.41162482,  1.41162482],\n",
       "       ...,\n",
       "       [ 1.48961547,  0.69109474,  0.87388018, ...,  0.6437811 ,\n",
       "         1.41162482,  1.41162482],\n",
       "       [ 0.27205887,  0.69109474,  0.87388018, ...,  0.6437811 ,\n",
       "         0.34482438,  0.34482438],\n",
       "       [ 0.27205887, -1.44697961, -1.20245913, ...,  0.6437811 ,\n",
       "         0.34482438,  0.34482438]])"
      ]
     },
     "execution_count": 70,
     "metadata": {},
     "output_type": "execute_result"
    }
   ],
   "execution_count": 70
  },
  {
   "metadata": {
    "ExecuteTime": {
     "end_time": "2024-12-19T04:50:29.847551Z",
     "start_time": "2024-12-19T04:50:29.840207Z"
    }
   },
   "cell_type": "code",
   "source": [
    "cols = df.columns.tolist()\n",
    "cols.remove('target')\n",
    "df2 = pd.DataFrame(standardized, columns=cols)\n",
    "df2.head(5)"
   ],
   "id": "f9aad353c5f4453",
   "outputs": [
    {
     "data": {
      "text/plain": [
       "        age       sex        cp  trestbps      chol       fbs   restecg  \\\n",
       "0  0.936181  0.691095 -2.240629  0.750380 -0.276443  2.430427  1.010199   \n",
       "1  1.378929  0.691095  0.873880  1.596266  0.744555 -0.411450  1.010199   \n",
       "2  1.378929  0.691095  0.873880 -0.659431 -0.353500 -0.411450  1.010199   \n",
       "3 -1.941680  0.691095 -0.164289 -0.095506  0.051047 -0.411450 -1.003419   \n",
       "4 -1.498933 -1.446980 -1.202459 -0.095506 -0.835103 -0.411450  1.010199   \n",
       "\n",
       "    thalach     exang   oldpeak     slope        ca      thal  \n",
       "0  0.017494 -0.696419  1.068965  2.264145 -0.721976 -0.721976  \n",
       "1 -1.816334  1.435916  0.381773  0.643781  2.478425  2.478425  \n",
       "2 -0.899420  1.435916  1.326662  0.643781  1.411625  1.411625  \n",
       "3  1.633010 -0.696419  2.099753  2.264145 -0.721976 -0.721976  \n",
       "4  0.978071 -0.696419  0.295874 -0.976583 -0.721976 -0.721976  "
      ],
      "text/html": [
       "<div>\n",
       "<style scoped>\n",
       "    .dataframe tbody tr th:only-of-type {\n",
       "        vertical-align: middle;\n",
       "    }\n",
       "\n",
       "    .dataframe tbody tr th {\n",
       "        vertical-align: top;\n",
       "    }\n",
       "\n",
       "    .dataframe thead th {\n",
       "        text-align: right;\n",
       "    }\n",
       "</style>\n",
       "<table border=\"1\" class=\"dataframe\">\n",
       "  <thead>\n",
       "    <tr style=\"text-align: right;\">\n",
       "      <th></th>\n",
       "      <th>age</th>\n",
       "      <th>sex</th>\n",
       "      <th>cp</th>\n",
       "      <th>trestbps</th>\n",
       "      <th>chol</th>\n",
       "      <th>fbs</th>\n",
       "      <th>restecg</th>\n",
       "      <th>thalach</th>\n",
       "      <th>exang</th>\n",
       "      <th>oldpeak</th>\n",
       "      <th>slope</th>\n",
       "      <th>ca</th>\n",
       "      <th>thal</th>\n",
       "    </tr>\n",
       "  </thead>\n",
       "  <tbody>\n",
       "    <tr>\n",
       "      <th>0</th>\n",
       "      <td>0.936181</td>\n",
       "      <td>0.691095</td>\n",
       "      <td>-2.240629</td>\n",
       "      <td>0.750380</td>\n",
       "      <td>-0.276443</td>\n",
       "      <td>2.430427</td>\n",
       "      <td>1.010199</td>\n",
       "      <td>0.017494</td>\n",
       "      <td>-0.696419</td>\n",
       "      <td>1.068965</td>\n",
       "      <td>2.264145</td>\n",
       "      <td>-0.721976</td>\n",
       "      <td>-0.721976</td>\n",
       "    </tr>\n",
       "    <tr>\n",
       "      <th>1</th>\n",
       "      <td>1.378929</td>\n",
       "      <td>0.691095</td>\n",
       "      <td>0.873880</td>\n",
       "      <td>1.596266</td>\n",
       "      <td>0.744555</td>\n",
       "      <td>-0.411450</td>\n",
       "      <td>1.010199</td>\n",
       "      <td>-1.816334</td>\n",
       "      <td>1.435916</td>\n",
       "      <td>0.381773</td>\n",
       "      <td>0.643781</td>\n",
       "      <td>2.478425</td>\n",
       "      <td>2.478425</td>\n",
       "    </tr>\n",
       "    <tr>\n",
       "      <th>2</th>\n",
       "      <td>1.378929</td>\n",
       "      <td>0.691095</td>\n",
       "      <td>0.873880</td>\n",
       "      <td>-0.659431</td>\n",
       "      <td>-0.353500</td>\n",
       "      <td>-0.411450</td>\n",
       "      <td>1.010199</td>\n",
       "      <td>-0.899420</td>\n",
       "      <td>1.435916</td>\n",
       "      <td>1.326662</td>\n",
       "      <td>0.643781</td>\n",
       "      <td>1.411625</td>\n",
       "      <td>1.411625</td>\n",
       "    </tr>\n",
       "    <tr>\n",
       "      <th>3</th>\n",
       "      <td>-1.941680</td>\n",
       "      <td>0.691095</td>\n",
       "      <td>-0.164289</td>\n",
       "      <td>-0.095506</td>\n",
       "      <td>0.051047</td>\n",
       "      <td>-0.411450</td>\n",
       "      <td>-1.003419</td>\n",
       "      <td>1.633010</td>\n",
       "      <td>-0.696419</td>\n",
       "      <td>2.099753</td>\n",
       "      <td>2.264145</td>\n",
       "      <td>-0.721976</td>\n",
       "      <td>-0.721976</td>\n",
       "    </tr>\n",
       "    <tr>\n",
       "      <th>4</th>\n",
       "      <td>-1.498933</td>\n",
       "      <td>-1.446980</td>\n",
       "      <td>-1.202459</td>\n",
       "      <td>-0.095506</td>\n",
       "      <td>-0.835103</td>\n",
       "      <td>-0.411450</td>\n",
       "      <td>1.010199</td>\n",
       "      <td>0.978071</td>\n",
       "      <td>-0.696419</td>\n",
       "      <td>0.295874</td>\n",
       "      <td>-0.976583</td>\n",
       "      <td>-0.721976</td>\n",
       "      <td>-0.721976</td>\n",
       "    </tr>\n",
       "  </tbody>\n",
       "</table>\n",
       "</div>"
      ]
     },
     "execution_count": 71,
     "metadata": {},
     "output_type": "execute_result"
    }
   ],
   "execution_count": 71
  },
  {
   "metadata": {
    "ExecuteTime": {
     "end_time": "2024-12-19T04:51:25.176957Z",
     "start_time": "2024-12-19T04:51:25.106390Z"
    }
   },
   "cell_type": "code",
   "source": [
    "key = 'age'\n",
    "sns.histplot(df2[key], kde=True, color='darksalmon', edgecolor='grey', alpha=0.7)\n",
    "plt.title('Histogram with Density Curve')\n",
    "plt.xlabel(key)\n",
    "plt.ylabel('Density')\n",
    "plt.grid(axis='y', linestyle='--', alpha=0.7)\n",
    "plt.show()"
   ],
   "id": "dcf299db17eb8034",
   "outputs": [
    {
     "data": {
      "text/plain": [
       "<Figure size 640x480 with 1 Axes>"
      ],
      "image/png": "[encoded data removed]"
     },
     "metadata": {},
     "output_type": "display_data"
    }
   ],
   "execution_count": 73
  },
  {
   "metadata": {},
   "cell_type": "code",
   "source": "",
   "id": "4074ac2e201e49dd",
   "outputs": [],
   "execution_count": null
  }
 ],
 "metadata": {
  "kernelspec": {
   "display_name": "Python 3",
   "language": "python",
   "name": "python3"
  },
  "language_info": {
   "codemirror_mode": {
    "name": "ipython",
    "version": 2
   },
   "file_extension": ".py",
   "mimetype": "text/x-python",
   "name": "python",
   "nbconvert_exporter": "python",
   "pygments_lexer": "ipython2",
   "version": "2.7.6"
  }
 },
 "nbformat": 4,
 "nbformat_minor": 5
}
