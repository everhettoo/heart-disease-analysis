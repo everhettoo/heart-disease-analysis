{
 "cells": [
  {
   "metadata": {},
   "cell_type": "markdown",
   "source": [
    "# Objective\n",
    "Now we have data that was cleaned and recovered (2 records) in `processed.cleveland-cleansed.data` file.\n",
    "\n",
    "In this notebook, we are going to validate and scrutinize the data again for model building."
   ],
   "id": "9b88b09a16a215d4"
  },
  {
   "cell_type": "code",
   "id": "initial_id",
   "metadata": {
    "collapsed": true
   },
   "source": [
    "# All required libraries.\n",
    "import pandas as pd\n",
    "import matplotlib.pyplot as plt\n",
    "import seaborn as sns\n",
    "from custom_libs import helper\n",
    "from importlib import reload\n",
    "import numpy as np\n",
    "import models.uci_heart_disease_dataset as uci"
   ],
   "outputs": [],
   "execution_count": null
  },
  {
   "metadata": {
    "ExecuteTime": {
     "end_time": "2024-12-24T14:04:11.156308Z",
     "start_time": "2024-12-24T14:04:11.146726Z"
    }
   },
   "cell_type": "code",
   "source": [
    "df = pd.read_csv(uci.UCIHeartDiseaseDataFile.cleveland_cleansed, names = uci.get_standard_features())\n",
    "df.head(5)"
   ],
   "id": "de2ee6262a90c91c",
   "outputs": [
    {
     "data": {
      "text/plain": [
       "    Age  Gender  Chest Pain  BP Systolic  Cholesterol  Blood Sugar  Rest ECG  \\\n",
       "0  63.0     1.0         1.0        145.0        233.0          1.0       2.0   \n",
       "1  67.0     1.0         4.0        160.0        286.0          0.0       2.0   \n",
       "2  67.0     1.0         4.0        120.0        229.0          0.0       2.0   \n",
       "3  37.0     1.0         3.0        130.0        250.0          0.0       0.0   \n",
       "4  41.0     0.0         2.0        130.0        204.0          0.0       2.0   \n",
       "\n",
       "   Exe. Max Heartrate  Exe. Induced Angina  Exe. ST Depression  \\\n",
       "0               150.0                  0.0                 2.3   \n",
       "1               108.0                  1.0                 1.5   \n",
       "2               129.0                  1.0                 2.6   \n",
       "3               187.0                  0.0                 3.5   \n",
       "4               172.0                  0.0                 1.4   \n",
       "\n",
       "   Exe. ST Segment Slope  Major Vessels  Thalassemia  Target  \n",
       "0                    3.0            0.0          6.0       0  \n",
       "1                    2.0            3.0          3.0       1  \n",
       "2                    2.0            2.0          7.0       1  \n",
       "3                    3.0            0.0          3.0       0  \n",
       "4                    1.0            0.0          3.0       0  "
      ],
      "text/html": [
       "<div>\n",
       "<style scoped>\n",
       "    .dataframe tbody tr th:only-of-type {\n",
       "        vertical-align: middle;\n",
       "    }\n",
       "\n",
       "    .dataframe tbody tr th {\n",
       "        vertical-align: top;\n",
       "    }\n",
       "\n",
       "    .dataframe thead th {\n",
       "        text-align: right;\n",
       "    }\n",
       "</style>\n",
       "<table border=\"1\" class=\"dataframe\">\n",
       "  <thead>\n",
       "    <tr style=\"text-align: right;\">\n",
       "      <th></th>\n",
       "      <th>Age</th>\n",
       "      <th>Gender</th>\n",
       "      <th>Chest Pain</th>\n",
       "      <th>BP Systolic</th>\n",
       "      <th>Cholesterol</th>\n",
       "      <th>Blood Sugar</th>\n",
       "      <th>Rest ECG</th>\n",
       "      <th>Exe. Max Heartrate</th>\n",
       "      <th>Exe. Induced Angina</th>\n",
       "      <th>Exe. ST Depression</th>\n",
       "      <th>Exe. ST Segment Slope</th>\n",
       "      <th>Major Vessels</th>\n",
       "      <th>Thalassemia</th>\n",
       "      <th>Target</th>\n",
       "    </tr>\n",
       "  </thead>\n",
       "  <tbody>\n",
       "    <tr>\n",
       "      <th>0</th>\n",
       "      <td>63.0</td>\n",
       "      <td>1.0</td>\n",
       "      <td>1.0</td>\n",
       "      <td>145.0</td>\n",
       "      <td>233.0</td>\n",
       "      <td>1.0</td>\n",
       "      <td>2.0</td>\n",
       "      <td>150.0</td>\n",
       "      <td>0.0</td>\n",
       "      <td>2.3</td>\n",
       "      <td>3.0</td>\n",
       "      <td>0.0</td>\n",
       "      <td>6.0</td>\n",
       "      <td>0</td>\n",
       "    </tr>\n",
       "    <tr>\n",
       "      <th>1</th>\n",
       "      <td>67.0</td>\n",
       "      <td>1.0</td>\n",
       "      <td>4.0</td>\n",
       "      <td>160.0</td>\n",
       "      <td>286.0</td>\n",
       "      <td>0.0</td>\n",
       "      <td>2.0</td>\n",
       "      <td>108.0</td>\n",
       "      <td>1.0</td>\n",
       "      <td>1.5</td>\n",
       "      <td>2.0</td>\n",
       "      <td>3.0</td>\n",
       "      <td>3.0</td>\n",
       "      <td>1</td>\n",
       "    </tr>\n",
       "    <tr>\n",
       "      <th>2</th>\n",
       "      <td>67.0</td>\n",
       "      <td>1.0</td>\n",
       "      <td>4.0</td>\n",
       "      <td>120.0</td>\n",
       "      <td>229.0</td>\n",
       "      <td>0.0</td>\n",
       "      <td>2.0</td>\n",
       "      <td>129.0</td>\n",
       "      <td>1.0</td>\n",
       "      <td>2.6</td>\n",
       "      <td>2.0</td>\n",
       "      <td>2.0</td>\n",
       "      <td>7.0</td>\n",
       "      <td>1</td>\n",
       "    </tr>\n",
       "    <tr>\n",
       "      <th>3</th>\n",
       "      <td>37.0</td>\n",
       "      <td>1.0</td>\n",
       "      <td>3.0</td>\n",
       "      <td>130.0</td>\n",
       "      <td>250.0</td>\n",
       "      <td>0.0</td>\n",
       "      <td>0.0</td>\n",
       "      <td>187.0</td>\n",
       "      <td>0.0</td>\n",
       "      <td>3.5</td>\n",
       "      <td>3.0</td>\n",
       "      <td>0.0</td>\n",
       "      <td>3.0</td>\n",
       "      <td>0</td>\n",
       "    </tr>\n",
       "    <tr>\n",
       "      <th>4</th>\n",
       "      <td>41.0</td>\n",
       "      <td>0.0</td>\n",
       "      <td>2.0</td>\n",
       "      <td>130.0</td>\n",
       "      <td>204.0</td>\n",
       "      <td>0.0</td>\n",
       "      <td>2.0</td>\n",
       "      <td>172.0</td>\n",
       "      <td>0.0</td>\n",
       "      <td>1.4</td>\n",
       "      <td>1.0</td>\n",
       "      <td>0.0</td>\n",
       "      <td>3.0</td>\n",
       "      <td>0</td>\n",
       "    </tr>\n",
       "  </tbody>\n",
       "</table>\n",
       "</div>"
      ]
     },
     "execution_count": 23,
     "metadata": {},
     "output_type": "execute_result"
    }
   ],
   "execution_count": 23
  },
  {
   "metadata": {
    "ExecuteTime": {
     "end_time": "2024-12-24T14:04:13.254260Z",
     "start_time": "2024-12-24T14:04:13.250326Z"
    }
   },
   "cell_type": "code",
   "source": [
    "# Let's see the data details.\n",
    "df.info()"
   ],
   "id": "d6e900cebdff5a33",
   "outputs": [
    {
     "name": "stdout",
     "output_type": "stream",
     "text": [
      "<class 'pandas.core.frame.DataFrame'>\n",
      "RangeIndex: 299 entries, 0 to 298\n",
      "Data columns (total 14 columns):\n",
      " #   Column                 Non-Null Count  Dtype  \n",
      "---  ------                 --------------  -----  \n",
      " 0   Age                    299 non-null    float64\n",
      " 1   Gender                 299 non-null    float64\n",
      " 2   Chest Pain             299 non-null    float64\n",
      " 3   BP Systolic            299 non-null    float64\n",
      " 4   Cholesterol            299 non-null    float64\n",
      " 5   Blood Sugar            299 non-null    float64\n",
      " 6   Rest ECG               299 non-null    float64\n",
      " 7   Exe. Max Heartrate     299 non-null    float64\n",
      " 8   Exe. Induced Angina    299 non-null    float64\n",
      " 9   Exe. ST Depression     299 non-null    float64\n",
      " 10  Exe. ST Segment Slope  299 non-null    float64\n",
      " 11  Major Vessels          299 non-null    float64\n",
      " 12  Thalassemia            299 non-null    float64\n",
      " 13  Target                 299 non-null    int64  \n",
      "dtypes: float64(13), int64(1)\n",
      "memory usage: 32.8 KB\n"
     ]
    }
   ],
   "execution_count": 24
  },
  {
   "metadata": {
    "ExecuteTime": {
     "end_time": "2024-12-24T14:04:29.021475Z",
     "start_time": "2024-12-24T14:04:29.015427Z"
    }
   },
   "cell_type": "code",
   "source": [
    "# Based on data-dictionary the following variables are categorical variables converted to integer.\n",
    "# This means, they can be converted to integers from float.\n",
    "df[uci.UCIHeartDiseaseData.age] = df[uci.UCIHeartDiseaseData.age].astype('int')\n",
    "df[uci.UCIHeartDiseaseData.gender] = df[uci.UCIHeartDiseaseData.gender].astype('int')\n",
    "df[uci.UCIHeartDiseaseData.chest_pain] = df[uci.UCIHeartDiseaseData.chest_pain].astype('int')\n",
    "df[uci.UCIHeartDiseaseData.blood_sugar] = df[uci.UCIHeartDiseaseData.blood_sugar].astype('int')\n",
    "df[uci.UCIHeartDiseaseData.rest_ecg] = df[uci.UCIHeartDiseaseData.rest_ecg].astype('int')\n",
    "df[uci.UCIHeartDiseaseData.exe_induced_angina] = df[uci.UCIHeartDiseaseData.exe_induced_angina].astype('int')\n",
    "df[uci.UCIHeartDiseaseData.exe_st_segment_slope] = df[uci.UCIHeartDiseaseData.exe_st_segment_slope].astype('int')\n",
    "df[uci.UCIHeartDiseaseData.major_vessels] = df[uci.UCIHeartDiseaseData.major_vessels].astype('int')\n",
    "df[uci.UCIHeartDiseaseData.thalassemia] = df[uci.UCIHeartDiseaseData.thalassemia].astype('int')\n",
    "df[uci.UCIHeartDiseaseData.target] = df[uci.UCIHeartDiseaseData.target].astype('int')"
   ],
   "id": "6527f024ebb4907e",
   "outputs": [],
   "execution_count": 25
  },
  {
   "metadata": {
    "ExecuteTime": {
     "end_time": "2024-12-24T14:04:32.937229Z",
     "start_time": "2024-12-24T14:04:32.932661Z"
    }
   },
   "cell_type": "code",
   "source": [
    "# Let's investigate the other float variables\n",
    "df.info()"
   ],
   "id": "35054091800a010a",
   "outputs": [
    {
     "name": "stdout",
     "output_type": "stream",
     "text": [
      "<class 'pandas.core.frame.DataFrame'>\n",
      "RangeIndex: 299 entries, 0 to 298\n",
      "Data columns (total 14 columns):\n",
      " #   Column                 Non-Null Count  Dtype  \n",
      "---  ------                 --------------  -----  \n",
      " 0   Age                    299 non-null    int64  \n",
      " 1   Gender                 299 non-null    int64  \n",
      " 2   Chest Pain             299 non-null    int64  \n",
      " 3   BP Systolic            299 non-null    float64\n",
      " 4   Cholesterol            299 non-null    float64\n",
      " 5   Blood Sugar            299 non-null    int64  \n",
      " 6   Rest ECG               299 non-null    int64  \n",
      " 7   Exe. Max Heartrate     299 non-null    float64\n",
      " 8   Exe. Induced Angina    299 non-null    int64  \n",
      " 9   Exe. ST Depression     299 non-null    float64\n",
      " 10  Exe. ST Segment Slope  299 non-null    int64  \n",
      " 11  Major Vessels          299 non-null    int64  \n",
      " 12  Thalassemia            299 non-null    int64  \n",
      " 13  Target                 299 non-null    int64  \n",
      "dtypes: float64(4), int64(10)\n",
      "memory usage: 32.8 KB\n"
     ]
    }
   ],
   "execution_count": 26
  },
  {
   "metadata": {
    "ExecuteTime": {
     "end_time": "2024-12-24T14:04:41.343852Z",
     "start_time": "2024-12-24T14:04:41.338914Z"
    }
   },
   "cell_type": "code",
   "source": "df[uci.UCIHeartDiseaseData.bp_systolic].value_counts()",
   "id": "6e6731c4e5ceeaf8",
   "outputs": [
    {
     "data": {
      "text/plain": [
       "BP Systolic\n",
       "120.0    38\n",
       "130.0    36\n",
       "140.0    32\n",
       "110.0    19\n",
       "150.0    18\n",
       "160.0    11\n",
       "138.0    10\n",
       "128.0    10\n",
       "125.0    10\n",
       "112.0     9\n",
       "132.0     7\n",
       "118.0     7\n",
       "124.0     6\n",
       "108.0     6\n",
       "135.0     6\n",
       "152.0     5\n",
       "134.0     5\n",
       "145.0     5\n",
       "100.0     4\n",
       "170.0     4\n",
       "122.0     4\n",
       "126.0     3\n",
       "136.0     3\n",
       "115.0     3\n",
       "180.0     3\n",
       "142.0     3\n",
       "105.0     3\n",
       "102.0     2\n",
       "146.0     2\n",
       "144.0     2\n",
       "148.0     2\n",
       "178.0     2\n",
       "94.0      2\n",
       "165.0     1\n",
       "123.0     1\n",
       "114.0     1\n",
       "154.0     1\n",
       "156.0     1\n",
       "106.0     1\n",
       "155.0     1\n",
       "172.0     1\n",
       "200.0     1\n",
       "101.0     1\n",
       "129.0     1\n",
       "192.0     1\n",
       "158.0     1\n",
       "104.0     1\n",
       "174.0     1\n",
       "117.0     1\n",
       "164.0     1\n",
       "Name: count, dtype: int64"
      ]
     },
     "execution_count": 27,
     "metadata": {},
     "output_type": "execute_result"
    }
   ],
   "execution_count": 27
  },
  {
   "metadata": {
    "ExecuteTime": {
     "end_time": "2024-12-24T14:04:48.943235Z",
     "start_time": "2024-12-24T14:04:48.940515Z"
    }
   },
   "cell_type": "code",
   "source": [
    "# Yes, systolic won't have floating point. So convert to int.\n",
    "df[uci.UCIHeartDiseaseData.bp_systolic] = df[uci.UCIHeartDiseaseData.bp_systolic].astype('int')"
   ],
   "id": "aa3032498f3bc547",
   "outputs": [],
   "execution_count": 28
  },
  {
   "metadata": {
    "ExecuteTime": {
     "end_time": "2024-12-24T14:04:54.331586Z",
     "start_time": "2024-12-24T14:04:54.326996Z"
    }
   },
   "cell_type": "code",
   "source": [
    "# Logically cholesterol reading can be in decimals. So, we let it be though all data are integers.\n",
    "df[uci.UCIHeartDiseaseData.cholesterol].value_counts()"
   ],
   "id": "97b0776c3db5ae6e",
   "outputs": [
    {
     "data": {
      "text/plain": [
       "Cholesterol\n",
       "197.0    6\n",
       "234.0    6\n",
       "269.0    5\n",
       "204.0    5\n",
       "212.0    5\n",
       "        ..\n",
       "175.0    1\n",
       "417.0    1\n",
       "281.0    1\n",
       "174.0    1\n",
       "100.0    1\n",
       "Name: count, Length: 153, dtype: int64"
      ]
     },
     "execution_count": 29,
     "metadata": {},
     "output_type": "execute_result"
    }
   ],
   "execution_count": 29
  },
  {
   "metadata": {
    "ExecuteTime": {
     "end_time": "2024-12-24T14:05:08.251343Z",
     "start_time": "2024-12-24T14:05:08.246840Z"
    }
   },
   "cell_type": "code",
   "source": "df[uci.UCIHeartDiseaseData.exe_max_heartrate].value_counts()",
   "id": "ec1d1a8ac4679318",
   "outputs": [
    {
     "data": {
      "text/plain": [
       "Exe. Max Heartrate\n",
       "162.0    11\n",
       "160.0     9\n",
       "163.0     9\n",
       "152.0     8\n",
       "150.0     7\n",
       "         ..\n",
       "128.0     1\n",
       "188.0     1\n",
       "113.0     1\n",
       "99.0      1\n",
       "98.0      1\n",
       "Name: count, Length: 92, dtype: int64"
      ]
     },
     "execution_count": 30,
     "metadata": {},
     "output_type": "execute_result"
    }
   ],
   "execution_count": 30
  },
  {
   "metadata": {
    "ExecuteTime": {
     "end_time": "2024-12-24T14:05:15.032343Z",
     "start_time": "2024-12-24T14:05:15.029496Z"
    }
   },
   "cell_type": "code",
   "source": [
    "# Heart rate won't have decimals.\n",
    "df[uci.UCIHeartDiseaseData.exe_max_heartrate] = df[uci.UCIHeartDiseaseData.exe_max_heartrate].astype('int')"
   ],
   "id": "cdac754524c2239c",
   "outputs": [],
   "execution_count": 31
  },
  {
   "metadata": {
    "ExecuteTime": {
     "end_time": "2024-12-24T14:05:23.115855Z",
     "start_time": "2024-12-24T14:05:23.110959Z"
    }
   },
   "cell_type": "code",
   "source": "df[uci.UCIHeartDiseaseData.exe_st_depression].value_counts()",
   "id": "51c146bba5cf3347",
   "outputs": [
    {
     "data": {
      "text/plain": [
       "Exe. ST Depression\n",
       "0.0    96\n",
       "1.2    17\n",
       "0.6    14\n",
       "1.4    13\n",
       "0.8    13\n",
       "1.0    13\n",
       "0.2    12\n",
       "1.6    11\n",
       "1.8    10\n",
       "2.0     9\n",
       "0.4     8\n",
       "1.5     7\n",
       "0.1     6\n",
       "2.8     6\n",
       "2.6     6\n",
       "1.9     5\n",
       "0.5     5\n",
       "3.0     5\n",
       "3.6     4\n",
       "2.2     4\n",
       "3.4     3\n",
       "0.9     3\n",
       "2.4     3\n",
       "0.3     3\n",
       "4.0     3\n",
       "1.1     2\n",
       "4.2     2\n",
       "2.3     2\n",
       "2.5     2\n",
       "3.2     2\n",
       "5.6     1\n",
       "2.9     1\n",
       "6.2     1\n",
       "2.1     1\n",
       "1.3     1\n",
       "3.1     1\n",
       "3.8     1\n",
       "0.7     1\n",
       "3.5     1\n",
       "4.4     1\n",
       "Name: count, dtype: int64"
      ]
     },
     "execution_count": 32,
     "metadata": {},
     "output_type": "execute_result"
    }
   ],
   "execution_count": 32
  },
  {
   "metadata": {
    "ExecuteTime": {
     "end_time": "2024-12-24T14:05:27.505636Z",
     "start_time": "2024-12-24T14:05:27.499574Z"
    }
   },
   "cell_type": "code",
   "source": "df.head(5)",
   "id": "5ae73caa813e7a91",
   "outputs": [
    {
     "data": {
      "text/plain": [
       "   Age  Gender  Chest Pain  BP Systolic  Cholesterol  Blood Sugar  Rest ECG  \\\n",
       "0   63       1           1          145        233.0            1         2   \n",
       "1   67       1           4          160        286.0            0         2   \n",
       "2   67       1           4          120        229.0            0         2   \n",
       "3   37       1           3          130        250.0            0         0   \n",
       "4   41       0           2          130        204.0            0         2   \n",
       "\n",
       "   Exe. Max Heartrate  Exe. Induced Angina  Exe. ST Depression  \\\n",
       "0                 150                    0                 2.3   \n",
       "1                 108                    1                 1.5   \n",
       "2                 129                    1                 2.6   \n",
       "3                 187                    0                 3.5   \n",
       "4                 172                    0                 1.4   \n",
       "\n",
       "   Exe. ST Segment Slope  Major Vessels  Thalassemia  Target  \n",
       "0                      3              0            6       0  \n",
       "1                      2              3            3       1  \n",
       "2                      2              2            7       1  \n",
       "3                      3              0            3       0  \n",
       "4                      1              0            3       0  "
      ],
      "text/html": [
       "<div>\n",
       "<style scoped>\n",
       "    .dataframe tbody tr th:only-of-type {\n",
       "        vertical-align: middle;\n",
       "    }\n",
       "\n",
       "    .dataframe tbody tr th {\n",
       "        vertical-align: top;\n",
       "    }\n",
       "\n",
       "    .dataframe thead th {\n",
       "        text-align: right;\n",
       "    }\n",
       "</style>\n",
       "<table border=\"1\" class=\"dataframe\">\n",
       "  <thead>\n",
       "    <tr style=\"text-align: right;\">\n",
       "      <th></th>\n",
       "      <th>Age</th>\n",
       "      <th>Gender</th>\n",
       "      <th>Chest Pain</th>\n",
       "      <th>BP Systolic</th>\n",
       "      <th>Cholesterol</th>\n",
       "      <th>Blood Sugar</th>\n",
       "      <th>Rest ECG</th>\n",
       "      <th>Exe. Max Heartrate</th>\n",
       "      <th>Exe. Induced Angina</th>\n",
       "      <th>Exe. ST Depression</th>\n",
       "      <th>Exe. ST Segment Slope</th>\n",
       "      <th>Major Vessels</th>\n",
       "      <th>Thalassemia</th>\n",
       "      <th>Target</th>\n",
       "    </tr>\n",
       "  </thead>\n",
       "  <tbody>\n",
       "    <tr>\n",
       "      <th>0</th>\n",
       "      <td>63</td>\n",
       "      <td>1</td>\n",
       "      <td>1</td>\n",
       "      <td>145</td>\n",
       "      <td>233.0</td>\n",
       "      <td>1</td>\n",
       "      <td>2</td>\n",
       "      <td>150</td>\n",
       "      <td>0</td>\n",
       "      <td>2.3</td>\n",
       "      <td>3</td>\n",
       "      <td>0</td>\n",
       "      <td>6</td>\n",
       "      <td>0</td>\n",
       "    </tr>\n",
       "    <tr>\n",
       "      <th>1</th>\n",
       "      <td>67</td>\n",
       "      <td>1</td>\n",
       "      <td>4</td>\n",
       "      <td>160</td>\n",
       "      <td>286.0</td>\n",
       "      <td>0</td>\n",
       "      <td>2</td>\n",
       "      <td>108</td>\n",
       "      <td>1</td>\n",
       "      <td>1.5</td>\n",
       "      <td>2</td>\n",
       "      <td>3</td>\n",
       "      <td>3</td>\n",
       "      <td>1</td>\n",
       "    </tr>\n",
       "    <tr>\n",
       "      <th>2</th>\n",
       "      <td>67</td>\n",
       "      <td>1</td>\n",
       "      <td>4</td>\n",
       "      <td>120</td>\n",
       "      <td>229.0</td>\n",
       "      <td>0</td>\n",
       "      <td>2</td>\n",
       "      <td>129</td>\n",
       "      <td>1</td>\n",
       "      <td>2.6</td>\n",
       "      <td>2</td>\n",
       "      <td>2</td>\n",
       "      <td>7</td>\n",
       "      <td>1</td>\n",
       "    </tr>\n",
       "    <tr>\n",
       "      <th>3</th>\n",
       "      <td>37</td>\n",
       "      <td>1</td>\n",
       "      <td>3</td>\n",
       "      <td>130</td>\n",
       "      <td>250.0</td>\n",
       "      <td>0</td>\n",
       "      <td>0</td>\n",
       "      <td>187</td>\n",
       "      <td>0</td>\n",
       "      <td>3.5</td>\n",
       "      <td>3</td>\n",
       "      <td>0</td>\n",
       "      <td>3</td>\n",
       "      <td>0</td>\n",
       "    </tr>\n",
       "    <tr>\n",
       "      <th>4</th>\n",
       "      <td>41</td>\n",
       "      <td>0</td>\n",
       "      <td>2</td>\n",
       "      <td>130</td>\n",
       "      <td>204.0</td>\n",
       "      <td>0</td>\n",
       "      <td>2</td>\n",
       "      <td>172</td>\n",
       "      <td>0</td>\n",
       "      <td>1.4</td>\n",
       "      <td>1</td>\n",
       "      <td>0</td>\n",
       "      <td>3</td>\n",
       "      <td>0</td>\n",
       "    </tr>\n",
       "  </tbody>\n",
       "</table>\n",
       "</div>"
      ]
     },
     "execution_count": 33,
     "metadata": {},
     "output_type": "execute_result"
    }
   ],
   "execution_count": 33
  },
  {
   "metadata": {
    "ExecuteTime": {
     "end_time": "2024-12-24T14:33:13.230285Z",
     "start_time": "2024-12-24T14:33:13.225840Z"
    }
   },
   "cell_type": "code",
   "source": [
    "# Check for duplicate records.\n",
    "duplicate = df[df.duplicated()]\n",
    "duplicate"
   ],
   "id": "e07f7abc532d48e",
   "outputs": [
    {
     "data": {
      "text/plain": [
       "Empty DataFrame\n",
       "Columns: [Age, Gender, Chest Pain, BP Systolic, Cholesterol, Blood Sugar, Rest ECG, Exe. Max Heartrate, Exe. Induced Angina, Exe. ST Depression, Exe. ST Segment Slope, Major Vessels, Thalassemia, Target]\n",
       "Index: []"
      ],
      "text/html": [
       "<div>\n",
       "<style scoped>\n",
       "    .dataframe tbody tr th:only-of-type {\n",
       "        vertical-align: middle;\n",
       "    }\n",
       "\n",
       "    .dataframe tbody tr th {\n",
       "        vertical-align: top;\n",
       "    }\n",
       "\n",
       "    .dataframe thead th {\n",
       "        text-align: right;\n",
       "    }\n",
       "</style>\n",
       "<table border=\"1\" class=\"dataframe\">\n",
       "  <thead>\n",
       "    <tr style=\"text-align: right;\">\n",
       "      <th></th>\n",
       "      <th>Age</th>\n",
       "      <th>Gender</th>\n",
       "      <th>Chest Pain</th>\n",
       "      <th>BP Systolic</th>\n",
       "      <th>Cholesterol</th>\n",
       "      <th>Blood Sugar</th>\n",
       "      <th>Rest ECG</th>\n",
       "      <th>Exe. Max Heartrate</th>\n",
       "      <th>Exe. Induced Angina</th>\n",
       "      <th>Exe. ST Depression</th>\n",
       "      <th>Exe. ST Segment Slope</th>\n",
       "      <th>Major Vessels</th>\n",
       "      <th>Thalassemia</th>\n",
       "      <th>Target</th>\n",
       "    </tr>\n",
       "  </thead>\n",
       "  <tbody>\n",
       "  </tbody>\n",
       "</table>\n",
       "</div>"
      ]
     },
     "execution_count": 41,
     "metadata": {},
     "output_type": "execute_result"
    }
   ],
   "execution_count": 41
  },
  {
   "metadata": {
    "ExecuteTime": {
     "end_time": "2024-12-24T14:33:21.091010Z",
     "start_time": "2024-12-24T14:33:21.087525Z"
    }
   },
   "cell_type": "code",
   "source": "df[uci.UCIHeartDiseaseData.target].value_counts()",
   "id": "4074ac2e201e49dd",
   "outputs": [
    {
     "data": {
      "text/plain": [
       "Target\n",
       "0    160\n",
       "1    139\n",
       "Name: count, dtype: int64"
      ]
     },
     "execution_count": 42,
     "metadata": {},
     "output_type": "execute_result"
    }
   ],
   "execution_count": 42
  },
  {
   "metadata": {
    "ExecuteTime": {
     "end_time": "2024-12-24T14:33:23.379995Z",
     "start_time": "2024-12-24T14:33:23.375788Z"
    }
   },
   "cell_type": "code",
   "source": [
    "# Normalized value counts - result shows, class with '1' has slightly more records.\n",
    "df[uci.UCIHeartDiseaseData.target].value_counts(normalize=True)"
   ],
   "id": "9f82998844dc066e",
   "outputs": [
    {
     "data": {
      "text/plain": [
       "Target\n",
       "0    0.535117\n",
       "1    0.464883\n",
       "Name: proportion, dtype: float64"
      ]
     },
     "execution_count": 43,
     "metadata": {},
     "output_type": "execute_result"
    }
   ],
   "execution_count": 43
  },
  {
   "metadata": {
    "ExecuteTime": {
     "end_time": "2024-12-24T14:37:43.836351Z",
     "start_time": "2024-12-24T14:37:43.827617Z"
    }
   },
   "cell_type": "code",
   "source": [
    "plt.subplots(figsize=(5,5))\n",
    "sns.countplot(x=df[uci.UCIHeartDiseaseData.target])"
   ],
   "id": "6e8155897707da19",
   "outputs": [
    {
     "data": {
      "text/plain": [
       "     Age  Gender  Chest Pain  BP Systolic  Cholesterol  Blood Sugar  Rest ECG  \\\n",
       "0     63       1           1          145        233.0            1         2   \n",
       "1     67       1           4          160        286.0            0         2   \n",
       "2     67       1           4          120        229.0            0         2   \n",
       "3     37       1           3          130        250.0            0         0   \n",
       "4     41       0           2          130        204.0            0         2   \n",
       "..   ...     ...         ...          ...          ...          ...       ...   \n",
       "294   68       1           4          144        193.0            1         0   \n",
       "295   57       1           4          130        131.0            0         0   \n",
       "296   57       0           2          130        236.0            0         2   \n",
       "297   56       1           4          120        100.0            0         0   \n",
       "298   47       1           4          150        226.0            0         0   \n",
       "\n",
       "     Exe. Max Heartrate  Exe. Induced Angina  Exe. ST Depression  \\\n",
       "0                   150                    0                 2.3   \n",
       "1                   108                    1                 1.5   \n",
       "2                   129                    1                 2.6   \n",
       "3                   187                    0                 3.5   \n",
       "4                   172                    0                 1.4   \n",
       "..                  ...                  ...                 ...   \n",
       "294                 141                    0                 3.4   \n",
       "295                 115                    1                 1.2   \n",
       "296                 174                    0                 0.0   \n",
       "297                 120                    1                 1.5   \n",
       "298                  98                    1                 1.5   \n",
       "\n",
       "     Exe. ST Segment Slope  Major Vessels  Thalassemia  Target  \n",
       "0                        3              0            6       0  \n",
       "1                        2              3            3       1  \n",
       "2                        2              2            7       1  \n",
       "3                        3              0            3       0  \n",
       "4                        1              0            3       0  \n",
       "..                     ...            ...          ...     ...  \n",
       "294                      2              2            7       1  \n",
       "295                      2              1            7       1  \n",
       "296                      2              1            3       1  \n",
       "297                      2              0            7       1  \n",
       "298                      2              0            7       1  \n",
       "\n",
       "[299 rows x 14 columns]"
      ],
      "text/html": [
       "<div>\n",
       "<style scoped>\n",
       "    .dataframe tbody tr th:only-of-type {\n",
       "        vertical-align: middle;\n",
       "    }\n",
       "\n",
       "    .dataframe tbody tr th {\n",
       "        vertical-align: top;\n",
       "    }\n",
       "\n",
       "    .dataframe thead th {\n",
       "        text-align: right;\n",
       "    }\n",
       "</style>\n",
       "<table border=\"1\" class=\"dataframe\">\n",
       "  <thead>\n",
       "    <tr style=\"text-align: right;\">\n",
       "      <th></th>\n",
       "      <th>Age</th>\n",
       "      <th>Gender</th>\n",
       "      <th>Chest Pain</th>\n",
       "      <th>BP Systolic</th>\n",
       "      <th>Cholesterol</th>\n",
       "      <th>Blood Sugar</th>\n",
       "      <th>Rest ECG</th>\n",
       "      <th>Exe. Max Heartrate</th>\n",
       "      <th>Exe. Induced Angina</th>\n",
       "      <th>Exe. ST Depression</th>\n",
       "      <th>Exe. ST Segment Slope</th>\n",
       "      <th>Major Vessels</th>\n",
       "      <th>Thalassemia</th>\n",
       "      <th>Target</th>\n",
       "    </tr>\n",
       "  </thead>\n",
       "  <tbody>\n",
       "    <tr>\n",
       "      <th>0</th>\n",
       "      <td>63</td>\n",
       "      <td>1</td>\n",
       "      <td>1</td>\n",
       "      <td>145</td>\n",
       "      <td>233.0</td>\n",
       "      <td>1</td>\n",
       "      <td>2</td>\n",
       "      <td>150</td>\n",
       "      <td>0</td>\n",
       "      <td>2.3</td>\n",
       "      <td>3</td>\n",
       "      <td>0</td>\n",
       "      <td>6</td>\n",
       "      <td>0</td>\n",
       "    </tr>\n",
       "    <tr>\n",
       "      <th>1</th>\n",
       "      <td>67</td>\n",
       "      <td>1</td>\n",
       "      <td>4</td>\n",
       "      <td>160</td>\n",
       "      <td>286.0</td>\n",
       "      <td>0</td>\n",
       "      <td>2</td>\n",
       "      <td>108</td>\n",
       "      <td>1</td>\n",
       "      <td>1.5</td>\n",
       "      <td>2</td>\n",
       "      <td>3</td>\n",
       "      <td>3</td>\n",
       "      <td>1</td>\n",
       "    </tr>\n",
       "    <tr>\n",
       "      <th>2</th>\n",
       "      <td>67</td>\n",
       "      <td>1</td>\n",
       "      <td>4</td>\n",
       "      <td>120</td>\n",
       "      <td>229.0</td>\n",
       "      <td>0</td>\n",
       "      <td>2</td>\n",
       "      <td>129</td>\n",
       "      <td>1</td>\n",
       "      <td>2.6</td>\n",
       "      <td>2</td>\n",
       "      <td>2</td>\n",
       "      <td>7</td>\n",
       "      <td>1</td>\n",
       "    </tr>\n",
       "    <tr>\n",
       "      <th>3</th>\n",
       "      <td>37</td>\n",
       "      <td>1</td>\n",
       "      <td>3</td>\n",
       "      <td>130</td>\n",
       "      <td>250.0</td>\n",
       "      <td>0</td>\n",
       "      <td>0</td>\n",
       "      <td>187</td>\n",
       "      <td>0</td>\n",
       "      <td>3.5</td>\n",
       "      <td>3</td>\n",
       "      <td>0</td>\n",
       "      <td>3</td>\n",
       "      <td>0</td>\n",
       "    </tr>\n",
       "    <tr>\n",
       "      <th>4</th>\n",
       "      <td>41</td>\n",
       "      <td>0</td>\n",
       "      <td>2</td>\n",
       "      <td>130</td>\n",
       "      <td>204.0</td>\n",
       "      <td>0</td>\n",
       "      <td>2</td>\n",
       "      <td>172</td>\n",
       "      <td>0</td>\n",
       "      <td>1.4</td>\n",
       "      <td>1</td>\n",
       "      <td>0</td>\n",
       "      <td>3</td>\n",
       "      <td>0</td>\n",
       "    </tr>\n",
       "    <tr>\n",
       "      <th>...</th>\n",
       "      <td>...</td>\n",
       "      <td>...</td>\n",
       "      <td>...</td>\n",
       "      <td>...</td>\n",
       "      <td>...</td>\n",
       "      <td>...</td>\n",
       "      <td>...</td>\n",
       "      <td>...</td>\n",
       "      <td>...</td>\n",
       "      <td>...</td>\n",
       "      <td>...</td>\n",
       "      <td>...</td>\n",
       "      <td>...</td>\n",
       "      <td>...</td>\n",
       "    </tr>\n",
       "    <tr>\n",
       "      <th>294</th>\n",
       "      <td>68</td>\n",
       "      <td>1</td>\n",
       "      <td>4</td>\n",
       "      <td>144</td>\n",
       "      <td>193.0</td>\n",
       "      <td>1</td>\n",
       "      <td>0</td>\n",
       "      <td>141</td>\n",
       "      <td>0</td>\n",
       "      <td>3.4</td>\n",
       "      <td>2</td>\n",
       "      <td>2</td>\n",
       "      <td>7</td>\n",
       "      <td>1</td>\n",
       "    </tr>\n",
       "    <tr>\n",
       "      <th>295</th>\n",
       "      <td>57</td>\n",
       "      <td>1</td>\n",
       "      <td>4</td>\n",
       "      <td>130</td>\n",
       "      <td>131.0</td>\n",
       "      <td>0</td>\n",
       "      <td>0</td>\n",
       "      <td>115</td>\n",
       "      <td>1</td>\n",
       "      <td>1.2</td>\n",
       "      <td>2</td>\n",
       "      <td>1</td>\n",
       "      <td>7</td>\n",
       "      <td>1</td>\n",
       "    </tr>\n",
       "    <tr>\n",
       "      <th>296</th>\n",
       "      <td>57</td>\n",
       "      <td>0</td>\n",
       "      <td>2</td>\n",
       "      <td>130</td>\n",
       "      <td>236.0</td>\n",
       "      <td>0</td>\n",
       "      <td>2</td>\n",
       "      <td>174</td>\n",
       "      <td>0</td>\n",
       "      <td>0.0</td>\n",
       "      <td>2</td>\n",
       "      <td>1</td>\n",
       "      <td>3</td>\n",
       "      <td>1</td>\n",
       "    </tr>\n",
       "    <tr>\n",
       "      <th>297</th>\n",
       "      <td>56</td>\n",
       "      <td>1</td>\n",
       "      <td>4</td>\n",
       "      <td>120</td>\n",
       "      <td>100.0</td>\n",
       "      <td>0</td>\n",
       "      <td>0</td>\n",
       "      <td>120</td>\n",
       "      <td>1</td>\n",
       "      <td>1.5</td>\n",
       "      <td>2</td>\n",
       "      <td>0</td>\n",
       "      <td>7</td>\n",
       "      <td>1</td>\n",
       "    </tr>\n",
       "    <tr>\n",
       "      <th>298</th>\n",
       "      <td>47</td>\n",
       "      <td>1</td>\n",
       "      <td>4</td>\n",
       "      <td>150</td>\n",
       "      <td>226.0</td>\n",
       "      <td>0</td>\n",
       "      <td>0</td>\n",
       "      <td>98</td>\n",
       "      <td>1</td>\n",
       "      <td>1.5</td>\n",
       "      <td>2</td>\n",
       "      <td>0</td>\n",
       "      <td>7</td>\n",
       "      <td>1</td>\n",
       "    </tr>\n",
       "  </tbody>\n",
       "</table>\n",
       "<p>299 rows × 14 columns</p>\n",
       "</div>"
      ]
     },
     "execution_count": 46,
     "metadata": {},
     "output_type": "execute_result"
    }
   ],
   "execution_count": 46
  },
  {
   "metadata": {
    "ExecuteTime": {
     "end_time": "2024-12-24T14:42:42.358479Z",
     "start_time": "2024-12-24T14:42:42.353510Z"
    }
   },
   "cell_type": "code",
   "source": [
    "reload(uci)\n",
    "# Save as 'processed.cleveland-preprocessed.data' file - ready for model building.\n",
    "df.to_csv(uci.UCIHeartDiseaseDataFile.cleveland_preprocessed, header=False, index=False)"
   ],
   "id": "2051f1e379088b35",
   "outputs": [],
   "execution_count": 49
  }
 ],
 "metadata": {
  "kernelspec": {
   "display_name": "Python 3",
   "language": "python",
   "name": "python3"
  },
  "language_info": {
   "codemirror_mode": {
    "name": "ipython",
    "version": 2
   },
   "file_extension": ".py",
   "mimetype": "text/x-python",
   "name": "python",
   "nbconvert_exporter": "python",
   "pygments_lexer": "ipython2",
   "version": "2.7.6"
  }
 },
 "nbformat": 4,
 "nbformat_minor": 5
}
