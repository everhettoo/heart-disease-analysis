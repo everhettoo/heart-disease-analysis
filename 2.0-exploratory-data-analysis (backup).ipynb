{
 "cells": [
  {
   "metadata": {},
   "cell_type": "markdown",
   "source": [
    "# Objective\n",
    "Before building ML models using the UCI Heart-Disease dataset, the following questions are to be clarified in this stage (data exploration).\n",
    "1. What problem needs solving?\n",
    "2. What data the dataset contains?\n",
    "3. Which feature appears more important than the other?\n",
    "4. What is the expected outcome?\n",
    "\n",
    "Once, these questions are clarified, we can proceed to next stage."
   ],
   "id": "f0eb4ade433a0269"
  },
  {
   "metadata": {
    "ExecuteTime": {
     "end_time": "2024-12-24T10:10:23.345428Z",
     "start_time": "2024-12-24T10:10:23.342993Z"
    }
   },
   "cell_type": "code",
   "source": [
    "# Load required libraries.\n",
    "import pandas as pd\n",
    "import matplotlib.pyplot as plt;\n",
    "import seaborn as sns;\n",
    "from custom_libs import helper\n",
    "from importlib import reload\n",
    "import numpy as np\n",
    "import models.uci_heart_disease_dataset as uci\n",
    "from models.uci_heart_disease_dataset import UCIHeartDiseaseData"
   ],
   "id": "8f21e87a43621955",
   "outputs": [],
   "execution_count": 54
  },
  {
   "cell_type": "code",
   "id": "890749f0a123e02b",
   "metadata": {
    "ExecuteTime": {
     "end_time": "2024-12-24T10:10:25.322009Z",
     "start_time": "2024-12-24T10:10:25.310917Z"
    }
   },
   "source": [
    "reload(uci)\n",
    "# The 'uci_heart_disease_dataset' library was created to handle UCI dataset related matters.\n",
    "# The 'get_standard_features' method returns meaningful names in list[] and can be used in dataframe header.\n",
    "data = pd.read_csv(uci.UCIHeartDiseaseDataFile.cleveland_processed, names=uci.get_standard_features())\n",
    "\n",
    "# 303 records and 14 columns.\n",
    "data.head(5)"
   ],
   "outputs": [
    {
     "data": {
      "text/plain": [
       "    Age  Gender  Chest Pain  BP Systolic  Cholesterol  Blood Sugar  Rest ECG  \\\n",
       "0  63.0     1.0         1.0        145.0        233.0          1.0       2.0   \n",
       "1  67.0     1.0         4.0        160.0        286.0          0.0       2.0   \n",
       "2  67.0     1.0         4.0        120.0        229.0          0.0       2.0   \n",
       "3  37.0     1.0         3.0        130.0        250.0          0.0       0.0   \n",
       "4  41.0     0.0         2.0        130.0        204.0          0.0       2.0   \n",
       "\n",
       "   Exe. Max Heartrate  Exe. Induced Angina  Exe. ST Depression  \\\n",
       "0               150.0                  0.0                 2.3   \n",
       "1               108.0                  1.0                 1.5   \n",
       "2               129.0                  1.0                 2.6   \n",
       "3               187.0                  0.0                 3.5   \n",
       "4               172.0                  0.0                 1.4   \n",
       "\n",
       "   Exe. ST Segment Slope Major Vessels Thalassemia  Target  \n",
       "0                    3.0           0.0         6.0       0  \n",
       "1                    2.0           3.0         3.0       2  \n",
       "2                    2.0           2.0         7.0       1  \n",
       "3                    3.0           0.0         3.0       0  \n",
       "4                    1.0           0.0         3.0       0  "
      ],
      "text/html": [
       "<div>\n",
       "<style scoped>\n",
       "    .dataframe tbody tr th:only-of-type {\n",
       "        vertical-align: middle;\n",
       "    }\n",
       "\n",
       "    .dataframe tbody tr th {\n",
       "        vertical-align: top;\n",
       "    }\n",
       "\n",
       "    .dataframe thead th {\n",
       "        text-align: right;\n",
       "    }\n",
       "</style>\n",
       "<table border=\"1\" class=\"dataframe\">\n",
       "  <thead>\n",
       "    <tr style=\"text-align: right;\">\n",
       "      <th></th>\n",
       "      <th>Age</th>\n",
       "      <th>Gender</th>\n",
       "      <th>Chest Pain</th>\n",
       "      <th>BP Systolic</th>\n",
       "      <th>Cholesterol</th>\n",
       "      <th>Blood Sugar</th>\n",
       "      <th>Rest ECG</th>\n",
       "      <th>Exe. Max Heartrate</th>\n",
       "      <th>Exe. Induced Angina</th>\n",
       "      <th>Exe. ST Depression</th>\n",
       "      <th>Exe. ST Segment Slope</th>\n",
       "      <th>Major Vessels</th>\n",
       "      <th>Thalassemia</th>\n",
       "      <th>Target</th>\n",
       "    </tr>\n",
       "  </thead>\n",
       "  <tbody>\n",
       "    <tr>\n",
       "      <th>0</th>\n",
       "      <td>63.0</td>\n",
       "      <td>1.0</td>\n",
       "      <td>1.0</td>\n",
       "      <td>145.0</td>\n",
       "      <td>233.0</td>\n",
       "      <td>1.0</td>\n",
       "      <td>2.0</td>\n",
       "      <td>150.0</td>\n",
       "      <td>0.0</td>\n",
       "      <td>2.3</td>\n",
       "      <td>3.0</td>\n",
       "      <td>0.0</td>\n",
       "      <td>6.0</td>\n",
       "      <td>0</td>\n",
       "    </tr>\n",
       "    <tr>\n",
       "      <th>1</th>\n",
       "      <td>67.0</td>\n",
       "      <td>1.0</td>\n",
       "      <td>4.0</td>\n",
       "      <td>160.0</td>\n",
       "      <td>286.0</td>\n",
       "      <td>0.0</td>\n",
       "      <td>2.0</td>\n",
       "      <td>108.0</td>\n",
       "      <td>1.0</td>\n",
       "      <td>1.5</td>\n",
       "      <td>2.0</td>\n",
       "      <td>3.0</td>\n",
       "      <td>3.0</td>\n",
       "      <td>2</td>\n",
       "    </tr>\n",
       "    <tr>\n",
       "      <th>2</th>\n",
       "      <td>67.0</td>\n",
       "      <td>1.0</td>\n",
       "      <td>4.0</td>\n",
       "      <td>120.0</td>\n",
       "      <td>229.0</td>\n",
       "      <td>0.0</td>\n",
       "      <td>2.0</td>\n",
       "      <td>129.0</td>\n",
       "      <td>1.0</td>\n",
       "      <td>2.6</td>\n",
       "      <td>2.0</td>\n",
       "      <td>2.0</td>\n",
       "      <td>7.0</td>\n",
       "      <td>1</td>\n",
       "    </tr>\n",
       "    <tr>\n",
       "      <th>3</th>\n",
       "      <td>37.0</td>\n",
       "      <td>1.0</td>\n",
       "      <td>3.0</td>\n",
       "      <td>130.0</td>\n",
       "      <td>250.0</td>\n",
       "      <td>0.0</td>\n",
       "      <td>0.0</td>\n",
       "      <td>187.0</td>\n",
       "      <td>0.0</td>\n",
       "      <td>3.5</td>\n",
       "      <td>3.0</td>\n",
       "      <td>0.0</td>\n",
       "      <td>3.0</td>\n",
       "      <td>0</td>\n",
       "    </tr>\n",
       "    <tr>\n",
       "      <th>4</th>\n",
       "      <td>41.0</td>\n",
       "      <td>0.0</td>\n",
       "      <td>2.0</td>\n",
       "      <td>130.0</td>\n",
       "      <td>204.0</td>\n",
       "      <td>0.0</td>\n",
       "      <td>2.0</td>\n",
       "      <td>172.0</td>\n",
       "      <td>0.0</td>\n",
       "      <td>1.4</td>\n",
       "      <td>1.0</td>\n",
       "      <td>0.0</td>\n",
       "      <td>3.0</td>\n",
       "      <td>0</td>\n",
       "    </tr>\n",
       "  </tbody>\n",
       "</table>\n",
       "</div>"
      ]
     },
     "execution_count": 55,
     "metadata": {},
     "output_type": "execute_result"
    }
   ],
   "execution_count": 55
  },
  {
   "metadata": {},
   "cell_type": "markdown",
   "source": [
    "# 1. What problem needs solving?\n",
    "<b>Classify</b> - whether a patient has heart disease based on his/her medical data.\n",
    "\n",
    "At a glance, it appears to be binary classification problem.\\\n",
    "From the data-dictionary, `Target` is the candidate for the classification. Let's investigate the variable's supportability for <u>binary classification</u> problem."
   ],
   "id": "322ef85552d321e8"
  },
  {
   "metadata": {
    "ExecuteTime": {
     "end_time": "2024-12-24T10:10:31.034895Z",
     "start_time": "2024-12-24T10:10:31.031102Z"
    }
   },
   "cell_type": "code",
   "source": [
    "# Let's see what the 'Target' variable is made of.\n",
    "data.info()"
   ],
   "id": "cc0d8512f6a6ebce",
   "outputs": [
    {
     "name": "stdout",
     "output_type": "stream",
     "text": [
      "<class 'pandas.core.frame.DataFrame'>\n",
      "RangeIndex: 303 entries, 0 to 302\n",
      "Data columns (total 14 columns):\n",
      " #   Column                 Non-Null Count  Dtype  \n",
      "---  ------                 --------------  -----  \n",
      " 0   Age                    303 non-null    float64\n",
      " 1   Gender                 303 non-null    float64\n",
      " 2   Chest Pain             303 non-null    float64\n",
      " 3   BP Systolic            303 non-null    float64\n",
      " 4   Cholesterol            303 non-null    float64\n",
      " 5   Blood Sugar            303 non-null    float64\n",
      " 6   Rest ECG               303 non-null    float64\n",
      " 7   Exe. Max Heartrate     303 non-null    float64\n",
      " 8   Exe. Induced Angina    303 non-null    float64\n",
      " 9   Exe. ST Depression     303 non-null    float64\n",
      " 10  Exe. ST Segment Slope  303 non-null    float64\n",
      " 11  Major Vessels          303 non-null    object \n",
      " 12  Thalassemia            303 non-null    object \n",
      " 13  Target                 303 non-null    int64  \n",
      "dtypes: float64(11), int64(1), object(2)\n",
      "memory usage: 33.3+ KB\n"
     ]
    }
   ],
   "execution_count": 56
  },
  {
   "metadata": {
    "ExecuteTime": {
     "end_time": "2024-12-24T10:10:33.952628Z",
     "start_time": "2024-12-24T10:10:33.949452Z"
    }
   },
   "cell_type": "code",
   "source": [
    "# From the above, it appears that 'Target' variable has integer data-type.\n",
    "# Let's investigate further if the integer values are in binary class (1 and 0).\n",
    "data[uci.UCIHeartDiseaseData.target].value_counts()"
   ],
   "id": "e25a1afb0b274595",
   "outputs": [
    {
     "data": {
      "text/plain": [
       "Target\n",
       "0    164\n",
       "1     55\n",
       "2     36\n",
       "3     35\n",
       "4     13\n",
       "Name: count, dtype: int64"
      ]
     },
     "execution_count": 57,
     "metadata": {},
     "output_type": "execute_result"
    }
   ],
   "execution_count": 57
  },
  {
   "metadata": {},
   "cell_type": "markdown",
   "source": [
    "### Observation:\n",
    "The `Target` variable cannot support binary classification since it has more than 2 values/classes.\n",
    "\n",
    "If we understood the original intention from the [data-dictionary](1.0-introduction.ipynb) and the literature:\n",
    "- Any patient with less than 50% vessel narrowing was marked as `value: 0` -- no heart disease\n",
    "- Any patient with more than 50% vessel narrowing was marked as `value: 1` -- has heart disease. This was further expanded to 1, 2, 3 and 4 based on affected major vessel.\n",
    "\n",
    "### Conclusion:\n",
    "We can safely convert this to a binary classification problem by replacing any values of target variable other than `0` to `1`. This logically simplifies that any patient with vessel narrowing more than 50% is suspected to have heart-disease (without distorting the original meaning much)."
   ],
   "id": "20a1761f4ac8c562"
  },
  {
   "metadata": {
    "ExecuteTime": {
     "end_time": "2024-12-24T10:10:39.050579Z",
     "start_time": "2024-12-24T10:10:39.046086Z"
    }
   },
   "cell_type": "code",
   "source": [
    "# Convert any values in target variable other than `0` to `1` - to support binary classification problem.\n",
    "# The sum of 1, 2, 3 and 4 classes should total up to 55 + 36 + 35 + 13 = 139.\n",
    "data.loc[data[uci.UCIHeartDiseaseData.target]!=0,uci.UCIHeartDiseaseData.target]=1\n",
    "data[uci.UCIHeartDiseaseData.target].value_counts()"
   ],
   "id": "cd010bc96be740b2",
   "outputs": [
    {
     "data": {
      "text/plain": [
       "Target\n",
       "0    164\n",
       "1    139\n",
       "Name: count, dtype: int64"
      ]
     },
     "execution_count": 58,
     "metadata": {},
     "output_type": "execute_result"
    }
   ],
   "execution_count": 58
  },
  {
   "metadata": {},
   "cell_type": "markdown",
   "source": [
    "## 2. What data-types the dataset contains?\n",
    "We got the basic idea about the data types from the [data-dictionary](1.0-introduction.ipynb). let's investigate and verify further the content."
   ],
   "id": "14e49292b4c2276e"
  },
  {
   "metadata": {},
   "cell_type": "code",
   "source": [
    "# The dictionary indicated all processed data is in numerical format. Let's investigate.\n",
    "data.info()"
   ],
   "id": "24c19fe43fa345cf",
   "outputs": [],
   "execution_count": null
  },
  {
   "metadata": {},
   "cell_type": "code",
   "source": [
    "# There are 11 numerical (float and int) data, and two objects ('Major Vessels' and 'Thalassemia'). This 2 objects were not documented in data-dictionary.\n",
    "# Let's check if there are for missing values (isnull/isna checks for None, NaN or NaT (datetime)).\n",
    "data.isnull().sum()"
   ],
   "id": "b982da583552187b",
   "outputs": [],
   "execution_count": null
  },
  {
   "metadata": {
    "ExecuteTime": {
     "end_time": "2024-12-24T10:10:48.708287Z",
     "start_time": "2024-12-24T10:10:48.704468Z"
    }
   },
   "cell_type": "code",
   "source": [
    "# Result shows no missing values. But why the data types for 'Major Vessels' and 'Thalassemia' are not numeric as indicated by data-dictionary?\n",
    "# Let's investigate further the two objects manually, to identify the missing values.\n",
    "for item in uci.get_standard_features():\n",
    "    d = data[item]\n",
    "    if d.dtype == 'object':\n",
    "        print(data[item].value_counts())"
   ],
   "id": "656a0cbe191c5d0c",
   "outputs": [
    {
     "name": "stdout",
     "output_type": "stream",
     "text": [
      "Major Vessels\n",
      "0.0    176\n",
      "1.0     65\n",
      "2.0     38\n",
      "3.0     20\n",
      "?        4\n",
      "Name: count, dtype: int64\n",
      "Thalassemia\n",
      "3.0    166\n",
      "7.0    117\n",
      "6.0     18\n",
      "?        2\n",
      "Name: count, dtype: int64\n"
     ]
    }
   ],
   "execution_count": 59
  },
  {
   "metadata": {
    "ExecuteTime": {
     "end_time": "2024-12-24T10:10:53.079332Z",
     "start_time": "2024-12-24T10:10:53.075213Z"
    }
   },
   "cell_type": "code",
   "source": [
    "# 'Major Vessels' and 'Thalassemia' should be numerical. However, it is marked as '?'.\n",
    "# Let's investigate further on Thalassemia.\n",
    "data[uci.UCIHeartDiseaseData.thalassemia].value_counts()"
   ],
   "id": "44d78aae31062295",
   "outputs": [
    {
     "data": {
      "text/plain": [
       "Thalassemia\n",
       "3.0    166\n",
       "7.0    117\n",
       "6.0     18\n",
       "?        2\n",
       "Name: count, dtype: int64"
      ]
     },
     "execution_count": 60,
     "metadata": {},
     "output_type": "execute_result"
    }
   ],
   "execution_count": 60
  },
  {
   "metadata": {
    "ExecuteTime": {
     "end_time": "2024-12-24T10:10:55.161501Z",
     "start_time": "2024-12-24T10:10:55.152842Z"
    }
   },
   "cell_type": "code",
   "source": [
    "# Let's check the distribution of the missing value marked as '?' in both features.\n",
    "data[(data[uci.UCIHeartDiseaseData.thalassemia]=='?') | (data[uci.UCIHeartDiseaseData.major_vessels]=='?')]"
   ],
   "id": "cd2ed89dba9f5e35",
   "outputs": [
    {
     "data": {
      "text/plain": [
       "      Age  Gender  Chest Pain  BP Systolic  Cholesterol  Blood Sugar  \\\n",
       "87   53.0     0.0         3.0        128.0        216.0          0.0   \n",
       "166  52.0     1.0         3.0        138.0        223.0          0.0   \n",
       "192  43.0     1.0         4.0        132.0        247.0          1.0   \n",
       "266  52.0     1.0         4.0        128.0        204.0          1.0   \n",
       "287  58.0     1.0         2.0        125.0        220.0          0.0   \n",
       "302  38.0     1.0         3.0        138.0        175.0          0.0   \n",
       "\n",
       "     Rest ECG  Exe. Max Heartrate  Exe. Induced Angina  Exe. ST Depression  \\\n",
       "87        2.0               115.0                  0.0                 0.0   \n",
       "166       0.0               169.0                  0.0                 0.0   \n",
       "192       2.0               143.0                  1.0                 0.1   \n",
       "266       0.0               156.0                  1.0                 1.0   \n",
       "287       0.0               144.0                  0.0                 0.4   \n",
       "302       0.0               173.0                  0.0                 0.0   \n",
       "\n",
       "     Exe. ST Segment Slope Major Vessels Thalassemia  Target  \n",
       "87                     1.0           0.0           ?       0  \n",
       "166                    1.0             ?         3.0       0  \n",
       "192                    2.0             ?         7.0       1  \n",
       "266                    2.0           0.0           ?       1  \n",
       "287                    2.0             ?         7.0       0  \n",
       "302                    1.0             ?         3.0       0  "
      ],
      "text/html": [
       "<div>\n",
       "<style scoped>\n",
       "    .dataframe tbody tr th:only-of-type {\n",
       "        vertical-align: middle;\n",
       "    }\n",
       "\n",
       "    .dataframe tbody tr th {\n",
       "        vertical-align: top;\n",
       "    }\n",
       "\n",
       "    .dataframe thead th {\n",
       "        text-align: right;\n",
       "    }\n",
       "</style>\n",
       "<table border=\"1\" class=\"dataframe\">\n",
       "  <thead>\n",
       "    <tr style=\"text-align: right;\">\n",
       "      <th></th>\n",
       "      <th>Age</th>\n",
       "      <th>Gender</th>\n",
       "      <th>Chest Pain</th>\n",
       "      <th>BP Systolic</th>\n",
       "      <th>Cholesterol</th>\n",
       "      <th>Blood Sugar</th>\n",
       "      <th>Rest ECG</th>\n",
       "      <th>Exe. Max Heartrate</th>\n",
       "      <th>Exe. Induced Angina</th>\n",
       "      <th>Exe. ST Depression</th>\n",
       "      <th>Exe. ST Segment Slope</th>\n",
       "      <th>Major Vessels</th>\n",
       "      <th>Thalassemia</th>\n",
       "      <th>Target</th>\n",
       "    </tr>\n",
       "  </thead>\n",
       "  <tbody>\n",
       "    <tr>\n",
       "      <th>87</th>\n",
       "      <td>53.0</td>\n",
       "      <td>0.0</td>\n",
       "      <td>3.0</td>\n",
       "      <td>128.0</td>\n",
       "      <td>216.0</td>\n",
       "      <td>0.0</td>\n",
       "      <td>2.0</td>\n",
       "      <td>115.0</td>\n",
       "      <td>0.0</td>\n",
       "      <td>0.0</td>\n",
       "      <td>1.0</td>\n",
       "      <td>0.0</td>\n",
       "      <td>?</td>\n",
       "      <td>0</td>\n",
       "    </tr>\n",
       "    <tr>\n",
       "      <th>166</th>\n",
       "      <td>52.0</td>\n",
       "      <td>1.0</td>\n",
       "      <td>3.0</td>\n",
       "      <td>138.0</td>\n",
       "      <td>223.0</td>\n",
       "      <td>0.0</td>\n",
       "      <td>0.0</td>\n",
       "      <td>169.0</td>\n",
       "      <td>0.0</td>\n",
       "      <td>0.0</td>\n",
       "      <td>1.0</td>\n",
       "      <td>?</td>\n",
       "      <td>3.0</td>\n",
       "      <td>0</td>\n",
       "    </tr>\n",
       "    <tr>\n",
       "      <th>192</th>\n",
       "      <td>43.0</td>\n",
       "      <td>1.0</td>\n",
       "      <td>4.0</td>\n",
       "      <td>132.0</td>\n",
       "      <td>247.0</td>\n",
       "      <td>1.0</td>\n",
       "      <td>2.0</td>\n",
       "      <td>143.0</td>\n",
       "      <td>1.0</td>\n",
       "      <td>0.1</td>\n",
       "      <td>2.0</td>\n",
       "      <td>?</td>\n",
       "      <td>7.0</td>\n",
       "      <td>1</td>\n",
       "    </tr>\n",
       "    <tr>\n",
       "      <th>266</th>\n",
       "      <td>52.0</td>\n",
       "      <td>1.0</td>\n",
       "      <td>4.0</td>\n",
       "      <td>128.0</td>\n",
       "      <td>204.0</td>\n",
       "      <td>1.0</td>\n",
       "      <td>0.0</td>\n",
       "      <td>156.0</td>\n",
       "      <td>1.0</td>\n",
       "      <td>1.0</td>\n",
       "      <td>2.0</td>\n",
       "      <td>0.0</td>\n",
       "      <td>?</td>\n",
       "      <td>1</td>\n",
       "    </tr>\n",
       "    <tr>\n",
       "      <th>287</th>\n",
       "      <td>58.0</td>\n",
       "      <td>1.0</td>\n",
       "      <td>2.0</td>\n",
       "      <td>125.0</td>\n",
       "      <td>220.0</td>\n",
       "      <td>0.0</td>\n",
       "      <td>0.0</td>\n",
       "      <td>144.0</td>\n",
       "      <td>0.0</td>\n",
       "      <td>0.4</td>\n",
       "      <td>2.0</td>\n",
       "      <td>?</td>\n",
       "      <td>7.0</td>\n",
       "      <td>0</td>\n",
       "    </tr>\n",
       "    <tr>\n",
       "      <th>302</th>\n",
       "      <td>38.0</td>\n",
       "      <td>1.0</td>\n",
       "      <td>3.0</td>\n",
       "      <td>138.0</td>\n",
       "      <td>175.0</td>\n",
       "      <td>0.0</td>\n",
       "      <td>0.0</td>\n",
       "      <td>173.0</td>\n",
       "      <td>0.0</td>\n",
       "      <td>0.0</td>\n",
       "      <td>1.0</td>\n",
       "      <td>?</td>\n",
       "      <td>3.0</td>\n",
       "      <td>0</td>\n",
       "    </tr>\n",
       "  </tbody>\n",
       "</table>\n",
       "</div>"
      ]
     },
     "execution_count": 61,
     "metadata": {},
     "output_type": "execute_result"
    }
   ],
   "execution_count": 61
  },
  {
   "metadata": {
    "ExecuteTime": {
     "end_time": "2024-12-24T10:10:56.967140Z",
     "start_time": "2024-12-24T10:10:56.963914Z"
    }
   },
   "cell_type": "code",
   "source": [
    "# From above, it looks like the sum is 6, and they are disjointed (4 from 'Major Vessels' and 2 from 'Thalassemia'):\n",
    "# Let's see the overall percentage of the missing values.\n",
    "print(f'[{uci.UCIHeartDiseaseData.major_vessels}] has {round(helper.value_count(data,uci.UCIHeartDiseaseData.major_vessels,\n",
    "                                                                                '?'),2)}% of \\'?\\' values.')\n",
    "print(f'[{uci.UCIHeartDiseaseData.thalassemia}] has {round(helper.value_count(data,uci.UCIHeartDiseaseData.thalassemia,\n",
    "                                                                                '?'),2)}% of \\'?\\' values.')"
   ],
   "id": "f923a0bef9d81f6d",
   "outputs": [
    {
     "name": "stdout",
     "output_type": "stream",
     "text": [
      "[Major Vessels] has 1.32% of '?' values.\n",
      "[Thalassemia] has 0.66% of '?' values.\n"
     ]
    }
   ],
   "execution_count": 62
  },
  {
   "metadata": {},
   "cell_type": "markdown",
   "source": [
    "### Observation:\n",
    "- From the investigation, it appears feature `Major Vessels` and `Thalassemia` have missing values marked as `?`.\n",
    "- Together there are 6 records (4 from `Major Vessels` and 2 from `Thalassemia`) and they are disjoint.\n",
    "- The total missing values are less than 2%.\n",
    "\n",
    "### Conclusion\n",
    "- There are ~2% missing value in the dataset, cannot impute with 'mean' since it was originally a categorical and important variable - should be dropped to avoid unnecessary data inconsistency.\n",
    "- Before dropping, other datasets (Long Beach, Hungarian and Switzerland) need to be investigated for similar issue."
   ],
   "id": "50a5566f8093fbf6"
  },
  {
   "metadata": {},
   "cell_type": "markdown",
   "source": "### A Brief Investigation on Other Datasets",
   "id": "8263e3389569c180"
  },
  {
   "metadata": {
    "ExecuteTime": {
     "end_time": "2024-12-24T10:12:06.394542Z",
     "start_time": "2024-12-24T10:12:06.387432Z"
    }
   },
   "cell_type": "code",
   "source": [
    "# Hungarian dataset\n",
    "reload(uci)\n",
    "temp_data = pd.read_csv(uci.UCIHeartDiseaseDataFile.hungarian_processed, names=uci.get_standard_features())\n",
    "for item in uci.get_standard_features():\n",
    "    if temp_data[item].dtype == 'object':\n",
    "        print(f'[{item}] has {round(helper.value_count(temp_data,item,'?'),2)}% of ? values.')"
   ],
   "id": "4d7cd8aadb380010",
   "outputs": [
    {
     "name": "stdout",
     "output_type": "stream",
     "text": [
      "[BP Systolic] has 0.34% of ? values.\n",
      "[Cholesterol] has 7.82% of ? values.\n",
      "[Blood Sugar] has 2.72% of ? values.\n",
      "[Rest ECG] has 0.34% of ? values.\n",
      "[Exe. Max Heartrate] has 0.34% of ? values.\n",
      "[Exe. Induced Angina] has 0.34% of ? values.\n",
      "[Exe. ST Segment Slope] has 64.63% of ? values.\n",
      "[Major Vessels] has 98.98% of ? values.\n",
      "[Thalassemia] has 90.48% of ? values.\n"
     ]
    }
   ],
   "execution_count": 64
  },
  {
   "metadata": {
    "ExecuteTime": {
     "end_time": "2024-12-24T10:12:31.595790Z",
     "start_time": "2024-12-24T10:12:31.588716Z"
    }
   },
   "cell_type": "code",
   "source": [
    "# Long Beach dataset\n",
    "reload(uci)\n",
    "temp_data = pd.read_csv(uci.UCIHeartDiseaseDataFile.longbeach_processed, names=uci.get_standard_features())\n",
    "for item in uci.get_standard_features():\n",
    "    if temp_data[item].dtype == 'object':\n",
    "        print(f'[{item}] has {round(helper.value_count(temp_data,item,'?'),2)}% of ? values.')"
   ],
   "id": "a1b98a741f9fd735",
   "outputs": [
    {
     "name": "stdout",
     "output_type": "stream",
     "text": [
      "[BP Systolic] has 28.0% of ? values.\n",
      "[Cholesterol] has 3.5% of ? values.\n",
      "[Blood Sugar] has 3.5% of ? values.\n",
      "[Exe. Max Heartrate] has 26.5% of ? values.\n",
      "[Exe. Induced Angina] has 26.5% of ? values.\n",
      "[Exe. ST Depression] has 28.0% of ? values.\n",
      "[Exe. ST Segment Slope] has 51.0% of ? values.\n",
      "[Major Vessels] has 99.0% of ? values.\n",
      "[Thalassemia] has 83.0% of ? values.\n"
     ]
    }
   ],
   "execution_count": 65
  },
  {
   "metadata": {
    "ExecuteTime": {
     "end_time": "2024-12-24T10:12:59.870703Z",
     "start_time": "2024-12-24T10:12:59.864339Z"
    }
   },
   "cell_type": "code",
   "source": [
    "# Switzerland dataset\n",
    "reload(uci)\n",
    "temp_data = pd.read_csv(uci.UCIHeartDiseaseDataFile.switzerland_processed, names=uci.get_standard_features())\n",
    "for item in uci.get_standard_features():\n",
    "    if temp_data[item].dtype == 'object':\n",
    "        print(f'[{item}] has {round(helper.value_count(temp_data,item,'?'),2)}% of ? values.')"
   ],
   "id": "bac5061762f4569d",
   "outputs": [
    {
     "name": "stdout",
     "output_type": "stream",
     "text": [
      "[BP Systolic] has 1.63% of ? values.\n",
      "[Blood Sugar] has 60.98% of ? values.\n",
      "[Rest ECG] has 0.81% of ? values.\n",
      "[Exe. Max Heartrate] has 0.81% of ? values.\n",
      "[Exe. Induced Angina] has 0.81% of ? values.\n",
      "[Exe. ST Depression] has 4.88% of ? values.\n",
      "[Exe. ST Segment Slope] has 13.82% of ? values.\n",
      "[Major Vessels] has 95.93% of ? values.\n",
      "[Thalassemia] has 42.28% of ? values.\n"
     ]
    }
   ],
   "execution_count": 66
  },
  {
   "metadata": {},
   "cell_type": "markdown",
   "source": [
    "\n",
    "### Important Notice!!!\n",
    "As can be seen from the above brief investigations, other datasets (Long Beach, Hungarian and Switzerland) also contains the `?` character in many of its variables.\n",
    "\n",
    "This raises a big question on the validity of the processed dataset! This requires a thorough investigation!\n",
    "\n",
    "### Investigation Summary:\n",
    "- The processed datasets (Long Beach, Hungarian and Switzerland) was supposed to be clean and usable. Instead, 68% (621/920) of the UCI dataset has missing values which was marked with '?'. This was investigated here [processed dataset investigation](2.1-uci-processed-dataset-investigation.ipynb)\n",
    "- Since unable to recover data from the processed dataset, preprocessing the original (raw) data files was the subsequent approach. However, as seen here [raw dataset investigation](2.1-uci-processed-dataset-investigation.ipynb), the '?' mark actually originated from the raw file, it had a different value, which was -9 (integer).\n",
    "- 2/617 was salvaged and saved into `processed.salvaged.data` file to be concatenated into the current DataFrame"
   ],
   "id": "598b7879472d5754"
  },
  {
   "metadata": {},
   "cell_type": "markdown",
   "source": "### Concatenate Recovered Data into Cleveland",
   "id": "f26ba5ca42c3c11"
  },
  {
   "metadata": {
    "ExecuteTime": {
     "end_time": "2024-12-24T10:27:04.066721Z",
     "start_time": "2024-12-24T10:27:04.063347Z"
    }
   },
   "cell_type": "code",
   "source": [
    "# Let's remove the missing values from processed cleveland before concatenating.\n",
    "# Let's check the distribution of the missing value marked as '?' in both features.\n",
    "rf_index = data[(data[uci.UCIHeartDiseaseData.thalassemia]=='?') | (data[uci.UCIHeartDiseaseData.major_vessels]=='?')].index\n",
    "data.drop(rf_index, inplace=True)\n",
    "# 303 - 6 = 297\n",
    "data.shape"
   ],
   "id": "e050c9f88ccce407",
   "outputs": [
    {
     "data": {
      "text/plain": [
       "(297, 14)"
      ]
     },
     "execution_count": 82,
     "metadata": {},
     "output_type": "execute_result"
    }
   ],
   "execution_count": 82
  },
  {
   "metadata": {
    "ExecuteTime": {
     "end_time": "2024-12-24T10:27:25.553459Z",
     "start_time": "2024-12-24T10:27:25.547965Z"
    }
   },
   "cell_type": "code",
   "source": [
    "# Read the salvaged data.\n",
    "salvaged_data = pd.read_csv(uci.UCIHeartDiseaseDataFile.salvaged_standard, names=uci.get_standard_features())\n",
    "salvaged_data"
   ],
   "id": "531d049798065a89",
   "outputs": [
    {
     "data": {
      "text/plain": [
       "   Age  Gender  Chest Pain  BP Systolic  Cholesterol  Blood Sugar  Rest ECG  \\\n",
       "0   56       1           4          120          100            0         0   \n",
       "1   47       1           4          150          226            0         0   \n",
       "\n",
       "   Exe. Max Heartrate  Exe. Induced Angina  Exe. ST Depression  \\\n",
       "0                 120                    1                 1.5   \n",
       "1                  98                    1                 1.5   \n",
       "\n",
       "   Exe. ST Segment Slope  Major Vessels  Thalassemia  Target  \n",
       "0                      2              0            7       1  \n",
       "1                      2              0            7       1  "
      ],
      "text/html": [
       "<div>\n",
       "<style scoped>\n",
       "    .dataframe tbody tr th:only-of-type {\n",
       "        vertical-align: middle;\n",
       "    }\n",
       "\n",
       "    .dataframe tbody tr th {\n",
       "        vertical-align: top;\n",
       "    }\n",
       "\n",
       "    .dataframe thead th {\n",
       "        text-align: right;\n",
       "    }\n",
       "</style>\n",
       "<table border=\"1\" class=\"dataframe\">\n",
       "  <thead>\n",
       "    <tr style=\"text-align: right;\">\n",
       "      <th></th>\n",
       "      <th>Age</th>\n",
       "      <th>Gender</th>\n",
       "      <th>Chest Pain</th>\n",
       "      <th>BP Systolic</th>\n",
       "      <th>Cholesterol</th>\n",
       "      <th>Blood Sugar</th>\n",
       "      <th>Rest ECG</th>\n",
       "      <th>Exe. Max Heartrate</th>\n",
       "      <th>Exe. Induced Angina</th>\n",
       "      <th>Exe. ST Depression</th>\n",
       "      <th>Exe. ST Segment Slope</th>\n",
       "      <th>Major Vessels</th>\n",
       "      <th>Thalassemia</th>\n",
       "      <th>Target</th>\n",
       "    </tr>\n",
       "  </thead>\n",
       "  <tbody>\n",
       "    <tr>\n",
       "      <th>0</th>\n",
       "      <td>56</td>\n",
       "      <td>1</td>\n",
       "      <td>4</td>\n",
       "      <td>120</td>\n",
       "      <td>100</td>\n",
       "      <td>0</td>\n",
       "      <td>0</td>\n",
       "      <td>120</td>\n",
       "      <td>1</td>\n",
       "      <td>1.5</td>\n",
       "      <td>2</td>\n",
       "      <td>0</td>\n",
       "      <td>7</td>\n",
       "      <td>1</td>\n",
       "    </tr>\n",
       "    <tr>\n",
       "      <th>1</th>\n",
       "      <td>47</td>\n",
       "      <td>1</td>\n",
       "      <td>4</td>\n",
       "      <td>150</td>\n",
       "      <td>226</td>\n",
       "      <td>0</td>\n",
       "      <td>0</td>\n",
       "      <td>98</td>\n",
       "      <td>1</td>\n",
       "      <td>1.5</td>\n",
       "      <td>2</td>\n",
       "      <td>0</td>\n",
       "      <td>7</td>\n",
       "      <td>1</td>\n",
       "    </tr>\n",
       "  </tbody>\n",
       "</table>\n",
       "</div>"
      ]
     },
     "execution_count": 83,
     "metadata": {},
     "output_type": "execute_result"
    }
   ],
   "execution_count": 83
  },
  {
   "metadata": {
    "ExecuteTime": {
     "end_time": "2024-12-24T10:27:29.743992Z",
     "start_time": "2024-12-24T10:27:29.740809Z"
    }
   },
   "cell_type": "code",
   "source": [
    "# Concatenate the salvaged data with processed cleveland data --> 297 + 2 = 299\n",
    "df = pd.concat([data, salvaged_data])\n",
    "df.shape"
   ],
   "id": "37d00345df7fd1dd",
   "outputs": [
    {
     "data": {
      "text/plain": [
       "(299, 14)"
      ]
     },
     "execution_count": 84,
     "metadata": {},
     "output_type": "execute_result"
    }
   ],
   "execution_count": 84
  },
  {
   "metadata": {},
   "cell_type": "markdown",
   "source": [
    "## 5. Which feature appears more important than the other?\n",
    "Now that the dataset is combined and clean, let's explore the data for further analysis (with graphs when needed)."
   ],
   "id": "9a4a250b4589c58b"
  },
  {
   "metadata": {
    "ExecuteTime": {
     "end_time": "2024-12-24T10:27:51.509783Z",
     "start_time": "2024-12-24T10:27:51.506157Z"
    }
   },
   "cell_type": "code",
   "source": [
    "# Let's save a copy of the cleansed dataset for building models.\n",
    "df.to_csv(uci.UCIHeartDiseaseDataFile.cleveland_cleansed, index=False)"
   ],
   "id": "c2f753c2f69246a4",
   "outputs": [],
   "execution_count": 85
  },
  {
   "cell_type": "code",
   "id": "2e409564811cc21b",
   "metadata": {
    "ExecuteTime": {
     "end_time": "2024-12-24T10:27:55.281579Z",
     "start_time": "2024-12-24T10:27:55.279019Z"
    }
   },
   "source": [
    "# Ideally we should expect both classes in the target variable to have same proportion, i.e. 299/2 = 149.5.\n",
    "len(df[uci.UCIHeartDiseaseData.target]) / 2"
   ],
   "outputs": [
    {
     "data": {
      "text/plain": [
       "149.5"
      ]
     },
     "execution_count": 86,
     "metadata": {},
     "output_type": "execute_result"
    }
   ],
   "execution_count": 86
  },
  {
   "metadata": {
    "ExecuteTime": {
     "end_time": "2024-12-24T10:28:28.725775Z",
     "start_time": "2024-12-24T10:28:28.722903Z"
    }
   },
   "cell_type": "code",
   "source": [
    "# Nevertheless, a slight risk variation can be accepted. Let's investigate if the target class in balanced.\n",
    "df[uci.UCIHeartDiseaseData.target].value_counts()"
   ],
   "id": "f915faf0978610a5",
   "outputs": [
    {
     "data": {
      "text/plain": [
       "Target\n",
       "0    160\n",
       "1    139\n",
       "Name: count, dtype: int64"
      ]
     },
     "execution_count": 87,
     "metadata": {},
     "output_type": "execute_result"
    }
   ],
   "execution_count": 87
  },
  {
   "metadata": {
    "ExecuteTime": {
     "end_time": "2024-12-24T10:28:33.804484Z",
     "start_time": "2024-12-24T10:28:33.800111Z"
    }
   },
   "cell_type": "code",
   "source": [
    "# To get the percentage proportion, let's view the normalized value counts.\n",
    "# So, the deviation in the distribution is ~4%.\n",
    "df[uci.UCIHeartDiseaseData.target].value_counts(normalize=True)"
   ],
   "id": "173ececa7ec57f12",
   "outputs": [
    {
     "data": {
      "text/plain": [
       "Target\n",
       "0    0.535117\n",
       "1    0.464883\n",
       "Name: proportion, dtype: float64"
      ]
     },
     "execution_count": 88,
     "metadata": {},
     "output_type": "execute_result"
    }
   ],
   "execution_count": 88
  },
  {
   "metadata": {
    "ExecuteTime": {
     "end_time": "2024-12-24T10:28:37.471649Z",
     "start_time": "2024-12-24T10:28:37.422053Z"
    }
   },
   "cell_type": "code",
   "source": [
    "# Let's see the distribution of target variable's class in bar-chart.\n",
    "df[uci.UCIHeartDiseaseData.target].value_counts().plot(kind=\"bar\", color=['steelblue', 'darksalmon']);"
   ],
   "id": "d1548e43bf8030a0",
   "outputs": [
    {
     "data": {
      "text/plain": [
       "<Figure size 640x480 with 1 Axes>"
      ],
      "image/png": "[encoded data removed]"
     },
     "metadata": {},
     "output_type": "display_data"
    }
   ],
   "execution_count": 89
  },
  {
   "metadata": {
    "ExecuteTime": {
     "end_time": "2024-12-24T10:28:39.541401Z",
     "start_time": "2024-12-24T10:28:39.531936Z"
    }
   },
   "cell_type": "code",
   "source": [
    "# Let's investigate which features have strong correlation with target.\n",
    "df.corr()"
   ],
   "id": "536ecfcd0cc14cac",
   "outputs": [
    {
     "data": {
      "text/plain": [
       "                            Age    Gender  Chest Pain  BP Systolic  \\\n",
       "Age                    1.000000 -0.093693    0.108095     0.286149   \n",
       "Gender                -0.093693  1.000000    0.012894    -0.065209   \n",
       "Chest Pain             0.108095  0.012894    1.000000    -0.035708   \n",
       "BP Systolic            0.286149 -0.065209   -0.035708     1.000000   \n",
       "Cholesterol            0.199258 -0.202500    0.061587     0.134240   \n",
       "Blood Sugar            0.132752  0.036869   -0.059881     0.179791   \n",
       "Rest ECG               0.151483  0.029114    0.057698     0.147124   \n",
       "Exe. Max Heartrate    -0.384176 -0.067820   -0.344909    -0.053320   \n",
       "Exe. Induced Angina    0.092506  0.148956    0.382309     0.067843   \n",
       "Exe. ST Depression     0.195929  0.108107    0.204853     0.191144   \n",
       "Exe. ST Segment Slope  0.157545  0.036213    0.154234     0.121500   \n",
       "Major Vessels          0.362764  0.088292    0.230434     0.096641   \n",
       "Thalassemia            0.123229  0.386678    0.273399     0.138658   \n",
       "Target                 0.223498  0.281912    0.412597     0.153849   \n",
       "\n",
       "                       Cholesterol  Blood Sugar  Rest ECG  Exe. Max Heartrate  \\\n",
       "Age                       0.199258     0.132752  0.151483           -0.384176   \n",
       "Gender                   -0.202500     0.036869  0.029114           -0.067820   \n",
       "Chest Pain                0.061587    -0.059881  0.057698           -0.344909   \n",
       "BP Systolic               0.134240     0.179791  0.147124           -0.053320   \n",
       "Cholesterol               1.000000     0.016939  0.172993            0.014894   \n",
       "Blood Sugar               0.016939     1.000000  0.071312           -0.002929   \n",
       "Rest ECG                  0.172993     0.071312  1.000000           -0.059521   \n",
       "Exe. Max Heartrate        0.014894    -0.002929 -0.059521            1.000000   \n",
       "Exe. Induced Angina       0.042846    -0.004809  0.071503           -0.394229   \n",
       "Exe. ST Depression        0.033964     0.007252  0.110738           -0.348089   \n",
       "Exe. ST Segment Slope    -0.015971     0.045958  0.130201           -0.391992   \n",
       "Major Vessels             0.121907     0.153718  0.133186           -0.256831   \n",
       "Thalassemia              -0.001852     0.058679  0.010839           -0.284226   \n",
       "Target                    0.067350     0.000192  0.157941           -0.430108   \n",
       "\n",
       "                       Exe. Induced Angina  Exe. ST Depression  \\\n",
       "Age                               0.092506            0.195929   \n",
       "Gender                            0.148956            0.108107   \n",
       "Chest Pain                        0.382309            0.204853   \n",
       "BP Systolic                       0.067843            0.191144   \n",
       "Cholesterol                       0.042846            0.033964   \n",
       "Blood Sugar                      -0.004809            0.007252   \n",
       "Rest ECG                          0.071503            0.110738   \n",
       "Exe. Max Heartrate               -0.394229           -0.348089   \n",
       "Exe. Induced Angina               1.000000            0.290835   \n",
       "Exe. ST Depression                0.290835            1.000000   \n",
       "Exe. ST Segment Slope             0.254650            0.579596   \n",
       "Major Vessels                     0.140089            0.291958   \n",
       "Thalassemia                       0.334347            0.346212   \n",
       "Target                            0.427123            0.424947   \n",
       "\n",
       "                       Exe. ST Segment Slope  Major Vessels  Thalassemia  \\\n",
       "Age                                 0.157545       0.362764     0.123229   \n",
       "Gender                              0.036213       0.088292     0.386678   \n",
       "Chest Pain                          0.154234       0.230434     0.273399   \n",
       "BP Systolic                         0.121500       0.096641     0.138658   \n",
       "Cholesterol                        -0.015971       0.121907    -0.001852   \n",
       "Blood Sugar                         0.045958       0.153718     0.058679   \n",
       "Rest ECG                            0.130201       0.133186     0.010839   \n",
       "Exe. Max Heartrate                 -0.391992      -0.256831    -0.284226   \n",
       "Exe. Induced Angina                 0.254650       0.140089     0.334347   \n",
       "Exe. ST Depression                  0.579596       0.291958     0.346212   \n",
       "Exe. ST Segment Slope               1.000000       0.106319     0.283045   \n",
       "Major Vessels                       0.106319       1.000000     0.249141   \n",
       "Thalassemia                         0.283045       0.249141     1.000000   \n",
       "Target                              0.335926       0.455398     0.530603   \n",
       "\n",
       "                         Target  \n",
       "Age                    0.223498  \n",
       "Gender                 0.281912  \n",
       "Chest Pain             0.412597  \n",
       "BP Systolic            0.153849  \n",
       "Cholesterol            0.067350  \n",
       "Blood Sugar            0.000192  \n",
       "Rest ECG               0.157941  \n",
       "Exe. Max Heartrate    -0.430108  \n",
       "Exe. Induced Angina    0.427123  \n",
       "Exe. ST Depression     0.424947  \n",
       "Exe. ST Segment Slope  0.335926  \n",
       "Major Vessels          0.455398  \n",
       "Thalassemia            0.530603  \n",
       "Target                 1.000000  "
      ],
      "text/html": [
       "<div>\n",
       "<style scoped>\n",
       "    .dataframe tbody tr th:only-of-type {\n",
       "        vertical-align: middle;\n",
       "    }\n",
       "\n",
       "    .dataframe tbody tr th {\n",
       "        vertical-align: top;\n",
       "    }\n",
       "\n",
       "    .dataframe thead th {\n",
       "        text-align: right;\n",
       "    }\n",
       "</style>\n",
       "<table border=\"1\" class=\"dataframe\">\n",
       "  <thead>\n",
       "    <tr style=\"text-align: right;\">\n",
       "      <th></th>\n",
       "      <th>Age</th>\n",
       "      <th>Gender</th>\n",
       "      <th>Chest Pain</th>\n",
       "      <th>BP Systolic</th>\n",
       "      <th>Cholesterol</th>\n",
       "      <th>Blood Sugar</th>\n",
       "      <th>Rest ECG</th>\n",
       "      <th>Exe. Max Heartrate</th>\n",
       "      <th>Exe. Induced Angina</th>\n",
       "      <th>Exe. ST Depression</th>\n",
       "      <th>Exe. ST Segment Slope</th>\n",
       "      <th>Major Vessels</th>\n",
       "      <th>Thalassemia</th>\n",
       "      <th>Target</th>\n",
       "    </tr>\n",
       "  </thead>\n",
       "  <tbody>\n",
       "    <tr>\n",
       "      <th>Age</th>\n",
       "      <td>1.000000</td>\n",
       "      <td>-0.093693</td>\n",
       "      <td>0.108095</td>\n",
       "      <td>0.286149</td>\n",
       "      <td>0.199258</td>\n",
       "      <td>0.132752</td>\n",
       "      <td>0.151483</td>\n",
       "      <td>-0.384176</td>\n",
       "      <td>0.092506</td>\n",
       "      <td>0.195929</td>\n",
       "      <td>0.157545</td>\n",
       "      <td>0.362764</td>\n",
       "      <td>0.123229</td>\n",
       "      <td>0.223498</td>\n",
       "    </tr>\n",
       "    <tr>\n",
       "      <th>Gender</th>\n",
       "      <td>-0.093693</td>\n",
       "      <td>1.000000</td>\n",
       "      <td>0.012894</td>\n",
       "      <td>-0.065209</td>\n",
       "      <td>-0.202500</td>\n",
       "      <td>0.036869</td>\n",
       "      <td>0.029114</td>\n",
       "      <td>-0.067820</td>\n",
       "      <td>0.148956</td>\n",
       "      <td>0.108107</td>\n",
       "      <td>0.036213</td>\n",
       "      <td>0.088292</td>\n",
       "      <td>0.386678</td>\n",
       "      <td>0.281912</td>\n",
       "    </tr>\n",
       "    <tr>\n",
       "      <th>Chest Pain</th>\n",
       "      <td>0.108095</td>\n",
       "      <td>0.012894</td>\n",
       "      <td>1.000000</td>\n",
       "      <td>-0.035708</td>\n",
       "      <td>0.061587</td>\n",
       "      <td>-0.059881</td>\n",
       "      <td>0.057698</td>\n",
       "      <td>-0.344909</td>\n",
       "      <td>0.382309</td>\n",
       "      <td>0.204853</td>\n",
       "      <td>0.154234</td>\n",
       "      <td>0.230434</td>\n",
       "      <td>0.273399</td>\n",
       "      <td>0.412597</td>\n",
       "    </tr>\n",
       "    <tr>\n",
       "      <th>BP Systolic</th>\n",
       "      <td>0.286149</td>\n",
       "      <td>-0.065209</td>\n",
       "      <td>-0.035708</td>\n",
       "      <td>1.000000</td>\n",
       "      <td>0.134240</td>\n",
       "      <td>0.179791</td>\n",
       "      <td>0.147124</td>\n",
       "      <td>-0.053320</td>\n",
       "      <td>0.067843</td>\n",
       "      <td>0.191144</td>\n",
       "      <td>0.121500</td>\n",
       "      <td>0.096641</td>\n",
       "      <td>0.138658</td>\n",
       "      <td>0.153849</td>\n",
       "    </tr>\n",
       "    <tr>\n",
       "      <th>Cholesterol</th>\n",
       "      <td>0.199258</td>\n",
       "      <td>-0.202500</td>\n",
       "      <td>0.061587</td>\n",
       "      <td>0.134240</td>\n",
       "      <td>1.000000</td>\n",
       "      <td>0.016939</td>\n",
       "      <td>0.172993</td>\n",
       "      <td>0.014894</td>\n",
       "      <td>0.042846</td>\n",
       "      <td>0.033964</td>\n",
       "      <td>-0.015971</td>\n",
       "      <td>0.121907</td>\n",
       "      <td>-0.001852</td>\n",
       "      <td>0.067350</td>\n",
       "    </tr>\n",
       "    <tr>\n",
       "      <th>Blood Sugar</th>\n",
       "      <td>0.132752</td>\n",
       "      <td>0.036869</td>\n",
       "      <td>-0.059881</td>\n",
       "      <td>0.179791</td>\n",
       "      <td>0.016939</td>\n",
       "      <td>1.000000</td>\n",
       "      <td>0.071312</td>\n",
       "      <td>-0.002929</td>\n",
       "      <td>-0.004809</td>\n",
       "      <td>0.007252</td>\n",
       "      <td>0.045958</td>\n",
       "      <td>0.153718</td>\n",
       "      <td>0.058679</td>\n",
       "      <td>0.000192</td>\n",
       "    </tr>\n",
       "    <tr>\n",
       "      <th>Rest ECG</th>\n",
       "      <td>0.151483</td>\n",
       "      <td>0.029114</td>\n",
       "      <td>0.057698</td>\n",
       "      <td>0.147124</td>\n",
       "      <td>0.172993</td>\n",
       "      <td>0.071312</td>\n",
       "      <td>1.000000</td>\n",
       "      <td>-0.059521</td>\n",
       "      <td>0.071503</td>\n",
       "      <td>0.110738</td>\n",
       "      <td>0.130201</td>\n",
       "      <td>0.133186</td>\n",
       "      <td>0.010839</td>\n",
       "      <td>0.157941</td>\n",
       "    </tr>\n",
       "    <tr>\n",
       "      <th>Exe. Max Heartrate</th>\n",
       "      <td>-0.384176</td>\n",
       "      <td>-0.067820</td>\n",
       "      <td>-0.344909</td>\n",
       "      <td>-0.053320</td>\n",
       "      <td>0.014894</td>\n",
       "      <td>-0.002929</td>\n",
       "      <td>-0.059521</td>\n",
       "      <td>1.000000</td>\n",
       "      <td>-0.394229</td>\n",
       "      <td>-0.348089</td>\n",
       "      <td>-0.391992</td>\n",
       "      <td>-0.256831</td>\n",
       "      <td>-0.284226</td>\n",
       "      <td>-0.430108</td>\n",
       "    </tr>\n",
       "    <tr>\n",
       "      <th>Exe. Induced Angina</th>\n",
       "      <td>0.092506</td>\n",
       "      <td>0.148956</td>\n",
       "      <td>0.382309</td>\n",
       "      <td>0.067843</td>\n",
       "      <td>0.042846</td>\n",
       "      <td>-0.004809</td>\n",
       "      <td>0.071503</td>\n",
       "      <td>-0.394229</td>\n",
       "      <td>1.000000</td>\n",
       "      <td>0.290835</td>\n",
       "      <td>0.254650</td>\n",
       "      <td>0.140089</td>\n",
       "      <td>0.334347</td>\n",
       "      <td>0.427123</td>\n",
       "    </tr>\n",
       "    <tr>\n",
       "      <th>Exe. ST Depression</th>\n",
       "      <td>0.195929</td>\n",
       "      <td>0.108107</td>\n",
       "      <td>0.204853</td>\n",
       "      <td>0.191144</td>\n",
       "      <td>0.033964</td>\n",
       "      <td>0.007252</td>\n",
       "      <td>0.110738</td>\n",
       "      <td>-0.348089</td>\n",
       "      <td>0.290835</td>\n",
       "      <td>1.000000</td>\n",
       "      <td>0.579596</td>\n",
       "      <td>0.291958</td>\n",
       "      <td>0.346212</td>\n",
       "      <td>0.424947</td>\n",
       "    </tr>\n",
       "    <tr>\n",
       "      <th>Exe. ST Segment Slope</th>\n",
       "      <td>0.157545</td>\n",
       "      <td>0.036213</td>\n",
       "      <td>0.154234</td>\n",
       "      <td>0.121500</td>\n",
       "      <td>-0.015971</td>\n",
       "      <td>0.045958</td>\n",
       "      <td>0.130201</td>\n",
       "      <td>-0.391992</td>\n",
       "      <td>0.254650</td>\n",
       "      <td>0.579596</td>\n",
       "      <td>1.000000</td>\n",
       "      <td>0.106319</td>\n",
       "      <td>0.283045</td>\n",
       "      <td>0.335926</td>\n",
       "    </tr>\n",
       "    <tr>\n",
       "      <th>Major Vessels</th>\n",
       "      <td>0.362764</td>\n",
       "      <td>0.088292</td>\n",
       "      <td>0.230434</td>\n",
       "      <td>0.096641</td>\n",
       "      <td>0.121907</td>\n",
       "      <td>0.153718</td>\n",
       "      <td>0.133186</td>\n",
       "      <td>-0.256831</td>\n",
       "      <td>0.140089</td>\n",
       "      <td>0.291958</td>\n",
       "      <td>0.106319</td>\n",
       "      <td>1.000000</td>\n",
       "      <td>0.249141</td>\n",
       "      <td>0.455398</td>\n",
       "    </tr>\n",
       "    <tr>\n",
       "      <th>Thalassemia</th>\n",
       "      <td>0.123229</td>\n",
       "      <td>0.386678</td>\n",
       "      <td>0.273399</td>\n",
       "      <td>0.138658</td>\n",
       "      <td>-0.001852</td>\n",
       "      <td>0.058679</td>\n",
       "      <td>0.010839</td>\n",
       "      <td>-0.284226</td>\n",
       "      <td>0.334347</td>\n",
       "      <td>0.346212</td>\n",
       "      <td>0.283045</td>\n",
       "      <td>0.249141</td>\n",
       "      <td>1.000000</td>\n",
       "      <td>0.530603</td>\n",
       "    </tr>\n",
       "    <tr>\n",
       "      <th>Target</th>\n",
       "      <td>0.223498</td>\n",
       "      <td>0.281912</td>\n",
       "      <td>0.412597</td>\n",
       "      <td>0.153849</td>\n",
       "      <td>0.067350</td>\n",
       "      <td>0.000192</td>\n",
       "      <td>0.157941</td>\n",
       "      <td>-0.430108</td>\n",
       "      <td>0.427123</td>\n",
       "      <td>0.424947</td>\n",
       "      <td>0.335926</td>\n",
       "      <td>0.455398</td>\n",
       "      <td>0.530603</td>\n",
       "      <td>1.000000</td>\n",
       "    </tr>\n",
       "  </tbody>\n",
       "</table>\n",
       "</div>"
      ]
     },
     "execution_count": 90,
     "metadata": {},
     "output_type": "execute_result"
    }
   ],
   "execution_count": 90
  },
  {
   "metadata": {
    "ExecuteTime": {
     "end_time": "2024-12-24T10:28:48.949858Z",
     "start_time": "2024-12-24T10:28:48.764497Z"
    }
   },
   "cell_type": "code",
   "source": [
    "# Let's see the correlation matrix with color intensity spectrum - the darker the blue is, the higher the correlation.\n",
    "corr_matrix = df.corr(method='pearson')\n",
    "mask = np.triu(np.ones_like(data.corr()))\n",
    "plt.figure(figsize=(15, 10))\n",
    "\n",
    "sns.heatmap(corr_matrix,\n",
    "            mask=mask,\n",
    "            annot=True,\n",
    "            linewidths=0.5,\n",
    "            fmt= \".2f\",\n",
    "            cmap=\"GnBu\");"
   ],
   "id": "a5cc70a160114c7d",
   "outputs": [
    {
     "data": {
      "text/plain": [
       "<Figure size 1500x1000 with 2 Axes>"
      ],
      "image/png": "[encoded data removed]"
     },
     "metadata": {},
     "output_type": "display_data"
    }
   ],
   "execution_count": 91
  },
  {
   "metadata": {},
   "cell_type": "markdown",
   "source": [
    "### 5.1 Feature Correlation\n",
    "By eyeballing the chart (above), we can conclude the following from the Pearson's correlation.\n",
    "\n",
    "| Level     |   Positive   |    Negative    |\n",
    "|:----------|:------------:|:--------------:|\n",
    "| Strong    |  0.70 to 1   |  -0.70 to -1   |\n",
    "| Moderate  | 0.30 to 0.70 | -0.30 to -0.70 |\n",
    "| Weak      |  0 to 0.30   |   0 to -0.30   |\n",
    "\n",
    "If we apply the <u>general rules for classifying correlation</u> (using the table above), we observe:\n",
    "* Features have <u>only moderate correlation</u> between each other and target variable.\n",
    "#### Positive correlation - positive linear relationship\n",
    "* Six features has moderate <u>postive correlation to target</u> variable:\n",
    "1. thal (0.53)\n",
    "2. ca (0.46)\n",
    "3. oldpeak (0.42)\n",
    "4. exang (0.42)\n",
    "5. cp (0.41)\n",
    "6. slope (0.33)\n",
    "* Six features has moderate <u>positive correlation between variables</u>:\n",
    "1. oldpeak and slope (0.58)\n",
    "2. sex and thal (0.38)\n",
    "3. cp and exang (0.38)\n",
    "4. age and ca (0.36)\n",
    "5. oldpeak and thal (0.34)\n",
    "6. exang and thal (0.33)\n",
    "#### Negative correlation - negative (inverse) linear relationship\n",
    "* One feature has moderate <u>negative correlation to target</u> variable:\n",
    "1. thalach (-0.42)\n",
    "* Six features has moderate <u> negative correlation between variables</u>:\n",
    "1. age and thalach (-0.39)\n",
    "2. thalach and slope (-0.39)\n",
    "3. thalach and exang (-0.38)\n",
    "4. thalach and oldpeak (-0.35)\n",
    "2. cp and thalach (-0.34)\n",
    "3. thalach and thal (-0.27)\n",
    "4. thalach and ca (-0.27)\n",
    "\n",
    "### Further investigation needed\n",
    "We applied pearson's correlation to identify the correlation. We also need to investigate the following to ensure :\n",
    "- both variables are quantitative\n",
    "- variables are normally distributed\n",
    "- no outliers\n",
    "* Let's find the top 3 variables and investigate:\n",
    "1. oldpeak and slope (0.58)\n",
    "2. thal and target (0.53)\n",
    "3. ca and target (0.42)\n",
    "* And, one negative correlation:\n",
    "1. thalach and target (-0.42)"
   ],
   "id": "7d29b468ba3d158d"
  },
  {
   "metadata": {
    "ExecuteTime": {
     "end_time": "2024-12-24T10:30:22.309071Z",
     "start_time": "2024-12-24T10:30:22.299087Z"
    }
   },
   "cell_type": "code",
   "source": [
    "# The curve is slightly right skewed. Mean and median also be slightly on the right.\n",
    "reload(helper)\n",
    "helper.draw_histogram_density_curve(df,'trestbps')"
   ],
   "id": "5a02ea0755ca8d27",
   "outputs": [
    {
     "ename": "AttributeError",
     "evalue": "module 'custom_libs.helper' has no attribute 'draw_histogram_density_curve'",
     "output_type": "error",
     "traceback": [
      "\u001B[0;31m---------------------------------------------------------------------------\u001B[0m",
      "\u001B[0;31mAttributeError\u001B[0m                            Traceback (most recent call last)",
      "Cell \u001B[0;32mIn[92], line 3\u001B[0m\n\u001B[1;32m      1\u001B[0m \u001B[38;5;66;03m# The curve is slightly right skewed. Mean and median also be slightly on the right.\u001B[39;00m\n\u001B[1;32m      2\u001B[0m reload(helper)\n\u001B[0;32m----> 3\u001B[0m helper\u001B[38;5;241m.\u001B[39mdraw_histogram_density_curve(df,\u001B[38;5;124m'\u001B[39m\u001B[38;5;124mtrestbps\u001B[39m\u001B[38;5;124m'\u001B[39m)\n",
      "\u001B[0;31mAttributeError\u001B[0m: module 'custom_libs.helper' has no attribute 'draw_histogram_density_curve'"
     ]
    }
   ],
   "execution_count": 92
  },
  {
   "metadata": {},
   "cell_type": "code",
   "source": "df['trestbps'].describe()",
   "id": "7cf4ff70e9941401",
   "outputs": [],
   "execution_count": null
  },
  {
   "metadata": {},
   "cell_type": "code",
   "source": "Q3 = df['trestbps'].quantile(0.75)",
   "id": "acb800f470ffdffc",
   "outputs": [],
   "execution_count": null
  },
  {
   "metadata": {},
   "cell_type": "code",
   "source": "",
   "id": "8d5fd5ab34faec72",
   "outputs": [],
   "execution_count": null
  }
 ],
 "metadata": {
  "kernelspec": {
   "display_name": "Python 3 (ipykernel)",
   "language": "python",
   "name": "python3"
  },
  "language_info": {
   "codemirror_mode": {
    "name": "ipython",
    "version": 3
   },
   "file_extension": ".py",
   "mimetype": "text/x-python",
   "name": "python",
   "nbconvert_exporter": "python",
   "pygments_lexer": "ipython3",
   "version": "3.12.2"
  }
 },
 "nbformat": 4,
 "nbformat_minor": 5
}
