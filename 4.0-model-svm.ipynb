{
 "cells": [
  {
   "metadata": {},
   "cell_type": "markdown",
   "source": [
    "# Objective\n",
    "- base model without oversampling and feature selection & fine tune it\n",
    "- base model with oversampling and feature selection & fine tune it"
   ],
   "id": "a5c7eeb486978711"
  },
  {
   "cell_type": "code",
   "id": "initial_id",
   "metadata": {
    "collapsed": true,
    "ExecuteTime": {
     "end_time": "2024-12-24T15:16:04.753766Z",
     "start_time": "2024-12-24T15:16:04.750763Z"
    }
   },
   "source": [
    "\n",
    "import warnings\n",
    "\n",
    "import pandas as pd\n",
    "from numpy import arange\n",
    "from sklearn.metrics import classification_report, accuracy_score, precision_score, recall_score, f1_score\n",
    "from sklearn.model_selection import GridSearchCV\n",
    "from sklearn.model_selection import RandomizedSearchCV\n",
    "from sklearn.model_selection import train_test_split\n",
    "from sklearn.preprocessing import StandardScaler\n",
    "from sklearn.svm import SVC\n",
    "import matplotlib.pyplot as plt\n",
    "import seaborn as sns\n",
    "from collections import Counter\n",
    "import numpy as np\n",
    "from sklearn.feature_selection import chi2,SelectKBest\n",
    "from imblearn.over_sampling import SMOTE\n",
    "\n",
    "import models.uci_heart_disease_dataset as uci\n",
    "\n",
    "warnings.filterwarnings(\"ignore\")"
   ],
   "outputs": [],
   "execution_count": 47
  },
  {
   "metadata": {
    "ExecuteTime": {
     "end_time": "2024-12-24T15:13:11.807148Z",
     "start_time": "2024-12-24T15:13:11.799767Z"
    }
   },
   "cell_type": "code",
   "source": [
    "data = pd.read_csv(uci.UCIHeartDiseaseDataFile.cleveland_preprocessed, names = uci.get_standard_features())\n",
    "print(f'Data shape: {data.shape}.')\n",
    "data.head(3)"
   ],
   "id": "b56fe2f0b56e8fd7",
   "outputs": [
    {
     "name": "stdout",
     "output_type": "stream",
     "text": [
      "Data shape: (299, 14).\n"
     ]
    },
    {
     "data": {
      "text/plain": [
       "   Age  Gender  Chest Pain  BP Systolic  Cholesterol  Blood Sugar  Rest ECG  \\\n",
       "0   63       1           1          145        233.0            1         2   \n",
       "1   67       1           4          160        286.0            0         2   \n",
       "2   67       1           4          120        229.0            0         2   \n",
       "\n",
       "   Exe. Max Heartrate  Exe. Induced Angina  Exe. ST Depression  \\\n",
       "0                 150                    0                 2.3   \n",
       "1                 108                    1                 1.5   \n",
       "2                 129                    1                 2.6   \n",
       "\n",
       "   Exe. ST Segment Slope  Major Vessels  Thalassemia  Target  \n",
       "0                      3              0            6       0  \n",
       "1                      2              3            3       1  \n",
       "2                      2              2            7       1  "
      ],
      "text/html": [
       "<div>\n",
       "<style scoped>\n",
       "    .dataframe tbody tr th:only-of-type {\n",
       "        vertical-align: middle;\n",
       "    }\n",
       "\n",
       "    .dataframe tbody tr th {\n",
       "        vertical-align: top;\n",
       "    }\n",
       "\n",
       "    .dataframe thead th {\n",
       "        text-align: right;\n",
       "    }\n",
       "</style>\n",
       "<table border=\"1\" class=\"dataframe\">\n",
       "  <thead>\n",
       "    <tr style=\"text-align: right;\">\n",
       "      <th></th>\n",
       "      <th>Age</th>\n",
       "      <th>Gender</th>\n",
       "      <th>Chest Pain</th>\n",
       "      <th>BP Systolic</th>\n",
       "      <th>Cholesterol</th>\n",
       "      <th>Blood Sugar</th>\n",
       "      <th>Rest ECG</th>\n",
       "      <th>Exe. Max Heartrate</th>\n",
       "      <th>Exe. Induced Angina</th>\n",
       "      <th>Exe. ST Depression</th>\n",
       "      <th>Exe. ST Segment Slope</th>\n",
       "      <th>Major Vessels</th>\n",
       "      <th>Thalassemia</th>\n",
       "      <th>Target</th>\n",
       "    </tr>\n",
       "  </thead>\n",
       "  <tbody>\n",
       "    <tr>\n",
       "      <th>0</th>\n",
       "      <td>63</td>\n",
       "      <td>1</td>\n",
       "      <td>1</td>\n",
       "      <td>145</td>\n",
       "      <td>233.0</td>\n",
       "      <td>1</td>\n",
       "      <td>2</td>\n",
       "      <td>150</td>\n",
       "      <td>0</td>\n",
       "      <td>2.3</td>\n",
       "      <td>3</td>\n",
       "      <td>0</td>\n",
       "      <td>6</td>\n",
       "      <td>0</td>\n",
       "    </tr>\n",
       "    <tr>\n",
       "      <th>1</th>\n",
       "      <td>67</td>\n",
       "      <td>1</td>\n",
       "      <td>4</td>\n",
       "      <td>160</td>\n",
       "      <td>286.0</td>\n",
       "      <td>0</td>\n",
       "      <td>2</td>\n",
       "      <td>108</td>\n",
       "      <td>1</td>\n",
       "      <td>1.5</td>\n",
       "      <td>2</td>\n",
       "      <td>3</td>\n",
       "      <td>3</td>\n",
       "      <td>1</td>\n",
       "    </tr>\n",
       "    <tr>\n",
       "      <th>2</th>\n",
       "      <td>67</td>\n",
       "      <td>1</td>\n",
       "      <td>4</td>\n",
       "      <td>120</td>\n",
       "      <td>229.0</td>\n",
       "      <td>0</td>\n",
       "      <td>2</td>\n",
       "      <td>129</td>\n",
       "      <td>1</td>\n",
       "      <td>2.6</td>\n",
       "      <td>2</td>\n",
       "      <td>2</td>\n",
       "      <td>7</td>\n",
       "      <td>1</td>\n",
       "    </tr>\n",
       "  </tbody>\n",
       "</table>\n",
       "</div>"
      ]
     },
     "execution_count": 36,
     "metadata": {},
     "output_type": "execute_result"
    }
   ],
   "execution_count": 36
  },
  {
   "metadata": {
    "ExecuteTime": {
     "end_time": "2024-12-24T15:13:14.475311Z",
     "start_time": "2024-12-24T15:13:14.471459Z"
    }
   },
   "cell_type": "code",
   "source": [
    "# A function to build base model.\n",
    "def build_base_model(x_set, y_set):\n",
    "    scaler = StandardScaler()\n",
    "    x_set = scaler.fit_transform(x_set)\n",
    "    x_train, x_test, y_train, y_test = train_test_split(x_set, y_set, test_size = 0.20, random_state=0)\n",
    "\n",
    "    svc= SVC()\n",
    "    svc.fit(x_train, y_train)\n",
    "    y_pred = svc.predict(x_test)\n",
    "    acc=accuracy_score(y_test, y_pred)*100\n",
    "    print(\"SVM - Accuracy: {:.3f}.\".format(acc))\n",
    "    print(\"\\nClassification Report\")\n",
    "    print(classification_report(y_test, y_pred))"
   ],
   "id": "13d54e478f9733b5",
   "outputs": [],
   "execution_count": 37
  },
  {
   "metadata": {
    "ExecuteTime": {
     "end_time": "2024-12-24T15:13:16.275112Z",
     "start_time": "2024-12-24T15:13:16.270752Z"
    }
   },
   "cell_type": "code",
   "source": [
    "# A function to build and fine tune model using GridSearchCV.\n",
    "def fine_tune_model_with_grid_search_cv(x_set, y_set):\n",
    "    scaler = StandardScaler()\n",
    "    x_set = scaler.fit_transform(x_set)\n",
    "    x_train, x_test, y_train, y_test = train_test_split(x_set, y_set, test_size = 0.20, random_state=0)\n",
    "\n",
    "    grid_svc= SVC()\n",
    "    parameters = dict()\n",
    "    parameters['kernel'] = ['rbf', 'poly', 'linear', 'sigmoid']\n",
    "    parameters['C'] = arange(1, 10, 1)\n",
    "    parameters['gamma'] = ['scale', 'auto']\n",
    "    parameters['class_weight'] = ['dict', 'balanced']\n",
    "\n",
    "    ## Building Grid Search algorithm with cross-validation and acc score.\n",
    "\n",
    "    # grid_search_svc = GridSearchCV(grid_svc, parameters, scoring='accuracy', cv=5, n_jobs=-1)\n",
    "    grid_search_svc = GridSearchCV(grid_svc, parameters, scoring='accuracy', cv=5)\n",
    "\n",
    "    grid_search_svc.fit(x_train,y_train)\n",
    "    best_parameters_svc = grid_search_svc.best_params_\n",
    "    best_score_svc = grid_search_svc.best_score_\n",
    "    print(best_parameters_svc)\n",
    "    print(best_score_svc)\n",
    "\n",
    "    y_pred = grid_search_svc.predict(x_test)\n",
    "\n",
    "    # Get the accuracy score\n",
    "    svc_acc=accuracy_score(y_test, y_pred)*100\n",
    "    svc_pre=precision_score(y_test, y_pred, average='micro')\n",
    "    svc_recall=recall_score(y_test, y_pred, average='micro')\n",
    "    svc_f1_=f1_score(y_test, y_pred, average='micro')\n",
    "\n",
    "    print(\"\\nSVM - Accuracy: {:.3f}.\".format(svc_acc))\n",
    "    print(\"SVM - Precision: {:.3f}.\".format(svc_pre))\n",
    "    print(\"SVM - Recall: {:.3f}.\".format(svc_recall))\n",
    "    print(\"SVM - F1_Score: {:.3f}.\".format(svc_f1_))\n",
    "    print(\"\\nClassification Report\")\n",
    "    print(classification_report(y_test, y_pred))"
   ],
   "id": "708dd7e8caed6ca5",
   "outputs": [],
   "execution_count": 38
  },
  {
   "metadata": {
    "ExecuteTime": {
     "end_time": "2024-12-24T15:13:18.957611Z",
     "start_time": "2024-12-24T15:13:18.953392Z"
    }
   },
   "cell_type": "code",
   "source": [
    "# A function to build and fine tune model using RandomSearchCV.\n",
    "def fine_tune_model_with_random_search_cv(x_set, y_set):\n",
    "    scaler = StandardScaler()\n",
    "    x_set = scaler.fit_transform(x_set)\n",
    "    x_train, x_test, y_train, y_test = train_test_split(x_set, y_set, test_size = 0.20, random_state=0)\n",
    "\n",
    "    rand_svc= SVC()\n",
    "\n",
    "    parameters = dict()\n",
    "    parameters['kernel'] = ['rbf', 'poly', 'linear', 'sigmoid']\n",
    "    parameters['C'] = arange(1, 10, 1)\n",
    "    parameters['gamma'] = ['scale', 'auto']\n",
    "    parameters['class_weight'] = ['dict', 'balanced']\n",
    "\n",
    "    ## Building Grid Search algorithm with cross-validation and acc score.\n",
    "\n",
    "    rand_search_svc = RandomizedSearchCV(rand_svc, parameters, scoring='accuracy', cv=5)\n",
    "\n",
    "    rand_search_svc.fit(x_train,y_train)\n",
    "    best_parameters_svc = rand_search_svc.best_params_\n",
    "    best_score_svc = rand_search_svc.best_score_\n",
    "    print(best_parameters_svc)\n",
    "    print(best_score_svc)\n",
    "\n",
    "    y_pred = rand_search_svc.predict(x_test)\n",
    "\n",
    "    # Get the accuracy score\n",
    "    svc_acc=accuracy_score(y_test, y_pred)*100\n",
    "    svc_pre=precision_score(y_test, y_pred, average='micro')\n",
    "    svc_recall=recall_score(y_test, y_pred, average='micro')\n",
    "    svc_f1_=f1_score(y_test, y_pred, average='micro')\n",
    "\n",
    "    print(\"\\nSVM - Accuracy: {:.3f}.\".format(svc_acc))\n",
    "    print(\"SVM - Precision: {:.3f}.\".format(svc_pre))\n",
    "    print(\"SVM - Recall: {:.3f}.\".format(svc_recall))\n",
    "    print(\"SVM - F1_Score: {:.3f}.\".format(svc_f1_))\n",
    "    print(\"\\nClassification Report\")\n",
    "    print(classification_report(y_test, y_pred))"
   ],
   "id": "f7f51728763c42b2",
   "outputs": [],
   "execution_count": 39
  },
  {
   "metadata": {},
   "cell_type": "markdown",
   "source": "### Data without over-sampling and feature selection",
   "id": "411bab791d873c1d"
  },
  {
   "metadata": {
    "ExecuteTime": {
     "end_time": "2024-12-24T15:13:22.371573Z",
     "start_time": "2024-12-24T15:13:22.358781Z"
    }
   },
   "cell_type": "code",
   "source": [
    "X = data.drop(uci.UCIHeartDiseaseData.target, axis=1)\n",
    "y = data[uci.UCIHeartDiseaseData.target]\n",
    "build_base_model(X, y)"
   ],
   "id": "2e7bbc3fb749dc84",
   "outputs": [
    {
     "name": "stdout",
     "output_type": "stream",
     "text": [
      "SVM - Accuracy: 85.000.\n",
      "\n",
      "Classification Report\n",
      "              precision    recall  f1-score   support\n",
      "\n",
      "           0       0.78      0.97      0.86        29\n",
      "           1       0.96      0.74      0.84        31\n",
      "\n",
      "    accuracy                           0.85        60\n",
      "   macro avg       0.87      0.85      0.85        60\n",
      "weighted avg       0.87      0.85      0.85        60\n",
      "\n"
     ]
    }
   ],
   "execution_count": 40
  },
  {
   "metadata": {
    "ExecuteTime": {
     "end_time": "2024-12-24T15:13:37.819570Z",
     "start_time": "2024-12-24T15:13:37.760678Z"
    }
   },
   "cell_type": "code",
   "source": [
    "X = data.drop(uci.UCIHeartDiseaseData.target, axis=1)\n",
    "y = data[uci.UCIHeartDiseaseData.target]\n",
    "fine_tune_model_with_random_search_cv(X, y)"
   ],
   "id": "e378cc74e8b5677d",
   "outputs": [
    {
     "name": "stdout",
     "output_type": "stream",
     "text": [
      "{'kernel': 'rbf', 'gamma': 'auto', 'class_weight': 'balanced', 'C': 1}\n",
      "0.799290780141844\n",
      "\n",
      "SVM - Accuracy: 85.000.\n",
      "SVM - Precision: 0.850.\n",
      "SVM - Recall: 0.850.\n",
      "SVM - F1_Score: 0.850.\n",
      "\n",
      "Classification Report\n",
      "              precision    recall  f1-score   support\n",
      "\n",
      "           0       0.78      0.97      0.86        29\n",
      "           1       0.96      0.74      0.84        31\n",
      "\n",
      "    accuracy                           0.85        60\n",
      "   macro avg       0.87      0.85      0.85        60\n",
      "weighted avg       0.87      0.85      0.85        60\n",
      "\n"
     ]
    }
   ],
   "execution_count": 41
  },
  {
   "metadata": {
    "ExecuteTime": {
     "end_time": "2024-12-24T15:13:41.469132Z",
     "start_time": "2024-12-24T15:13:40.895689Z"
    }
   },
   "cell_type": "code",
   "source": [
    "X = data.drop(uci.UCIHeartDiseaseData.target, axis=1)\n",
    "y = data[uci.UCIHeartDiseaseData.target]\n",
    "fine_tune_model_with_grid_search_cv(X, y)"
   ],
   "id": "6d393751bd3409eb",
   "outputs": [
    {
     "name": "stdout",
     "output_type": "stream",
     "text": [
      "{'C': 1, 'class_weight': 'balanced', 'gamma': 'auto', 'kernel': 'sigmoid'}\n",
      "0.8284574468085106\n",
      "\n",
      "SVM - Accuracy: 85.000.\n",
      "SVM - Precision: 0.850.\n",
      "SVM - Recall: 0.850.\n",
      "SVM - F1_Score: 0.850.\n",
      "\n",
      "Classification Report\n",
      "              precision    recall  f1-score   support\n",
      "\n",
      "           0       0.79      0.93      0.86        29\n",
      "           1       0.92      0.77      0.84        31\n",
      "\n",
      "    accuracy                           0.85        60\n",
      "   macro avg       0.86      0.85      0.85        60\n",
      "weighted avg       0.86      0.85      0.85        60\n",
      "\n"
     ]
    }
   ],
   "execution_count": 42
  },
  {
   "metadata": {},
   "cell_type": "markdown",
   "source": "### Data with over-sampling and feature selection",
   "id": "36476ad66e0ed040"
  },
  {
   "metadata": {
    "ExecuteTime": {
     "end_time": "2024-12-24T15:21:14.356295Z",
     "start_time": "2024-12-24T15:21:14.346599Z"
    }
   },
   "cell_type": "code",
   "source": [
    "chi_squared = SelectKBest(score_func=chi2, k=13)\n",
    "chi_squared.fit(X, y)\n",
    "feature_score = pd.DataFrame({\"Score\":chi_squared.scores_, \"P_Value\":np.round(chi_squared.pvalues_,3)}, index=X.columns)\n",
    "feature_score.nlargest(n=13,columns=\"Score\")"
   ],
   "id": "ddd9a973cedcdc6d",
   "outputs": [
    {
     "data": {
      "text/plain": [
       "                            Score  P_Value\n",
       "Exe. Max Heartrate     197.354493    0.000\n",
       "Major Vessels           80.790297    0.000\n",
       "Exe. ST Depression      68.733906    0.000\n",
       "Thalassemia             66.601762    0.000\n",
       "Exe. Induced Angina     36.486887    0.000\n",
       "Age                     22.263468    0.000\n",
       "BP Systolic             16.867552    0.000\n",
       "Cholesterol             15.115732    0.000\n",
       "Chest Pain              14.902669    0.000\n",
       "Exe. ST Segment Slope    7.973535    0.005\n",
       "Gender                   7.629523    0.006\n",
       "Rest ECG                 7.432740    0.006\n",
       "Blood Sugar              0.000009    0.998"
      ],
      "text/html": [
       "<div>\n",
       "<style scoped>\n",
       "    .dataframe tbody tr th:only-of-type {\n",
       "        vertical-align: middle;\n",
       "    }\n",
       "\n",
       "    .dataframe tbody tr th {\n",
       "        vertical-align: top;\n",
       "    }\n",
       "\n",
       "    .dataframe thead th {\n",
       "        text-align: right;\n",
       "    }\n",
       "</style>\n",
       "<table border=\"1\" class=\"dataframe\">\n",
       "  <thead>\n",
       "    <tr style=\"text-align: right;\">\n",
       "      <th></th>\n",
       "      <th>Score</th>\n",
       "      <th>P_Value</th>\n",
       "    </tr>\n",
       "  </thead>\n",
       "  <tbody>\n",
       "    <tr>\n",
       "      <th>Exe. Max Heartrate</th>\n",
       "      <td>197.354493</td>\n",
       "      <td>0.000</td>\n",
       "    </tr>\n",
       "    <tr>\n",
       "      <th>Major Vessels</th>\n",
       "      <td>80.790297</td>\n",
       "      <td>0.000</td>\n",
       "    </tr>\n",
       "    <tr>\n",
       "      <th>Exe. ST Depression</th>\n",
       "      <td>68.733906</td>\n",
       "      <td>0.000</td>\n",
       "    </tr>\n",
       "    <tr>\n",
       "      <th>Thalassemia</th>\n",
       "      <td>66.601762</td>\n",
       "      <td>0.000</td>\n",
       "    </tr>\n",
       "    <tr>\n",
       "      <th>Exe. Induced Angina</th>\n",
       "      <td>36.486887</td>\n",
       "      <td>0.000</td>\n",
       "    </tr>\n",
       "    <tr>\n",
       "      <th>Age</th>\n",
       "      <td>22.263468</td>\n",
       "      <td>0.000</td>\n",
       "    </tr>\n",
       "    <tr>\n",
       "      <th>BP Systolic</th>\n",
       "      <td>16.867552</td>\n",
       "      <td>0.000</td>\n",
       "    </tr>\n",
       "    <tr>\n",
       "      <th>Cholesterol</th>\n",
       "      <td>15.115732</td>\n",
       "      <td>0.000</td>\n",
       "    </tr>\n",
       "    <tr>\n",
       "      <th>Chest Pain</th>\n",
       "      <td>14.902669</td>\n",
       "      <td>0.000</td>\n",
       "    </tr>\n",
       "    <tr>\n",
       "      <th>Exe. ST Segment Slope</th>\n",
       "      <td>7.973535</td>\n",
       "      <td>0.005</td>\n",
       "    </tr>\n",
       "    <tr>\n",
       "      <th>Gender</th>\n",
       "      <td>7.629523</td>\n",
       "      <td>0.006</td>\n",
       "    </tr>\n",
       "    <tr>\n",
       "      <th>Rest ECG</th>\n",
       "      <td>7.432740</td>\n",
       "      <td>0.006</td>\n",
       "    </tr>\n",
       "    <tr>\n",
       "      <th>Blood Sugar</th>\n",
       "      <td>0.000009</td>\n",
       "      <td>0.998</td>\n",
       "    </tr>\n",
       "  </tbody>\n",
       "</table>\n",
       "</div>"
      ]
     },
     "execution_count": 54,
     "metadata": {},
     "output_type": "execute_result"
    }
   ],
   "execution_count": 54
  },
  {
   "metadata": {
    "ExecuteTime": {
     "end_time": "2024-12-24T15:27:38.472788Z",
     "start_time": "2024-12-24T15:27:38.467279Z"
    }
   },
   "cell_type": "code",
   "source": [
    "chi_squared = SelectKBest(score_func=chi2, k=9)\n",
    "X_fs = chi_squared.fit_transform(X, y)"
   ],
   "id": "67cc4c3bdf7c8adf",
   "outputs": [],
   "execution_count": 57
  },
  {
   "metadata": {
    "ExecuteTime": {
     "end_time": "2024-12-24T15:27:48.042064Z",
     "start_time": "2024-12-24T15:27:48.030506Z"
    }
   },
   "cell_type": "code",
   "source": [
    "X_b, y_b = SMOTE().fit_resample(X_fs, y)\n",
    "X_b.shape\n",
    "\n",
    "build_base_model(X_b, y_b)"
   ],
   "id": "32ad6c2c1c2a9796",
   "outputs": [
    {
     "name": "stdout",
     "output_type": "stream",
     "text": [
      "SVM - Accuracy: 78.125.\n",
      "\n",
      "Classification Report\n",
      "              precision    recall  f1-score   support\n",
      "\n",
      "           0       0.71      0.86      0.77        28\n",
      "           1       0.87      0.72      0.79        36\n",
      "\n",
      "    accuracy                           0.78        64\n",
      "   macro avg       0.79      0.79      0.78        64\n",
      "weighted avg       0.80      0.78      0.78        64\n",
      "\n"
     ]
    }
   ],
   "execution_count": 58
  },
  {
   "metadata": {
    "ExecuteTime": {
     "end_time": "2024-12-24T15:28:07.163758Z",
     "start_time": "2024-12-24T15:28:07.102897Z"
    }
   },
   "cell_type": "code",
   "source": "fine_tune_model_with_random_search_cv(X_b, y_b)",
   "id": "9b5e51814a2a3adc",
   "outputs": [
    {
     "name": "stdout",
     "output_type": "stream",
     "text": [
      "{'kernel': 'rbf', 'gamma': 'auto', 'class_weight': 'balanced', 'C': 4}\n",
      "0.8279034690799396\n",
      "\n",
      "SVM - Accuracy: 78.125.\n",
      "SVM - Precision: 0.781.\n",
      "SVM - Recall: 0.781.\n",
      "SVM - F1_Score: 0.781.\n",
      "\n",
      "Classification Report\n",
      "              precision    recall  f1-score   support\n",
      "\n",
      "           0       0.72      0.82      0.77        28\n",
      "           1       0.84      0.75      0.79        36\n",
      "\n",
      "    accuracy                           0.78        64\n",
      "   macro avg       0.78      0.79      0.78        64\n",
      "weighted avg       0.79      0.78      0.78        64\n",
      "\n"
     ]
    }
   ],
   "execution_count": 59
  },
  {
   "metadata": {
    "ExecuteTime": {
     "end_time": "2024-12-24T15:28:17.174942Z",
     "start_time": "2024-12-24T15:28:17.107815Z"
    }
   },
   "cell_type": "code",
   "source": "fine_tune_model_with_random_search_cv(X_b,y_b)",
   "id": "b19784ab333bb4ea",
   "outputs": [
    {
     "name": "stdout",
     "output_type": "stream",
     "text": [
      "{'kernel': 'rbf', 'gamma': 'auto', 'class_weight': 'balanced', 'C': 3}\n",
      "0.8200603318250377\n",
      "\n",
      "SVM - Accuracy: 76.562.\n",
      "SVM - Precision: 0.766.\n",
      "SVM - Recall: 0.766.\n",
      "SVM - F1_Score: 0.766.\n",
      "\n",
      "Classification Report\n",
      "              precision    recall  f1-score   support\n",
      "\n",
      "           0       0.70      0.82      0.75        28\n",
      "           1       0.84      0.72      0.78        36\n",
      "\n",
      "    accuracy                           0.77        64\n",
      "   macro avg       0.77      0.77      0.77        64\n",
      "weighted avg       0.78      0.77      0.77        64\n",
      "\n"
     ]
    }
   ],
   "execution_count": 60
  },
  {
   "metadata": {},
   "cell_type": "code",
   "outputs": [],
   "execution_count": null,
   "source": "",
   "id": "fe8de2b7c41763d4"
  }
 ],
 "metadata": {
  "kernelspec": {
   "display_name": "Python 3",
   "language": "python",
   "name": "python3"
  },
  "language_info": {
   "codemirror_mode": {
    "name": "ipython",
    "version": 2
   },
   "file_extension": ".py",
   "mimetype": "text/x-python",
   "name": "python",
   "nbconvert_exporter": "python",
   "pygments_lexer": "ipython2",
   "version": "2.7.6"
  }
 },
 "nbformat": 4,
 "nbformat_minor": 5
}
