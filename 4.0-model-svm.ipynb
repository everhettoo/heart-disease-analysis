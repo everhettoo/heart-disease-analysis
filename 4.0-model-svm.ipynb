{
 "cells": [
  {
   "metadata": {},
   "cell_type": "markdown",
   "source": [
    "# Objective\n",
    "- base model without oversampling and feature selection & fine tune it\n",
    "- base model with oversampling and feature selection & fine tune it"
   ],
   "id": "a5c7eeb486978711"
  },
  {
   "cell_type": "code",
   "id": "initial_id",
   "metadata": {
    "collapsed": true
   },
   "source": [
    "import warnings\n",
    "\n",
    "import pandas as pd\n",
    "from numpy import arange\n",
    "from sklearn.metrics import classification_report, accuracy_score, precision_score, recall_score, f1_score\n",
    "from sklearn.model_selection import GridSearchCV\n",
    "from sklearn.model_selection import RandomizedSearchCV\n",
    "from sklearn.model_selection import train_test_split\n",
    "from sklearn.preprocessing import StandardScaler\n",
    "from sklearn.svm import SVC\n",
    "import matplotlib.pyplot as plt\n",
    "import seaborn as sns\n",
    "from collections import Counter\n",
    "from sklearn.metrics import confusion_matrix\n",
    "import numpy as np\n",
    "from sklearn.feature_selection import chi2,SelectKBest\n",
    "from imblearn.over_sampling import SMOTE\n",
    "from sklearn.metrics import RocCurveDisplay\n",
    "from sklearn.model_selection import StratifiedKFold, KFold\n",
    "import models.uci_heart_disease_dataset as uci\n",
    "\n",
    "warnings.filterwarnings(\"ignore\")"
   ],
   "outputs": [],
   "execution_count": null
  },
  {
   "metadata": {},
   "cell_type": "code",
   "source": [
    "# Load the preprocessed dataset (299 records; with 14 features).\n",
    "data = pd.read_csv(uci.UCIHeartDiseaseDataFile.cleveland_preprocessed, names = uci.get_standard_features())\n",
    "print(f'Data shape: {data.shape}.')\n",
    "data.head(3)"
   ],
   "id": "b56fe2f0b56e8fd7",
   "outputs": [],
   "execution_count": null
  },
  {
   "metadata": {},
   "cell_type": "code",
   "source": [
    "# Dictionary for storing executed model accuracies for result comparisons.\n",
    "accuracies = {}\n",
    "\n",
    "# Set the randomness for reproducing same split for comparisons.\n",
    "random_state = 1\n",
    "\n",
    "# Dictionary to hold hyperparameters for grid search.\n",
    "parameters = dict()\n",
    "parameters['kernel'] = ['rbf', 'poly', 'linear', 'sigmoid']\n",
    "# Tried even with 30 - takes longer but still chooses 1.\n",
    "parameters['C'] = arange(1, 10, 1)\n",
    "parameters['gamma'] = ['scale', 'auto']\n",
    "parameters['class_weight'] = ['dict', 'balanced']\n",
    "\n",
    "# A stratified K fold for cross validation strategy.\n",
    "skfolds = StratifiedKFold(n_splits = 5, shuffle = True, random_state = random_state)\n",
    "\n",
    "# A function to display classification-report, confusion-matrix and ROC curve for model result analysis.\n",
    "# Acknowledgement: Code was referenced from Prof. Mafas Raheem's AML lab-8.\n",
    "def display_validation_report(y_test, y_pred, x_test, classifier, test_name):\n",
    "    # Manually calculate accuracy in % for storing result.\n",
    "    svc_acc=round(accuracy_score(y_test, y_pred)*100,2)\n",
    "    accuracies[test_name] = svc_acc\n",
    "\n",
    "    # Display the classification report.\n",
    "    print(\"\\nClassification Report\")\n",
    "    print(classification_report(y_test, y_pred))\n",
    "\n",
    "    # Display the confusion matrix.\n",
    "    print(\"\\nConfusion Matrix\")\n",
    "    cm = confusion_matrix(y_test, y_pred)\n",
    "    plt.figure(figsize=(3, 3))\n",
    "    sns.heatmap(cm, annot=True, linewidths=.5, square=True, cmap='Blues', cbar=False)\n",
    "    plt.ylabel('Truth');\n",
    "    plt.xlabel('Predicted')\n",
    "\n",
    "    # Display ROC Curve.\n",
    "    RocCurveDisplay.from_estimator(estimator=classifier,\n",
    "                                   X=x_test,\n",
    "                                   y=y_test);\n",
    "\n",
    "def scale_and_split(x_set, y_set):\n",
    "    # SVM is very slow with unscaled/normalized data.\n",
    "    scaler = StandardScaler()\n",
    "    x_set = scaler.fit_transform(x_set)\n",
    "\n",
    "    # Do the train and test splits.\n",
    "    # random-state for reproducing the same result. Also, stratify class.\n",
    "    return train_test_split(x_set, y_set, test_size = 0.20, stratify=y, random_state=random_state)"
   ],
   "id": "dda875d83e7b6c7c",
   "outputs": [],
   "execution_count": null
  },
  {
   "metadata": {},
   "cell_type": "code",
   "source": [
    "# A function to build base model.\n",
    "# Acknowledgement: Code was referenced from Prof. Mafas Raheem's AML lab-8.\n",
    "def build_and_validate_base_model(x_set, y_set, test_name, verbose=False):\n",
    "    # Scale and do train/test split.\n",
    "    x_train, x_test, y_train, y_test = scale_and_split(x_set, y_set)\n",
    "\n",
    "    # Train the model with training set.\n",
    "    svc= SVC(verbose=verbose)\n",
    "    svc.fit(x_train, y_train)\n",
    "\n",
    "    # Do prediction with the train model.\n",
    "    y_pred = svc.predict(x_test)\n",
    "\n",
    "    # Display classification-report, confusion-matrix and ROC curve\n",
    "    display_validation_report(y_test, y_pred, x_test, svc, test_name)"
   ],
   "id": "13d54e478f9733b5",
   "outputs": [],
   "execution_count": null
  },
  {
   "metadata": {},
   "cell_type": "code",
   "source": [
    "# A function to build and fine tune model using GridSearchCV.\n",
    "def build_and_validate_with_grid_search_cv(x_set, y_set, test_name, parameters, validation_fold, verbose=False):\n",
    "    # Scale and do train/test split.\n",
    "    x_train, x_test, y_train, y_test = scale_and_split(x_set, y_set)\n",
    "\n",
    "    grid_svc= SVC(verbose=verbose)\n",
    "\n",
    "    ## Building Grid Search algorithm with cross-validation and acc score.\n",
    "    grid_search_svc = GridSearchCV(grid_svc, parameters, scoring='accuracy', cv=skfolds)\n",
    "\n",
    "    # Train and discover the model's hyperparameters for optimal result.\n",
    "    grid_search_svc.fit(x_train,y_train)\n",
    "\n",
    "    # Display the best hyperparameters and score.\n",
    "    print(f'Best params :{grid_search_svc.best_params_}.')\n",
    "    print(f'Best score  :{grid_search_svc.best_score_}.')\n",
    "\n",
    "    # Predict using the trained model.\n",
    "    y_pred = grid_search_svc.predict(x_test)\n",
    "\n",
    "    # Display classification-report, confusion-matrix and ROC curve\n",
    "    display_validation_report(y_test, y_pred, x_test, grid_search_svc, test_name)"
   ],
   "id": "708dd7e8caed6ca5",
   "outputs": [],
   "execution_count": null
  },
  {
   "metadata": {},
   "cell_type": "code",
   "source": [
    "# A function to build and fine tune model using RandomSearchCV.\n",
    "def fine_tuned_model_with_random_search_cv(x_set, y_set):\n",
    "    scaler = StandardScaler()\n",
    "    x_set = scaler.fit_transform(x_set)\n",
    "    x_train, x_test, y_train, y_test = train_test_split(x_set, y_set, test_size = 0.20, random_state=0)\n",
    "\n",
    "    rand_svc= SVC()\n",
    "\n",
    "    parameters = dict()\n",
    "    parameters['kernel'] = ['rbf', 'poly', 'linear', 'sigmoid']\n",
    "    parameters['C'] = arange(1, 10, 1)\n",
    "    parameters['gamma'] = ['scale', 'auto']\n",
    "    parameters['class_weight'] = ['dict', 'balanced']\n",
    "\n",
    "    ## Building Grid Search algorithm with cross-validation and acc score.\n",
    "\n",
    "    k = StratifiedKFold(shuffle=True, random_state=0)\n",
    "\n",
    "    rand_search_svc = RandomizedSearchCV(rand_svc, parameters, scoring='accuracy', cv=k)\n",
    "\n",
    "    rand_search_svc.fit(x_train,y_train)\n",
    "    best_parameters_svc = rand_search_svc.best_params_\n",
    "    best_score_svc = rand_search_svc.best_score_\n",
    "    print(best_parameters_svc)\n",
    "    print(best_score_svc)\n",
    "\n",
    "    y_pred = rand_search_svc.predict(x_test)\n",
    "\n",
    "    # Get the accuracy score\n",
    "    svc_acc=accuracy_score(y_test, y_pred)*100\n",
    "    svc_pre=precision_score(y_test, y_pred, average='micro')\n",
    "    svc_recall=recall_score(y_test, y_pred, average='micro')\n",
    "    svc_f1_=f1_score(y_test, y_pred, average='micro')\n",
    "\n",
    "    print(\"\\nSVM - Accuracy: {:.3f}.\".format(svc_acc))\n",
    "    print(\"SVM - Precision: {:.3f}.\".format(svc_pre))\n",
    "    print(\"SVM - Recall: {:.3f}.\".format(svc_recall))\n",
    "    print(\"SVM - F1_Score: {:.3f}.\".format(svc_f1_))\n",
    "    print(\"\\nClassification Report\")\n",
    "    print(classification_report(y_test, y_pred))"
   ],
   "id": "f7f51728763c42b2",
   "outputs": [],
   "execution_count": null
  },
  {
   "metadata": {},
   "cell_type": "markdown",
   "source": "### Standard Data (without over-sampling or feature selection)",
   "id": "411bab791d873c1d"
  },
  {
   "metadata": {
    "ExecuteTime": {
     "end_time": "2024-12-25T10:23:36.739367Z",
     "start_time": "2024-12-25T10:23:36.736008Z"
    }
   },
   "cell_type": "code",
   "source": [
    "X = data.drop(uci.UCIHeartDiseaseData.target, axis=1)\n",
    "y = data[uci.UCIHeartDiseaseData.target]"
   ],
   "id": "2e7bbc3fb749dc84",
   "outputs": [],
   "execution_count": 28
  },
  {
   "metadata": {
    "ExecuteTime": {
     "end_time": "2024-12-25T10:23:38.722201Z",
     "start_time": "2024-12-25T10:23:38.589864Z"
    }
   },
   "cell_type": "code",
   "source": [
    "test_name = 'svm-baseline'\n",
    "print(f'\\nTest name: {test_name}.')\n",
    "build_and_validate_base_model(X, y,test_name, verbose=False)"
   ],
   "id": "fa3dec4ac3dbc8c1",
   "outputs": [
    {
     "name": "stdout",
     "output_type": "stream",
     "text": [
      "\n",
      "Test name: svm-baseline.\n",
      "\n",
      "Classification Report\n",
      "              precision    recall  f1-score   support\n",
      "\n",
      "           0       0.85      0.88      0.86        32\n",
      "           1       0.85      0.82      0.84        28\n",
      "\n",
      "    accuracy                           0.85        60\n",
      "   macro avg       0.85      0.85      0.85        60\n",
      "weighted avg       0.85      0.85      0.85        60\n",
      "\n",
      "\n",
      "Confusion Matrix\n"
     ]
    },
    {
     "data": {
      "text/plain": [
       "<Figure size 300x300 with 1 Axes>"
      ],
      "image/png": "[encoded data removed]"
     },
     "metadata": {},
     "output_type": "display_data"
    },
    {
     "data": {
      "text/plain": [
       "<Figure size 640x480 with 1 Axes>"
      ],
      "image/png": "[encoded data removed]"
     },
     "metadata": {},
     "output_type": "display_data"
    }
   ],
   "execution_count": 29
  },
  {
   "metadata": {
    "ExecuteTime": {
     "end_time": "2024-12-25T10:23:42.879350Z",
     "start_time": "2024-12-25T10:23:42.182573Z"
    }
   },
   "cell_type": "code",
   "source": [
    "test_name = 'svm-grid'\n",
    "print(f'\\nTest name: {test_name}.')\n",
    "build_and_validate_with_grid_search_cv(X, y,test_name, parameters, validation_fold=5, verbose=False)"
   ],
   "id": "5ff133659b50a6f4",
   "outputs": [
    {
     "name": "stdout",
     "output_type": "stream",
     "text": [
      "\n",
      "Test name: svm-grid.\n",
      "Best params :{'C': 2, 'class_weight': 'balanced', 'gamma': 'scale', 'kernel': 'linear'}.\n",
      "Best score  :0.8286347517730498.\n",
      "\n",
      "Classification Report\n",
      "              precision    recall  f1-score   support\n",
      "\n",
      "           0       0.88      0.88      0.88        32\n",
      "           1       0.86      0.86      0.86        28\n",
      "\n",
      "    accuracy                           0.87        60\n",
      "   macro avg       0.87      0.87      0.87        60\n",
      "weighted avg       0.87      0.87      0.87        60\n",
      "\n",
      "\n",
      "Confusion Matrix\n"
     ]
    },
    {
     "data": {
      "text/plain": [
       "<Figure size 300x300 with 1 Axes>"
      ],
      "image/png": "[encoded data removed]"
     },
     "metadata": {},
     "output_type": "display_data"
    },
    {
     "data": {
      "text/plain": [
       "<Figure size 640x480 with 1 Axes>"
      ],
      "image/png": "[encoded data removed]"
     },
     "metadata": {},
     "output_type": "display_data"
    }
   ],
   "execution_count": 30
  },
  {
   "metadata": {
    "ExecuteTime": {
     "end_time": "2024-12-25T10:23:45.366964Z",
     "start_time": "2024-12-25T10:23:45.364090Z"
    }
   },
   "cell_type": "code",
   "source": "print(accuracies)",
   "id": "46a53d7088d81e90",
   "outputs": [
    {
     "name": "stdout",
     "output_type": "stream",
     "text": [
      "{'svm-baseline': 85.0, 'svm-grid': 86.67}\n"
     ]
    }
   ],
   "execution_count": 31
  },
  {
   "metadata": {},
   "cell_type": "markdown",
   "source": "### Data with over-sampling and feature selection",
   "id": "36476ad66e0ed040"
  },
  {
   "metadata": {},
   "cell_type": "code",
   "source": [
    "chi_squared = SelectKBest(score_func=chi2, k=13)\n",
    "chi_squared.fit(X, y)\n",
    "feature_score = pd.DataFrame({\"Score\":chi_squared.scores_, \"P_Value\":np.round(chi_squared.pvalues_,3)}, index=X.columns)\n",
    "feature_score.nlargest(n=13,columns=\"Score\")"
   ],
   "id": "ddd9a973cedcdc6d",
   "outputs": [],
   "execution_count": null
  },
  {
   "metadata": {},
   "cell_type": "code",
   "source": [
    "chi_squared = SelectKBest(score_func=chi2, k=9)\n",
    "X_fs = chi_squared.fit_transform(X, y)"
   ],
   "id": "67cc4c3bdf7c8adf",
   "outputs": [],
   "execution_count": null
  },
  {
   "metadata": {},
   "cell_type": "code",
   "source": [
    "X_b, y_b = SMOTE().fit_resample(X_fs, y)\n",
    "X_b.shape\n",
    "\n",
    "build_and_validate_base_model(X_b, y_b)"
   ],
   "id": "32ad6c2c1c2a9796",
   "outputs": [],
   "execution_count": null
  },
  {
   "metadata": {},
   "cell_type": "code",
   "source": "fine_tuned_model_with_random_search_cv(X_b, y_b)",
   "id": "9b5e51814a2a3adc",
   "outputs": [],
   "execution_count": null
  },
  {
   "metadata": {},
   "cell_type": "code",
   "source": "build_and_validate_with_grid_search_cv(X_b, y_b)",
   "id": "b19784ab333bb4ea",
   "outputs": [],
   "execution_count": null
  },
  {
   "metadata": {},
   "cell_type": "code",
   "source": "",
   "id": "fe8de2b7c41763d4",
   "outputs": [],
   "execution_count": null
  }
 ],
 "metadata": {
  "kernelspec": {
   "display_name": "Python 3",
   "language": "python",
   "name": "python3"
  },
  "language_info": {
   "codemirror_mode": {
    "name": "ipython",
    "version": 2
   },
   "file_extension": ".py",
   "mimetype": "text/x-python",
   "name": "python",
   "nbconvert_exporter": "python",
   "pygments_lexer": "ipython2",
   "version": "2.7.6"
  }
 },
 "nbformat": 4,
 "nbformat_minor": 5
}
