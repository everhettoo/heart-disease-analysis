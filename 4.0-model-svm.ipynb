{
 "cells": [
  {
   "metadata": {},
   "cell_type": "markdown",
   "source": [
    "# Algorithm: SVM\n",
    "Acknowledgement: Most of the code was referenced from Prof. Mafas Raheem's AML lab-8.\n",
    "## Model Validation Strategy\n",
    "Three models evaluated with two different datasets as described below.\n",
    "### Standard data (without oversampling)\n",
    "- Base,\n",
    "- Grid-Search-CV,\n",
    "- Random-Search-CV\n",
    "### Oversampling data (class balancing)\n",
    "- Base,\n",
    "- Grid-Search-CV,\n",
    "- Random-Search-CV\n",
    "### Conclusion (for all evaluations)\n",
    "- confusion matrix\n",
    "- accuracy chart"
   ],
   "id": "a5c7eeb486978711"
  },
  {
   "cell_type": "code",
   "id": "initial_id",
   "metadata": {
    "collapsed": true,
    "ExecuteTime": {
     "end_time": "2024-12-28T07:18:20.218329Z",
     "start_time": "2024-12-28T07:18:20.215569Z"
    }
   },
   "source": [
    "import warnings\n",
    "from collections import Counter\n",
    "from importlib import reload\n",
    "\n",
    "import matplotlib.pyplot as plt\n",
    "import pandas as pd\n",
    "import seaborn as sns\n",
    "from imblearn.over_sampling import SMOTE\n",
    "from sklearn.model_selection import GridSearchCV\n",
    "from sklearn.model_selection import RandomizedSearchCV\n",
    "from sklearn.model_selection import StratifiedKFold\n",
    "from sklearn.svm import SVC\n",
    "import models.uci_heart_disease_dataset as uci\n",
    "import custom_libs.classification_lib as clib\n",
    "from models.evaluation_type import EvaluationType\n",
    "import models.global_data as gd\n",
    "from models.evaluation_type import EvaluationType\n",
    "\n",
    "# Disabled warning.\n",
    "# warnings.filterwarnings(\"ignore\")"
   ],
   "outputs": [],
   "execution_count": 28
  },
  {
   "metadata": {
    "ExecuteTime": {
     "end_time": "2024-12-28T07:18:25.097011Z",
     "start_time": "2024-12-28T07:18:25.089649Z"
    }
   },
   "cell_type": "code",
   "source": [
    "# Load the preprocessed dataset (299 records; with 14 features) from `processed.cleveland-preprocessed`.\n",
    "data = pd.read_csv(uci.UCIHeartDiseaseDataFile.cleveland_preprocessed, names = uci.get_standard_features())\n",
    "print(f'Data shape: {data.shape}.')\n",
    "data.head(3)"
   ],
   "id": "b56fe2f0b56e8fd7",
   "outputs": [
    {
     "name": "stdout",
     "output_type": "stream",
     "text": [
      "Data shape: (299, 14).\n"
     ]
    },
    {
     "data": {
      "text/plain": [
       "   Age  Gender  Chest Pain  BP Systolic  Cholesterol  Blood Sugar  Rest ECG  \\\n",
       "0   63       1           1          145        233.0            1         2   \n",
       "1   67       1           4          160        286.0            0         2   \n",
       "2   67       1           4          120        229.0            0         2   \n",
       "\n",
       "   Exe. Max Heartrate  Exe. Induced Angina  Exe. ST Depression  \\\n",
       "0                 150                    0                 2.3   \n",
       "1                 108                    1                 1.5   \n",
       "2                 129                    1                 2.6   \n",
       "\n",
       "   Exe. ST Segment Slope  Major Vessels  Thalassemia  Target  \n",
       "0                      3              0            6       0  \n",
       "1                      2              3            3       1  \n",
       "2                      2              2            7       1  "
      ],
      "text/html": [
       "<div>\n",
       "<style scoped>\n",
       "    .dataframe tbody tr th:only-of-type {\n",
       "        vertical-align: middle;\n",
       "    }\n",
       "\n",
       "    .dataframe tbody tr th {\n",
       "        vertical-align: top;\n",
       "    }\n",
       "\n",
       "    .dataframe thead th {\n",
       "        text-align: right;\n",
       "    }\n",
       "</style>\n",
       "<table border=\"1\" class=\"dataframe\">\n",
       "  <thead>\n",
       "    <tr style=\"text-align: right;\">\n",
       "      <th></th>\n",
       "      <th>Age</th>\n",
       "      <th>Gender</th>\n",
       "      <th>Chest Pain</th>\n",
       "      <th>BP Systolic</th>\n",
       "      <th>Cholesterol</th>\n",
       "      <th>Blood Sugar</th>\n",
       "      <th>Rest ECG</th>\n",
       "      <th>Exe. Max Heartrate</th>\n",
       "      <th>Exe. Induced Angina</th>\n",
       "      <th>Exe. ST Depression</th>\n",
       "      <th>Exe. ST Segment Slope</th>\n",
       "      <th>Major Vessels</th>\n",
       "      <th>Thalassemia</th>\n",
       "      <th>Target</th>\n",
       "    </tr>\n",
       "  </thead>\n",
       "  <tbody>\n",
       "    <tr>\n",
       "      <th>0</th>\n",
       "      <td>63</td>\n",
       "      <td>1</td>\n",
       "      <td>1</td>\n",
       "      <td>145</td>\n",
       "      <td>233.0</td>\n",
       "      <td>1</td>\n",
       "      <td>2</td>\n",
       "      <td>150</td>\n",
       "      <td>0</td>\n",
       "      <td>2.3</td>\n",
       "      <td>3</td>\n",
       "      <td>0</td>\n",
       "      <td>6</td>\n",
       "      <td>0</td>\n",
       "    </tr>\n",
       "    <tr>\n",
       "      <th>1</th>\n",
       "      <td>67</td>\n",
       "      <td>1</td>\n",
       "      <td>4</td>\n",
       "      <td>160</td>\n",
       "      <td>286.0</td>\n",
       "      <td>0</td>\n",
       "      <td>2</td>\n",
       "      <td>108</td>\n",
       "      <td>1</td>\n",
       "      <td>1.5</td>\n",
       "      <td>2</td>\n",
       "      <td>3</td>\n",
       "      <td>3</td>\n",
       "      <td>1</td>\n",
       "    </tr>\n",
       "    <tr>\n",
       "      <th>2</th>\n",
       "      <td>67</td>\n",
       "      <td>1</td>\n",
       "      <td>4</td>\n",
       "      <td>120</td>\n",
       "      <td>229.0</td>\n",
       "      <td>0</td>\n",
       "      <td>2</td>\n",
       "      <td>129</td>\n",
       "      <td>1</td>\n",
       "      <td>2.6</td>\n",
       "      <td>2</td>\n",
       "      <td>2</td>\n",
       "      <td>7</td>\n",
       "      <td>1</td>\n",
       "    </tr>\n",
       "  </tbody>\n",
       "</table>\n",
       "</div>"
      ]
     },
     "execution_count": 29,
     "metadata": {},
     "output_type": "execute_result"
    }
   ],
   "execution_count": 29
  },
  {
   "metadata": {},
   "cell_type": "markdown",
   "source": [
    "## Evaluation with Standard Dataset (without oversampling)\n",
    "Standard dataset is the preprocessed data with 299 records and 14 columns."
   ],
   "id": "b088e77e8e405789"
  },
  {
   "metadata": {},
   "cell_type": "markdown",
   "source": [
    "### Data\n",
    "Prepare features and target variables from preprocessed dataset."
   ],
   "id": "71d721ba1e6277d4"
  },
  {
   "metadata": {
    "ExecuteTime": {
     "end_time": "2024-12-28T07:19:17.273327Z",
     "start_time": "2024-12-28T07:19:17.213488Z"
    }
   },
   "cell_type": "code",
   "source": [
    "reload(clib)\n",
    "# Drop target variable from X set.\n",
    "X = data.drop(uci.UCIHeartDiseaseData.target, axis=1)\n",
    "# Assign target variable into y set.\n",
    "y = data[uci.UCIHeartDiseaseData.target]\n",
    "\n",
    "# Display the counter for '1' and '0' in y set before splitting.\n",
    "print('Class count before and after split (stratified).')\n",
    "print(f'Entire-set  : {Counter(y)}.')\n",
    "\n",
    "# Global variables are used for splitting in order to achieve seamless evaluation result.\n",
    "# test_size = 0.2, stratify = True and random_state = 1.\n",
    "x_train, x_test, y_train, y_test = clib.scale_and_split(X,\n",
    "                                                        y,\n",
    "                                                        gd.DataSplitStrategy.test_size,\n",
    "                                                        gd.DataSplitStrategy.stratify,\n",
    "                                                        gd.DataSplitStrategy.random_state)\n",
    "\n",
    "print(f'Train-set   : {Counter(y_train)}.')\n",
    "print(f'Test-set    : {Counter(y_test)}.')\n",
    "\n",
    "# Display bar chart for the dataset.\n",
    "clib.get_class_counters(y, y_train, y_test).set_index('Set').plot.bar();"
   ],
   "id": "6c58e0ce827fb420",
   "outputs": [
    {
     "name": "stdout",
     "output_type": "stream",
     "text": [
      "Class count before and after split (stratified).\n",
      "Entire-set  : Counter({0: 160, 1: 139}).\n",
      "Train-set   : Counter({0: 128, 1: 111}).\n",
      "Test-set    : Counter({0: 32, 1: 28}).\n"
     ]
    },
    {
     "data": {
      "text/plain": [
       "<Figure size 640x480 with 1 Axes>"
      ],
      "image/png": "[encoded data removed]"
     },
     "metadata": {},
     "output_type": "display_data"
    }
   ],
   "execution_count": 30
  },
  {
   "metadata": {},
   "cell_type": "markdown",
   "source": "### Base Model",
   "id": "562faf4bcc050eb6"
  },
  {
   "metadata": {
    "ExecuteTime": {
     "end_time": "2024-12-28T07:27:13.575674Z",
     "start_time": "2024-12-28T07:27:13.565142Z"
    }
   },
   "cell_type": "code",
   "source": [
    "reload(clib)\n",
    "# Create the classifier for base model.\n",
    "cls = SVC()\n",
    "\n",
    "# Predict results for the trained model.\n",
    "y_pred = clib.build_and_predict(cls, x_train, y_train, x_test, EvaluationType.std_base)\n",
    "\n",
    "# Display/store the results for report later. Verbose = True will display the classification-report and confusion matrix.\n",
    "gd.accuracies[EvaluationType.std_base]  = result = clib.create_validation_report(y_test,\n",
    "                                                                                 y_pred,\n",
    "                                                                                 x_test,\n",
    "                                                                                 cls,\n",
    "                                                                                 EvaluationType.std_base,\n",
    "                                                                                 verbose=True)"
   ],
   "id": "13d54e478f9733b5",
   "outputs": [
    {
     "name": "stdout",
     "output_type": "stream",
     "text": [
      "\n",
      "Evaluation name: [std-base]. Building base-model...\n",
      "Params:{'C': 1.0, 'break_ties': False, 'cache_size': 200, 'class_weight': None, 'coef0': 0.0, 'decision_function_shape': 'ovr', 'degree': 3, 'gamma': 'scale', 'kernel': 'rbf', 'max_iter': -1, 'probability': False, 'random_state': None, 'shrinking': True, 'tol': 0.001, 'verbose': False}.\n",
      "\n",
      "Creating classification-report for [std-base] ...\n",
      "              precision    recall  f1-score   support\n",
      "\n",
      "           0       0.85      0.88      0.86        32\n",
      "           1       0.85      0.82      0.84        28\n",
      "\n",
      "    accuracy                           0.85        60\n",
      "   macro avg       0.85      0.85      0.85        60\n",
      "weighted avg       0.85      0.85      0.85        60\n",
      "\n",
      "\n",
      "Creating confusion-matrix for [std-base] ...\n",
      "[[28  4]\n",
      " [ 5 23]]\n",
      "\n",
      "Evaluation result was created for [std-base] ...\n"
     ]
    }
   ],
   "execution_count": 40
  },
  {
   "metadata": {},
   "cell_type": "markdown",
   "source": "### Grid Search CV (Function)",
   "id": "4f046cd4ab0bbe3f"
  },
  {
   "metadata": {},
   "cell_type": "code",
   "source": [
    "reload(ev)\n",
    "# A function discover the model's best hyperparameters and perform cross-validation using GridSearchCV.\n",
    "def build_and_validate_with_grid_search_cv(x_set, y_set, test_name):\n",
    "    print(f'\\nEvaluation name: {test_name}.')\n",
    "\n",
    "    # Calls the evaluation helper module to scale features and do split (classes are balanced using stratify split).\n",
    "    x_train, x_test, y_train, y_test = ev.scale_and_split(x_set, y_set)\n",
    "\n",
    "    dt= DecisionTreeClassifier(random_state=ev.random_state)\n",
    "\n",
    "    # Build Grid-search with parameters and stratified k fold strategy for cross-validation.\n",
    "    grid_scv = GridSearchCV(dt, parameters, scoring='accuracy', cv=skfolds)\n",
    "\n",
    "    # Train and discover the model's best hyperparameters for optimal performance.\n",
    "    grid_scv.fit(x_train,y_train)\n",
    "\n",
    "    # Display the best hyperparameters and score. The best score is mean of CV scores for train-set.\n",
    "    print(f'Best params          :{grid_scv.best_params_}.')\n",
    "    print(f'Best score (*mean)   :{grid_scv.best_score_}.')\n",
    "\n",
    "    # Predict using the trained model on the test-set.\n",
    "    y_pred = grid_scv.predict(x_test)\n",
    "\n",
    "    # Calls the evaluation helper module to display classification-report, confusion-matrix and ROC curve.\n",
    "    ev.display_validation_report(y_test, y_pred, x_test, grid_scv, test_name)"
   ],
   "id": "708dd7e8caed6ca5",
   "outputs": [],
   "execution_count": null
  },
  {
   "metadata": {},
   "cell_type": "markdown",
   "source": "### Random Search CV (Function)",
   "id": "b41571812e0534b0"
  },
  {
   "metadata": {},
   "cell_type": "code",
   "source": [
    "reload(ev)\n",
    "# A function discover the model's best hyperparameters and perform cross-validation using RandomSearchCV.\n",
    "def build_and_validate_with_random_search_cv(x_set, y_set, test_name):\n",
    "    print(f'\\nEvaluation name: {test_name}.')\n",
    "\n",
    "    # Calls the evaluation helper module to scale features and do split (classes are balanced using stratify split).\n",
    "    x_train, x_test, y_train, y_test = ev.scale_and_split(x_set, y_set)\n",
    "\n",
    "    dt= DecisionTreeClassifier(random_state=ev.random_state)\n",
    "\n",
    "    # Train and discover the model's best hyperparameters for optimal performance.\n",
    "    rand_svc = RandomizedSearchCV(dt, parameters, scoring='accuracy', cv=skfolds)\n",
    "\n",
    "    # Train and discover the model's hyperparameters for optimal result.\n",
    "    rand_svc.fit(x_train,y_train)\n",
    "\n",
    "    # Display the best hyperparameters and score.\n",
    "    print(f'Best params :{rand_svc.best_params_}.')\n",
    "    print(f'Best score  :{rand_svc.best_score_}.')\n",
    "\n",
    "    # Predict using the trained model.\n",
    "    y_pred = rand_svc.predict(x_test)\n",
    "\n",
    "    # Calls the evaluation helper module to display classification-report, confusion-matrix and ROC curve\n",
    "    ev.display_validation_report(y_test, y_pred, x_test, rand_svc, test_name)"
   ],
   "id": "f7f51728763c42b2",
   "outputs": [],
   "execution_count": null
  },
  {
   "metadata": {},
   "cell_type": "markdown",
   "source": [
    "## Evaluation with Standard Dataset (without oversampling)\n",
    "`processed.cleveland-preprocessed` - standard dataset is the preprocessed data with 299 records and 14 columns."
   ],
   "id": "411bab791d873c1d"
  },
  {
   "metadata": {},
   "cell_type": "markdown",
   "source": "### Data Preparation",
   "id": "5117a44a9e3e1e14"
  },
  {
   "metadata": {},
   "cell_type": "code",
   "source": [
    "reload(ev)\n",
    "# Prepare features and target variables.\n",
    "X = data.drop(uci.UCIHeartDiseaseData.target, axis=1)\n",
    "y = data[uci.UCIHeartDiseaseData.target]\n",
    "\n",
    "print(f'Classes before split: {Counter(y)}.')\n",
    "\n",
    "x_train, x_test, y_train, y_test = ev.scale_and_split(X, y)\n",
    "print(f'Classes after split (train): {Counter(y_train)}.')\n",
    "print(f'Classes after split (test): {Counter(y_test)}.')\n",
    "\n"
   ],
   "id": "2e7bbc3fb749dc84",
   "outputs": [],
   "execution_count": null
  },
  {
   "metadata": {},
   "cell_type": "code",
   "source": [
    "# Evaluation: Standard data with base model\n",
    "reload(ev)\n",
    "build_and_validate_base_model(X, y, ev.EvaluationType.std_base)"
   ],
   "id": "fa3dec4ac3dbc8c1",
   "outputs": [],
   "execution_count": null
  },
  {
   "metadata": {},
   "cell_type": "code",
   "source": [
    "# Evaluation: Standard data with Grid Search CV\n",
    "build_and_validate_with_grid_search_cv(X, y, ev.EvaluationType.std_grid_search_cv)"
   ],
   "id": "5ff133659b50a6f4",
   "outputs": [],
   "execution_count": null
  },
  {
   "metadata": {},
   "cell_type": "code",
   "source": [
    "# Evaluation: Standard Random Search CV\n",
    "build_and_validate_with_random_search_cv(X, y, ev.EvaluationType.std_random_search_cv)"
   ],
   "id": "37bee9ea660bce7f",
   "outputs": [],
   "execution_count": null
  },
  {
   "metadata": {},
   "cell_type": "code",
   "source": "print(ev.accuracies)",
   "id": "46a53d7088d81e90",
   "outputs": [],
   "execution_count": null
  },
  {
   "metadata": {},
   "cell_type": "markdown",
   "source": "## Evaluation with Oversampling Dataset (Class balancing)",
   "id": "36476ad66e0ed040"
  },
  {
   "metadata": {},
   "cell_type": "markdown",
   "source": "### Data Preparation and Oversampling",
   "id": "bc4aaf4ceca7c794"
  },
  {
   "metadata": {},
   "cell_type": "code",
   "source": [
    "# Prepare features and target variables.\n",
    "X = data.drop(uci.UCIHeartDiseaseData.target, axis=1)\n",
    "y = data[uci.UCIHeartDiseaseData.target]\n",
    "\n",
    "# Perform over-sampling with SMOTE\n",
    "X_b, y_b = SMOTE().fit_resample(X, y)\n",
    "print(f'Classes before oversampling :{Counter(data[uci.UCIHeartDiseaseData.target])}.')\n",
    "print(f'Classes after oversampling  :{Counter(y_b)}.')"
   ],
   "id": "b6294d37456edbd7",
   "outputs": [],
   "execution_count": null
  },
  {
   "metadata": {},
   "cell_type": "code",
   "source": [
    "# Before over-sampling\n",
    "plt.subplots(figsize=(5,5))\n",
    "sns.countplot(x=data[uci.UCIHeartDiseaseData.target])\n",
    "\n",
    "# After over-sampling\n",
    "plt.subplots(figsize=(5,5))\n",
    "sns.countplot(x=y_b)"
   ],
   "id": "32ad6c2c1c2a9796",
   "outputs": [],
   "execution_count": null
  },
  {
   "metadata": {},
   "cell_type": "code",
   "source": [
    "# Evaluation: Over-sampled Base\n",
    "build_and_validate_base_model(X_b, y_b, ev.EvaluationType.os_base)"
   ],
   "id": "388a8e475befd119",
   "outputs": [],
   "execution_count": null
  },
  {
   "metadata": {},
   "cell_type": "code",
   "source": [
    "# Evaluation: Over-sampled Grid Search CV\n",
    "build_and_validate_with_grid_search_cv(X_b, y_b, ev.EvaluationType.os_grid_search_cv)"
   ],
   "id": "c7cca0fd48de349d",
   "outputs": [],
   "execution_count": null
  },
  {
   "metadata": {},
   "cell_type": "code",
   "source": [
    "# Evaluation: Over-sampled Random Search CV\n",
    "build_and_validate_with_random_search_cv(X_b, y_b, ev.EvaluationType.os_random_search_cv)"
   ],
   "id": "357c4277d918393d",
   "outputs": [],
   "execution_count": null
  },
  {
   "metadata": {},
   "cell_type": "code",
   "source": "print(ev.accuracies)",
   "id": "3629168643044700",
   "outputs": [],
   "execution_count": null
  },
  {
   "metadata": {},
   "cell_type": "markdown",
   "source": "## Conclusion",
   "id": "5fbb3decbf32b3da"
  },
  {
   "metadata": {},
   "cell_type": "code",
   "source": [
    "plt.bar(range(len(ev.accuracies)), list(ev.accuracies.values()), align='center')\n",
    "plt.xticks(range(len(ev.accuracies)), list(ev.accuracies.keys()))\n",
    "\n",
    "plt.show()"
   ],
   "id": "42ec4ae45974874a",
   "outputs": [],
   "execution_count": null
  },
  {
   "metadata": {},
   "cell_type": "code",
   "source": [
    "### Register the highest in global\n",
    "ev.global_accuracies['DT'] = 87"
   ],
   "id": "5c5750b2ab2fd8d1",
   "outputs": [],
   "execution_count": null
  }
 ],
 "metadata": {
  "kernelspec": {
   "display_name": "Python 3",
   "language": "python",
   "name": "python3"
  },
  "language_info": {
   "codemirror_mode": {
    "name": "ipython",
    "version": 2
   },
   "file_extension": ".py",
   "mimetype": "text/x-python",
   "name": "python",
   "nbconvert_exporter": "python",
   "pygments_lexer": "ipython2",
   "version": "2.7.6"
  }
 },
 "nbformat": 4,
 "nbformat_minor": 5
}
