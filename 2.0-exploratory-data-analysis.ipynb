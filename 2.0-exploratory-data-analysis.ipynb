{
 "cells": [
  {
   "metadata": {},
   "cell_type": "markdown",
   "source": [
    "# Objective\n",
    "Before building ML models using the UCI Heart-Disease dataset, the following questions are to be clarified in this stage (data exploration).\n",
    "1. What problem needs solving?\n",
    "2. What data the dataset contains?\n",
    "3. Which feature appears more important than the other?\n",
    "4. What is the expected outcome?\n",
    "\n",
    "Once, these questions are clarified, we can proceed to next stage."
   ],
   "id": "f0eb4ade433a0269"
  },
  {
   "metadata": {
    "ExecuteTime": {
     "end_time": "2024-12-24T12:21:00.922015Z",
     "start_time": "2024-12-24T12:21:00.919586Z"
    }
   },
   "cell_type": "code",
   "source": [
    "# Load required libraries.\n",
    "import pandas as pd\n",
    "import matplotlib.pyplot as plt;\n",
    "import seaborn as sns;\n",
    "from custom_libs import helper\n",
    "from importlib import reload\n",
    "import numpy as np\n",
    "import models.uci_heart_disease_dataset as uci\n",
    "from models.uci_heart_disease_dataset import UCIHeartDiseaseData"
   ],
   "id": "8f21e87a43621955",
   "outputs": [],
   "execution_count": 97
  },
  {
   "cell_type": "code",
   "id": "890749f0a123e02b",
   "metadata": {
    "ExecuteTime": {
     "end_time": "2024-12-24T12:21:03.440995Z",
     "start_time": "2024-12-24T12:21:03.430066Z"
    }
   },
   "source": [
    "reload(uci)\n",
    "# The 'uci_heart_disease_dataset' library was created to handle UCI dataset related matters.\n",
    "# The 'get_standard_features' method returns meaningful names in list[] and can be used in dataframe header.\n",
    "data = pd.read_csv(uci.UCIHeartDiseaseDataFile.cleveland_processed, names=uci.get_standard_features())\n",
    "\n",
    "# 303 records and 14 columns.\n",
    "data.head(5)"
   ],
   "outputs": [
    {
     "data": {
      "text/plain": [
       "    Age  Gender  Chest Pain  BP Systolic  Cholesterol  Blood Sugar  Rest ECG  \\\n",
       "0  63.0     1.0         1.0        145.0        233.0          1.0       2.0   \n",
       "1  67.0     1.0         4.0        160.0        286.0          0.0       2.0   \n",
       "2  67.0     1.0         4.0        120.0        229.0          0.0       2.0   \n",
       "3  37.0     1.0         3.0        130.0        250.0          0.0       0.0   \n",
       "4  41.0     0.0         2.0        130.0        204.0          0.0       2.0   \n",
       "\n",
       "   Exe. Max Heartrate  Exe. Induced Angina  Exe. ST Depression  \\\n",
       "0               150.0                  0.0                 2.3   \n",
       "1               108.0                  1.0                 1.5   \n",
       "2               129.0                  1.0                 2.6   \n",
       "3               187.0                  0.0                 3.5   \n",
       "4               172.0                  0.0                 1.4   \n",
       "\n",
       "   Exe. ST Segment Slope Major Vessels Thalassemia  Target  \n",
       "0                    3.0           0.0         6.0       0  \n",
       "1                    2.0           3.0         3.0       2  \n",
       "2                    2.0           2.0         7.0       1  \n",
       "3                    3.0           0.0         3.0       0  \n",
       "4                    1.0           0.0         3.0       0  "
      ],
      "text/html": [
       "<div>\n",
       "<style scoped>\n",
       "    .dataframe tbody tr th:only-of-type {\n",
       "        vertical-align: middle;\n",
       "    }\n",
       "\n",
       "    .dataframe tbody tr th {\n",
       "        vertical-align: top;\n",
       "    }\n",
       "\n",
       "    .dataframe thead th {\n",
       "        text-align: right;\n",
       "    }\n",
       "</style>\n",
       "<table border=\"1\" class=\"dataframe\">\n",
       "  <thead>\n",
       "    <tr style=\"text-align: right;\">\n",
       "      <th></th>\n",
       "      <th>Age</th>\n",
       "      <th>Gender</th>\n",
       "      <th>Chest Pain</th>\n",
       "      <th>BP Systolic</th>\n",
       "      <th>Cholesterol</th>\n",
       "      <th>Blood Sugar</th>\n",
       "      <th>Rest ECG</th>\n",
       "      <th>Exe. Max Heartrate</th>\n",
       "      <th>Exe. Induced Angina</th>\n",
       "      <th>Exe. ST Depression</th>\n",
       "      <th>Exe. ST Segment Slope</th>\n",
       "      <th>Major Vessels</th>\n",
       "      <th>Thalassemia</th>\n",
       "      <th>Target</th>\n",
       "    </tr>\n",
       "  </thead>\n",
       "  <tbody>\n",
       "    <tr>\n",
       "      <th>0</th>\n",
       "      <td>63.0</td>\n",
       "      <td>1.0</td>\n",
       "      <td>1.0</td>\n",
       "      <td>145.0</td>\n",
       "      <td>233.0</td>\n",
       "      <td>1.0</td>\n",
       "      <td>2.0</td>\n",
       "      <td>150.0</td>\n",
       "      <td>0.0</td>\n",
       "      <td>2.3</td>\n",
       "      <td>3.0</td>\n",
       "      <td>0.0</td>\n",
       "      <td>6.0</td>\n",
       "      <td>0</td>\n",
       "    </tr>\n",
       "    <tr>\n",
       "      <th>1</th>\n",
       "      <td>67.0</td>\n",
       "      <td>1.0</td>\n",
       "      <td>4.0</td>\n",
       "      <td>160.0</td>\n",
       "      <td>286.0</td>\n",
       "      <td>0.0</td>\n",
       "      <td>2.0</td>\n",
       "      <td>108.0</td>\n",
       "      <td>1.0</td>\n",
       "      <td>1.5</td>\n",
       "      <td>2.0</td>\n",
       "      <td>3.0</td>\n",
       "      <td>3.0</td>\n",
       "      <td>2</td>\n",
       "    </tr>\n",
       "    <tr>\n",
       "      <th>2</th>\n",
       "      <td>67.0</td>\n",
       "      <td>1.0</td>\n",
       "      <td>4.0</td>\n",
       "      <td>120.0</td>\n",
       "      <td>229.0</td>\n",
       "      <td>0.0</td>\n",
       "      <td>2.0</td>\n",
       "      <td>129.0</td>\n",
       "      <td>1.0</td>\n",
       "      <td>2.6</td>\n",
       "      <td>2.0</td>\n",
       "      <td>2.0</td>\n",
       "      <td>7.0</td>\n",
       "      <td>1</td>\n",
       "    </tr>\n",
       "    <tr>\n",
       "      <th>3</th>\n",
       "      <td>37.0</td>\n",
       "      <td>1.0</td>\n",
       "      <td>3.0</td>\n",
       "      <td>130.0</td>\n",
       "      <td>250.0</td>\n",
       "      <td>0.0</td>\n",
       "      <td>0.0</td>\n",
       "      <td>187.0</td>\n",
       "      <td>0.0</td>\n",
       "      <td>3.5</td>\n",
       "      <td>3.0</td>\n",
       "      <td>0.0</td>\n",
       "      <td>3.0</td>\n",
       "      <td>0</td>\n",
       "    </tr>\n",
       "    <tr>\n",
       "      <th>4</th>\n",
       "      <td>41.0</td>\n",
       "      <td>0.0</td>\n",
       "      <td>2.0</td>\n",
       "      <td>130.0</td>\n",
       "      <td>204.0</td>\n",
       "      <td>0.0</td>\n",
       "      <td>2.0</td>\n",
       "      <td>172.0</td>\n",
       "      <td>0.0</td>\n",
       "      <td>1.4</td>\n",
       "      <td>1.0</td>\n",
       "      <td>0.0</td>\n",
       "      <td>3.0</td>\n",
       "      <td>0</td>\n",
       "    </tr>\n",
       "  </tbody>\n",
       "</table>\n",
       "</div>"
      ]
     },
     "execution_count": 98,
     "metadata": {},
     "output_type": "execute_result"
    }
   ],
   "execution_count": 98
  },
  {
   "metadata": {},
   "cell_type": "markdown",
   "source": [
    "# 1. What problem needs solving?\n",
    "<b>Classify</b> - whether a patient has heart disease based on his/her medical data.\n",
    "\n",
    "At a glance, it appears to be binary classification problem.\\\n",
    "From the data-dictionary, `Target` is the candidate for the classification. Let's investigate the variable's supportability for <u>binary classification</u> problem."
   ],
   "id": "322ef85552d321e8"
  },
  {
   "metadata": {
    "ExecuteTime": {
     "end_time": "2024-12-24T12:21:07.492999Z",
     "start_time": "2024-12-24T12:21:07.487990Z"
    }
   },
   "cell_type": "code",
   "source": [
    "# Let's see what the 'Target' variable is made of.\n",
    "data.info()"
   ],
   "id": "cc0d8512f6a6ebce",
   "outputs": [
    {
     "name": "stdout",
     "output_type": "stream",
     "text": [
      "<class 'pandas.core.frame.DataFrame'>\n",
      "RangeIndex: 303 entries, 0 to 302\n",
      "Data columns (total 14 columns):\n",
      " #   Column                 Non-Null Count  Dtype  \n",
      "---  ------                 --------------  -----  \n",
      " 0   Age                    303 non-null    float64\n",
      " 1   Gender                 303 non-null    float64\n",
      " 2   Chest Pain             303 non-null    float64\n",
      " 3   BP Systolic            303 non-null    float64\n",
      " 4   Cholesterol            303 non-null    float64\n",
      " 5   Blood Sugar            303 non-null    float64\n",
      " 6   Rest ECG               303 non-null    float64\n",
      " 7   Exe. Max Heartrate     303 non-null    float64\n",
      " 8   Exe. Induced Angina    303 non-null    float64\n",
      " 9   Exe. ST Depression     303 non-null    float64\n",
      " 10  Exe. ST Segment Slope  303 non-null    float64\n",
      " 11  Major Vessels          303 non-null    object \n",
      " 12  Thalassemia            303 non-null    object \n",
      " 13  Target                 303 non-null    int64  \n",
      "dtypes: float64(11), int64(1), object(2)\n",
      "memory usage: 33.3+ KB\n"
     ]
    }
   ],
   "execution_count": 99
  },
  {
   "metadata": {
    "ExecuteTime": {
     "end_time": "2024-12-24T12:21:09.292836Z",
     "start_time": "2024-12-24T12:21:09.289524Z"
    }
   },
   "cell_type": "code",
   "source": [
    "# From the above, it appears that 'Target' variable has integer data-type.\n",
    "# Let's investigate further if the integer values are in binary class (1 and 0).\n",
    "data[uci.UCIHeartDiseaseData.target].value_counts()"
   ],
   "id": "e25a1afb0b274595",
   "outputs": [
    {
     "data": {
      "text/plain": [
       "Target\n",
       "0    164\n",
       "1     55\n",
       "2     36\n",
       "3     35\n",
       "4     13\n",
       "Name: count, dtype: int64"
      ]
     },
     "execution_count": 100,
     "metadata": {},
     "output_type": "execute_result"
    }
   ],
   "execution_count": 100
  },
  {
   "metadata": {},
   "cell_type": "markdown",
   "source": [
    "### Observation:\n",
    "The `Target` variable cannot support binary classification since it has more than 2 values/classes.\n",
    "\n",
    "If we understood the original intention from the [data-dictionary](1.0-introduction.ipynb) and the literature:\n",
    "- Any patient with less than 50% vessel narrowing was marked as `value: 0` -- no heart disease\n",
    "- Any patient with more than 50% vessel narrowing was marked as `value: 1` -- has heart disease. This was further expanded to 1, 2, 3 and 4 based on affected major vessel.\n",
    "\n",
    "### Conclusion:\n",
    "We can safely convert this to a binary classification problem by replacing any values of target variable other than `0` to `1`. This logically simplifies that any patient with vessel narrowing more than 50% is suspected to have heart-disease (without distorting the original meaning much)."
   ],
   "id": "20a1761f4ac8c562"
  },
  {
   "metadata": {
    "ExecuteTime": {
     "end_time": "2024-12-24T12:21:12.502441Z",
     "start_time": "2024-12-24T12:21:12.497268Z"
    }
   },
   "cell_type": "code",
   "source": [
    "# Convert any values in target variable other than `0` to `1` - to support binary classification problem.\n",
    "# The sum of 1, 2, 3 and 4 classes should total up to 55 + 36 + 35 + 13 = 139.\n",
    "data.loc[data[uci.UCIHeartDiseaseData.target]!=0,uci.UCIHeartDiseaseData.target]=1\n",
    "data[uci.UCIHeartDiseaseData.target].value_counts()"
   ],
   "id": "cd010bc96be740b2",
   "outputs": [
    {
     "data": {
      "text/plain": [
       "Target\n",
       "0    164\n",
       "1    139\n",
       "Name: count, dtype: int64"
      ]
     },
     "execution_count": 101,
     "metadata": {},
     "output_type": "execute_result"
    }
   ],
   "execution_count": 101
  },
  {
   "metadata": {},
   "cell_type": "markdown",
   "source": [
    "## 2. What data-types the dataset contains?\n",
    "We got the basic idea about the data types from the [data-dictionary](1.0-introduction.ipynb). let's investigate and verify further the content."
   ],
   "id": "14e49292b4c2276e"
  },
  {
   "metadata": {
    "ExecuteTime": {
     "end_time": "2024-12-24T12:21:15.272471Z",
     "start_time": "2024-12-24T12:21:15.266409Z"
    }
   },
   "cell_type": "code",
   "source": [
    "# The dictionary indicated all processed data is in numerical format. Let's investigate.\n",
    "data.info()"
   ],
   "id": "24c19fe43fa345cf",
   "outputs": [
    {
     "name": "stdout",
     "output_type": "stream",
     "text": [
      "<class 'pandas.core.frame.DataFrame'>\n",
      "RangeIndex: 303 entries, 0 to 302\n",
      "Data columns (total 14 columns):\n",
      " #   Column                 Non-Null Count  Dtype  \n",
      "---  ------                 --------------  -----  \n",
      " 0   Age                    303 non-null    float64\n",
      " 1   Gender                 303 non-null    float64\n",
      " 2   Chest Pain             303 non-null    float64\n",
      " 3   BP Systolic            303 non-null    float64\n",
      " 4   Cholesterol            303 non-null    float64\n",
      " 5   Blood Sugar            303 non-null    float64\n",
      " 6   Rest ECG               303 non-null    float64\n",
      " 7   Exe. Max Heartrate     303 non-null    float64\n",
      " 8   Exe. Induced Angina    303 non-null    float64\n",
      " 9   Exe. ST Depression     303 non-null    float64\n",
      " 10  Exe. ST Segment Slope  303 non-null    float64\n",
      " 11  Major Vessels          303 non-null    object \n",
      " 12  Thalassemia            303 non-null    object \n",
      " 13  Target                 303 non-null    int64  \n",
      "dtypes: float64(11), int64(1), object(2)\n",
      "memory usage: 33.3+ KB\n"
     ]
    }
   ],
   "execution_count": 102
  },
  {
   "metadata": {
    "ExecuteTime": {
     "end_time": "2024-12-24T12:21:17.052656Z",
     "start_time": "2024-12-24T12:21:17.049181Z"
    }
   },
   "cell_type": "code",
   "source": [
    "# There are 11 numerical (float and int) data, and two objects ('Major Vessels' and 'Thalassemia'). This 2 objects were not documented in data-dictionary.\n",
    "# Let's check if there are for missing values (isnull/isna checks for None, NaN or NaT (datetime)).\n",
    "data.isnull().sum()"
   ],
   "id": "b982da583552187b",
   "outputs": [
    {
     "data": {
      "text/plain": [
       "Age                      0\n",
       "Gender                   0\n",
       "Chest Pain               0\n",
       "BP Systolic              0\n",
       "Cholesterol              0\n",
       "Blood Sugar              0\n",
       "Rest ECG                 0\n",
       "Exe. Max Heartrate       0\n",
       "Exe. Induced Angina      0\n",
       "Exe. ST Depression       0\n",
       "Exe. ST Segment Slope    0\n",
       "Major Vessels            0\n",
       "Thalassemia              0\n",
       "Target                   0\n",
       "dtype: int64"
      ]
     },
     "execution_count": 103,
     "metadata": {},
     "output_type": "execute_result"
    }
   ],
   "execution_count": 103
  },
  {
   "metadata": {
    "ExecuteTime": {
     "end_time": "2024-12-24T12:21:19.043882Z",
     "start_time": "2024-12-24T12:21:19.040306Z"
    }
   },
   "cell_type": "code",
   "source": [
    "# Result shows no missing values. But why the data types for 'Major Vessels' and 'Thalassemia' are not numeric as indicated by data-dictionary?\n",
    "# Let's investigate further the two objects manually, to identify the missing values.\n",
    "for item in uci.get_standard_features():\n",
    "    d = data[item]\n",
    "    if d.dtype == 'object':\n",
    "        print(data[item].value_counts())"
   ],
   "id": "656a0cbe191c5d0c",
   "outputs": [
    {
     "name": "stdout",
     "output_type": "stream",
     "text": [
      "Major Vessels\n",
      "0.0    176\n",
      "1.0     65\n",
      "2.0     38\n",
      "3.0     20\n",
      "?        4\n",
      "Name: count, dtype: int64\n",
      "Thalassemia\n",
      "3.0    166\n",
      "7.0    117\n",
      "6.0     18\n",
      "?        2\n",
      "Name: count, dtype: int64\n"
     ]
    }
   ],
   "execution_count": 104
  },
  {
   "metadata": {
    "ExecuteTime": {
     "end_time": "2024-12-24T12:21:20.883955Z",
     "start_time": "2024-12-24T12:21:20.880419Z"
    }
   },
   "cell_type": "code",
   "source": [
    "# 'Major Vessels' and 'Thalassemia' should be numerical. However, it is marked as '?'.\n",
    "# Let's investigate further on Thalassemia.\n",
    "data[uci.UCIHeartDiseaseData.thalassemia].value_counts()"
   ],
   "id": "44d78aae31062295",
   "outputs": [
    {
     "data": {
      "text/plain": [
       "Thalassemia\n",
       "3.0    166\n",
       "7.0    117\n",
       "6.0     18\n",
       "?        2\n",
       "Name: count, dtype: int64"
      ]
     },
     "execution_count": 105,
     "metadata": {},
     "output_type": "execute_result"
    }
   ],
   "execution_count": 105
  },
  {
   "metadata": {
    "ExecuteTime": {
     "end_time": "2024-12-24T12:21:23.072310Z",
     "start_time": "2024-12-24T12:21:23.064039Z"
    }
   },
   "cell_type": "code",
   "source": [
    "# Let's check the distribution of the missing value marked as '?' in both features.\n",
    "data[(data[uci.UCIHeartDiseaseData.thalassemia]=='?') | (data[uci.UCIHeartDiseaseData.major_vessels]=='?')]"
   ],
   "id": "cd2ed89dba9f5e35",
   "outputs": [
    {
     "data": {
      "text/plain": [
       "      Age  Gender  Chest Pain  BP Systolic  Cholesterol  Blood Sugar  \\\n",
       "87   53.0     0.0         3.0        128.0        216.0          0.0   \n",
       "166  52.0     1.0         3.0        138.0        223.0          0.0   \n",
       "192  43.0     1.0         4.0        132.0        247.0          1.0   \n",
       "266  52.0     1.0         4.0        128.0        204.0          1.0   \n",
       "287  58.0     1.0         2.0        125.0        220.0          0.0   \n",
       "302  38.0     1.0         3.0        138.0        175.0          0.0   \n",
       "\n",
       "     Rest ECG  Exe. Max Heartrate  Exe. Induced Angina  Exe. ST Depression  \\\n",
       "87        2.0               115.0                  0.0                 0.0   \n",
       "166       0.0               169.0                  0.0                 0.0   \n",
       "192       2.0               143.0                  1.0                 0.1   \n",
       "266       0.0               156.0                  1.0                 1.0   \n",
       "287       0.0               144.0                  0.0                 0.4   \n",
       "302       0.0               173.0                  0.0                 0.0   \n",
       "\n",
       "     Exe. ST Segment Slope Major Vessels Thalassemia  Target  \n",
       "87                     1.0           0.0           ?       0  \n",
       "166                    1.0             ?         3.0       0  \n",
       "192                    2.0             ?         7.0       1  \n",
       "266                    2.0           0.0           ?       1  \n",
       "287                    2.0             ?         7.0       0  \n",
       "302                    1.0             ?         3.0       0  "
      ],
      "text/html": [
       "<div>\n",
       "<style scoped>\n",
       "    .dataframe tbody tr th:only-of-type {\n",
       "        vertical-align: middle;\n",
       "    }\n",
       "\n",
       "    .dataframe tbody tr th {\n",
       "        vertical-align: top;\n",
       "    }\n",
       "\n",
       "    .dataframe thead th {\n",
       "        text-align: right;\n",
       "    }\n",
       "</style>\n",
       "<table border=\"1\" class=\"dataframe\">\n",
       "  <thead>\n",
       "    <tr style=\"text-align: right;\">\n",
       "      <th></th>\n",
       "      <th>Age</th>\n",
       "      <th>Gender</th>\n",
       "      <th>Chest Pain</th>\n",
       "      <th>BP Systolic</th>\n",
       "      <th>Cholesterol</th>\n",
       "      <th>Blood Sugar</th>\n",
       "      <th>Rest ECG</th>\n",
       "      <th>Exe. Max Heartrate</th>\n",
       "      <th>Exe. Induced Angina</th>\n",
       "      <th>Exe. ST Depression</th>\n",
       "      <th>Exe. ST Segment Slope</th>\n",
       "      <th>Major Vessels</th>\n",
       "      <th>Thalassemia</th>\n",
       "      <th>Target</th>\n",
       "    </tr>\n",
       "  </thead>\n",
       "  <tbody>\n",
       "    <tr>\n",
       "      <th>87</th>\n",
       "      <td>53.0</td>\n",
       "      <td>0.0</td>\n",
       "      <td>3.0</td>\n",
       "      <td>128.0</td>\n",
       "      <td>216.0</td>\n",
       "      <td>0.0</td>\n",
       "      <td>2.0</td>\n",
       "      <td>115.0</td>\n",
       "      <td>0.0</td>\n",
       "      <td>0.0</td>\n",
       "      <td>1.0</td>\n",
       "      <td>0.0</td>\n",
       "      <td>?</td>\n",
       "      <td>0</td>\n",
       "    </tr>\n",
       "    <tr>\n",
       "      <th>166</th>\n",
       "      <td>52.0</td>\n",
       "      <td>1.0</td>\n",
       "      <td>3.0</td>\n",
       "      <td>138.0</td>\n",
       "      <td>223.0</td>\n",
       "      <td>0.0</td>\n",
       "      <td>0.0</td>\n",
       "      <td>169.0</td>\n",
       "      <td>0.0</td>\n",
       "      <td>0.0</td>\n",
       "      <td>1.0</td>\n",
       "      <td>?</td>\n",
       "      <td>3.0</td>\n",
       "      <td>0</td>\n",
       "    </tr>\n",
       "    <tr>\n",
       "      <th>192</th>\n",
       "      <td>43.0</td>\n",
       "      <td>1.0</td>\n",
       "      <td>4.0</td>\n",
       "      <td>132.0</td>\n",
       "      <td>247.0</td>\n",
       "      <td>1.0</td>\n",
       "      <td>2.0</td>\n",
       "      <td>143.0</td>\n",
       "      <td>1.0</td>\n",
       "      <td>0.1</td>\n",
       "      <td>2.0</td>\n",
       "      <td>?</td>\n",
       "      <td>7.0</td>\n",
       "      <td>1</td>\n",
       "    </tr>\n",
       "    <tr>\n",
       "      <th>266</th>\n",
       "      <td>52.0</td>\n",
       "      <td>1.0</td>\n",
       "      <td>4.0</td>\n",
       "      <td>128.0</td>\n",
       "      <td>204.0</td>\n",
       "      <td>1.0</td>\n",
       "      <td>0.0</td>\n",
       "      <td>156.0</td>\n",
       "      <td>1.0</td>\n",
       "      <td>1.0</td>\n",
       "      <td>2.0</td>\n",
       "      <td>0.0</td>\n",
       "      <td>?</td>\n",
       "      <td>1</td>\n",
       "    </tr>\n",
       "    <tr>\n",
       "      <th>287</th>\n",
       "      <td>58.0</td>\n",
       "      <td>1.0</td>\n",
       "      <td>2.0</td>\n",
       "      <td>125.0</td>\n",
       "      <td>220.0</td>\n",
       "      <td>0.0</td>\n",
       "      <td>0.0</td>\n",
       "      <td>144.0</td>\n",
       "      <td>0.0</td>\n",
       "      <td>0.4</td>\n",
       "      <td>2.0</td>\n",
       "      <td>?</td>\n",
       "      <td>7.0</td>\n",
       "      <td>0</td>\n",
       "    </tr>\n",
       "    <tr>\n",
       "      <th>302</th>\n",
       "      <td>38.0</td>\n",
       "      <td>1.0</td>\n",
       "      <td>3.0</td>\n",
       "      <td>138.0</td>\n",
       "      <td>175.0</td>\n",
       "      <td>0.0</td>\n",
       "      <td>0.0</td>\n",
       "      <td>173.0</td>\n",
       "      <td>0.0</td>\n",
       "      <td>0.0</td>\n",
       "      <td>1.0</td>\n",
       "      <td>?</td>\n",
       "      <td>3.0</td>\n",
       "      <td>0</td>\n",
       "    </tr>\n",
       "  </tbody>\n",
       "</table>\n",
       "</div>"
      ]
     },
     "execution_count": 106,
     "metadata": {},
     "output_type": "execute_result"
    }
   ],
   "execution_count": 106
  },
  {
   "metadata": {
    "ExecuteTime": {
     "end_time": "2024-12-24T12:21:24.680265Z",
     "start_time": "2024-12-24T12:21:24.676651Z"
    }
   },
   "cell_type": "code",
   "source": [
    "# From above, it looks like the sum is 6, and they are disjointed (4 from 'Major Vessels' and 2 from 'Thalassemia'):\n",
    "# Let's see the overall percentage of the missing values.\n",
    "print(f'[{uci.UCIHeartDiseaseData.major_vessels}] has {round(helper.value_count(data,uci.UCIHeartDiseaseData.major_vessels,\n",
    "                                                                                '?'),2)}% of \\'?\\' values.')\n",
    "print(f'[{uci.UCIHeartDiseaseData.thalassemia}] has {round(helper.value_count(data,uci.UCIHeartDiseaseData.thalassemia,\n",
    "                                                                                '?'),2)}% of \\'?\\' values.')"
   ],
   "id": "f923a0bef9d81f6d",
   "outputs": [
    {
     "name": "stdout",
     "output_type": "stream",
     "text": [
      "[Major Vessels] has 1.32% of '?' values.\n",
      "[Thalassemia] has 0.66% of '?' values.\n"
     ]
    }
   ],
   "execution_count": 107
  },
  {
   "metadata": {},
   "cell_type": "markdown",
   "source": [
    "### Observation:\n",
    "- From the investigation, it appears feature `Major Vessels` and `Thalassemia` have missing values marked as `?`.\n",
    "- Together there are 6 records (4 from `Major Vessels` and 2 from `Thalassemia`) and they are disjoint.\n",
    "- The total missing values are less than 2%.\n",
    "\n",
    "### Conclusion\n",
    "- There are ~2% missing value in the dataset, cannot impute with 'mean' since it was originally a categorical and important variable - should be dropped to avoid unnecessary data inconsistency.\n",
    "- Before dropping, other datasets (Long Beach, Hungarian and Switzerland) need to be investigated for similar issue."
   ],
   "id": "50a5566f8093fbf6"
  },
  {
   "metadata": {},
   "cell_type": "markdown",
   "source": "### A Brief Investigation on Other Datasets",
   "id": "8263e3389569c180"
  },
  {
   "metadata": {},
   "cell_type": "code",
   "source": [
    "# Hungarian dataset\n",
    "reload(uci)\n",
    "temp_data = pd.read_csv(uci.UCIHeartDiseaseDataFile.hungarian_processed, names=uci.get_standard_features())\n",
    "for item in uci.get_standard_features():\n",
    "    if temp_data[item].dtype == 'object':\n",
    "        print(f'[{item}] has {round(helper.value_count(temp_data,item,'?'),2)}% of ? values.')"
   ],
   "id": "4d7cd8aadb380010",
   "outputs": [],
   "execution_count": null
  },
  {
   "metadata": {},
   "cell_type": "code",
   "source": [
    "# Long Beach dataset\n",
    "reload(uci)\n",
    "temp_data = pd.read_csv(uci.UCIHeartDiseaseDataFile.longbeach_processed, names=uci.get_standard_features())\n",
    "for item in uci.get_standard_features():\n",
    "    if temp_data[item].dtype == 'object':\n",
    "        print(f'[{item}] has {round(helper.value_count(temp_data,item,'?'),2)}% of ? values.')"
   ],
   "id": "a1b98a741f9fd735",
   "outputs": [],
   "execution_count": null
  },
  {
   "metadata": {},
   "cell_type": "code",
   "source": [
    "# Switzerland dataset\n",
    "reload(uci)\n",
    "temp_data = pd.read_csv(uci.UCIHeartDiseaseDataFile.switzerland_processed, names=uci.get_standard_features())\n",
    "for item in uci.get_standard_features():\n",
    "    if temp_data[item].dtype == 'object':\n",
    "        print(f'[{item}] has {round(helper.value_count(temp_data,item,'?'),2)}% of ? values.')"
   ],
   "id": "bac5061762f4569d",
   "outputs": [],
   "execution_count": null
  },
  {
   "metadata": {},
   "cell_type": "markdown",
   "source": [
    "\n",
    "### Important Notice!!!\n",
    "As can be seen from the above brief investigations, other datasets (Long Beach, Hungarian and Switzerland) also contains the `?` character in many of its variables.\n",
    "\n",
    "This raises a big question on the validity of the processed dataset! This requires a thorough investigation!\n",
    "\n",
    "### Investigation Summary:\n",
    "- The processed datasets (Long Beach, Hungarian and Switzerland) was supposed to be clean and usable. Instead, 68% (621/920) of the UCI dataset has missing values which was marked with '?'. This was investigated here [processed dataset investigation](2.1-uci-processed-dataset-investigation.ipynb)\n",
    "- Since unable to recover data from the processed dataset, preprocessing the original (raw) data files was the subsequent approach. However, as seen here [raw dataset investigation](2.1-uci-processed-dataset-investigation.ipynb), the '?' mark actually originated from the raw file, it had a different value, which was -9 (integer).\n",
    "- 2/617 was salvaged and saved into `processed.salvaged.data` file to be concatenated into the current DataFrame"
   ],
   "id": "598b7879472d5754"
  },
  {
   "metadata": {},
   "cell_type": "markdown",
   "source": "### Concatenate Recovered Data into Cleveland",
   "id": "f26ba5ca42c3c11"
  },
  {
   "metadata": {
    "ExecuteTime": {
     "end_time": "2024-12-24T12:21:31.030639Z",
     "start_time": "2024-12-24T12:21:31.027236Z"
    }
   },
   "cell_type": "code",
   "source": [
    "# Let's remove the missing values from processed cleveland before concatenating.\n",
    "# Let's check the distribution of the missing value marked as '?' in both features.\n",
    "rf_index = data[(data[uci.UCIHeartDiseaseData.thalassemia]=='?') | (data[uci.UCIHeartDiseaseData.major_vessels]=='?')].index\n",
    "data.drop(rf_index, inplace=True)\n",
    "# 303 - 6 = 297\n",
    "data.shape"
   ],
   "id": "e050c9f88ccce407",
   "outputs": [
    {
     "data": {
      "text/plain": [
       "(297, 14)"
      ]
     },
     "execution_count": 108,
     "metadata": {},
     "output_type": "execute_result"
    }
   ],
   "execution_count": 108
  },
  {
   "metadata": {
    "ExecuteTime": {
     "end_time": "2024-12-24T12:21:32.944800Z",
     "start_time": "2024-12-24T12:21:32.938107Z"
    }
   },
   "cell_type": "code",
   "source": [
    "# Read the salvaged data.\n",
    "salvaged_data = pd.read_csv(uci.UCIHeartDiseaseDataFile.salvaged_standard, names=uci.get_standard_features())\n",
    "salvaged_data"
   ],
   "id": "531d049798065a89",
   "outputs": [
    {
     "data": {
      "text/plain": [
       "   Age  Gender  Chest Pain  BP Systolic  Cholesterol  Blood Sugar  Rest ECG  \\\n",
       "0   56       1           4          120          100            0         0   \n",
       "1   47       1           4          150          226            0         0   \n",
       "\n",
       "   Exe. Max Heartrate  Exe. Induced Angina  Exe. ST Depression  \\\n",
       "0                 120                    1                 1.5   \n",
       "1                  98                    1                 1.5   \n",
       "\n",
       "   Exe. ST Segment Slope  Major Vessels  Thalassemia  Target  \n",
       "0                      2              0            7       1  \n",
       "1                      2              0            7       1  "
      ],
      "text/html": [
       "<div>\n",
       "<style scoped>\n",
       "    .dataframe tbody tr th:only-of-type {\n",
       "        vertical-align: middle;\n",
       "    }\n",
       "\n",
       "    .dataframe tbody tr th {\n",
       "        vertical-align: top;\n",
       "    }\n",
       "\n",
       "    .dataframe thead th {\n",
       "        text-align: right;\n",
       "    }\n",
       "</style>\n",
       "<table border=\"1\" class=\"dataframe\">\n",
       "  <thead>\n",
       "    <tr style=\"text-align: right;\">\n",
       "      <th></th>\n",
       "      <th>Age</th>\n",
       "      <th>Gender</th>\n",
       "      <th>Chest Pain</th>\n",
       "      <th>BP Systolic</th>\n",
       "      <th>Cholesterol</th>\n",
       "      <th>Blood Sugar</th>\n",
       "      <th>Rest ECG</th>\n",
       "      <th>Exe. Max Heartrate</th>\n",
       "      <th>Exe. Induced Angina</th>\n",
       "      <th>Exe. ST Depression</th>\n",
       "      <th>Exe. ST Segment Slope</th>\n",
       "      <th>Major Vessels</th>\n",
       "      <th>Thalassemia</th>\n",
       "      <th>Target</th>\n",
       "    </tr>\n",
       "  </thead>\n",
       "  <tbody>\n",
       "    <tr>\n",
       "      <th>0</th>\n",
       "      <td>56</td>\n",
       "      <td>1</td>\n",
       "      <td>4</td>\n",
       "      <td>120</td>\n",
       "      <td>100</td>\n",
       "      <td>0</td>\n",
       "      <td>0</td>\n",
       "      <td>120</td>\n",
       "      <td>1</td>\n",
       "      <td>1.5</td>\n",
       "      <td>2</td>\n",
       "      <td>0</td>\n",
       "      <td>7</td>\n",
       "      <td>1</td>\n",
       "    </tr>\n",
       "    <tr>\n",
       "      <th>1</th>\n",
       "      <td>47</td>\n",
       "      <td>1</td>\n",
       "      <td>4</td>\n",
       "      <td>150</td>\n",
       "      <td>226</td>\n",
       "      <td>0</td>\n",
       "      <td>0</td>\n",
       "      <td>98</td>\n",
       "      <td>1</td>\n",
       "      <td>1.5</td>\n",
       "      <td>2</td>\n",
       "      <td>0</td>\n",
       "      <td>7</td>\n",
       "      <td>1</td>\n",
       "    </tr>\n",
       "  </tbody>\n",
       "</table>\n",
       "</div>"
      ]
     },
     "execution_count": 109,
     "metadata": {},
     "output_type": "execute_result"
    }
   ],
   "execution_count": 109
  },
  {
   "metadata": {
    "ExecuteTime": {
     "end_time": "2024-12-24T12:21:35.269889Z",
     "start_time": "2024-12-24T12:21:35.266690Z"
    }
   },
   "cell_type": "code",
   "source": [
    "# Concatenate the salvaged data with processed cleveland data --> 297 + 2 = 299\n",
    "df = pd.concat([data, salvaged_data])\n",
    "df.shape"
   ],
   "id": "37d00345df7fd1dd",
   "outputs": [
    {
     "data": {
      "text/plain": [
       "(299, 14)"
      ]
     },
     "execution_count": 110,
     "metadata": {},
     "output_type": "execute_result"
    }
   ],
   "execution_count": 110
  },
  {
   "metadata": {},
   "cell_type": "markdown",
   "source": [
    "## 5. Which feature appears more important than the other?\n",
    "Now that the dataset is combined and clean, let's explore the data for further analysis (with graphs when needed)."
   ],
   "id": "9a4a250b4589c58b"
  },
  {
   "metadata": {
    "ExecuteTime": {
     "end_time": "2024-12-24T12:23:34.419337Z",
     "start_time": "2024-12-24T12:23:34.414315Z"
    }
   },
   "cell_type": "code",
   "source": [
    "# Let's save a copy of the cleansed dataset for building models.\n",
    "df.to_csv(uci.UCIHeartDiseaseDataFile.cleveland_cleansed, index=False, header=False)"
   ],
   "id": "c2f753c2f69246a4",
   "outputs": [],
   "execution_count": 115
  },
  {
   "cell_type": "code",
   "id": "2e409564811cc21b",
   "metadata": {},
   "source": [
    "# Ideally we should expect both classes in the target variable to have same proportion, i.e. 299/2 = 149.5.\n",
    "len(df[uci.UCIHeartDiseaseData.target]) / 2"
   ],
   "outputs": [],
   "execution_count": null
  },
  {
   "metadata": {},
   "cell_type": "code",
   "source": [
    "# Nevertheless, a slight risk variation can be accepted. Let's investigate if the target class in balanced.\n",
    "df[uci.UCIHeartDiseaseData.target].value_counts()"
   ],
   "id": "f915faf0978610a5",
   "outputs": [],
   "execution_count": null
  },
  {
   "metadata": {},
   "cell_type": "code",
   "source": [
    "# To get the percentage proportion, let's view the normalized value counts.\n",
    "# So, the deviation in the distribution is ~4%.\n",
    "df[uci.UCIHeartDiseaseData.target].value_counts(normalize=True)"
   ],
   "id": "173ececa7ec57f12",
   "outputs": [],
   "execution_count": null
  },
  {
   "metadata": {},
   "cell_type": "code",
   "source": [
    "# Let's see the distribution of target variable's class in bar-chart.\n",
    "df[uci.UCIHeartDiseaseData.target].value_counts().plot(kind=\"bar\", color=['steelblue', 'darksalmon']);"
   ],
   "id": "d1548e43bf8030a0",
   "outputs": [],
   "execution_count": null
  },
  {
   "metadata": {},
   "cell_type": "code",
   "source": [
    "# Let's investigate which features have strong correlation with target.\n",
    "df.corr()"
   ],
   "id": "536ecfcd0cc14cac",
   "outputs": [],
   "execution_count": null
  },
  {
   "metadata": {},
   "cell_type": "code",
   "source": [
    "# Let's see the correlation matrix with color intensity spectrum - the darker the blue is, the higher the correlation.\n",
    "corr_matrix = df.corr(method='pearson')\n",
    "mask = np.triu(np.ones_like(data.corr()))\n",
    "plt.figure(figsize=(15, 10))\n",
    "\n",
    "sns.heatmap(corr_matrix,\n",
    "            mask=mask,\n",
    "            annot=True,\n",
    "            linewidths=0.5,\n",
    "            fmt= \".2f\",\n",
    "            cmap=\"GnBu\");"
   ],
   "id": "a5cc70a160114c7d",
   "outputs": [],
   "execution_count": null
  },
  {
   "metadata": {},
   "cell_type": "markdown",
   "source": [
    "### Feature Correlation\n",
    "By eyeballing the chart (above), we can conclude the following from the Pearson's correlation.\n",
    "\n",
    "| Level     |   Positive   |    Negative    |\n",
    "|:----------|:------------:|:--------------:|\n",
    "| Strong    |  0.70 to 1   |  -0.70 to -1   |\n",
    "| Moderate  | 0.30 to 0.70 | -0.30 to -0.70 |\n",
    "| Weak      |  0 to 0.30   |   0 to -0.30   |\n",
    "\n",
    "If we apply the <u>general rules for classifying correlation</u> (using the table above), we observe:\n",
    "* Features have <u>only moderate correlation</u> between each other and target variable.\n",
    "#### Positive correlation - positive linear relationship\n",
    "* Exe. ST Depression has correlation with Exe. ST Segment Slope (0.58) - makes sense.\n",
    "* Thalassemia has highest correlation with Target (0.53)\n"
   ],
   "id": "7d29b468ba3d158d"
  },
  {
   "metadata": {},
   "cell_type": "markdown",
   "source": [
    "### Ordinary Least Squares (OLS)\n",
    "Let's use OLS to find the feature importance."
   ],
   "id": "608d1f29fe160cf9"
  },
  {
   "metadata": {
    "ExecuteTime": {
     "end_time": "2024-12-24T12:35:29.135348Z",
     "start_time": "2024-12-24T12:35:29.123711Z"
    }
   },
   "cell_type": "code",
   "outputs": [
    {
     "name": "stdout",
     "output_type": "stream",
     "text": [
      "                            OLS Regression Results                            \n",
      "==============================================================================\n",
      "Dep. Variable:                 Target   R-squared:                       0.537\n",
      "Model:                            OLS   Adj. R-squared:                  0.516\n",
      "Method:                 Least Squares   F-statistic:                     25.40\n",
      "Date:                Tue, 24 Dec 2024   Prob (F-statistic):           2.25e-40\n",
      "Time:                        20:35:29   Log-Likelihood:                -101.24\n",
      "No. Observations:                 299   AIC:                             230.5\n",
      "Df Residuals:                     285   BIC:                             282.3\n",
      "Df Model:                          13                                         \n",
      "Covariance Type:            nonrobust                                         \n",
      "=========================================================================================\n",
      "                            coef    std err          t      P>|t|      [0.025      0.975]\n",
      "-----------------------------------------------------------------------------------------\n",
      "const                    -0.3685      0.319     -1.156      0.249      -0.996       0.259\n",
      "Age                      -0.0012      0.003     -0.442      0.659      -0.007       0.004\n",
      "Gender                    0.1454      0.049      2.953      0.003       0.049       0.242\n",
      "Chest Pain                0.0832      0.024      3.455      0.001       0.036       0.131\n",
      "BP Systolic               0.0021      0.001      1.718      0.087      -0.000       0.005\n",
      "Cholesterol               0.0003      0.000      0.750      0.454      -0.000       0.001\n",
      "Blood Sugar              -0.0990      0.060     -1.663      0.097      -0.216       0.018\n",
      "Rest ECG                  0.0319      0.021      1.504      0.134      -0.010       0.074\n",
      "Exe. Max Heartrate       -0.0027      0.001     -2.399      0.017      -0.005      -0.000\n",
      "Exe. Induced Angina       0.1372      0.050      2.721      0.007       0.038       0.236\n",
      "Exe. ST Depression        0.0323      0.023      1.403      0.162      -0.013       0.077\n",
      "Exe. ST Segment Slope     0.0609      0.042      1.437      0.152      -0.023       0.144\n",
      "Major Vessels             0.1418      0.025      5.685      0.000       0.093       0.191\n",
      "Thalassemia               0.0611      0.013      4.761      0.000       0.036       0.086\n",
      "==============================================================================\n",
      "Omnibus:                        7.112   Durbin-Watson:                   2.011\n",
      "Prob(Omnibus):                  0.029   Jarque-Bera (JB):                6.902\n",
      "Skew:                           0.354   Prob(JB):                       0.0317\n",
      "Kurtosis:                       3.227   Cond. No.                     5.16e+03\n",
      "==============================================================================\n",
      "\n",
      "Notes:\n",
      "[1] Standard Errors assume that the covariance matrix of the errors is correctly specified.\n",
      "[2] The condition number is large, 5.16e+03. This might indicate that there are\n",
      "strong multicollinearity or other numerical problems.\n"
     ]
    }
   ],
   "execution_count": 135,
   "source": [
    "import statsmodels.api as sm\n",
    "\n",
    "X = df.drop(uci.UCIHeartDiseaseData.target, axis=1)\n",
    "y= df[uci.UCIHeartDiseaseData.target]\n",
    "\n",
    "# Converting the object to float first.\n",
    "X[uci.UCIHeartDiseaseData.major_vessels] = X[uci.UCIHeartDiseaseData.major_vessels].astype('float')\n",
    "X[uci.UCIHeartDiseaseData.thalassemia] = X[uci.UCIHeartDiseaseData.thalassemia].astype('float')\n",
    "\n",
    "# Convert from float to int because the value are categorical integers.\n",
    "X[uci.UCIHeartDiseaseData.major_vessels] = X[uci.UCIHeartDiseaseData.major_vessels].astype('int')\n",
    "X[uci.UCIHeartDiseaseData.thalassemia] = X[uci.UCIHeartDiseaseData.thalassemia].astype('int')\n",
    "\n",
    "\n",
    "X2 = sm.add_constant(X)\n",
    "est = sm.OLS(y, X2)\n",
    "est2 = est.fit()\n",
    "print(est2.summary())"
   ],
   "id": "63400c593f0d5caa"
  },
  {
   "metadata": {},
   "cell_type": "markdown",
   "source": [
    "### Ch-Squared\n",
    "Let's test the feature importance using chi-squared."
   ],
   "id": "7523e3f2ab1c18c"
  },
  {
   "metadata": {
    "ExecuteTime": {
     "end_time": "2024-12-24T12:41:52.435722Z",
     "start_time": "2024-12-24T12:41:52.428071Z"
    }
   },
   "cell_type": "code",
   "source": [
    "from sklearn.feature_selection import chi2,SelectKBest\n",
    "\n",
    "chi_squared = SelectKBest(score_func=chi2, k=13)\n",
    "chi_squared.fit(X, y)\n",
    "feature_score = pd.DataFrame({\"Score\":chi_squared.scores_, \"P_Value\":np.round(chi_squared.pvalues_,3)}, index=X.columns)\n",
    "feature_score.nlargest(n=13,columns=\"Score\")"
   ],
   "id": "f098963c924ad723",
   "outputs": [
    {
     "data": {
      "text/plain": [
       "                            Score  P_Value\n",
       "Exe. Max Heartrate     197.354493    0.000\n",
       "Major Vessels           80.790297    0.000\n",
       "Exe. ST Depression      68.733906    0.000\n",
       "Thalassemia             66.601762    0.000\n",
       "Exe. Induced Angina     36.486887    0.000\n",
       "Age                     22.263468    0.000\n",
       "BP Systolic             16.867552    0.000\n",
       "Cholesterol             15.115732    0.000\n",
       "Chest Pain              14.902669    0.000\n",
       "Exe. ST Segment Slope    7.973535    0.005\n",
       "Gender                   7.629523    0.006\n",
       "Rest ECG                 7.432740    0.006\n",
       "Blood Sugar              0.000009    0.998"
      ],
      "text/html": [
       "<div>\n",
       "<style scoped>\n",
       "    .dataframe tbody tr th:only-of-type {\n",
       "        vertical-align: middle;\n",
       "    }\n",
       "\n",
       "    .dataframe tbody tr th {\n",
       "        vertical-align: top;\n",
       "    }\n",
       "\n",
       "    .dataframe thead th {\n",
       "        text-align: right;\n",
       "    }\n",
       "</style>\n",
       "<table border=\"1\" class=\"dataframe\">\n",
       "  <thead>\n",
       "    <tr style=\"text-align: right;\">\n",
       "      <th></th>\n",
       "      <th>Score</th>\n",
       "      <th>P_Value</th>\n",
       "    </tr>\n",
       "  </thead>\n",
       "  <tbody>\n",
       "    <tr>\n",
       "      <th>Exe. Max Heartrate</th>\n",
       "      <td>197.354493</td>\n",
       "      <td>0.000</td>\n",
       "    </tr>\n",
       "    <tr>\n",
       "      <th>Major Vessels</th>\n",
       "      <td>80.790297</td>\n",
       "      <td>0.000</td>\n",
       "    </tr>\n",
       "    <tr>\n",
       "      <th>Exe. ST Depression</th>\n",
       "      <td>68.733906</td>\n",
       "      <td>0.000</td>\n",
       "    </tr>\n",
       "    <tr>\n",
       "      <th>Thalassemia</th>\n",
       "      <td>66.601762</td>\n",
       "      <td>0.000</td>\n",
       "    </tr>\n",
       "    <tr>\n",
       "      <th>Exe. Induced Angina</th>\n",
       "      <td>36.486887</td>\n",
       "      <td>0.000</td>\n",
       "    </tr>\n",
       "    <tr>\n",
       "      <th>Age</th>\n",
       "      <td>22.263468</td>\n",
       "      <td>0.000</td>\n",
       "    </tr>\n",
       "    <tr>\n",
       "      <th>BP Systolic</th>\n",
       "      <td>16.867552</td>\n",
       "      <td>0.000</td>\n",
       "    </tr>\n",
       "    <tr>\n",
       "      <th>Cholesterol</th>\n",
       "      <td>15.115732</td>\n",
       "      <td>0.000</td>\n",
       "    </tr>\n",
       "    <tr>\n",
       "      <th>Chest Pain</th>\n",
       "      <td>14.902669</td>\n",
       "      <td>0.000</td>\n",
       "    </tr>\n",
       "    <tr>\n",
       "      <th>Exe. ST Segment Slope</th>\n",
       "      <td>7.973535</td>\n",
       "      <td>0.005</td>\n",
       "    </tr>\n",
       "    <tr>\n",
       "      <th>Gender</th>\n",
       "      <td>7.629523</td>\n",
       "      <td>0.006</td>\n",
       "    </tr>\n",
       "    <tr>\n",
       "      <th>Rest ECG</th>\n",
       "      <td>7.432740</td>\n",
       "      <td>0.006</td>\n",
       "    </tr>\n",
       "    <tr>\n",
       "      <th>Blood Sugar</th>\n",
       "      <td>0.000009</td>\n",
       "      <td>0.998</td>\n",
       "    </tr>\n",
       "  </tbody>\n",
       "</table>\n",
       "</div>"
      ]
     },
     "execution_count": 137,
     "metadata": {},
     "output_type": "execute_result"
    }
   ],
   "execution_count": 137
  },
  {
   "metadata": {},
   "cell_type": "markdown",
   "source": [
    "### Conclusion\n",
    "Based on the chi squared, variable `Exe. ST Segment Slope`, `Gender`, `Rest ECG` and `Blood Sugar` has p-value > 0.005 proving those variables is not important."
   ],
   "id": "c990cc52c531a6e7"
  },
  {
   "metadata": {},
   "cell_type": "code",
   "outputs": [],
   "execution_count": null,
   "source": "",
   "id": "155dad101ed90d8b"
  }
 ],
 "metadata": {
  "kernelspec": {
   "display_name": "Python 3 (ipykernel)",
   "language": "python",
   "name": "python3"
  },
  "language_info": {
   "codemirror_mode": {
    "name": "ipython",
    "version": 3
   },
   "file_extension": ".py",
   "mimetype": "text/x-python",
   "name": "python",
   "nbconvert_exporter": "python",
   "pygments_lexer": "ipython3",
   "version": "3.12.2"
  }
 },
 "nbformat": 4,
 "nbformat_minor": 5
}
