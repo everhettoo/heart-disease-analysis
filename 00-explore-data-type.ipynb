{
 "cells": [
  {
   "cell_type": "code",
   "id": "initial_id",
   "metadata": {
    "collapsed": true,
    "ExecuteTime": {
     "end_time": "2024-12-03T09:03:13.381563Z",
     "start_time": "2024-12-03T09:02:24.811051Z"
    }
   },
   "source": [
    "line_size = 10\n",
    "\n",
    "def compose_record(raw_data, start):\n",
    "    record = []\n",
    "    completed = False\n",
    "    end = False\n",
    "\n",
    "    while not end and start < len(raw_data):\n",
    "        tmp = str(raw_data[start].decode())\n",
    "        record.append(tmp)\n",
    "        if 'name' in tmp:\n",
    "            end = True\n",
    "        start = start + 1\n",
    "\n",
    "    return record, completed\n",
    "\n",
    "\n",
    "# 303 - 6 (records with missing values) = 197\n",
    "file_path = 'data/cleveland.data'\n",
    "\n",
    "\n",
    "with open(file_path, 'rb') as file:\n",
    "    file_content = file.read()\n",
    "\n",
    "raw_data_list = file_content.split(b'\\n')\n",
    "lines = len(raw_data_list)\n",
    "\n",
    "completed = False\n",
    "line = 0\n",
    "while not completed:\n",
    "    record, completed = compose_record(raw_data_list, line)\n",
    "    line += len(record)\n",
    "    print(record)\n",
    "\n",
    "\n",
    "\n",
    "\n",
    "\n",
    "\n",
    "# record_count = len(raw_data_list) / line_size\n",
    "#\n",
    "# print(record_count)\n",
    "\n",
    "# records = []\n",
    "#\n",
    "# n = range(record_count)\n",
    "# for i in n:\n",
    "#     records.append(compose_record(raw_data_list[], 0, i))\n",
    "#\n",
    "# print(records)\n",
    "# Record ends at every ninth line.\n"
   ],
   "outputs": [
    {
     "name": "stdout",
     "output_type": "stream",
     "text": [
      "['1 0 63 1 -9 -9 -9', '-9 1 145 1 233 -9 50 20', '1 -9 1 2 2 3 81 0', '0 0 0 0 1 10.5 6 13', '150 60 190 90 145 85 0 0', '2.3 3 -9 172 0 -9 -9 -9', '-9 -9 -9 6 -9 -9 -9 2', '16 81 0 1 1 1 -9 1', '-9 1 -9 1 1 1 1 1', '1 1 -9 -9 name']\n"
     ]
    },
    {
     "ename": "KeyboardInterrupt",
     "evalue": "",
     "output_type": "error",
     "traceback": [
      "\u001B[0;31m---------------------------------------------------------------------------\u001B[0m",
      "\u001B[0;31mKeyboardInterrupt\u001B[0m                         Traceback (most recent call last)",
      "Cell \u001B[0;32mIn[15], line 31\u001B[0m\n\u001B[1;32m     29\u001B[0m line \u001B[38;5;241m=\u001B[39m \u001B[38;5;241m0\u001B[39m\n\u001B[1;32m     30\u001B[0m \u001B[38;5;28;01mwhile\u001B[39;00m \u001B[38;5;129;01mnot\u001B[39;00m completed:\n\u001B[0;32m---> 31\u001B[0m     record, completed \u001B[38;5;241m=\u001B[39m compose_record(raw_data_list, line)\n\u001B[1;32m     32\u001B[0m     line \u001B[38;5;241m+\u001B[39m\u001B[38;5;241m=\u001B[39m \u001B[38;5;28mlen\u001B[39m(record)\n\u001B[1;32m     33\u001B[0m     \u001B[38;5;28mprint\u001B[39m(record)\n",
      "Cell \u001B[0;32mIn[15], line 11\u001B[0m, in \u001B[0;36mcompose_record\u001B[0;34m(raw_data, start)\u001B[0m\n\u001B[1;32m      9\u001B[0m tmp \u001B[38;5;241m=\u001B[39m \u001B[38;5;28mstr\u001B[39m(raw_data[start]\u001B[38;5;241m.\u001B[39mdecode())\n\u001B[1;32m     10\u001B[0m record\u001B[38;5;241m.\u001B[39mappend(tmp)\n\u001B[0;32m---> 11\u001B[0m \u001B[38;5;28;01mif\u001B[39;00m \u001B[38;5;124m'\u001B[39m\u001B[38;5;124mname\u001B[39m\u001B[38;5;124m'\u001B[39m \u001B[38;5;129;01min\u001B[39;00m tmp:\n\u001B[1;32m     12\u001B[0m     end \u001B[38;5;241m=\u001B[39m \u001B[38;5;28;01mTrue\u001B[39;00m\n\u001B[1;32m     13\u001B[0m start \u001B[38;5;241m=\u001B[39m start \u001B[38;5;241m+\u001B[39m \u001B[38;5;241m1\u001B[39m\n",
      "File \u001B[0;32m_pydevd_bundle/pydevd_cython_darwin_312_64.pyx:1187\u001B[0m, in \u001B[0;36m_pydevd_bundle.pydevd_cython_darwin_312_64.SafeCallWrapper.__call__\u001B[0;34m()\u001B[0m\n",
      "File \u001B[0;32m_pydevd_bundle/pydevd_cython_darwin_312_64.pyx:627\u001B[0m, in \u001B[0;36m_pydevd_bundle.pydevd_cython_darwin_312_64.PyDBFrame.trace_dispatch\u001B[0;34m()\u001B[0m\n",
      "File \u001B[0;32m_pydevd_bundle/pydevd_cython_darwin_312_64.pyx:1103\u001B[0m, in \u001B[0;36m_pydevd_bundle.pydevd_cython_darwin_312_64.PyDBFrame.trace_dispatch\u001B[0;34m()\u001B[0m\n",
      "File \u001B[0;32m_pydevd_bundle/pydevd_cython_darwin_312_64.pyx:1061\u001B[0m, in \u001B[0;36m_pydevd_bundle.pydevd_cython_darwin_312_64.PyDBFrame.trace_dispatch\u001B[0;34m()\u001B[0m\n",
      "File \u001B[0;32m~/Applications/PyCharm Professional Edition.app/Contents/plugins/python/helpers-pro/jupyter_debug/pydev_jupyter_plugin.py:169\u001B[0m, in \u001B[0;36mstop\u001B[0;34m(plugin, pydb, frame, event, args, stop_info, arg, step_cmd)\u001B[0m\n\u001B[1;32m    167\u001B[0m     frame \u001B[38;5;241m=\u001B[39m suspend_jupyter(main_debugger, thread, frame, step_cmd)\n\u001B[1;32m    168\u001B[0m     \u001B[38;5;28;01mif\u001B[39;00m frame:\n\u001B[0;32m--> 169\u001B[0m         main_debugger\u001B[38;5;241m.\u001B[39mdo_wait_suspend(thread, frame, event, arg)\n\u001B[1;32m    170\u001B[0m         \u001B[38;5;28;01mreturn\u001B[39;00m \u001B[38;5;28;01mTrue\u001B[39;00m\n\u001B[1;32m    171\u001B[0m \u001B[38;5;28;01mreturn\u001B[39;00m \u001B[38;5;28;01mFalse\u001B[39;00m\n",
      "File \u001B[0;32m~/Applications/PyCharm Professional Edition.app/Contents/plugins/python-ce/helpers/pydev/pydevd.py:1220\u001B[0m, in \u001B[0;36mPyDB.do_wait_suspend\u001B[0;34m(self, thread, frame, event, arg, send_suspend_message, is_unhandled_exception)\u001B[0m\n\u001B[1;32m   1217\u001B[0m         from_this_thread\u001B[38;5;241m.\u001B[39mappend(frame_id)\n\u001B[1;32m   1219\u001B[0m \u001B[38;5;28;01mwith\u001B[39;00m \u001B[38;5;28mself\u001B[39m\u001B[38;5;241m.\u001B[39m_threads_suspended_single_notification\u001B[38;5;241m.\u001B[39mnotify_thread_suspended(thread_id, stop_reason):\n\u001B[0;32m-> 1220\u001B[0m     \u001B[38;5;28mself\u001B[39m\u001B[38;5;241m.\u001B[39m_do_wait_suspend(thread, frame, event, arg, suspend_type, from_this_thread)\n",
      "File \u001B[0;32m~/Applications/PyCharm Professional Edition.app/Contents/plugins/python-ce/helpers/pydev/pydevd.py:1235\u001B[0m, in \u001B[0;36mPyDB._do_wait_suspend\u001B[0;34m(self, thread, frame, event, arg, suspend_type, from_this_thread)\u001B[0m\n\u001B[1;32m   1232\u001B[0m             \u001B[38;5;28mself\u001B[39m\u001B[38;5;241m.\u001B[39m_call_mpl_hook()\n\u001B[1;32m   1234\u001B[0m         \u001B[38;5;28mself\u001B[39m\u001B[38;5;241m.\u001B[39mprocess_internal_commands()\n\u001B[0;32m-> 1235\u001B[0m         time\u001B[38;5;241m.\u001B[39msleep(\u001B[38;5;241m0.01\u001B[39m)\n\u001B[1;32m   1237\u001B[0m \u001B[38;5;28mself\u001B[39m\u001B[38;5;241m.\u001B[39mcancel_async_evaluation(get_current_thread_id(thread), \u001B[38;5;28mstr\u001B[39m(\u001B[38;5;28mid\u001B[39m(frame)))\n\u001B[1;32m   1239\u001B[0m \u001B[38;5;66;03m# process any stepping instructions\u001B[39;00m\n",
      "\u001B[0;31mKeyboardInterrupt\u001B[0m: "
     ]
    }
   ],
   "execution_count": 15
  },
  {
   "metadata": {},
   "cell_type": "code",
   "outputs": [],
   "execution_count": null,
   "source": "",
   "id": "4f373ef9228969c0"
  }
 ],
 "metadata": {
  "kernelspec": {
   "display_name": "Python 3",
   "language": "python",
   "name": "python3"
  },
  "language_info": {
   "codemirror_mode": {
    "name": "ipython",
    "version": 2
   },
   "file_extension": ".py",
   "mimetype": "text/x-python",
   "name": "python",
   "nbconvert_exporter": "python",
   "pygments_lexer": "ipython2",
   "version": "2.7.6"
  }
 },
 "nbformat": 4,
 "nbformat_minor": 5
}
